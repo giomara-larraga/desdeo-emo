{
 "cells": [
  {
   "cell_type": "code",
   "execution_count": 1,
   "metadata": {},
   "outputs": [],
   "source": [
    "import sys, os\n",
    "#sys.path.insert(0, os.path.dirname(os.path.abspath('../desdeo_emo')))\n",
    "import plotly.graph_objects as go\n",
    "import numpy as np\n",
    "import pandas as pd"
   ]
  },
  {
   "cell_type": "code",
   "execution_count": 2,
   "metadata": {},
   "outputs": [],
   "source": [
    "from desdeo_problem.Problem import DataProblem\n",
    "\n",
    "from desdeo_problem.testproblems.TestProblems import test_problem_builder\n",
    "from desdeo_emo.othertools.ReferenceVectors import ReferenceVectors\n",
    "from desdeo_problem.surrogatemodels.SurrogateModels import GaussianProcessRegressor\n",
    "\n",
    "\n",
    "from desdeo_emo.EAs.NSGAIII import NSGAIII\n",
    "from desdeo_emo.EAs.RVEA import RVEA\n",
    "from desdeo_emo.othertools.plotlyanimate import animate_init_, animate_next_"
   ]
  },
  {
   "cell_type": "code",
   "execution_count": 3,
   "metadata": {},
   "outputs": [],
   "source": [
    "from pyDOE import lhs\n",
    "from sklearn.gaussian_process.kernels import Matern\n",
    "from pygmo import fast_non_dominated_sorting as nds"
   ]
  },
  {
   "cell_type": "code",
   "execution_count": 4,
   "metadata": {},
   "outputs": [],
   "source": [
    "import baseADM\n",
    "from baseADM import *\n",
    "import generatePreference as gp\n",
    "import visual\n",
    "from visual import *\n"
   ]
  },
  {
   "cell_type": "code",
   "execution_count": 5,
   "metadata": {},
   "outputs": [],
   "source": [
    "problem_name = \"ZDT1\"\n",
    "prob = test_problem_builder(problem_name)"
   ]
  },
  {
   "cell_type": "code",
   "execution_count": 6,
   "metadata": {},
   "outputs": [],
   "source": [
    "x = lhs(30, 200)\n",
    "y = prob.evaluate(x)\n",
    "\n",
    "x_names = [f'x{i}' for i in range(1,31)]\n",
    "y_names = [\"f1\", \"f2\"]\n",
    "\n",
    "data = pd.DataFrame(np.hstack((x,y.objectives)), columns=x_names+y_names)"
   ]
  },
  {
   "cell_type": "code",
   "execution_count": 7,
   "metadata": {},
   "outputs": [],
   "source": [
    "problem = DataProblem(data=data, variable_names=x_names, objective_names=y_names)"
   ]
  },
  {
   "cell_type": "code",
   "execution_count": 8,
   "metadata": {},
   "outputs": [],
   "source": [
    "problem.train(GaussianProcessRegressor, model_parameters={\"kernel\": Matern(nu=3/2)})"
   ]
  },
  {
   "cell_type": "code",
   "execution_count": 9,
   "metadata": {},
   "outputs": [],
   "source": [
    "evolver = NSGAIII(problem,\n",
    "                  use_surrogates=True,\n",
    "                  n_iterations=3,\n",
    "                  n_gen_per_iter=50)\n",
    "evolver2 = RVEA(problem,\n",
    "                use_surrogates=True,    \n",
    "                n_iterations=3,\n",
    "                n_gen_per_iter=50)"
   ]
  },
  {
   "cell_type": "code",
   "execution_count": 10,
   "metadata": {},
   "outputs": [],
   "source": [
    "plot, pref = evolver.requests()\n",
    "plot2, pref2 = evolver2.requests()"
   ]
  },
  {
   "cell_type": "code",
   "execution_count": 11,
   "metadata": {},
   "outputs": [],
   "source": [
    "pref\n",
    "pref2"
   ]
  },
  {
   "cell_type": "code",
   "execution_count": 12,
   "metadata": {},
   "outputs": [],
   "source": [
    "while evolver.continue_evolution():\n",
    "    evolver.iterate()\n",
    "while evolver2.continue_evolution():\n",
    "    evolver2.iterate()"
   ]
  },
  {
   "cell_type": "code",
   "execution_count": 13,
   "metadata": {},
   "outputs": [],
   "source": [
    "objectives = evolver.population.objectives\n",
    "objectives2 = evolver2.population.objectives"
   ]
  },
  {
   "cell_type": "code",
   "execution_count": 14,
   "metadata": {},
   "outputs": [
    {
     "output_type": "display_data",
     "data": {
      "application/vnd.plotly.v1+json": {
       "config": {
        "plotlyServerURL": "https://plot.ly"
       },
       "data": [
        {
         "marker": {
          "size": 3
         },
         "mode": "markers",
         "type": "scatter",
         "x": [
          -0.002888318617355168,
          0.009954149277596969,
          0.017296849413686033,
          0.022535872288006686,
          0.8534152435191444,
          0.43294519450324387,
          0.19573870640804358,
          0.6861539735786621,
          0.45571876282718904,
          0.8065940181921185,
          0.37066357655473325,
          0.9042915819518882,
          0.390629992073098,
          0.06404021380663139,
          0.5581686783647086,
          0.5305263819605059,
          0.6183069915237915,
          0.7635323693288605,
          0.03735176864518763,
          0.5873693485314462,
          0.47934390462284426,
          0.10303463984523376,
          0.23688276370836192,
          0.07339689449350573,
          0.41125917297949144,
          0.2988179870362835,
          0.7233606055914805,
          0.3333552351456994,
          0.25154124208131634,
          0.11345792381478503,
          0.18287695928001568,
          0.2824546629680782,
          0.17041247846536578,
          0.5042894337121382,
          0.6510285783607408,
          0.08299853153312498,
          0.2666907843273876,
          0.9601799363014862,
          0.14662315150295058,
          0.05490385005166232,
          0.13527270359096732,
          0.22273236095644222,
          0.12422235970285911,
          0.15831168458996459,
          0.09288263862601553,
          0.04601259423357007,
          0.31569770608189174,
          0.35161884686761624,
          0.2090121870944337,
          0.02889864733210601,
          0.011665442867972331,
          0.4821541245283214,
          0.040635875105522246,
          0.9251610322627108,
          0.46219248275983915,
          0.8288741104322703,
          0.5237145568116262,
          0.23536082598741714,
          0.2510090295090279,
          0.10563980626297464,
          0.17549525788980347,
          0.8592909959981654,
          0.19044498078695682,
          0.5900651057978052,
          0.6619504169186321,
          0.06610563134135816,
          0.07910945110416634,
          0.09225362048368879,
          0.7971419494085268,
          0.35050178989610714,
          0.16107287400048165,
          0.33323361769668836,
          0.3687051623114286,
          0.7130889836531331,
          0.053305402368927446,
          0.6131785720941636,
          0.4063069389526994,
          0.5452702799209135,
          0.4237777062673125,
          0.20496534857522875,
          0.02816546244204332,
          0.6877953863818824,
          0.13294853681166785,
          0.22005354429131785,
          0.5674539084937322,
          0.4425813799217302,
          0.11923124808275176,
          0.8909550947648199,
          0.5025821766221341,
          0.38615856534807236,
          0.637055611573075,
          0.018773894917895717,
          0.7402757386275489,
          0.7682511529500147
         ],
         "y": [
          3.6721262082515107,
          2.3872281350196936,
          1.8596994017402206,
          1.5647770728975026,
          0.26479982613833997,
          0.8381715412832378,
          1.1903367604076287,
          0.48447451618692305,
          0.8054917308371579,
          0.3250257920627,
          0.9288546334422598,
          0.20042765433633392,
          0.8998701006243088,
          1.392532780610095,
          0.6600289288591021,
          0.6988138590951962,
          0.5766763714113594,
          0.38141726266001896,
          1.4339987686227822,
          0.6193653191527417,
          0.771469938243051,
          1.3322130687593816,
          1.1278800403639675,
          1.3780313037006273,
          0.8696186933175305,
          1.0351152239276384,
          0.43445491933253244,
          0.98389270450655,
          1.1057885288010585,
          1.316020755308351,
          1.2096488464722022,
          1.0593866621613053,
          1.228778975388419,
          0.7359752289525829,
          0.5317557168741107,
          1.3630159159991297,
          1.0831406947043511,
          0.13082905777950415,
          1.2651646196458888,
          1.4068530360523575,
          1.2825381835581098,
          1.149362005764587,
          1.299553530118045,
          1.2472008241285124,
          1.3477704467991423,
          1.4205789603409293,
          1.0098856047156914,
          0.9567732983309618,
          1.1701055638030091,
          1.4472087026988145,
          2.3062508476192534,
          0.7681581928817547,
          1.4301715355612181,
          0.1751104369732026,
          0.7968983252576596,
          0.2992833536005062,
          0.7092552505945555,
          1.131108453676596,
          1.1078386336682993,
          1.3292555277162865,
          1.2220748583661276,
          0.25903025626092635,
          1.2017260340217266,
          0.6166467449020203,
          0.5181208895019829,
          1.390348151157239,
          1.3702594611859986,
          1.3493181843150026,
          0.337836486520553,
          0.959556686901724,
          1.2440097353982136,
          0.9853675479053638,
          0.9345871763461027,
          0.44851147689883675,
          1.4110457131340937,
          0.5843597892415424,
          0.8833173461138646,
          0.6789682635939229,
          0.8535339327940505,
          1.1772041201523784,
          1.4496977112459,
          0.4840548230987629,
          1.2871028094930779,
          1.154308000783372,
          0.6482372739243765,
          0.8251567503354167,
          1.3086528944403213,
          0.21762424579442552,
          0.7388387066872681,
          0.9070039064967368,
          0.5515078601235501,
          1.8011027041823358,
          0.4126423663869154,
          0.3756870069485334
         ]
        }
       ],
       "layout": {
        "template": {
         "data": {
          "bar": [
           {
            "error_x": {
             "color": "#2a3f5f"
            },
            "error_y": {
             "color": "#2a3f5f"
            },
            "marker": {
             "line": {
              "color": "#E5ECF6",
              "width": 0.5
             }
            },
            "type": "bar"
           }
          ],
          "barpolar": [
           {
            "marker": {
             "line": {
              "color": "#E5ECF6",
              "width": 0.5
             }
            },
            "type": "barpolar"
           }
          ],
          "carpet": [
           {
            "aaxis": {
             "endlinecolor": "#2a3f5f",
             "gridcolor": "white",
             "linecolor": "white",
             "minorgridcolor": "white",
             "startlinecolor": "#2a3f5f"
            },
            "baxis": {
             "endlinecolor": "#2a3f5f",
             "gridcolor": "white",
             "linecolor": "white",
             "minorgridcolor": "white",
             "startlinecolor": "#2a3f5f"
            },
            "type": "carpet"
           }
          ],
          "choropleth": [
           {
            "colorbar": {
             "outlinewidth": 0,
             "ticks": ""
            },
            "type": "choropleth"
           }
          ],
          "contour": [
           {
            "colorbar": {
             "outlinewidth": 0,
             "ticks": ""
            },
            "colorscale": [
             [
              0,
              "#0d0887"
             ],
             [
              0.1111111111111111,
              "#46039f"
             ],
             [
              0.2222222222222222,
              "#7201a8"
             ],
             [
              0.3333333333333333,
              "#9c179e"
             ],
             [
              0.4444444444444444,
              "#bd3786"
             ],
             [
              0.5555555555555556,
              "#d8576b"
             ],
             [
              0.6666666666666666,
              "#ed7953"
             ],
             [
              0.7777777777777778,
              "#fb9f3a"
             ],
             [
              0.8888888888888888,
              "#fdca26"
             ],
             [
              1,
              "#f0f921"
             ]
            ],
            "type": "contour"
           }
          ],
          "contourcarpet": [
           {
            "colorbar": {
             "outlinewidth": 0,
             "ticks": ""
            },
            "type": "contourcarpet"
           }
          ],
          "heatmap": [
           {
            "colorbar": {
             "outlinewidth": 0,
             "ticks": ""
            },
            "colorscale": [
             [
              0,
              "#0d0887"
             ],
             [
              0.1111111111111111,
              "#46039f"
             ],
             [
              0.2222222222222222,
              "#7201a8"
             ],
             [
              0.3333333333333333,
              "#9c179e"
             ],
             [
              0.4444444444444444,
              "#bd3786"
             ],
             [
              0.5555555555555556,
              "#d8576b"
             ],
             [
              0.6666666666666666,
              "#ed7953"
             ],
             [
              0.7777777777777778,
              "#fb9f3a"
             ],
             [
              0.8888888888888888,
              "#fdca26"
             ],
             [
              1,
              "#f0f921"
             ]
            ],
            "type": "heatmap"
           }
          ],
          "heatmapgl": [
           {
            "colorbar": {
             "outlinewidth": 0,
             "ticks": ""
            },
            "colorscale": [
             [
              0,
              "#0d0887"
             ],
             [
              0.1111111111111111,
              "#46039f"
             ],
             [
              0.2222222222222222,
              "#7201a8"
             ],
             [
              0.3333333333333333,
              "#9c179e"
             ],
             [
              0.4444444444444444,
              "#bd3786"
             ],
             [
              0.5555555555555556,
              "#d8576b"
             ],
             [
              0.6666666666666666,
              "#ed7953"
             ],
             [
              0.7777777777777778,
              "#fb9f3a"
             ],
             [
              0.8888888888888888,
              "#fdca26"
             ],
             [
              1,
              "#f0f921"
             ]
            ],
            "type": "heatmapgl"
           }
          ],
          "histogram": [
           {
            "marker": {
             "colorbar": {
              "outlinewidth": 0,
              "ticks": ""
             }
            },
            "type": "histogram"
           }
          ],
          "histogram2d": [
           {
            "colorbar": {
             "outlinewidth": 0,
             "ticks": ""
            },
            "colorscale": [
             [
              0,
              "#0d0887"
             ],
             [
              0.1111111111111111,
              "#46039f"
             ],
             [
              0.2222222222222222,
              "#7201a8"
             ],
             [
              0.3333333333333333,
              "#9c179e"
             ],
             [
              0.4444444444444444,
              "#bd3786"
             ],
             [
              0.5555555555555556,
              "#d8576b"
             ],
             [
              0.6666666666666666,
              "#ed7953"
             ],
             [
              0.7777777777777778,
              "#fb9f3a"
             ],
             [
              0.8888888888888888,
              "#fdca26"
             ],
             [
              1,
              "#f0f921"
             ]
            ],
            "type": "histogram2d"
           }
          ],
          "histogram2dcontour": [
           {
            "colorbar": {
             "outlinewidth": 0,
             "ticks": ""
            },
            "colorscale": [
             [
              0,
              "#0d0887"
             ],
             [
              0.1111111111111111,
              "#46039f"
             ],
             [
              0.2222222222222222,
              "#7201a8"
             ],
             [
              0.3333333333333333,
              "#9c179e"
             ],
             [
              0.4444444444444444,
              "#bd3786"
             ],
             [
              0.5555555555555556,
              "#d8576b"
             ],
             [
              0.6666666666666666,
              "#ed7953"
             ],
             [
              0.7777777777777778,
              "#fb9f3a"
             ],
             [
              0.8888888888888888,
              "#fdca26"
             ],
             [
              1,
              "#f0f921"
             ]
            ],
            "type": "histogram2dcontour"
           }
          ],
          "mesh3d": [
           {
            "colorbar": {
             "outlinewidth": 0,
             "ticks": ""
            },
            "type": "mesh3d"
           }
          ],
          "parcoords": [
           {
            "line": {
             "colorbar": {
              "outlinewidth": 0,
              "ticks": ""
             }
            },
            "type": "parcoords"
           }
          ],
          "pie": [
           {
            "automargin": true,
            "type": "pie"
           }
          ],
          "scatter": [
           {
            "marker": {
             "colorbar": {
              "outlinewidth": 0,
              "ticks": ""
             }
            },
            "type": "scatter"
           }
          ],
          "scatter3d": [
           {
            "line": {
             "colorbar": {
              "outlinewidth": 0,
              "ticks": ""
             }
            },
            "marker": {
             "colorbar": {
              "outlinewidth": 0,
              "ticks": ""
             }
            },
            "type": "scatter3d"
           }
          ],
          "scattercarpet": [
           {
            "marker": {
             "colorbar": {
              "outlinewidth": 0,
              "ticks": ""
             }
            },
            "type": "scattercarpet"
           }
          ],
          "scattergeo": [
           {
            "marker": {
             "colorbar": {
              "outlinewidth": 0,
              "ticks": ""
             }
            },
            "type": "scattergeo"
           }
          ],
          "scattergl": [
           {
            "marker": {
             "colorbar": {
              "outlinewidth": 0,
              "ticks": ""
             }
            },
            "type": "scattergl"
           }
          ],
          "scattermapbox": [
           {
            "marker": {
             "colorbar": {
              "outlinewidth": 0,
              "ticks": ""
             }
            },
            "type": "scattermapbox"
           }
          ],
          "scatterpolar": [
           {
            "marker": {
             "colorbar": {
              "outlinewidth": 0,
              "ticks": ""
             }
            },
            "type": "scatterpolar"
           }
          ],
          "scatterpolargl": [
           {
            "marker": {
             "colorbar": {
              "outlinewidth": 0,
              "ticks": ""
             }
            },
            "type": "scatterpolargl"
           }
          ],
          "scatterternary": [
           {
            "marker": {
             "colorbar": {
              "outlinewidth": 0,
              "ticks": ""
             }
            },
            "type": "scatterternary"
           }
          ],
          "surface": [
           {
            "colorbar": {
             "outlinewidth": 0,
             "ticks": ""
            },
            "colorscale": [
             [
              0,
              "#0d0887"
             ],
             [
              0.1111111111111111,
              "#46039f"
             ],
             [
              0.2222222222222222,
              "#7201a8"
             ],
             [
              0.3333333333333333,
              "#9c179e"
             ],
             [
              0.4444444444444444,
              "#bd3786"
             ],
             [
              0.5555555555555556,
              "#d8576b"
             ],
             [
              0.6666666666666666,
              "#ed7953"
             ],
             [
              0.7777777777777778,
              "#fb9f3a"
             ],
             [
              0.8888888888888888,
              "#fdca26"
             ],
             [
              1,
              "#f0f921"
             ]
            ],
            "type": "surface"
           }
          ],
          "table": [
           {
            "cells": {
             "fill": {
              "color": "#EBF0F8"
             },
             "line": {
              "color": "white"
             }
            },
            "header": {
             "fill": {
              "color": "#C8D4E3"
             },
             "line": {
              "color": "white"
             }
            },
            "type": "table"
           }
          ]
         },
         "layout": {
          "annotationdefaults": {
           "arrowcolor": "#2a3f5f",
           "arrowhead": 0,
           "arrowwidth": 1
          },
          "coloraxis": {
           "colorbar": {
            "outlinewidth": 0,
            "ticks": ""
           }
          },
          "colorscale": {
           "diverging": [
            [
             0,
             "#8e0152"
            ],
            [
             0.1,
             "#c51b7d"
            ],
            [
             0.2,
             "#de77ae"
            ],
            [
             0.3,
             "#f1b6da"
            ],
            [
             0.4,
             "#fde0ef"
            ],
            [
             0.5,
             "#f7f7f7"
            ],
            [
             0.6,
             "#e6f5d0"
            ],
            [
             0.7,
             "#b8e186"
            ],
            [
             0.8,
             "#7fbc41"
            ],
            [
             0.9,
             "#4d9221"
            ],
            [
             1,
             "#276419"
            ]
           ],
           "sequential": [
            [
             0,
             "#0d0887"
            ],
            [
             0.1111111111111111,
             "#46039f"
            ],
            [
             0.2222222222222222,
             "#7201a8"
            ],
            [
             0.3333333333333333,
             "#9c179e"
            ],
            [
             0.4444444444444444,
             "#bd3786"
            ],
            [
             0.5555555555555556,
             "#d8576b"
            ],
            [
             0.6666666666666666,
             "#ed7953"
            ],
            [
             0.7777777777777778,
             "#fb9f3a"
            ],
            [
             0.8888888888888888,
             "#fdca26"
            ],
            [
             1,
             "#f0f921"
            ]
           ],
           "sequentialminus": [
            [
             0,
             "#0d0887"
            ],
            [
             0.1111111111111111,
             "#46039f"
            ],
            [
             0.2222222222222222,
             "#7201a8"
            ],
            [
             0.3333333333333333,
             "#9c179e"
            ],
            [
             0.4444444444444444,
             "#bd3786"
            ],
            [
             0.5555555555555556,
             "#d8576b"
            ],
            [
             0.6666666666666666,
             "#ed7953"
            ],
            [
             0.7777777777777778,
             "#fb9f3a"
            ],
            [
             0.8888888888888888,
             "#fdca26"
            ],
            [
             1,
             "#f0f921"
            ]
           ]
          },
          "colorway": [
           "#636efa",
           "#EF553B",
           "#00cc96",
           "#ab63fa",
           "#FFA15A",
           "#19d3f3",
           "#FF6692",
           "#B6E880",
           "#FF97FF",
           "#FECB52"
          ],
          "font": {
           "color": "#2a3f5f"
          },
          "geo": {
           "bgcolor": "white",
           "lakecolor": "white",
           "landcolor": "#E5ECF6",
           "showlakes": true,
           "showland": true,
           "subunitcolor": "white"
          },
          "hoverlabel": {
           "align": "left"
          },
          "hovermode": "closest",
          "mapbox": {
           "style": "light"
          },
          "paper_bgcolor": "white",
          "plot_bgcolor": "#E5ECF6",
          "polar": {
           "angularaxis": {
            "gridcolor": "white",
            "linecolor": "white",
            "ticks": ""
           },
           "bgcolor": "#E5ECF6",
           "radialaxis": {
            "gridcolor": "white",
            "linecolor": "white",
            "ticks": ""
           }
          },
          "scene": {
           "xaxis": {
            "backgroundcolor": "#E5ECF6",
            "gridcolor": "white",
            "gridwidth": 2,
            "linecolor": "white",
            "showbackground": true,
            "ticks": "",
            "zerolinecolor": "white"
           },
           "yaxis": {
            "backgroundcolor": "#E5ECF6",
            "gridcolor": "white",
            "gridwidth": 2,
            "linecolor": "white",
            "showbackground": true,
            "ticks": "",
            "zerolinecolor": "white"
           },
           "zaxis": {
            "backgroundcolor": "#E5ECF6",
            "gridcolor": "white",
            "gridwidth": 2,
            "linecolor": "white",
            "showbackground": true,
            "ticks": "",
            "zerolinecolor": "white"
           }
          },
          "shapedefaults": {
           "line": {
            "color": "#2a3f5f"
           }
          },
          "ternary": {
           "aaxis": {
            "gridcolor": "white",
            "linecolor": "white",
            "ticks": ""
           },
           "baxis": {
            "gridcolor": "white",
            "linecolor": "white",
            "ticks": ""
           },
           "bgcolor": "#E5ECF6",
           "caxis": {
            "gridcolor": "white",
            "linecolor": "white",
            "ticks": ""
           }
          },
          "title": {
           "x": 0.05
          },
          "xaxis": {
           "automargin": true,
           "gridcolor": "white",
           "linecolor": "white",
           "ticks": "",
           "title": {
            "standoff": 15
           },
           "zerolinecolor": "white",
           "zerolinewidth": 2
          },
          "yaxis": {
           "automargin": true,
           "gridcolor": "white",
           "linecolor": "white",
           "ticks": "",
           "title": {
            "standoff": 15
           },
           "zerolinecolor": "white",
           "zerolinewidth": 2
          }
         }
        }
       }
      }
     },
     "metadata": {}
    }
   ],
   "source": [
    "cf = generate_composite_front(objectives, objectives2)\n",
    "fig = go.Figure(data=go.Scatter(x=cf[:,0],\n",
    "                                y=cf[:,1],\n",
    "                                   mode=\"markers\",\n",
    "                                   marker_size=3))\n",
    "fig"
   ]
  },
  {
   "cell_type": "code",
   "execution_count": 15,
   "metadata": {},
   "outputs": [],
   "source": [
    "lattice_resolution = 4\n",
    "reference_vectors = ReferenceVectors(lattice_resolution, problem.n_of_objectives)"
   ]
  },
  {
   "cell_type": "code",
   "execution_count": 16,
   "metadata": {},
   "outputs": [],
   "source": [
    "base = baseADM(cf, reference_vectors)\n",
    "base2 = baseADM(objectives, reference_vectors)"
   ]
  },
  {
   "cell_type": "code",
   "execution_count": 17,
   "metadata": {},
   "outputs": [
    {
     "output_type": "display_data",
     "data": {
      "application/vnd.plotly.v1+json": {
       "config": {
        "plotlyServerURL": "https://plot.ly"
       },
       "data": [
        {
         "marker": {
          "size": 3
         },
         "mode": "markers",
         "name": "Composite front",
         "type": "scatter",
         "x": [
          0,
          0.005691484285654981,
          0.01167455528605775,
          0.017727417872363455,
          0.9879815104998807,
          0.5245738568706699,
          0.1842610502155831,
          0.889665148469129,
          0.5621729327672803,
          0.9724088407466541,
          0.42394756162625336,
          0.9970699696652706,
          0.4555266762734895,
          0.05297167992564904,
          0.7274578396884456,
          0.6845753871318213,
          0.8124098855734305,
          0.9504852168003102,
          0.03086391310929706,
          0.7703640897959545,
          0.6013970955674676,
          0.08782674509007794,
          0.23381444744062027,
          0.061050976047773715,
          0.4889855908549734,
          0.3164898205540672,
          0.9226152488740206,
          0.36670216574024816,
          0.25250766917389755,
          0.09769699387714947,
          0.16969565828203648,
          0.29374065595812054,
          0.15591015631358446,
          0.6423414411881562,
          0.8525205713544586,
          0.06953407033835407,
          0.2723757310822049,
          1,
          0.13067512863922723,
          0.045244436905239445,
          0.11910776493194762,
          0.21627274058563806,
          0.10812257626477063,
          0.14291413016495863,
          0.07845550759465497,
          0.037887812089538536,
          0.3407312865783156,
          0.3944184074022665,
          0.19978193643073439,
          0.024140226405600995,
          0.006689937496690655,
          0.6056152205147608,
          0.033478314396738144,
          0.9988636048974201,
          0.5724972634898091,
          0.9801015045270816,
          0.6732051872044809,
          0.23170094936293723,
          0.25151773087120255,
          0.09018978778110262,
          0.16132657171526196,
          0.989125000288365,
          0.17766197388297553,
          0.7735262136906914,
          0.8640789820392579,
          0.05469601058044805,
          0.06601331644942321,
          0.07784495296601815,
          0.9681166764323229,
          0.3922505471690928,
          0.14571855940519637,
          0.3660395019443152,
          0.4196429337332826,
          0.9140623602973754,
          0.043851691281406716,
          0.8053137625892219,
          0.4777244115794116,
          0.7071192892889985,
          0.5083876167369328,
          0.1948348905962512,
          0.023539248123473473,
          0.8903251391546787,
          0.11667574211571974,
          0.21283659758976553,
          0.7406407863714443,
          0.5399992931488719,
          0.10312952872433404,
          0.9953185502669256,
          0.6392851378581886,
          0.4480974481784148,
          0.8356190408223966,
          0.01296816961760038,
          0.9350294417962187,
          0.9531058128508839
         ],
         "y": [
          1,
          0.9999838033721478,
          0.9999318500572291,
          0.999842856980825,
          0.1545721026264903,
          0.8513649444790583,
          0.9828773399430116,
          0.45661353856341425,
          0.8270197057288506,
          0.23328318935951664,
          0.9056867366761832,
          0.07649493834036603,
          0.8902221336291452,
          0.9985960149759534,
          0.6861523821104315,
          0.7289420685715133,
          0.5830867669760355,
          0.3107697743411791,
          0.9995235959533831,
          0.6376042417933325,
          0.798950269693311,
          0.9961357652684107,
          0.9722812371778227,
          0.998134649395368,
          0.8722918616702856,
          0.9485959063192579,
          0.38572153497715017,
          0.9303383909317146,
          0.9675948930251572,
          0.9952162063528549,
          0.9854965162598122,
          0.9558851536859923,
          0.9877712402972025,
          0.7664186016351132,
          0.5226936726395943,
          0.9975795773080866,
          0.9621909691518802,
          0,
          0.9914252421413939,
          0.9989759461213907,
          0.992881332452633,
          0.9763329870897414,
          0.9941375702094095,
          0.9897350915266131,
          0.996917616118837,
          0.9992819990848768,
          0.9401607258052667,
          0.9189309657978991,
          0.9798403838768772,
          0.9997085822723972,
          0.9999776221177603,
          0.7957576293576188,
          0.9994394441211298,
          0.0476602435089288,
          0.8199066308407806,
          0.19849695419262997,
          0.7394557295206926,
          0.9727870630638105,
          0.9678526907837789,
          0.9959245966337007,
          0.9869010777472078,
          0.14707730553875986,
          0.9840915724850026,
          0.6337643069259602,
          0.5033562483947125,
          0.9985030527878138,
          0.9978187420826231,
          0.9969654774854134,
          0.2504997022226435,
          0.919858417499969,
          0.9893260844862397,
          0.9305993138920517,
          0.9076892685097272,
          0.40557366961822244,
          0.9990380519138199,
          0.592848837212649,
          0.8785097532646436,
          0.7070942728628352,
          0.8611283476628449,
          0.9808360542956945,
          0.9997229135104294,
          0.455325319512546,
          0.9931700615714039,
          0.9770878070707935,
          0.671901202233698,
          0.8416654700049888,
          0.9946679346923256,
          0.09664876354379984,
          0.7689697734720377,
          0.8939847185136852,
          0.5493094015352894,
          0.9999159097527998,
          0.35457008189390626,
          0.30263725730626073
         ]
        },
        {
         "line": {
          "width": 2
         },
         "marker": {
          "opacity": 0.8,
          "size": 1
         },
         "name": "vector #1",
         "type": "scatter",
         "x": [
          0,
          0,
          0
         ],
         "y": [
          0,
          1,
          1
         ]
        },
        {
         "line": {
          "width": 2
         },
         "marker": {
          "opacity": 0.8,
          "size": 1
         },
         "name": "vector #2",
         "type": "scatter",
         "x": [
          0,
          0.31622776601683794,
          0.31622776601683794
         ],
         "y": [
          0,
          0.9486832980505138,
          0.9486832980505138
         ]
        },
        {
         "line": {
          "width": 2
         },
         "marker": {
          "opacity": 0.8,
          "size": 1
         },
         "name": "vector #3",
         "type": "scatter",
         "x": [
          0,
          0.7071067811865475,
          0.7071067811865475
         ],
         "y": [
          0,
          0.7071067811865475,
          0.7071067811865475
         ]
        },
        {
         "line": {
          "width": 2
         },
         "marker": {
          "opacity": 0.8,
          "size": 1
         },
         "name": "vector #4",
         "type": "scatter",
         "x": [
          0,
          0.9486832980505138,
          0.9486832980505138
         ],
         "y": [
          0,
          0.31622776601683794,
          0.31622776601683794
         ]
        },
        {
         "line": {
          "width": 2
         },
         "marker": {
          "opacity": 0.8,
          "size": 1
         },
         "name": "vector #5",
         "type": "scatter",
         "x": [
          0,
          1,
          1
         ],
         "y": [
          0,
          0,
          0
         ]
        }
       ],
       "layout": {
        "template": {
         "data": {
          "bar": [
           {
            "error_x": {
             "color": "#2a3f5f"
            },
            "error_y": {
             "color": "#2a3f5f"
            },
            "marker": {
             "line": {
              "color": "#E5ECF6",
              "width": 0.5
             }
            },
            "type": "bar"
           }
          ],
          "barpolar": [
           {
            "marker": {
             "line": {
              "color": "#E5ECF6",
              "width": 0.5
             }
            },
            "type": "barpolar"
           }
          ],
          "carpet": [
           {
            "aaxis": {
             "endlinecolor": "#2a3f5f",
             "gridcolor": "white",
             "linecolor": "white",
             "minorgridcolor": "white",
             "startlinecolor": "#2a3f5f"
            },
            "baxis": {
             "endlinecolor": "#2a3f5f",
             "gridcolor": "white",
             "linecolor": "white",
             "minorgridcolor": "white",
             "startlinecolor": "#2a3f5f"
            },
            "type": "carpet"
           }
          ],
          "choropleth": [
           {
            "colorbar": {
             "outlinewidth": 0,
             "ticks": ""
            },
            "type": "choropleth"
           }
          ],
          "contour": [
           {
            "colorbar": {
             "outlinewidth": 0,
             "ticks": ""
            },
            "colorscale": [
             [
              0,
              "#0d0887"
             ],
             [
              0.1111111111111111,
              "#46039f"
             ],
             [
              0.2222222222222222,
              "#7201a8"
             ],
             [
              0.3333333333333333,
              "#9c179e"
             ],
             [
              0.4444444444444444,
              "#bd3786"
             ],
             [
              0.5555555555555556,
              "#d8576b"
             ],
             [
              0.6666666666666666,
              "#ed7953"
             ],
             [
              0.7777777777777778,
              "#fb9f3a"
             ],
             [
              0.8888888888888888,
              "#fdca26"
             ],
             [
              1,
              "#f0f921"
             ]
            ],
            "type": "contour"
           }
          ],
          "contourcarpet": [
           {
            "colorbar": {
             "outlinewidth": 0,
             "ticks": ""
            },
            "type": "contourcarpet"
           }
          ],
          "heatmap": [
           {
            "colorbar": {
             "outlinewidth": 0,
             "ticks": ""
            },
            "colorscale": [
             [
              0,
              "#0d0887"
             ],
             [
              0.1111111111111111,
              "#46039f"
             ],
             [
              0.2222222222222222,
              "#7201a8"
             ],
             [
              0.3333333333333333,
              "#9c179e"
             ],
             [
              0.4444444444444444,
              "#bd3786"
             ],
             [
              0.5555555555555556,
              "#d8576b"
             ],
             [
              0.6666666666666666,
              "#ed7953"
             ],
             [
              0.7777777777777778,
              "#fb9f3a"
             ],
             [
              0.8888888888888888,
              "#fdca26"
             ],
             [
              1,
              "#f0f921"
             ]
            ],
            "type": "heatmap"
           }
          ],
          "heatmapgl": [
           {
            "colorbar": {
             "outlinewidth": 0,
             "ticks": ""
            },
            "colorscale": [
             [
              0,
              "#0d0887"
             ],
             [
              0.1111111111111111,
              "#46039f"
             ],
             [
              0.2222222222222222,
              "#7201a8"
             ],
             [
              0.3333333333333333,
              "#9c179e"
             ],
             [
              0.4444444444444444,
              "#bd3786"
             ],
             [
              0.5555555555555556,
              "#d8576b"
             ],
             [
              0.6666666666666666,
              "#ed7953"
             ],
             [
              0.7777777777777778,
              "#fb9f3a"
             ],
             [
              0.8888888888888888,
              "#fdca26"
             ],
             [
              1,
              "#f0f921"
             ]
            ],
            "type": "heatmapgl"
           }
          ],
          "histogram": [
           {
            "marker": {
             "colorbar": {
              "outlinewidth": 0,
              "ticks": ""
             }
            },
            "type": "histogram"
           }
          ],
          "histogram2d": [
           {
            "colorbar": {
             "outlinewidth": 0,
             "ticks": ""
            },
            "colorscale": [
             [
              0,
              "#0d0887"
             ],
             [
              0.1111111111111111,
              "#46039f"
             ],
             [
              0.2222222222222222,
              "#7201a8"
             ],
             [
              0.3333333333333333,
              "#9c179e"
             ],
             [
              0.4444444444444444,
              "#bd3786"
             ],
             [
              0.5555555555555556,
              "#d8576b"
             ],
             [
              0.6666666666666666,
              "#ed7953"
             ],
             [
              0.7777777777777778,
              "#fb9f3a"
             ],
             [
              0.8888888888888888,
              "#fdca26"
             ],
             [
              1,
              "#f0f921"
             ]
            ],
            "type": "histogram2d"
           }
          ],
          "histogram2dcontour": [
           {
            "colorbar": {
             "outlinewidth": 0,
             "ticks": ""
            },
            "colorscale": [
             [
              0,
              "#0d0887"
             ],
             [
              0.1111111111111111,
              "#46039f"
             ],
             [
              0.2222222222222222,
              "#7201a8"
             ],
             [
              0.3333333333333333,
              "#9c179e"
             ],
             [
              0.4444444444444444,
              "#bd3786"
             ],
             [
              0.5555555555555556,
              "#d8576b"
             ],
             [
              0.6666666666666666,
              "#ed7953"
             ],
             [
              0.7777777777777778,
              "#fb9f3a"
             ],
             [
              0.8888888888888888,
              "#fdca26"
             ],
             [
              1,
              "#f0f921"
             ]
            ],
            "type": "histogram2dcontour"
           }
          ],
          "mesh3d": [
           {
            "colorbar": {
             "outlinewidth": 0,
             "ticks": ""
            },
            "type": "mesh3d"
           }
          ],
          "parcoords": [
           {
            "line": {
             "colorbar": {
              "outlinewidth": 0,
              "ticks": ""
             }
            },
            "type": "parcoords"
           }
          ],
          "pie": [
           {
            "automargin": true,
            "type": "pie"
           }
          ],
          "scatter": [
           {
            "marker": {
             "colorbar": {
              "outlinewidth": 0,
              "ticks": ""
             }
            },
            "type": "scatter"
           }
          ],
          "scatter3d": [
           {
            "line": {
             "colorbar": {
              "outlinewidth": 0,
              "ticks": ""
             }
            },
            "marker": {
             "colorbar": {
              "outlinewidth": 0,
              "ticks": ""
             }
            },
            "type": "scatter3d"
           }
          ],
          "scattercarpet": [
           {
            "marker": {
             "colorbar": {
              "outlinewidth": 0,
              "ticks": ""
             }
            },
            "type": "scattercarpet"
           }
          ],
          "scattergeo": [
           {
            "marker": {
             "colorbar": {
              "outlinewidth": 0,
              "ticks": ""
             }
            },
            "type": "scattergeo"
           }
          ],
          "scattergl": [
           {
            "marker": {
             "colorbar": {
              "outlinewidth": 0,
              "ticks": ""
             }
            },
            "type": "scattergl"
           }
          ],
          "scattermapbox": [
           {
            "marker": {
             "colorbar": {
              "outlinewidth": 0,
              "ticks": ""
             }
            },
            "type": "scattermapbox"
           }
          ],
          "scatterpolar": [
           {
            "marker": {
             "colorbar": {
              "outlinewidth": 0,
              "ticks": ""
             }
            },
            "type": "scatterpolar"
           }
          ],
          "scatterpolargl": [
           {
            "marker": {
             "colorbar": {
              "outlinewidth": 0,
              "ticks": ""
             }
            },
            "type": "scatterpolargl"
           }
          ],
          "scatterternary": [
           {
            "marker": {
             "colorbar": {
              "outlinewidth": 0,
              "ticks": ""
             }
            },
            "type": "scatterternary"
           }
          ],
          "surface": [
           {
            "colorbar": {
             "outlinewidth": 0,
             "ticks": ""
            },
            "colorscale": [
             [
              0,
              "#0d0887"
             ],
             [
              0.1111111111111111,
              "#46039f"
             ],
             [
              0.2222222222222222,
              "#7201a8"
             ],
             [
              0.3333333333333333,
              "#9c179e"
             ],
             [
              0.4444444444444444,
              "#bd3786"
             ],
             [
              0.5555555555555556,
              "#d8576b"
             ],
             [
              0.6666666666666666,
              "#ed7953"
             ],
             [
              0.7777777777777778,
              "#fb9f3a"
             ],
             [
              0.8888888888888888,
              "#fdca26"
             ],
             [
              1,
              "#f0f921"
             ]
            ],
            "type": "surface"
           }
          ],
          "table": [
           {
            "cells": {
             "fill": {
              "color": "#EBF0F8"
             },
             "line": {
              "color": "white"
             }
            },
            "header": {
             "fill": {
              "color": "#C8D4E3"
             },
             "line": {
              "color": "white"
             }
            },
            "type": "table"
           }
          ]
         },
         "layout": {
          "annotationdefaults": {
           "arrowcolor": "#2a3f5f",
           "arrowhead": 0,
           "arrowwidth": 1
          },
          "coloraxis": {
           "colorbar": {
            "outlinewidth": 0,
            "ticks": ""
           }
          },
          "colorscale": {
           "diverging": [
            [
             0,
             "#8e0152"
            ],
            [
             0.1,
             "#c51b7d"
            ],
            [
             0.2,
             "#de77ae"
            ],
            [
             0.3,
             "#f1b6da"
            ],
            [
             0.4,
             "#fde0ef"
            ],
            [
             0.5,
             "#f7f7f7"
            ],
            [
             0.6,
             "#e6f5d0"
            ],
            [
             0.7,
             "#b8e186"
            ],
            [
             0.8,
             "#7fbc41"
            ],
            [
             0.9,
             "#4d9221"
            ],
            [
             1,
             "#276419"
            ]
           ],
           "sequential": [
            [
             0,
             "#0d0887"
            ],
            [
             0.1111111111111111,
             "#46039f"
            ],
            [
             0.2222222222222222,
             "#7201a8"
            ],
            [
             0.3333333333333333,
             "#9c179e"
            ],
            [
             0.4444444444444444,
             "#bd3786"
            ],
            [
             0.5555555555555556,
             "#d8576b"
            ],
            [
             0.6666666666666666,
             "#ed7953"
            ],
            [
             0.7777777777777778,
             "#fb9f3a"
            ],
            [
             0.8888888888888888,
             "#fdca26"
            ],
            [
             1,
             "#f0f921"
            ]
           ],
           "sequentialminus": [
            [
             0,
             "#0d0887"
            ],
            [
             0.1111111111111111,
             "#46039f"
            ],
            [
             0.2222222222222222,
             "#7201a8"
            ],
            [
             0.3333333333333333,
             "#9c179e"
            ],
            [
             0.4444444444444444,
             "#bd3786"
            ],
            [
             0.5555555555555556,
             "#d8576b"
            ],
            [
             0.6666666666666666,
             "#ed7953"
            ],
            [
             0.7777777777777778,
             "#fb9f3a"
            ],
            [
             0.8888888888888888,
             "#fdca26"
            ],
            [
             1,
             "#f0f921"
            ]
           ]
          },
          "colorway": [
           "#636efa",
           "#EF553B",
           "#00cc96",
           "#ab63fa",
           "#FFA15A",
           "#19d3f3",
           "#FF6692",
           "#B6E880",
           "#FF97FF",
           "#FECB52"
          ],
          "font": {
           "color": "#2a3f5f"
          },
          "geo": {
           "bgcolor": "white",
           "lakecolor": "white",
           "landcolor": "#E5ECF6",
           "showlakes": true,
           "showland": true,
           "subunitcolor": "white"
          },
          "hoverlabel": {
           "align": "left"
          },
          "hovermode": "closest",
          "mapbox": {
           "style": "light"
          },
          "paper_bgcolor": "white",
          "plot_bgcolor": "#E5ECF6",
          "polar": {
           "angularaxis": {
            "gridcolor": "white",
            "linecolor": "white",
            "ticks": ""
           },
           "bgcolor": "#E5ECF6",
           "radialaxis": {
            "gridcolor": "white",
            "linecolor": "white",
            "ticks": ""
           }
          },
          "scene": {
           "xaxis": {
            "backgroundcolor": "#E5ECF6",
            "gridcolor": "white",
            "gridwidth": 2,
            "linecolor": "white",
            "showbackground": true,
            "ticks": "",
            "zerolinecolor": "white"
           },
           "yaxis": {
            "backgroundcolor": "#E5ECF6",
            "gridcolor": "white",
            "gridwidth": 2,
            "linecolor": "white",
            "showbackground": true,
            "ticks": "",
            "zerolinecolor": "white"
           },
           "zaxis": {
            "backgroundcolor": "#E5ECF6",
            "gridcolor": "white",
            "gridwidth": 2,
            "linecolor": "white",
            "showbackground": true,
            "ticks": "",
            "zerolinecolor": "white"
           }
          },
          "shapedefaults": {
           "line": {
            "color": "#2a3f5f"
           }
          },
          "ternary": {
           "aaxis": {
            "gridcolor": "white",
            "linecolor": "white",
            "ticks": ""
           },
           "baxis": {
            "gridcolor": "white",
            "linecolor": "white",
            "ticks": ""
           },
           "bgcolor": "#E5ECF6",
           "caxis": {
            "gridcolor": "white",
            "linecolor": "white",
            "ticks": ""
           }
          },
          "title": {
           "x": 0.05
          },
          "xaxis": {
           "automargin": true,
           "gridcolor": "white",
           "linecolor": "white",
           "ticks": "",
           "title": {
            "standoff": 15
           },
           "zerolinecolor": "white",
           "zerolinewidth": 2
          },
          "yaxis": {
           "automargin": true,
           "gridcolor": "white",
           "linecolor": "white",
           "ticks": "",
           "title": {
            "standoff": 15
           },
           "zerolinecolor": "white",
           "zerolinewidth": 2
          }
         }
        }
       }
      }
     },
     "metadata": {}
    }
   ],
   "source": [
    "visualize_2D_front_rvs(base.normalized_front, base2.vectors)"
   ]
  },
  {
   "cell_type": "code",
   "execution_count": 18,
   "metadata": {},
   "outputs": [
    {
     "output_type": "stream",
     "name": "stdout",
     "text": [
      "[[ 0.72945679  0.99820703]\n [-0.00354607  0.26520418]]\n[0.86383191 0.13082906]\n"
     ]
    },
    {
     "output_type": "display_data",
     "data": {
      "application/vnd.plotly.v1+json": {
       "config": {
        "plotlyServerURL": "https://plot.ly"
       },
       "data": [
        {
         "marker": {
          "size": 3
         },
         "mode": "markers",
         "name": "Composite front",
         "type": "scatter",
         "x": [
          -0.002888318617355168,
          0.009954149277596969,
          0.017296849413686033,
          0.022535872288006686,
          0.8534152435191444,
          0.43294519450324387,
          0.19573870640804358,
          0.6861539735786621,
          0.45571876282718904,
          0.8065940181921185,
          0.37066357655473325,
          0.9042915819518882,
          0.390629992073098,
          0.06404021380663139,
          0.5581686783647086,
          0.5305263819605059,
          0.6183069915237915,
          0.7635323693288605,
          0.03735176864518763,
          0.5873693485314462,
          0.47934390462284426,
          0.10303463984523376,
          0.23688276370836192,
          0.07339689449350573,
          0.41125917297949144,
          0.2988179870362835,
          0.7233606055914805,
          0.3333552351456994,
          0.25154124208131634,
          0.11345792381478503,
          0.18287695928001568,
          0.2824546629680782,
          0.17041247846536578,
          0.5042894337121382,
          0.6510285783607408,
          0.08299853153312498,
          0.2666907843273876,
          0.9601799363014862,
          0.14662315150295058,
          0.05490385005166232,
          0.13527270359096732,
          0.22273236095644222,
          0.12422235970285911,
          0.15831168458996459,
          0.09288263862601553,
          0.04601259423357007,
          0.31569770608189174,
          0.35161884686761624,
          0.2090121870944337,
          0.02889864733210601,
          0.011665442867972331,
          0.4821541245283214,
          0.040635875105522246,
          0.9251610322627108,
          0.46219248275983915,
          0.8288741104322703,
          0.5237145568116262,
          0.23536082598741714,
          0.2510090295090279,
          0.10563980626297464,
          0.17549525788980347,
          0.8592909959981654,
          0.19044498078695682,
          0.5900651057978052,
          0.6619504169186321,
          0.06610563134135816,
          0.07910945110416634,
          0.09225362048368879,
          0.7971419494085268,
          0.35050178989610714,
          0.16107287400048165,
          0.33323361769668836,
          0.3687051623114286,
          0.7130889836531331,
          0.053305402368927446,
          0.6131785720941636,
          0.4063069389526994,
          0.5452702799209135,
          0.4237777062673125,
          0.20496534857522875,
          0.02816546244204332,
          0.6877953863818824,
          0.13294853681166785,
          0.22005354429131785,
          0.5674539084937322,
          0.4425813799217302,
          0.11923124808275176,
          0.8909550947648199,
          0.5025821766221341,
          0.38615856534807236,
          0.637055611573075,
          0.018773894917895717,
          0.7402757386275489,
          0.7682511529500147
         ],
         "y": [
          3.6721262082515107,
          2.3872281350196936,
          1.8596994017402206,
          1.5647770728975026,
          0.26479982613833997,
          0.8381715412832378,
          1.1903367604076287,
          0.48447451618692305,
          0.8054917308371579,
          0.3250257920627,
          0.9288546334422598,
          0.20042765433633392,
          0.8998701006243088,
          1.392532780610095,
          0.6600289288591021,
          0.6988138590951962,
          0.5766763714113594,
          0.38141726266001896,
          1.4339987686227822,
          0.6193653191527417,
          0.771469938243051,
          1.3322130687593816,
          1.1278800403639675,
          1.3780313037006273,
          0.8696186933175305,
          1.0351152239276384,
          0.43445491933253244,
          0.98389270450655,
          1.1057885288010585,
          1.316020755308351,
          1.2096488464722022,
          1.0593866621613053,
          1.228778975388419,
          0.7359752289525829,
          0.5317557168741107,
          1.3630159159991297,
          1.0831406947043511,
          0.13082905777950415,
          1.2651646196458888,
          1.4068530360523575,
          1.2825381835581098,
          1.149362005764587,
          1.299553530118045,
          1.2472008241285124,
          1.3477704467991423,
          1.4205789603409293,
          1.0098856047156914,
          0.9567732983309618,
          1.1701055638030091,
          1.4472087026988145,
          2.3062508476192534,
          0.7681581928817547,
          1.4301715355612181,
          0.1751104369732026,
          0.7968983252576596,
          0.2992833536005062,
          0.7092552505945555,
          1.131108453676596,
          1.1078386336682993,
          1.3292555277162865,
          1.2220748583661276,
          0.25903025626092635,
          1.2017260340217266,
          0.6166467449020203,
          0.5181208895019829,
          1.390348151157239,
          1.3702594611859986,
          1.3493181843150026,
          0.337836486520553,
          0.959556686901724,
          1.2440097353982136,
          0.9853675479053638,
          0.9345871763461027,
          0.44851147689883675,
          1.4110457131340937,
          0.5843597892415424,
          0.8833173461138646,
          0.6789682635939229,
          0.8535339327940505,
          1.1772041201523784,
          1.4496977112459,
          0.4840548230987629,
          1.2871028094930779,
          1.154308000783372,
          0.6482372739243765,
          0.8251567503354167,
          1.3086528944403213,
          0.21762424579442552,
          0.7388387066872681,
          0.9070039064967368,
          0.5515078601235501,
          1.8011027041823358,
          0.4126423663869154,
          0.3756870069485334
         ]
        },
        {
         "line": {
          "width": 2
         },
         "marker": {
          "opacity": 0.8,
          "size": 1
         },
         "name": "preferred range X",
         "type": "scatter",
         "x": [
          0.7294567882614018,
          0.9982070347474057
         ],
         "y": [
          0.13082905777950415,
          0.13082905777950415
         ]
        },
        {
         "line": {
          "width": 2
         },
         "marker": {
          "opacity": 0.8,
          "size": 1
         },
         "name": "preferred range Y",
         "type": "scatter",
         "x": [
          0.8638319115044037,
          0.8638319115044037
         ],
         "y": [
          -0.0035460654634978106,
          0.2652041810225061
         ]
        }
       ],
       "layout": {
        "template": {
         "data": {
          "bar": [
           {
            "error_x": {
             "color": "#2a3f5f"
            },
            "error_y": {
             "color": "#2a3f5f"
            },
            "marker": {
             "line": {
              "color": "#E5ECF6",
              "width": 0.5
             }
            },
            "type": "bar"
           }
          ],
          "barpolar": [
           {
            "marker": {
             "line": {
              "color": "#E5ECF6",
              "width": 0.5
             }
            },
            "type": "barpolar"
           }
          ],
          "carpet": [
           {
            "aaxis": {
             "endlinecolor": "#2a3f5f",
             "gridcolor": "white",
             "linecolor": "white",
             "minorgridcolor": "white",
             "startlinecolor": "#2a3f5f"
            },
            "baxis": {
             "endlinecolor": "#2a3f5f",
             "gridcolor": "white",
             "linecolor": "white",
             "minorgridcolor": "white",
             "startlinecolor": "#2a3f5f"
            },
            "type": "carpet"
           }
          ],
          "choropleth": [
           {
            "colorbar": {
             "outlinewidth": 0,
             "ticks": ""
            },
            "type": "choropleth"
           }
          ],
          "contour": [
           {
            "colorbar": {
             "outlinewidth": 0,
             "ticks": ""
            },
            "colorscale": [
             [
              0,
              "#0d0887"
             ],
             [
              0.1111111111111111,
              "#46039f"
             ],
             [
              0.2222222222222222,
              "#7201a8"
             ],
             [
              0.3333333333333333,
              "#9c179e"
             ],
             [
              0.4444444444444444,
              "#bd3786"
             ],
             [
              0.5555555555555556,
              "#d8576b"
             ],
             [
              0.6666666666666666,
              "#ed7953"
             ],
             [
              0.7777777777777778,
              "#fb9f3a"
             ],
             [
              0.8888888888888888,
              "#fdca26"
             ],
             [
              1,
              "#f0f921"
             ]
            ],
            "type": "contour"
           }
          ],
          "contourcarpet": [
           {
            "colorbar": {
             "outlinewidth": 0,
             "ticks": ""
            },
            "type": "contourcarpet"
           }
          ],
          "heatmap": [
           {
            "colorbar": {
             "outlinewidth": 0,
             "ticks": ""
            },
            "colorscale": [
             [
              0,
              "#0d0887"
             ],
             [
              0.1111111111111111,
              "#46039f"
             ],
             [
              0.2222222222222222,
              "#7201a8"
             ],
             [
              0.3333333333333333,
              "#9c179e"
             ],
             [
              0.4444444444444444,
              "#bd3786"
             ],
             [
              0.5555555555555556,
              "#d8576b"
             ],
             [
              0.6666666666666666,
              "#ed7953"
             ],
             [
              0.7777777777777778,
              "#fb9f3a"
             ],
             [
              0.8888888888888888,
              "#fdca26"
             ],
             [
              1,
              "#f0f921"
             ]
            ],
            "type": "heatmap"
           }
          ],
          "heatmapgl": [
           {
            "colorbar": {
             "outlinewidth": 0,
             "ticks": ""
            },
            "colorscale": [
             [
              0,
              "#0d0887"
             ],
             [
              0.1111111111111111,
              "#46039f"
             ],
             [
              0.2222222222222222,
              "#7201a8"
             ],
             [
              0.3333333333333333,
              "#9c179e"
             ],
             [
              0.4444444444444444,
              "#bd3786"
             ],
             [
              0.5555555555555556,
              "#d8576b"
             ],
             [
              0.6666666666666666,
              "#ed7953"
             ],
             [
              0.7777777777777778,
              "#fb9f3a"
             ],
             [
              0.8888888888888888,
              "#fdca26"
             ],
             [
              1,
              "#f0f921"
             ]
            ],
            "type": "heatmapgl"
           }
          ],
          "histogram": [
           {
            "marker": {
             "colorbar": {
              "outlinewidth": 0,
              "ticks": ""
             }
            },
            "type": "histogram"
           }
          ],
          "histogram2d": [
           {
            "colorbar": {
             "outlinewidth": 0,
             "ticks": ""
            },
            "colorscale": [
             [
              0,
              "#0d0887"
             ],
             [
              0.1111111111111111,
              "#46039f"
             ],
             [
              0.2222222222222222,
              "#7201a8"
             ],
             [
              0.3333333333333333,
              "#9c179e"
             ],
             [
              0.4444444444444444,
              "#bd3786"
             ],
             [
              0.5555555555555556,
              "#d8576b"
             ],
             [
              0.6666666666666666,
              "#ed7953"
             ],
             [
              0.7777777777777778,
              "#fb9f3a"
             ],
             [
              0.8888888888888888,
              "#fdca26"
             ],
             [
              1,
              "#f0f921"
             ]
            ],
            "type": "histogram2d"
           }
          ],
          "histogram2dcontour": [
           {
            "colorbar": {
             "outlinewidth": 0,
             "ticks": ""
            },
            "colorscale": [
             [
              0,
              "#0d0887"
             ],
             [
              0.1111111111111111,
              "#46039f"
             ],
             [
              0.2222222222222222,
              "#7201a8"
             ],
             [
              0.3333333333333333,
              "#9c179e"
             ],
             [
              0.4444444444444444,
              "#bd3786"
             ],
             [
              0.5555555555555556,
              "#d8576b"
             ],
             [
              0.6666666666666666,
              "#ed7953"
             ],
             [
              0.7777777777777778,
              "#fb9f3a"
             ],
             [
              0.8888888888888888,
              "#fdca26"
             ],
             [
              1,
              "#f0f921"
             ]
            ],
            "type": "histogram2dcontour"
           }
          ],
          "mesh3d": [
           {
            "colorbar": {
             "outlinewidth": 0,
             "ticks": ""
            },
            "type": "mesh3d"
           }
          ],
          "parcoords": [
           {
            "line": {
             "colorbar": {
              "outlinewidth": 0,
              "ticks": ""
             }
            },
            "type": "parcoords"
           }
          ],
          "pie": [
           {
            "automargin": true,
            "type": "pie"
           }
          ],
          "scatter": [
           {
            "marker": {
             "colorbar": {
              "outlinewidth": 0,
              "ticks": ""
             }
            },
            "type": "scatter"
           }
          ],
          "scatter3d": [
           {
            "line": {
             "colorbar": {
              "outlinewidth": 0,
              "ticks": ""
             }
            },
            "marker": {
             "colorbar": {
              "outlinewidth": 0,
              "ticks": ""
             }
            },
            "type": "scatter3d"
           }
          ],
          "scattercarpet": [
           {
            "marker": {
             "colorbar": {
              "outlinewidth": 0,
              "ticks": ""
             }
            },
            "type": "scattercarpet"
           }
          ],
          "scattergeo": [
           {
            "marker": {
             "colorbar": {
              "outlinewidth": 0,
              "ticks": ""
             }
            },
            "type": "scattergeo"
           }
          ],
          "scattergl": [
           {
            "marker": {
             "colorbar": {
              "outlinewidth": 0,
              "ticks": ""
             }
            },
            "type": "scattergl"
           }
          ],
          "scattermapbox": [
           {
            "marker": {
             "colorbar": {
              "outlinewidth": 0,
              "ticks": ""
             }
            },
            "type": "scattermapbox"
           }
          ],
          "scatterpolar": [
           {
            "marker": {
             "colorbar": {
              "outlinewidth": 0,
              "ticks": ""
             }
            },
            "type": "scatterpolar"
           }
          ],
          "scatterpolargl": [
           {
            "marker": {
             "colorbar": {
              "outlinewidth": 0,
              "ticks": ""
             }
            },
            "type": "scatterpolargl"
           }
          ],
          "scatterternary": [
           {
            "marker": {
             "colorbar": {
              "outlinewidth": 0,
              "ticks": ""
             }
            },
            "type": "scatterternary"
           }
          ],
          "surface": [
           {
            "colorbar": {
             "outlinewidth": 0,
             "ticks": ""
            },
            "colorscale": [
             [
              0,
              "#0d0887"
             ],
             [
              0.1111111111111111,
              "#46039f"
             ],
             [
              0.2222222222222222,
              "#7201a8"
             ],
             [
              0.3333333333333333,
              "#9c179e"
             ],
             [
              0.4444444444444444,
              "#bd3786"
             ],
             [
              0.5555555555555556,
              "#d8576b"
             ],
             [
              0.6666666666666666,
              "#ed7953"
             ],
             [
              0.7777777777777778,
              "#fb9f3a"
             ],
             [
              0.8888888888888888,
              "#fdca26"
             ],
             [
              1,
              "#f0f921"
             ]
            ],
            "type": "surface"
           }
          ],
          "table": [
           {
            "cells": {
             "fill": {
              "color": "#EBF0F8"
             },
             "line": {
              "color": "white"
             }
            },
            "header": {
             "fill": {
              "color": "#C8D4E3"
             },
             "line": {
              "color": "white"
             }
            },
            "type": "table"
           }
          ]
         },
         "layout": {
          "annotationdefaults": {
           "arrowcolor": "#2a3f5f",
           "arrowhead": 0,
           "arrowwidth": 1
          },
          "coloraxis": {
           "colorbar": {
            "outlinewidth": 0,
            "ticks": ""
           }
          },
          "colorscale": {
           "diverging": [
            [
             0,
             "#8e0152"
            ],
            [
             0.1,
             "#c51b7d"
            ],
            [
             0.2,
             "#de77ae"
            ],
            [
             0.3,
             "#f1b6da"
            ],
            [
             0.4,
             "#fde0ef"
            ],
            [
             0.5,
             "#f7f7f7"
            ],
            [
             0.6,
             "#e6f5d0"
            ],
            [
             0.7,
             "#b8e186"
            ],
            [
             0.8,
             "#7fbc41"
            ],
            [
             0.9,
             "#4d9221"
            ],
            [
             1,
             "#276419"
            ]
           ],
           "sequential": [
            [
             0,
             "#0d0887"
            ],
            [
             0.1111111111111111,
             "#46039f"
            ],
            [
             0.2222222222222222,
             "#7201a8"
            ],
            [
             0.3333333333333333,
             "#9c179e"
            ],
            [
             0.4444444444444444,
             "#bd3786"
            ],
            [
             0.5555555555555556,
             "#d8576b"
            ],
            [
             0.6666666666666666,
             "#ed7953"
            ],
            [
             0.7777777777777778,
             "#fb9f3a"
            ],
            [
             0.8888888888888888,
             "#fdca26"
            ],
            [
             1,
             "#f0f921"
            ]
           ],
           "sequentialminus": [
            [
             0,
             "#0d0887"
            ],
            [
             0.1111111111111111,
             "#46039f"
            ],
            [
             0.2222222222222222,
             "#7201a8"
            ],
            [
             0.3333333333333333,
             "#9c179e"
            ],
            [
             0.4444444444444444,
             "#bd3786"
            ],
            [
             0.5555555555555556,
             "#d8576b"
            ],
            [
             0.6666666666666666,
             "#ed7953"
            ],
            [
             0.7777777777777778,
             "#fb9f3a"
            ],
            [
             0.8888888888888888,
             "#fdca26"
            ],
            [
             1,
             "#f0f921"
            ]
           ]
          },
          "colorway": [
           "#636efa",
           "#EF553B",
           "#00cc96",
           "#ab63fa",
           "#FFA15A",
           "#19d3f3",
           "#FF6692",
           "#B6E880",
           "#FF97FF",
           "#FECB52"
          ],
          "font": {
           "color": "#2a3f5f"
          },
          "geo": {
           "bgcolor": "white",
           "lakecolor": "white",
           "landcolor": "#E5ECF6",
           "showlakes": true,
           "showland": true,
           "subunitcolor": "white"
          },
          "hoverlabel": {
           "align": "left"
          },
          "hovermode": "closest",
          "mapbox": {
           "style": "light"
          },
          "paper_bgcolor": "white",
          "plot_bgcolor": "#E5ECF6",
          "polar": {
           "angularaxis": {
            "gridcolor": "white",
            "linecolor": "white",
            "ticks": ""
           },
           "bgcolor": "#E5ECF6",
           "radialaxis": {
            "gridcolor": "white",
            "linecolor": "white",
            "ticks": ""
           }
          },
          "scene": {
           "xaxis": {
            "backgroundcolor": "#E5ECF6",
            "gridcolor": "white",
            "gridwidth": 2,
            "linecolor": "white",
            "showbackground": true,
            "ticks": "",
            "zerolinecolor": "white"
           },
           "yaxis": {
            "backgroundcolor": "#E5ECF6",
            "gridcolor": "white",
            "gridwidth": 2,
            "linecolor": "white",
            "showbackground": true,
            "ticks": "",
            "zerolinecolor": "white"
           },
           "zaxis": {
            "backgroundcolor": "#E5ECF6",
            "gridcolor": "white",
            "gridwidth": 2,
            "linecolor": "white",
            "showbackground": true,
            "ticks": "",
            "zerolinecolor": "white"
           }
          },
          "shapedefaults": {
           "line": {
            "color": "#2a3f5f"
           }
          },
          "ternary": {
           "aaxis": {
            "gridcolor": "white",
            "linecolor": "white",
            "ticks": ""
           },
           "baxis": {
            "gridcolor": "white",
            "linecolor": "white",
            "ticks": ""
           },
           "bgcolor": "#E5ECF6",
           "caxis": {
            "gridcolor": "white",
            "linecolor": "white",
            "ticks": ""
           }
          },
          "title": {
           "x": 0.05
          },
          "xaxis": {
           "automargin": true,
           "gridcolor": "white",
           "linecolor": "white",
           "ticks": "",
           "title": {
            "standoff": 15
           },
           "zerolinecolor": "white",
           "zerolinewidth": 2
          },
          "yaxis": {
           "automargin": true,
           "gridcolor": "white",
           "linecolor": "white",
           "ticks": "",
           "title": {
            "standoff": 15
           },
           "zerolinecolor": "white",
           "zerolinewidth": 2
          }
         }
        }
       }
      }
     },
     "metadata": {}
    }
   ],
   "source": [
    "range, rp = gp.generateRanges4learning(base)\n",
    "print(range)\n",
    "print(rp)\n",
    "visualize_2D_front_range(base.composite_front, range, rp)"
   ]
  },
  {
   "cell_type": "code",
   "execution_count": 19,
   "metadata": {},
   "outputs": [
    {
     "output_type": "stream",
     "name": "stdout",
     "text": [
      "[[-0.17672137  0.17094473]\n [ 1.06853871  1.41620482]]\n[-0.00288832  1.24237176]\n"
     ]
    },
    {
     "output_type": "display_data",
     "data": {
      "application/vnd.plotly.v1+json": {
       "config": {
        "plotlyServerURL": "https://plot.ly"
       },
       "data": [
        {
         "marker": {
          "size": 3
         },
         "mode": "markers",
         "name": "Composite front",
         "type": "scatter",
         "x": [
          -0.002888318617355168,
          0.009954149277596969,
          0.017296849413686033,
          0.022535872288006686,
          0.8534152435191444,
          0.43294519450324387,
          0.19573870640804358,
          0.6861539735786621,
          0.45571876282718904,
          0.8065940181921185,
          0.37066357655473325,
          0.9042915819518882,
          0.390629992073098,
          0.06404021380663139,
          0.5581686783647086,
          0.5305263819605059,
          0.6183069915237915,
          0.7635323693288605,
          0.03735176864518763,
          0.5873693485314462,
          0.47934390462284426,
          0.10303463984523376,
          0.23688276370836192,
          0.07339689449350573,
          0.41125917297949144,
          0.2988179870362835,
          0.7233606055914805,
          0.3333552351456994,
          0.25154124208131634,
          0.11345792381478503,
          0.18287695928001568,
          0.2824546629680782,
          0.17041247846536578,
          0.5042894337121382,
          0.6510285783607408,
          0.08299853153312498,
          0.2666907843273876,
          0.9601799363014862,
          0.14662315150295058,
          0.05490385005166232,
          0.13527270359096732,
          0.22273236095644222,
          0.12422235970285911,
          0.15831168458996459,
          0.09288263862601553,
          0.04601259423357007,
          0.31569770608189174,
          0.35161884686761624,
          0.2090121870944337,
          0.02889864733210601,
          0.011665442867972331,
          0.4821541245283214,
          0.040635875105522246,
          0.9251610322627108,
          0.46219248275983915,
          0.8288741104322703,
          0.5237145568116262,
          0.23536082598741714,
          0.2510090295090279,
          0.10563980626297464,
          0.17549525788980347,
          0.8592909959981654,
          0.19044498078695682,
          0.5900651057978052,
          0.6619504169186321,
          0.06610563134135816,
          0.07910945110416634,
          0.09225362048368879,
          0.7971419494085268,
          0.35050178989610714,
          0.16107287400048165,
          0.33323361769668836,
          0.3687051623114286,
          0.7130889836531331,
          0.053305402368927446,
          0.6131785720941636,
          0.4063069389526994,
          0.5452702799209135,
          0.4237777062673125,
          0.20496534857522875,
          0.02816546244204332,
          0.6877953863818824,
          0.13294853681166785,
          0.22005354429131785,
          0.5674539084937322,
          0.4425813799217302,
          0.11923124808275176,
          0.8909550947648199,
          0.5025821766221341,
          0.38615856534807236,
          0.637055611573075,
          0.018773894917895717,
          0.7402757386275489,
          0.7682511529500147
         ],
         "y": [
          3.6721262082515107,
          2.3872281350196936,
          1.8596994017402206,
          1.5647770728975026,
          0.26479982613833997,
          0.8381715412832378,
          1.1903367604076287,
          0.48447451618692305,
          0.8054917308371579,
          0.3250257920627,
          0.9288546334422598,
          0.20042765433633392,
          0.8998701006243088,
          1.392532780610095,
          0.6600289288591021,
          0.6988138590951962,
          0.5766763714113594,
          0.38141726266001896,
          1.4339987686227822,
          0.6193653191527417,
          0.771469938243051,
          1.3322130687593816,
          1.1278800403639675,
          1.3780313037006273,
          0.8696186933175305,
          1.0351152239276384,
          0.43445491933253244,
          0.98389270450655,
          1.1057885288010585,
          1.316020755308351,
          1.2096488464722022,
          1.0593866621613053,
          1.228778975388419,
          0.7359752289525829,
          0.5317557168741107,
          1.3630159159991297,
          1.0831406947043511,
          0.13082905777950415,
          1.2651646196458888,
          1.4068530360523575,
          1.2825381835581098,
          1.149362005764587,
          1.299553530118045,
          1.2472008241285124,
          1.3477704467991423,
          1.4205789603409293,
          1.0098856047156914,
          0.9567732983309618,
          1.1701055638030091,
          1.4472087026988145,
          2.3062508476192534,
          0.7681581928817547,
          1.4301715355612181,
          0.1751104369732026,
          0.7968983252576596,
          0.2992833536005062,
          0.7092552505945555,
          1.131108453676596,
          1.1078386336682993,
          1.3292555277162865,
          1.2220748583661276,
          0.25903025626092635,
          1.2017260340217266,
          0.6166467449020203,
          0.5181208895019829,
          1.390348151157239,
          1.3702594611859986,
          1.3493181843150026,
          0.337836486520553,
          0.959556686901724,
          1.2440097353982136,
          0.9853675479053638,
          0.9345871763461027,
          0.44851147689883675,
          1.4110457131340937,
          0.5843597892415424,
          0.8833173461138646,
          0.6789682635939229,
          0.8535339327940505,
          1.1772041201523784,
          1.4496977112459,
          0.4840548230987629,
          1.2871028094930779,
          1.154308000783372,
          0.6482372739243765,
          0.8251567503354167,
          1.3086528944403213,
          0.21762424579442552,
          0.7388387066872681,
          0.9070039064967368,
          0.5515078601235501,
          1.8011027041823358,
          0.4126423663869154,
          0.3756870069485334
         ]
        },
        {
         "line": {
          "width": 2
         },
         "marker": {
          "opacity": 0.8,
          "size": 1
         },
         "name": "preferred range X",
         "type": "scatter",
         "x": [
          -0.17672137120778347,
          0.17094473397307314
         ],
         "y": [
          1.242371764042709,
          1.242371764042709
         ]
        },
        {
         "line": {
          "width": 2
         },
         "marker": {
          "opacity": 0.8,
          "size": 1
         },
         "name": "preferred range Y",
         "type": "scatter",
         "x": [
          -0.002888318617355168,
          -0.002888318617355168
         ],
         "y": [
          1.0685387114522806,
          1.4162048166331374
         ]
        }
       ],
       "layout": {
        "template": {
         "data": {
          "bar": [
           {
            "error_x": {
             "color": "#2a3f5f"
            },
            "error_y": {
             "color": "#2a3f5f"
            },
            "marker": {
             "line": {
              "color": "#E5ECF6",
              "width": 0.5
             }
            },
            "type": "bar"
           }
          ],
          "barpolar": [
           {
            "marker": {
             "line": {
              "color": "#E5ECF6",
              "width": 0.5
             }
            },
            "type": "barpolar"
           }
          ],
          "carpet": [
           {
            "aaxis": {
             "endlinecolor": "#2a3f5f",
             "gridcolor": "white",
             "linecolor": "white",
             "minorgridcolor": "white",
             "startlinecolor": "#2a3f5f"
            },
            "baxis": {
             "endlinecolor": "#2a3f5f",
             "gridcolor": "white",
             "linecolor": "white",
             "minorgridcolor": "white",
             "startlinecolor": "#2a3f5f"
            },
            "type": "carpet"
           }
          ],
          "choropleth": [
           {
            "colorbar": {
             "outlinewidth": 0,
             "ticks": ""
            },
            "type": "choropleth"
           }
          ],
          "contour": [
           {
            "colorbar": {
             "outlinewidth": 0,
             "ticks": ""
            },
            "colorscale": [
             [
              0,
              "#0d0887"
             ],
             [
              0.1111111111111111,
              "#46039f"
             ],
             [
              0.2222222222222222,
              "#7201a8"
             ],
             [
              0.3333333333333333,
              "#9c179e"
             ],
             [
              0.4444444444444444,
              "#bd3786"
             ],
             [
              0.5555555555555556,
              "#d8576b"
             ],
             [
              0.6666666666666666,
              "#ed7953"
             ],
             [
              0.7777777777777778,
              "#fb9f3a"
             ],
             [
              0.8888888888888888,
              "#fdca26"
             ],
             [
              1,
              "#f0f921"
             ]
            ],
            "type": "contour"
           }
          ],
          "contourcarpet": [
           {
            "colorbar": {
             "outlinewidth": 0,
             "ticks": ""
            },
            "type": "contourcarpet"
           }
          ],
          "heatmap": [
           {
            "colorbar": {
             "outlinewidth": 0,
             "ticks": ""
            },
            "colorscale": [
             [
              0,
              "#0d0887"
             ],
             [
              0.1111111111111111,
              "#46039f"
             ],
             [
              0.2222222222222222,
              "#7201a8"
             ],
             [
              0.3333333333333333,
              "#9c179e"
             ],
             [
              0.4444444444444444,
              "#bd3786"
             ],
             [
              0.5555555555555556,
              "#d8576b"
             ],
             [
              0.6666666666666666,
              "#ed7953"
             ],
             [
              0.7777777777777778,
              "#fb9f3a"
             ],
             [
              0.8888888888888888,
              "#fdca26"
             ],
             [
              1,
              "#f0f921"
             ]
            ],
            "type": "heatmap"
           }
          ],
          "heatmapgl": [
           {
            "colorbar": {
             "outlinewidth": 0,
             "ticks": ""
            },
            "colorscale": [
             [
              0,
              "#0d0887"
             ],
             [
              0.1111111111111111,
              "#46039f"
             ],
             [
              0.2222222222222222,
              "#7201a8"
             ],
             [
              0.3333333333333333,
              "#9c179e"
             ],
             [
              0.4444444444444444,
              "#bd3786"
             ],
             [
              0.5555555555555556,
              "#d8576b"
             ],
             [
              0.6666666666666666,
              "#ed7953"
             ],
             [
              0.7777777777777778,
              "#fb9f3a"
             ],
             [
              0.8888888888888888,
              "#fdca26"
             ],
             [
              1,
              "#f0f921"
             ]
            ],
            "type": "heatmapgl"
           }
          ],
          "histogram": [
           {
            "marker": {
             "colorbar": {
              "outlinewidth": 0,
              "ticks": ""
             }
            },
            "type": "histogram"
           }
          ],
          "histogram2d": [
           {
            "colorbar": {
             "outlinewidth": 0,
             "ticks": ""
            },
            "colorscale": [
             [
              0,
              "#0d0887"
             ],
             [
              0.1111111111111111,
              "#46039f"
             ],
             [
              0.2222222222222222,
              "#7201a8"
             ],
             [
              0.3333333333333333,
              "#9c179e"
             ],
             [
              0.4444444444444444,
              "#bd3786"
             ],
             [
              0.5555555555555556,
              "#d8576b"
             ],
             [
              0.6666666666666666,
              "#ed7953"
             ],
             [
              0.7777777777777778,
              "#fb9f3a"
             ],
             [
              0.8888888888888888,
              "#fdca26"
             ],
             [
              1,
              "#f0f921"
             ]
            ],
            "type": "histogram2d"
           }
          ],
          "histogram2dcontour": [
           {
            "colorbar": {
             "outlinewidth": 0,
             "ticks": ""
            },
            "colorscale": [
             [
              0,
              "#0d0887"
             ],
             [
              0.1111111111111111,
              "#46039f"
             ],
             [
              0.2222222222222222,
              "#7201a8"
             ],
             [
              0.3333333333333333,
              "#9c179e"
             ],
             [
              0.4444444444444444,
              "#bd3786"
             ],
             [
              0.5555555555555556,
              "#d8576b"
             ],
             [
              0.6666666666666666,
              "#ed7953"
             ],
             [
              0.7777777777777778,
              "#fb9f3a"
             ],
             [
              0.8888888888888888,
              "#fdca26"
             ],
             [
              1,
              "#f0f921"
             ]
            ],
            "type": "histogram2dcontour"
           }
          ],
          "mesh3d": [
           {
            "colorbar": {
             "outlinewidth": 0,
             "ticks": ""
            },
            "type": "mesh3d"
           }
          ],
          "parcoords": [
           {
            "line": {
             "colorbar": {
              "outlinewidth": 0,
              "ticks": ""
             }
            },
            "type": "parcoords"
           }
          ],
          "pie": [
           {
            "automargin": true,
            "type": "pie"
           }
          ],
          "scatter": [
           {
            "marker": {
             "colorbar": {
              "outlinewidth": 0,
              "ticks": ""
             }
            },
            "type": "scatter"
           }
          ],
          "scatter3d": [
           {
            "line": {
             "colorbar": {
              "outlinewidth": 0,
              "ticks": ""
             }
            },
            "marker": {
             "colorbar": {
              "outlinewidth": 0,
              "ticks": ""
             }
            },
            "type": "scatter3d"
           }
          ],
          "scattercarpet": [
           {
            "marker": {
             "colorbar": {
              "outlinewidth": 0,
              "ticks": ""
             }
            },
            "type": "scattercarpet"
           }
          ],
          "scattergeo": [
           {
            "marker": {
             "colorbar": {
              "outlinewidth": 0,
              "ticks": ""
             }
            },
            "type": "scattergeo"
           }
          ],
          "scattergl": [
           {
            "marker": {
             "colorbar": {
              "outlinewidth": 0,
              "ticks": ""
             }
            },
            "type": "scattergl"
           }
          ],
          "scattermapbox": [
           {
            "marker": {
             "colorbar": {
              "outlinewidth": 0,
              "ticks": ""
             }
            },
            "type": "scattermapbox"
           }
          ],
          "scatterpolar": [
           {
            "marker": {
             "colorbar": {
              "outlinewidth": 0,
              "ticks": ""
             }
            },
            "type": "scatterpolar"
           }
          ],
          "scatterpolargl": [
           {
            "marker": {
             "colorbar": {
              "outlinewidth": 0,
              "ticks": ""
             }
            },
            "type": "scatterpolargl"
           }
          ],
          "scatterternary": [
           {
            "marker": {
             "colorbar": {
              "outlinewidth": 0,
              "ticks": ""
             }
            },
            "type": "scatterternary"
           }
          ],
          "surface": [
           {
            "colorbar": {
             "outlinewidth": 0,
             "ticks": ""
            },
            "colorscale": [
             [
              0,
              "#0d0887"
             ],
             [
              0.1111111111111111,
              "#46039f"
             ],
             [
              0.2222222222222222,
              "#7201a8"
             ],
             [
              0.3333333333333333,
              "#9c179e"
             ],
             [
              0.4444444444444444,
              "#bd3786"
             ],
             [
              0.5555555555555556,
              "#d8576b"
             ],
             [
              0.6666666666666666,
              "#ed7953"
             ],
             [
              0.7777777777777778,
              "#fb9f3a"
             ],
             [
              0.8888888888888888,
              "#fdca26"
             ],
             [
              1,
              "#f0f921"
             ]
            ],
            "type": "surface"
           }
          ],
          "table": [
           {
            "cells": {
             "fill": {
              "color": "#EBF0F8"
             },
             "line": {
              "color": "white"
             }
            },
            "header": {
             "fill": {
              "color": "#C8D4E3"
             },
             "line": {
              "color": "white"
             }
            },
            "type": "table"
           }
          ]
         },
         "layout": {
          "annotationdefaults": {
           "arrowcolor": "#2a3f5f",
           "arrowhead": 0,
           "arrowwidth": 1
          },
          "coloraxis": {
           "colorbar": {
            "outlinewidth": 0,
            "ticks": ""
           }
          },
          "colorscale": {
           "diverging": [
            [
             0,
             "#8e0152"
            ],
            [
             0.1,
             "#c51b7d"
            ],
            [
             0.2,
             "#de77ae"
            ],
            [
             0.3,
             "#f1b6da"
            ],
            [
             0.4,
             "#fde0ef"
            ],
            [
             0.5,
             "#f7f7f7"
            ],
            [
             0.6,
             "#e6f5d0"
            ],
            [
             0.7,
             "#b8e186"
            ],
            [
             0.8,
             "#7fbc41"
            ],
            [
             0.9,
             "#4d9221"
            ],
            [
             1,
             "#276419"
            ]
           ],
           "sequential": [
            [
             0,
             "#0d0887"
            ],
            [
             0.1111111111111111,
             "#46039f"
            ],
            [
             0.2222222222222222,
             "#7201a8"
            ],
            [
             0.3333333333333333,
             "#9c179e"
            ],
            [
             0.4444444444444444,
             "#bd3786"
            ],
            [
             0.5555555555555556,
             "#d8576b"
            ],
            [
             0.6666666666666666,
             "#ed7953"
            ],
            [
             0.7777777777777778,
             "#fb9f3a"
            ],
            [
             0.8888888888888888,
             "#fdca26"
            ],
            [
             1,
             "#f0f921"
            ]
           ],
           "sequentialminus": [
            [
             0,
             "#0d0887"
            ],
            [
             0.1111111111111111,
             "#46039f"
            ],
            [
             0.2222222222222222,
             "#7201a8"
            ],
            [
             0.3333333333333333,
             "#9c179e"
            ],
            [
             0.4444444444444444,
             "#bd3786"
            ],
            [
             0.5555555555555556,
             "#d8576b"
            ],
            [
             0.6666666666666666,
             "#ed7953"
            ],
            [
             0.7777777777777778,
             "#fb9f3a"
            ],
            [
             0.8888888888888888,
             "#fdca26"
            ],
            [
             1,
             "#f0f921"
            ]
           ]
          },
          "colorway": [
           "#636efa",
           "#EF553B",
           "#00cc96",
           "#ab63fa",
           "#FFA15A",
           "#19d3f3",
           "#FF6692",
           "#B6E880",
           "#FF97FF",
           "#FECB52"
          ],
          "font": {
           "color": "#2a3f5f"
          },
          "geo": {
           "bgcolor": "white",
           "lakecolor": "white",
           "landcolor": "#E5ECF6",
           "showlakes": true,
           "showland": true,
           "subunitcolor": "white"
          },
          "hoverlabel": {
           "align": "left"
          },
          "hovermode": "closest",
          "mapbox": {
           "style": "light"
          },
          "paper_bgcolor": "white",
          "plot_bgcolor": "#E5ECF6",
          "polar": {
           "angularaxis": {
            "gridcolor": "white",
            "linecolor": "white",
            "ticks": ""
           },
           "bgcolor": "#E5ECF6",
           "radialaxis": {
            "gridcolor": "white",
            "linecolor": "white",
            "ticks": ""
           }
          },
          "scene": {
           "xaxis": {
            "backgroundcolor": "#E5ECF6",
            "gridcolor": "white",
            "gridwidth": 2,
            "linecolor": "white",
            "showbackground": true,
            "ticks": "",
            "zerolinecolor": "white"
           },
           "yaxis": {
            "backgroundcolor": "#E5ECF6",
            "gridcolor": "white",
            "gridwidth": 2,
            "linecolor": "white",
            "showbackground": true,
            "ticks": "",
            "zerolinecolor": "white"
           },
           "zaxis": {
            "backgroundcolor": "#E5ECF6",
            "gridcolor": "white",
            "gridwidth": 2,
            "linecolor": "white",
            "showbackground": true,
            "ticks": "",
            "zerolinecolor": "white"
           }
          },
          "shapedefaults": {
           "line": {
            "color": "#2a3f5f"
           }
          },
          "ternary": {
           "aaxis": {
            "gridcolor": "white",
            "linecolor": "white",
            "ticks": ""
           },
           "baxis": {
            "gridcolor": "white",
            "linecolor": "white",
            "ticks": ""
           },
           "bgcolor": "#E5ECF6",
           "caxis": {
            "gridcolor": "white",
            "linecolor": "white",
            "ticks": ""
           }
          },
          "title": {
           "x": 0.05
          },
          "xaxis": {
           "automargin": true,
           "gridcolor": "white",
           "linecolor": "white",
           "ticks": "",
           "title": {
            "standoff": 15
           },
           "zerolinecolor": "white",
           "zerolinewidth": 2
          },
          "yaxis": {
           "automargin": true,
           "gridcolor": "white",
           "linecolor": "white",
           "ticks": "",
           "title": {
            "standoff": 15
           },
           "zerolinecolor": "white",
           "zerolinewidth": 2
          }
         }
        }
       }
      }
     },
     "metadata": {}
    }
   ],
   "source": [
    "max_assigned_vector = gp.get_max_assigned_vector(base.assigned_vectors)\n",
    "range2, rp2 = gp.generateRanges4decision(base, max_assigned_vector)\n",
    "print(range2)\n",
    "print(rp2)\n",
    "visualize_2D_front_range(base.composite_front, range2, rp2)"
   ]
  },
  {
   "cell_type": "code",
   "execution_count": 20,
   "metadata": {
    "tags": []
   },
   "outputs": [
    {
     "output_type": "stream",
     "name": "stdout",
     "text": [
      "\nCompiled modules for significant speedup can not be used!\nhttps://pymoo.org/installation.html#installation\n\nTo disable this warning:\nfrom pymoo.configuration import Configuration\nConfiguration.show_compile_hint = False\n\nR-IGD: 0.30777688685185917, R-HV: 3.860946690589996\n"
     ]
    }
   ],
   "source": [
    "from pymoo.factory import get_problem\n",
    "from pymoo.performance_indicator.rmetric import RMetric\n",
    "#from rmetric import RMetric\n",
    "\n",
    "problemR = get_problem(\"zdt1\")\n",
    "ref_point = rp2.reshape(1, 2)\n",
    "#r_metric = RMetric(objectives, cf, rp2, p)\n",
    "rmetric = RMetric(problemR, ref_point)\n",
    "rigd, rhv = rmetric.calc(objectives, others = cf)\n",
    "print(f\"R-IGD: {rigd}, R-HV: {rhv}\")\n",
    "\n",
    "\n",
    "\n"
   ]
  },
  {
   "cell_type": "code",
   "execution_count": null,
   "metadata": {},
   "outputs": [],
   "source": []
  }
 ],
 "metadata": {
  "language_info": {
   "codemirror_mode": {
    "name": "ipython",
    "version": 3
   },
   "file_extension": ".py",
   "mimetype": "text/x-python",
   "name": "python",
   "nbconvert_exporter": "python",
   "pygments_lexer": "ipython3",
   "version": "3.7.7-final"
  },
  "orig_nbformat": 2,
  "kernelspec": {
   "name": "python37764bitadmemovenvba87035d4e134bef8511157905dc0de5",
   "display_name": "Python 3.7.7 64-bit ('adm-emo': venv)"
  }
 },
 "nbformat": 4,
 "nbformat_minor": 2
}