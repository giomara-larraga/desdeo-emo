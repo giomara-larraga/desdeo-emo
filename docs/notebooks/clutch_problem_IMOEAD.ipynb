{
 "cells": [
  {
   "cell_type": "markdown",
   "metadata": {},
   "source": [
    "# Clutch problem"
   ]
  },
  {
   "cell_type": "markdown",
   "metadata": {},
   "source": [
    "## Defining problem"
   ]
  },
  {
   "cell_type": "code",
   "execution_count": 14,
   "metadata": {},
   "outputs": [],
   "source": [
    "import numpy as np\n",
    "from desdeo_problem import ScalarConstraint\n",
    "from desdeo_problem import _ScalarObjective\n",
    "from desdeo_problem import variable_builder\n",
    "from desdeo_problem import MOProblem\n",
    "\n",
    "from desdeo_emo.EAs.IMOEAD import IMOEA_D"
   ]
  },
  {
   "cell_type": "code",
   "execution_count": 5,
   "metadata": {},
   "outputs": [],
   "source": [
    "# constants and variables\n",
    "\n",
    "mu = 0.5\n",
    "rho = 0.0000078\n",
    "Mf = 3\n",
    "n = 250\n",
    "Jz = 55\n",
    "w = np.pi * n / 30\n",
    "\n",
    "def Mh(x):\n",
    "    x = np.atleast_2d(x)\n",
    "    return (2 / 3) * mu * x[:, 5 - 2] * x[:, 6 - 2] * ((x[:, 3 - 2] ** 3 - x[:, 2 - 2] ** 3) / (x[:, 3 - 2] ** 2 - x[:, 2 - 2] ** 2)) * 0.001\n",
    "\n",
    "def th(x):\n",
    "    x = np.atleast_2d(x)\n",
    "    return Jz * w / (Mh(x) + Mf)"
   ]
  },
  {
   "cell_type": "code",
   "execution_count": 7,
   "metadata": {},
   "outputs": [],
   "source": [
    "# objectives\n",
    "\n",
    "def f_1(x):\n",
    "    x = np.atleast_2d(x)\n",
    "    return np.pi * (x[:, 3 - 2]**2 - x[:, 2 - 2]**2) * x[:, 4 - 2] * (x[:, 6 - 2] + 1) * rho\n",
    "\n",
    "def f_2(x):\n",
    "    return th(x)\n",
    "\n",
    "def f_3(x):\n",
    "    x = np.atleast_2d(x)\n",
    "    return x[:, 6 - 2]\n",
    "\n",
    "def f_4(x):\n",
    "    x = np.atleast_2d(x)\n",
    "    return x[:, 3 - 2]\n",
    "\n",
    "def f_5(x):\n",
    "    x = np.atleast_2d(x)\n",
    "    return x[:, 5 - 2]\n",
    "\n",
    "obj1 = _ScalarObjective(\"obj1\", f_1, maximize=True)\n",
    "obj2 = _ScalarObjective(\"obj2\", f_2, maximize=True)\n",
    "obj3 = _ScalarObjective(\"obj3\", f_3)\n",
    "obj4 = _ScalarObjective(\"obj4\", f_4, maximize=True)\n",
    "obj5 = _ScalarObjective(\"obj5\", f_5, maximize=True)"
   ]
  },
  {
   "cell_type": "code",
   "execution_count": 8,
   "metadata": {},
   "outputs": [],
   "source": [
    "# decision variables\n",
    "\n",
    "var_names = [\"x1\", \"x2\", \"x3\", \"x4\", \"x5\"]  # Make sure that the variable names are meaningful to you.\n",
    "\n",
    "initial_values = np.array([70, 100, 2, 800, 5])\n",
    "lower_bounds = [60, 90, 1, 600, 1]\n",
    "upper_bounds = [80, 110, 3, 1000, 10]\n",
    "bounds = np.stack((lower_bounds, upper_bounds))\n",
    "variables = variable_builder(var_names, initial_values, upper_bounds=upper_bounds, lower_bounds=lower_bounds)"
   ]
  },
  {
   "cell_type": "code",
   "execution_count": 9,
   "metadata": {},
   "outputs": [],
   "source": [
    "# constraints\n",
    "\n",
    "Rimin = 60 \n",
    "Romax = 110 \n",
    "Amin = 1.5 \n",
    "deltaR = 20 \n",
    "Amax = 3 \n",
    "delta = 0.5 \n",
    "Lmax = 30 \n",
    "Zmax = 10\n",
    "Vsrmax = 10000\n",
    "# mu = 0.5\n",
    "# rho = 0.0000078\n",
    "s = 1.5 \n",
    "Ms = 40 \n",
    "# Mf = 3\n",
    "# n = 250\n",
    "Pmax = 1   # 10 \n",
    "# Jz = 55\n",
    "tmax = 15 \n",
    "Fmax = 1000 \n",
    "\n",
    "def S(x):\n",
    "    x = np.atleast_2d(x)\n",
    "    return np.pi * (x[:, 3 - 2]**2 - x[:, 2 - 2]**2)\n",
    "\n",
    "def Prz(x):\n",
    "    x = np.atleast_2d(x)\n",
    "    return x[:, 5 - 2] / S(x)\n",
    "\n",
    "def Rsr(x):\n",
    "    x = np.atleast_2d(x)\n",
    "    return (2 / 3) * ((x[:, 3 - 2]**3 - x[:, 2 - 2]**3) / (x[:, 3 - 2]**2 - x[:, 2 - 2]**2))\n",
    "\n",
    "def Vsr(x):\n",
    "    x = np.atleast_2d(x)\n",
    "    return (np.pi * Rsr(x) * n) / 30\n",
    "\n",
    "# w = pi * n / 30\n",
    "# Mh = (2 / 3) * mu * x(5 - 1) * x(6 - 1) * ((x(3 - 1) ** 3 - x(2 - 1) ** 3) / (x(3 - 1) ** 2 - x(2 - 1) ** 2)) * 0.001\n",
    "\n",
    "# c(1) = -x(2 - 1) + Rimin\n",
    "# c(2) = -Romax + x(3 - 1)\n",
    "def c_1(x, _):\n",
    "    x = np.atleast_2d(x)\n",
    "    return -(x[:, 3 - 2] - x[:, 2 - 2]) + deltaR\n",
    " # c(4) = -x(4 - 1) + Amin \n",
    " # c(5) = -Amax + x(4 - 1)\n",
    "\n",
    "def c_2(x, _):\n",
    "    x = np.atleast_2d(x)\n",
    "    return -Lmax + (x[:, 6 - 2] + 1) * (x[:, 4 - 2] + delta)\n",
    "\n",
    "# c(3) = -Zmax + (x(6 - 1) + 1)\n",
    "# c(8) = -x(6 - 1) + 1\n",
    "\n",
    "def c_3(x, _):\n",
    "    return -Pmax + Prz(x)\n",
    "\n",
    "def c_4(x, _):\n",
    "    return -Pmax * Vsrmax + Prz(x) * Vsr(x)\n",
    "\n",
    "def c_5(x, _):\n",
    "    return -Vsrmax + Vsr(x)\n",
    "\n",
    "def c_6(x, _):\n",
    "    return -tmax + th(x)\n",
    "\n",
    "def c_7(x, _):\n",
    "    return -Mh(x) + s * Ms\n",
    "\n",
    "def c_8(x, _):\n",
    "    return -th(x)\n",
    "\n",
    "# c(15) = -x(5 - 1)\n",
    "# c(16) = -Fmax + x(5 - 1)\n",
    "\n",
    "cons1 = ScalarConstraint(\"c_1\", 5, 5, c_1)\n",
    "cons2 = ScalarConstraint(\"c_2\", 5, 5, c_2)\n",
    "cons3 = ScalarConstraint(\"c_3\", 5, 5, c_3)\n",
    "cons4 = ScalarConstraint(\"c_4\", 5, 5, c_4)\n",
    "cons5 = ScalarConstraint(\"c_5\", 5, 5, c_5)\n",
    "cons6 = ScalarConstraint(\"c_6\", 5, 5, c_6)\n",
    "cons7 = ScalarConstraint(\"c_7\", 5, 5, c_7)\n",
    "cons8 = ScalarConstraint(\"c_8\", 5, 5, c_8)"
   ]
  },
  {
   "cell_type": "code",
   "execution_count": 15,
   "metadata": {},
   "outputs": [
    {
     "ename": "AttributeError",
     "evalue": "'NoneType' object has no attribute 'content'",
     "output_type": "error",
     "traceback": [
      "\u001b[0;31m---------------------------------------------------------------------------\u001b[0m",
      "\u001b[0;31mAttributeError\u001b[0m                            Traceback (most recent call last)",
      "\u001b[0;32m/tmp/ipykernel_51480/3229460706.py\u001b[0m in \u001b[0;36m<module>\u001b[0;34m\u001b[0m\n\u001b[1;32m      6\u001b[0m \u001b[0mplot\u001b[0m\u001b[0;34m,\u001b[0m \u001b[0mpref\u001b[0m \u001b[0;34m=\u001b[0m \u001b[0mevolver\u001b[0m\u001b[0;34m.\u001b[0m\u001b[0mrequests\u001b[0m\u001b[0;34m(\u001b[0m\u001b[0;34m)\u001b[0m\u001b[0;34m\u001b[0m\u001b[0;34m\u001b[0m\u001b[0m\n\u001b[1;32m      7\u001b[0m \u001b[0;34m\u001b[0m\u001b[0m\n\u001b[0;32m----> 8\u001b[0;31m \u001b[0mprint\u001b[0m\u001b[0;34m(\u001b[0m\u001b[0mplot\u001b[0m\u001b[0;34m.\u001b[0m\u001b[0mcontent\u001b[0m\u001b[0;34m[\u001b[0m\u001b[0;34m\"dimensions_data\"\u001b[0m\u001b[0;34m]\u001b[0m\u001b[0;34m)\u001b[0m\u001b[0;34m\u001b[0m\u001b[0;34m\u001b[0m\u001b[0m\n\u001b[0m\u001b[1;32m      9\u001b[0m \u001b[0;34m\u001b[0m\u001b[0m\n\u001b[1;32m     10\u001b[0m \u001b[0mprint\u001b[0m\u001b[0;34m(\u001b[0m\u001b[0mpref\u001b[0m\u001b[0;34m[\u001b[0m\u001b[0;36m0\u001b[0m\u001b[0;34m]\u001b[0m\u001b[0;34m.\u001b[0m\u001b[0mcontent\u001b[0m\u001b[0;34m[\u001b[0m\u001b[0;34m'message'\u001b[0m\u001b[0;34m]\u001b[0m\u001b[0;34m)\u001b[0m\u001b[0;34m\u001b[0m\u001b[0;34m\u001b[0m\u001b[0m\n",
      "\u001b[0;31mAttributeError\u001b[0m: 'NoneType' object has no attribute 'content'"
     ]
    }
   ],
   "source": [
    "# problem\n",
    "problem = MOProblem(objectives=[obj1, obj2, obj3, obj4, obj5], variables=variables, constraints=[cons1, cons2, cons3, cons4,\n",
    "                                                                                         cons5, cons6, cons7, cons8])\n",
    "evolver = IMOEA_D(problem, n_iterations=1, n_gen_per_iter=300)\n",
    "\n",
    "plot, pref = evolver.requests()\n",
    "\n",
    "print(plot.content[\"dimensions_data\"])\n",
    "\n",
    "print(pref[0].content['message'])"
   ]
  },
  {
   "cell_type": "code",
   "execution_count": null,
   "metadata": {},
   "outputs": [],
   "source": []
  }
 ],
 "metadata": {
  "interpreter": {
   "hash": "796e248dbba97177bf474f91d7be21586af217bd17b0e3aa75eae13fd60d84a5"
  },
  "kernelspec": {
   "display_name": "desdeo-emo",
   "language": "python",
   "name": "python3"
  },
  "language_info": {
   "codemirror_mode": {
    "name": "ipython",
    "version": 3
   },
   "file_extension": ".py",
   "mimetype": "text/x-python",
   "name": "python",
   "nbconvert_exporter": "python",
   "pygments_lexer": "ipython3",
   "version": "3.8.10"
  }
 },
 "nbformat": 4,
 "nbformat_minor": 4
}
