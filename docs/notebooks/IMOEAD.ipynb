{
 "cells": [
  {
   "cell_type": "markdown",
   "metadata": {},
   "source": [
    "# Interactive MOEA/D"
   ]
  },
  {
   "cell_type": "code",
   "execution_count": 17,
   "metadata": {},
   "outputs": [
    {
     "data": {
      "text/html": [
       "<style>.container { width:100% !important; }</style>"
      ],
      "text/plain": [
       "<IPython.core.display.HTML object>"
      ]
     },
     "metadata": {},
     "output_type": "display_data"
    }
   ],
   "source": [
    "from IPython.core.display import display, HTML\n",
    "display(HTML(\"<style>.container { width:100% !important; }</style>\"))"
   ]
  },
  {
   "cell_type": "code",
   "execution_count": 18,
   "metadata": {},
   "outputs": [],
   "source": [
    "import plotly.graph_objects as go\n",
    "import numpy as np\n",
    "import pandas as pd\n",
    "from IPython import display\n",
    "\n",
    "from desdeo_problem import variable_builder, ScalarObjective, MOProblem\n",
    "from desdeo_problem.testproblems.TestProblems import test_problem_builder\n",
    "\n",
    "from desdeo_emo.EAs.NSGAIII import NSGAIII\n",
    "from desdeo_emo.EAs.RVEA import RVEA\n",
    "from desdeo_emo.EAs.MOEAD import MOEA_D\n",
    "from desdeo_emo.EAs.IMOEAD import IMOEA_D\n",
    "from desdeo_emo.utilities.plotlyanimate import animate_init_, animate_next_\n",
    "from desdeo_tools.utilities import distance_to_reference_point"
   ]
  },
  {
   "cell_type": "markdown",
   "metadata": {},
   "source": [
    "## Generate the initial population with MOEA/D"
   ]
  },
  {
   "cell_type": "markdown",
   "metadata": {},
   "source": [
    "First define the test problem"
   ]
  },
  {
   "cell_type": "code",
   "execution_count": 19,
   "metadata": {},
   "outputs": [],
   "source": [
    "problem = test_problem_builder(name=\"DTLZ1\", n_of_variables=7, n_of_objectives=3)"
   ]
  },
  {
   "cell_type": "code",
   "execution_count": 20,
   "metadata": {},
   "outputs": [],
   "source": [
    "evolver = MOEA_D(problem, n_iterations=1, n_gen_per_iter=300)"
   ]
  },
  {
   "cell_type": "code",
   "execution_count": 5,
   "metadata": {},
   "outputs": [
    {
     "name": "stdout",
     "output_type": "stream",
     "text": [
      "Continue\n",
      "Continue\n",
      "Continue\n",
      "Continue\n",
      "Continue\n",
      "Continue\n",
      "Continue\n",
      "Continue\n",
      "Continue\n",
      "Continue\n",
      "Continue\n",
      "Continue\n",
      "Continue\n",
      "Continue\n",
      "Continue\n",
      "Continue\n",
      "Continue\n",
      "Continue\n",
      "Continue\n",
      "Continue\n",
      "Continue\n",
      "Continue\n",
      "Continue\n",
      "Continue\n",
      "Continue\n",
      "Continue\n",
      "Continue\n",
      "Continue\n",
      "Continue\n",
      "Continue\n",
      "Continue\n",
      "Continue\n",
      "Continue\n",
      "Continue\n",
      "Continue\n",
      "Continue\n",
      "Continue\n",
      "Continue\n",
      "Continue\n",
      "Continue\n",
      "Continue\n",
      "Continue\n",
      "Continue\n",
      "Continue\n",
      "Continue\n",
      "Continue\n",
      "Continue\n",
      "Continue\n",
      "Continue\n",
      "Continue\n",
      "Continue\n",
      "Continue\n",
      "Continue\n",
      "Continue\n",
      "Continue\n",
      "Continue\n",
      "Continue\n",
      "Continue\n",
      "Continue\n",
      "Continue\n",
      "Continue\n",
      "Continue\n",
      "Continue\n",
      "Continue\n",
      "Continue\n",
      "Continue\n",
      "Continue\n",
      "Continue\n",
      "Continue\n",
      "Continue\n",
      "Continue\n",
      "Continue\n",
      "Continue\n",
      "Continue\n",
      "Continue\n",
      "Continue\n",
      "Continue\n",
      "Continue\n",
      "Continue\n",
      "Continue\n",
      "Continue\n",
      "Continue\n",
      "Continue\n",
      "Continue\n",
      "Continue\n",
      "Continue\n",
      "Continue\n",
      "Continue\n",
      "Continue\n",
      "Continue\n",
      "Continue\n",
      "Continue\n",
      "Continue\n",
      "Continue\n",
      "Continue\n",
      "Continue\n",
      "Continue\n",
      "Continue\n",
      "Continue\n",
      "Continue\n",
      "Continue\n",
      "Continue\n",
      "Continue\n",
      "Continue\n",
      "Continue\n",
      "Continue\n",
      "Continue\n",
      "Continue\n",
      "Continue\n",
      "Continue\n",
      "Continue\n",
      "Continue\n",
      "Continue\n",
      "Continue\n",
      "Continue\n",
      "Continue\n",
      "Continue\n",
      "Continue\n",
      "Continue\n",
      "Continue\n",
      "Continue\n",
      "Continue\n",
      "Continue\n",
      "Continue\n",
      "Continue\n",
      "Continue\n",
      "Continue\n",
      "Continue\n",
      "Continue\n",
      "Continue\n",
      "Continue\n",
      "Continue\n",
      "Continue\n",
      "Continue\n",
      "Continue\n",
      "Continue\n",
      "Continue\n",
      "Continue\n",
      "Continue\n",
      "Continue\n",
      "Continue\n",
      "Continue\n",
      "Continue\n",
      "Continue\n",
      "Continue\n",
      "Continue\n",
      "Continue\n",
      "Continue\n",
      "Continue\n",
      "Continue\n",
      "Continue\n",
      "Continue\n",
      "Continue\n",
      "Continue\n",
      "Continue\n",
      "Continue\n",
      "Continue\n",
      "Continue\n",
      "Continue\n",
      "Continue\n",
      "Continue\n",
      "Continue\n",
      "Continue\n",
      "Continue\n",
      "Continue\n",
      "Continue\n",
      "Continue\n",
      "Continue\n",
      "Continue\n",
      "Continue\n",
      "Continue\n",
      "Continue\n",
      "Continue\n",
      "Continue\n",
      "Continue\n",
      "Continue\n",
      "Continue\n",
      "Continue\n",
      "Continue\n",
      "Continue\n",
      "Continue\n",
      "Continue\n",
      "Continue\n",
      "Continue\n",
      "Continue\n",
      "Continue\n",
      "Continue\n",
      "Continue\n",
      "Continue\n",
      "Continue\n",
      "Continue\n",
      "Continue\n",
      "Continue\n",
      "Continue\n",
      "Continue\n",
      "Continue\n",
      "Continue\n",
      "Continue\n",
      "Continue\n",
      "Continue\n",
      "Continue\n",
      "Continue\n",
      "Continue\n",
      "Continue\n",
      "Continue\n",
      "Ideal point [0. 0. 0.]\n"
     ]
    },
    {
     "data": {
      "application/vnd.plotly.v1+json": {
       "config": {
        "plotlyServerURL": "https://plot.ly"
       },
       "data": [
        {
         "marker": {
          "size": 1
         },
         "mode": "markers",
         "type": "scatter3d",
         "x": [
          0,
          0,
          0.0006906035676348494,
          0,
          0,
          0.00012422834217996206,
          0.0006648825734515322,
          0.00027971117086751234,
          0,
          0,
          0.00008079169907383878,
          0,
          7.820443754918114e-7,
          0,
          0.03888173952571888,
          0.03890593807721276,
          0.03845589031074433,
          0.03886687535089891,
          0.03864440219566725,
          0.038250479713291985,
          0.03843067292903953,
          0.03885263321162046,
          0.03827361802421207,
          0.038733311486264056,
          0.038289582624940297,
          0.039001240398398224,
          0.04120585348292563,
          0.0770801844714046,
          0.07752564989070307,
          0.07707151144401687,
          0.07765931789426042,
          0.07686312968069764,
          0.07729834185760899,
          0.07729064873377008,
          0.0772547170005732,
          0.0768748783917952,
          0.07726837137741718,
          0.0770608044636947,
          0.07740431964146689,
          0.11570312937147868,
          0.11630802188396416,
          0.11653931596744847,
          0.11563021800722113,
          0.11577211984092164,
          0.11616966353234609,
          0.11580395183436464,
          0.11524895260997471,
          0.11575077701632226,
          0.11549726102419591,
          0.11619301035317023,
          0.15513290492726914,
          0.15524089949391226,
          0.15507799003766917,
          0.15524506317128073,
          0.15378061314736993,
          0.1544843503294982,
          0.15468057469861737,
          0.1541471949649803,
          0.15493479233084445,
          0.15414052011004398,
          0.19307757465629596,
          0.19245774845257638,
          0.19309040630775326,
          0.1929785821118844,
          0.19373616719640238,
          0.19258879362294598,
          0.19384482822352564,
          0.19212884962292895,
          0.19271114403272857,
          0.2328737808584962,
          0.23208971354950975,
          0.2336910165865107,
          0.23131240389426377,
          0.23225431737524344,
          0.23261592971991243,
          0.23112154206539437,
          0.23123225977863107,
          0.271177116551645,
          0.27258225285083476,
          0.27128775865552285,
          0.2711326384874088,
          0.2711080897901878,
          0.26978373475674616,
          0.27274419468313604,
          0.3099224565580673,
          0.3081732239307056,
          0.30960549355468636,
          0.3098873570741323,
          0.3097920789423881,
          0.3096995650094417,
          0.34872780326953107,
          0.34830824582271647,
          0.3484681548721445,
          0.3468948277138706,
          0.34869980253586086,
          0.38523558784251316,
          0.38714415647716255,
          0.3852172797655051,
          0.3846854786176494,
          0.42327717006078147,
          0.4233686168223479,
          0.4234673516478687,
          0.4623489956347197,
          0.462088947338537,
          0.500953561209019
         ],
         "y": [
          0.00012401332557699166,
          0.03874159513273201,
          0.07798674822513196,
          0.11578197434496218,
          0.1543762247743293,
          0.19370351028080557,
          0.2312202182777873,
          0.26991439419027413,
          0.30815162684682706,
          0.34692103217681597,
          0.3855267653964482,
          0.42408398206537123,
          0.46284509078530434,
          0.5010030066112332,
          0,
          0.03852143532516721,
          0.07731331588115006,
          0.11551288542565172,
          0.15442559751622506,
          0.19322002693067755,
          0.23171574963515254,
          0.26954573325604547,
          0.30824825580623333,
          0.3470581012016247,
          0.38560962247317404,
          0.42404536647333835,
          0.4623935326362318,
          0,
          0.03955624519728505,
          0.07743759597601882,
          0.11551513470238572,
          0.1540110898334338,
          0.19263112449149294,
          0.23158341770273005,
          0.2702576188572094,
          0.3085317611086856,
          0.34869017429972043,
          0.3850537169756105,
          0.42659115778300083,
          0,
          0.03856802914206764,
          0.07768067464983275,
          0.11574406652977959,
          0.15418919941037348,
          0.19368332140873415,
          0.23184920442877485,
          0.2699464799638362,
          0.3083666677227992,
          0.34670952350228407,
          0.3845764074987056,
          0,
          0.0383058724487475,
          0.07751336129980675,
          0.11686452877997759,
          0.15410966709515872,
          0.19259946805307201,
          0.23110938253283658,
          0.2698336932434398,
          0.3095145864630917,
          0.3468385180322019,
          0.00022447982619889324,
          0.039543227505792033,
          0.07661091552458081,
          0.11564231499940304,
          0.15504731685450698,
          0.1926521281286484,
          0.2323533611381177,
          0.27038271558524285,
          0.3083446168096735,
          0,
          0.03913529531786012,
          0.0779406242021211,
          0.11607079651295325,
          0.15483676228154727,
          0.19365289297366012,
          0.2312682871319644,
          0.26985006849575105,
          0.00004214839977675598,
          0.039230644900384165,
          0.07785382842547868,
          0.11615049231827561,
          0.15486529403229418,
          0.19278827737074392,
          0.23379991166667785,
          0,
          0.03910518986313683,
          0.0775703008431885,
          0.11610156188839735,
          0.15481401759672725,
          0.19362362022022278,
          0,
          0.03887269154181551,
          0.07747552609412289,
          0.11554716118749832,
          0.1548995481848124,
          0,
          0.03869123014913004,
          0.07687442022160494,
          0.11630694865480337,
          0.0001314326680887464,
          0.039423511549249037,
          0.07702768420967013,
          0,
          0.03829885350732459,
          0
         ],
         "z": [
          0.5012932747916011,
          0.46268225471658153,
          0.42521458814786994,
          0.38587436717222445,
          0.34705578537475346,
          0.30987455829232335,
          0.2693841582865095,
          0.23131837589731719,
          0.1932003443907128,
          0.1541974888341073,
          0.11573533155178235,
          0.07697413364270345,
          0.03833520827212887,
          0,
          0.46532296651296073,
          0.4262728419202529,
          0.3858558248480591,
          0.3471599984968217,
          0.3079104183589694,
          0.2696924528587734,
          0.23117947736952085,
          0.19263635882080757,
          0.15459451381206255,
          0.1153447835293108,
          0.07716863529510636,
          0.03806077100073027,
          0,
          0.4244256381947545,
          0.3843130469670337,
          0.3470381344862055,
          0.3084431148813611,
          0.2702211176625616,
          0.2311181242869144,
          0.19217468474828442,
          0.15406241782442714,
          0.11586632542259054,
          0.07768492506663728,
          0.03891743865314052,
          0,
          0.3859276821081129,
          0.34867769445145963,
          0.31060441783984577,
          0.27018103069640287,
          0.23113032705192446,
          0.19354568120636695,
          0.15435171895070626,
          0.11582201509790307,
          0.07694714959139176,
          0.038747443213722,
          0,
          0.34883341355500447,
          0.3103511730089543,
          0.2710769691430562,
          0.23295845451270464,
          0.19360791188480736,
          0.15437371737875868,
          0.11534479993819789,
          0.07715897584548047,
          0.03896510081667219,
          0,
          0.30821010818529904,
          0.2695501578248269,
          0.23157680543360162,
          0.1927113224821543,
          0.15486276507425714,
          0.11571264182881368,
          0.07747405166308918,
          0.0386650617165209,
          0.000019820124778186552,
          0.2713481229670669,
          0.23242636527380825,
          0.19456974462366486,
          0.1543354605571279,
          0.11629093600952935,
          0.07734177729319718,
          0.03863881277166653,
          0,
          0.23242145720761553,
          0.19441337688629187,
          0.15511636992518027,
          0.11620774791054357,
          0.07764118655341627,
          0.038615987691650984,
          0.000002590783300171141,
          0.1937912642282463,
          0.15447359586124468,
          0.1163204947453484,
          0.07762099092430731,
          0.03891597514927349,
          0,
          0.15493225516799577,
          0.11632203844355757,
          0.07763783612068059,
          0.03881242327294296,
          0,
          0.11562621678550304,
          0.07759439581580667,
          0.03882411993136884,
          0.00038761012466122897,
          0.07746477228135383,
          0.038228871903706114,
          0.000938114943250403,
          0.03880125543687137,
          0.0006549111475093268,
          0.00008954029690749107
         ]
        }
       ],
       "layout": {
        "template": {
         "data": {
          "bar": [
           {
            "error_x": {
             "color": "#2a3f5f"
            },
            "error_y": {
             "color": "#2a3f5f"
            },
            "marker": {
             "line": {
              "color": "#E5ECF6",
              "width": 0.5
             }
            },
            "type": "bar"
           }
          ],
          "barpolar": [
           {
            "marker": {
             "line": {
              "color": "#E5ECF6",
              "width": 0.5
             }
            },
            "type": "barpolar"
           }
          ],
          "carpet": [
           {
            "aaxis": {
             "endlinecolor": "#2a3f5f",
             "gridcolor": "white",
             "linecolor": "white",
             "minorgridcolor": "white",
             "startlinecolor": "#2a3f5f"
            },
            "baxis": {
             "endlinecolor": "#2a3f5f",
             "gridcolor": "white",
             "linecolor": "white",
             "minorgridcolor": "white",
             "startlinecolor": "#2a3f5f"
            },
            "type": "carpet"
           }
          ],
          "choropleth": [
           {
            "colorbar": {
             "outlinewidth": 0,
             "ticks": ""
            },
            "type": "choropleth"
           }
          ],
          "contour": [
           {
            "colorbar": {
             "outlinewidth": 0,
             "ticks": ""
            },
            "colorscale": [
             [
              0,
              "#0d0887"
             ],
             [
              0.1111111111111111,
              "#46039f"
             ],
             [
              0.2222222222222222,
              "#7201a8"
             ],
             [
              0.3333333333333333,
              "#9c179e"
             ],
             [
              0.4444444444444444,
              "#bd3786"
             ],
             [
              0.5555555555555556,
              "#d8576b"
             ],
             [
              0.6666666666666666,
              "#ed7953"
             ],
             [
              0.7777777777777778,
              "#fb9f3a"
             ],
             [
              0.8888888888888888,
              "#fdca26"
             ],
             [
              1,
              "#f0f921"
             ]
            ],
            "type": "contour"
           }
          ],
          "contourcarpet": [
           {
            "colorbar": {
             "outlinewidth": 0,
             "ticks": ""
            },
            "type": "contourcarpet"
           }
          ],
          "heatmap": [
           {
            "colorbar": {
             "outlinewidth": 0,
             "ticks": ""
            },
            "colorscale": [
             [
              0,
              "#0d0887"
             ],
             [
              0.1111111111111111,
              "#46039f"
             ],
             [
              0.2222222222222222,
              "#7201a8"
             ],
             [
              0.3333333333333333,
              "#9c179e"
             ],
             [
              0.4444444444444444,
              "#bd3786"
             ],
             [
              0.5555555555555556,
              "#d8576b"
             ],
             [
              0.6666666666666666,
              "#ed7953"
             ],
             [
              0.7777777777777778,
              "#fb9f3a"
             ],
             [
              0.8888888888888888,
              "#fdca26"
             ],
             [
              1,
              "#f0f921"
             ]
            ],
            "type": "heatmap"
           }
          ],
          "heatmapgl": [
           {
            "colorbar": {
             "outlinewidth": 0,
             "ticks": ""
            },
            "colorscale": [
             [
              0,
              "#0d0887"
             ],
             [
              0.1111111111111111,
              "#46039f"
             ],
             [
              0.2222222222222222,
              "#7201a8"
             ],
             [
              0.3333333333333333,
              "#9c179e"
             ],
             [
              0.4444444444444444,
              "#bd3786"
             ],
             [
              0.5555555555555556,
              "#d8576b"
             ],
             [
              0.6666666666666666,
              "#ed7953"
             ],
             [
              0.7777777777777778,
              "#fb9f3a"
             ],
             [
              0.8888888888888888,
              "#fdca26"
             ],
             [
              1,
              "#f0f921"
             ]
            ],
            "type": "heatmapgl"
           }
          ],
          "histogram": [
           {
            "marker": {
             "colorbar": {
              "outlinewidth": 0,
              "ticks": ""
             }
            },
            "type": "histogram"
           }
          ],
          "histogram2d": [
           {
            "colorbar": {
             "outlinewidth": 0,
             "ticks": ""
            },
            "colorscale": [
             [
              0,
              "#0d0887"
             ],
             [
              0.1111111111111111,
              "#46039f"
             ],
             [
              0.2222222222222222,
              "#7201a8"
             ],
             [
              0.3333333333333333,
              "#9c179e"
             ],
             [
              0.4444444444444444,
              "#bd3786"
             ],
             [
              0.5555555555555556,
              "#d8576b"
             ],
             [
              0.6666666666666666,
              "#ed7953"
             ],
             [
              0.7777777777777778,
              "#fb9f3a"
             ],
             [
              0.8888888888888888,
              "#fdca26"
             ],
             [
              1,
              "#f0f921"
             ]
            ],
            "type": "histogram2d"
           }
          ],
          "histogram2dcontour": [
           {
            "colorbar": {
             "outlinewidth": 0,
             "ticks": ""
            },
            "colorscale": [
             [
              0,
              "#0d0887"
             ],
             [
              0.1111111111111111,
              "#46039f"
             ],
             [
              0.2222222222222222,
              "#7201a8"
             ],
             [
              0.3333333333333333,
              "#9c179e"
             ],
             [
              0.4444444444444444,
              "#bd3786"
             ],
             [
              0.5555555555555556,
              "#d8576b"
             ],
             [
              0.6666666666666666,
              "#ed7953"
             ],
             [
              0.7777777777777778,
              "#fb9f3a"
             ],
             [
              0.8888888888888888,
              "#fdca26"
             ],
             [
              1,
              "#f0f921"
             ]
            ],
            "type": "histogram2dcontour"
           }
          ],
          "mesh3d": [
           {
            "colorbar": {
             "outlinewidth": 0,
             "ticks": ""
            },
            "type": "mesh3d"
           }
          ],
          "parcoords": [
           {
            "line": {
             "colorbar": {
              "outlinewidth": 0,
              "ticks": ""
             }
            },
            "type": "parcoords"
           }
          ],
          "pie": [
           {
            "automargin": true,
            "type": "pie"
           }
          ],
          "scatter": [
           {
            "marker": {
             "colorbar": {
              "outlinewidth": 0,
              "ticks": ""
             }
            },
            "type": "scatter"
           }
          ],
          "scatter3d": [
           {
            "line": {
             "colorbar": {
              "outlinewidth": 0,
              "ticks": ""
             }
            },
            "marker": {
             "colorbar": {
              "outlinewidth": 0,
              "ticks": ""
             }
            },
            "type": "scatter3d"
           }
          ],
          "scattercarpet": [
           {
            "marker": {
             "colorbar": {
              "outlinewidth": 0,
              "ticks": ""
             }
            },
            "type": "scattercarpet"
           }
          ],
          "scattergeo": [
           {
            "marker": {
             "colorbar": {
              "outlinewidth": 0,
              "ticks": ""
             }
            },
            "type": "scattergeo"
           }
          ],
          "scattergl": [
           {
            "marker": {
             "colorbar": {
              "outlinewidth": 0,
              "ticks": ""
             }
            },
            "type": "scattergl"
           }
          ],
          "scattermapbox": [
           {
            "marker": {
             "colorbar": {
              "outlinewidth": 0,
              "ticks": ""
             }
            },
            "type": "scattermapbox"
           }
          ],
          "scatterpolar": [
           {
            "marker": {
             "colorbar": {
              "outlinewidth": 0,
              "ticks": ""
             }
            },
            "type": "scatterpolar"
           }
          ],
          "scatterpolargl": [
           {
            "marker": {
             "colorbar": {
              "outlinewidth": 0,
              "ticks": ""
             }
            },
            "type": "scatterpolargl"
           }
          ],
          "scatterternary": [
           {
            "marker": {
             "colorbar": {
              "outlinewidth": 0,
              "ticks": ""
             }
            },
            "type": "scatterternary"
           }
          ],
          "surface": [
           {
            "colorbar": {
             "outlinewidth": 0,
             "ticks": ""
            },
            "colorscale": [
             [
              0,
              "#0d0887"
             ],
             [
              0.1111111111111111,
              "#46039f"
             ],
             [
              0.2222222222222222,
              "#7201a8"
             ],
             [
              0.3333333333333333,
              "#9c179e"
             ],
             [
              0.4444444444444444,
              "#bd3786"
             ],
             [
              0.5555555555555556,
              "#d8576b"
             ],
             [
              0.6666666666666666,
              "#ed7953"
             ],
             [
              0.7777777777777778,
              "#fb9f3a"
             ],
             [
              0.8888888888888888,
              "#fdca26"
             ],
             [
              1,
              "#f0f921"
             ]
            ],
            "type": "surface"
           }
          ],
          "table": [
           {
            "cells": {
             "fill": {
              "color": "#EBF0F8"
             },
             "line": {
              "color": "white"
             }
            },
            "header": {
             "fill": {
              "color": "#C8D4E3"
             },
             "line": {
              "color": "white"
             }
            },
            "type": "table"
           }
          ]
         },
         "layout": {
          "annotationdefaults": {
           "arrowcolor": "#2a3f5f",
           "arrowhead": 0,
           "arrowwidth": 1
          },
          "autotypenumbers": "strict",
          "coloraxis": {
           "colorbar": {
            "outlinewidth": 0,
            "ticks": ""
           }
          },
          "colorscale": {
           "diverging": [
            [
             0,
             "#8e0152"
            ],
            [
             0.1,
             "#c51b7d"
            ],
            [
             0.2,
             "#de77ae"
            ],
            [
             0.3,
             "#f1b6da"
            ],
            [
             0.4,
             "#fde0ef"
            ],
            [
             0.5,
             "#f7f7f7"
            ],
            [
             0.6,
             "#e6f5d0"
            ],
            [
             0.7,
             "#b8e186"
            ],
            [
             0.8,
             "#7fbc41"
            ],
            [
             0.9,
             "#4d9221"
            ],
            [
             1,
             "#276419"
            ]
           ],
           "sequential": [
            [
             0,
             "#0d0887"
            ],
            [
             0.1111111111111111,
             "#46039f"
            ],
            [
             0.2222222222222222,
             "#7201a8"
            ],
            [
             0.3333333333333333,
             "#9c179e"
            ],
            [
             0.4444444444444444,
             "#bd3786"
            ],
            [
             0.5555555555555556,
             "#d8576b"
            ],
            [
             0.6666666666666666,
             "#ed7953"
            ],
            [
             0.7777777777777778,
             "#fb9f3a"
            ],
            [
             0.8888888888888888,
             "#fdca26"
            ],
            [
             1,
             "#f0f921"
            ]
           ],
           "sequentialminus": [
            [
             0,
             "#0d0887"
            ],
            [
             0.1111111111111111,
             "#46039f"
            ],
            [
             0.2222222222222222,
             "#7201a8"
            ],
            [
             0.3333333333333333,
             "#9c179e"
            ],
            [
             0.4444444444444444,
             "#bd3786"
            ],
            [
             0.5555555555555556,
             "#d8576b"
            ],
            [
             0.6666666666666666,
             "#ed7953"
            ],
            [
             0.7777777777777778,
             "#fb9f3a"
            ],
            [
             0.8888888888888888,
             "#fdca26"
            ],
            [
             1,
             "#f0f921"
            ]
           ]
          },
          "colorway": [
           "#636efa",
           "#EF553B",
           "#00cc96",
           "#ab63fa",
           "#FFA15A",
           "#19d3f3",
           "#FF6692",
           "#B6E880",
           "#FF97FF",
           "#FECB52"
          ],
          "font": {
           "color": "#2a3f5f"
          },
          "geo": {
           "bgcolor": "white",
           "lakecolor": "white",
           "landcolor": "#E5ECF6",
           "showlakes": true,
           "showland": true,
           "subunitcolor": "white"
          },
          "hoverlabel": {
           "align": "left"
          },
          "hovermode": "closest",
          "mapbox": {
           "style": "light"
          },
          "paper_bgcolor": "white",
          "plot_bgcolor": "#E5ECF6",
          "polar": {
           "angularaxis": {
            "gridcolor": "white",
            "linecolor": "white",
            "ticks": ""
           },
           "bgcolor": "#E5ECF6",
           "radialaxis": {
            "gridcolor": "white",
            "linecolor": "white",
            "ticks": ""
           }
          },
          "scene": {
           "xaxis": {
            "backgroundcolor": "#E5ECF6",
            "gridcolor": "white",
            "gridwidth": 2,
            "linecolor": "white",
            "showbackground": true,
            "ticks": "",
            "zerolinecolor": "white"
           },
           "yaxis": {
            "backgroundcolor": "#E5ECF6",
            "gridcolor": "white",
            "gridwidth": 2,
            "linecolor": "white",
            "showbackground": true,
            "ticks": "",
            "zerolinecolor": "white"
           },
           "zaxis": {
            "backgroundcolor": "#E5ECF6",
            "gridcolor": "white",
            "gridwidth": 2,
            "linecolor": "white",
            "showbackground": true,
            "ticks": "",
            "zerolinecolor": "white"
           }
          },
          "shapedefaults": {
           "line": {
            "color": "#2a3f5f"
           }
          },
          "ternary": {
           "aaxis": {
            "gridcolor": "white",
            "linecolor": "white",
            "ticks": ""
           },
           "baxis": {
            "gridcolor": "white",
            "linecolor": "white",
            "ticks": ""
           },
           "bgcolor": "#E5ECF6",
           "caxis": {
            "gridcolor": "white",
            "linecolor": "white",
            "ticks": ""
           }
          },
          "title": {
           "x": 0.05
          },
          "xaxis": {
           "automargin": true,
           "gridcolor": "white",
           "linecolor": "white",
           "ticks": "",
           "title": {
            "standoff": 15
           },
           "zerolinecolor": "white",
           "zerolinewidth": 2
          },
          "yaxis": {
           "automargin": true,
           "gridcolor": "white",
           "linecolor": "white",
           "ticks": "",
           "title": {
            "standoff": 15
           },
           "zerolinecolor": "white",
           "zerolinewidth": 2
          }
         }
        }
       }
      }
     },
     "metadata": {},
     "output_type": "display_data"
    }
   ],
   "source": [
    "while evolver.continue_evolution():\n",
    "    evolver.iterate()\n",
    "\n",
    "individuals, objective_values = evolver.end()\n",
    "\n",
    "fig2 = go.Figure(data=go.Scatter3d(x=objective_values[:,0],\n",
    "                                   y=objective_values[:,1],\n",
    "                                   z=objective_values[:,2],\n",
    "                                   mode=\"markers\",\n",
    "                                   marker_size=1))\n",
    "print(\"Ideal point\",evolver.population.problem.ideal)\n",
    "fig2\n",
    "\n"
   ]
  },
  {
   "cell_type": "code",
   "execution_count": 6,
   "metadata": {},
   "outputs": [
    {
     "name": "stdout",
     "output_type": "stream",
     "text": [
      "Please provide preferences. There is four ways to do this. You can either:\n",
      "\n",
      "\t1: Select preferred solution(s)\n",
      "\t2: Select non-preferred solution(s)\n",
      "\t3: Specify a reference point worse than or equal to the ideal point\n",
      "\t4: Specify desired ranges for objectives.\n",
      "\n",
      "In case you choose \n",
      "\n",
      "1, please specify index/indices of preferred solutions in a numpy array (indexing starts from 0).\n",
      "For example: \n",
      "\tnumpy.array([1]), for choosing the solutions with index 1.\n",
      "\tnumpy.array([2, 4, 5, 16]), for choosing the solutions with indices 2, 4, 5, and 16.\n",
      "\n",
      "2, please specify index/indices of non-preferred solutions in a numpy array (indexing starts from 0).\n",
      "For example: \n",
      "\tnumpy.array([3]), for choosing the solutions with index 3.\n",
      "\tnumpy.array([1, 2]), for choosing the solutions with indices 1 and 2.\n",
      "\n",
      "3, please provide a reference point worse than or equal to the ideal point:\n",
      "\n",
      "f1    0\n",
      "f2    0\n",
      "f3    0\n",
      "Name: ideal, dtype: object\n",
      "The reference point will be used to focus the reference vectors towards the preferred region.\n",
      "If a reference point is not provided, the previous state of the reference vectors is used.\n",
      "If the reference point is the same as the ideal point, the reference vectors are spread uniformly in the objective space.\n",
      "\n",
      "4, please specify desired lower and upper bound for each objective, starting from \n",
      "the first objective and ending with the last one. Please specify the bounds as a numpy array containing \n",
      "lists, so that the first item of list is the lower bound and the second the upper bound, for each \n",
      "objective. \n",
      "\tFor example: numpy.array([[1, 2], [2, 5], [0, 3.5]]), for problem with three objectives.\n",
      "Ideal vector: \n",
      "f1    0\n",
      "f2    0\n",
      "f3    0\n",
      "Name: ideal, dtype: object\n",
      "Nadir vector: \n",
      "f1    inf\n",
      "f2    inf\n",
      "f3    inf\n",
      "Name: nadir, dtype: object.\n"
     ]
    }
   ],
   "source": [
    "#keep the population to utilize in the interactive version\n",
    "\n",
    "ini_pop = evolver.population\n",
    "show_solutions = 10\n",
    "pref_evolver= IMOEA_D(problem, interact=True, initial_population = ini_pop, n_iterations = 10, n_gen_per_iter = 100, total_function_evaluations=200000)\n",
    "\n",
    "\n",
    "#ask for preference\n",
    "pref,plot = pref_evolver.requests()\n",
    "print(pref[0].content['message'])"
   ]
  },
  {
   "cell_type": "markdown",
   "metadata": {},
   "source": [
    "### Loop over the following three cells, updating the preferences as desired\n",
    "\n",
    "Try changing the preference once the Pareto front has been reached.\n",
    "Note the format of providing the preference.\n",
    "Check out the content of pref and plot"
   ]
  },
  {
   "cell_type": "code",
   "execution_count": 7,
   "metadata": {},
   "outputs": [
    {
     "name": "stdout",
     "output_type": "stream",
     "text": [
      "Please provide preferences. There is four ways to do this. You can either:\n",
      "\n",
      "\t1: Select preferred solution(s)\n",
      "\t2: Select non-preferred solution(s)\n",
      "\t3: Specify a reference point worse than or equal to the ideal point\n",
      "\t4: Specify desired ranges for objectives.\n",
      "\n",
      "In case you choose \n",
      "\n",
      "1, please specify index/indices of preferred solutions in a numpy array (indexing starts from 0).\n",
      "For example: \n",
      "\tnumpy.array([1]), for choosing the solutions with index 1.\n",
      "\tnumpy.array([2, 4, 5, 16]), for choosing the solutions with indices 2, 4, 5, and 16.\n",
      "\n",
      "2, please specify index/indices of non-preferred solutions in a numpy array (indexing starts from 0).\n",
      "For example: \n",
      "\tnumpy.array([3]), for choosing the solutions with index 3.\n",
      "\tnumpy.array([1, 2]), for choosing the solutions with indices 1 and 2.\n",
      "\n",
      "3, please provide a reference point worse than or equal to the ideal point:\n",
      "\n",
      "f1    0\n",
      "f2    0\n",
      "f3    0\n",
      "Name: ideal, dtype: object\n",
      "The reference point will be used to focus the reference vectors towards the preferred region.\n",
      "If a reference point is not provided, the previous state of the reference vectors is used.\n",
      "If the reference point is the same as the ideal point, the reference vectors are spread uniformly in the objective space.\n",
      "\n",
      "4, please specify desired lower and upper bound for each objective, starting from \n",
      "the first objective and ending with the last one. Please specify the bounds as a numpy array containing \n",
      "lists, so that the first item of list is the lower bound and the second the upper bound, for each \n",
      "objective. \n",
      "\tFor example: numpy.array([[1, 2], [2, 5], [0, 3.5]]), for problem with three objectives.\n",
      "Ideal vector: \n",
      "f1    0\n",
      "f2    0\n",
      "f3    0\n",
      "Name: ideal, dtype: object\n",
      "Nadir vector: \n",
      "f1    inf\n",
      "f2    inf\n",
      "f3    inf\n",
      "Name: nadir, dtype: object.\n"
     ]
    }
   ],
   "source": [
    "print(pref[0].content['message'])"
   ]
  },
  {
   "cell_type": "code",
   "execution_count": 8,
   "metadata": {},
   "outputs": [],
   "source": [
    "response = [0.1,0.1,0.1]\n",
    "pref_evolver.predefined_distance = 0.4\n",
    "pref[2].response = pd.DataFrame([response], columns=pref[2].content['dimensions_data'].columns)"
   ]
  },
  {
   "cell_type": "code",
   "execution_count": 9,
   "metadata": {},
   "outputs": [
    {
     "name": "stdout",
     "output_type": "stream",
     "text": [
      "preferencias desde MOEA/D\n",
      "reference point\n",
      "[[1.00000000e+00 1.00000000e-05 1.00000000e-05]\n",
      " [9.23076923e-01 7.69230769e-02 1.00000000e-05]\n",
      " [8.46153846e-01 1.53846154e-01 1.00000000e-05]\n",
      " [7.69230769e-01 2.30769231e-01 1.00000000e-05]\n",
      " [6.92307692e-01 3.07692308e-01 1.00000000e-05]\n",
      " [6.15384615e-01 3.84615385e-01 1.00000000e-05]\n",
      " [5.38461538e-01 4.61538462e-01 1.00000000e-05]\n",
      " [4.61538462e-01 5.38461538e-01 1.00000000e-05]\n",
      " [3.84615385e-01 6.15384615e-01 1.00000000e-05]\n",
      " [3.07692308e-01 6.92307692e-01 1.00000000e-05]\n",
      " [2.30769231e-01 7.69230769e-01 1.00000000e-05]\n",
      " [1.53846154e-01 8.46153846e-01 1.00000000e-05]\n",
      " [7.69230769e-02 9.23076923e-01 1.00000000e-05]\n",
      " [1.00000000e-05 1.00000000e+00 1.00000000e-05]\n",
      " [9.23076923e-01 1.00000000e-05 7.69230769e-02]\n",
      " [8.46153846e-01 7.69230769e-02 7.69230769e-02]\n",
      " [7.69230769e-01 1.53846154e-01 7.69230769e-02]\n",
      " [6.92307692e-01 2.30769231e-01 7.69230769e-02]\n",
      " [6.15384615e-01 3.07692308e-01 7.69230769e-02]\n",
      " [5.38461538e-01 3.84615385e-01 7.69230769e-02]\n",
      " [4.61538462e-01 4.61538462e-01 7.69230769e-02]\n",
      " [3.84615385e-01 5.38461538e-01 7.69230769e-02]\n",
      " [3.07692308e-01 6.15384615e-01 7.69230769e-02]\n",
      " [2.30769231e-01 6.92307692e-01 7.69230769e-02]\n",
      " [1.53846154e-01 7.69230769e-01 7.69230769e-02]\n",
      " [7.69230769e-02 8.46153846e-01 7.69230769e-02]\n",
      " [1.00000000e-05 9.23076923e-01 7.69230769e-02]\n",
      " [8.46153846e-01 1.00000000e-05 1.53846154e-01]\n",
      " [7.69230769e-01 7.69230769e-02 1.53846154e-01]\n",
      " [6.92307692e-01 1.53846154e-01 1.53846154e-01]\n",
      " [6.15384615e-01 2.30769231e-01 1.53846154e-01]\n",
      " [5.38461538e-01 3.07692308e-01 1.53846154e-01]\n",
      " [4.61538462e-01 3.84615385e-01 1.53846154e-01]\n",
      " [3.84615385e-01 4.61538462e-01 1.53846154e-01]\n",
      " [3.07692308e-01 5.38461538e-01 1.53846154e-01]\n",
      " [2.30769231e-01 6.15384615e-01 1.53846154e-01]\n",
      " [1.53846154e-01 6.92307692e-01 1.53846154e-01]\n",
      " [7.69230769e-02 7.69230769e-01 1.53846154e-01]\n",
      " [1.00000000e-05 8.46153846e-01 1.53846154e-01]\n",
      " [7.69230769e-01 1.00000000e-05 2.30769231e-01]\n",
      " [6.92307692e-01 7.69230769e-02 2.30769231e-01]\n",
      " [6.15384615e-01 1.53846154e-01 2.30769231e-01]\n",
      " [5.38461538e-01 2.30769231e-01 2.30769231e-01]\n",
      " [4.61538462e-01 3.07692308e-01 2.30769231e-01]\n",
      " [3.84615385e-01 3.84615385e-01 2.30769231e-01]\n",
      " [3.07692308e-01 4.61538462e-01 2.30769231e-01]\n",
      " [2.30769231e-01 5.38461538e-01 2.30769231e-01]\n",
      " [1.53846154e-01 6.15384615e-01 2.30769231e-01]\n",
      " [7.69230769e-02 6.92307692e-01 2.30769231e-01]\n",
      " [1.00000000e-05 7.69230769e-01 2.30769231e-01]\n",
      " [6.92307692e-01 1.00000000e-05 3.07692308e-01]\n",
      " [6.15384615e-01 7.69230769e-02 3.07692308e-01]\n",
      " [5.38461538e-01 1.53846154e-01 3.07692308e-01]\n",
      " [4.61538462e-01 2.30769231e-01 3.07692308e-01]\n",
      " [3.84615385e-01 3.07692308e-01 3.07692308e-01]\n",
      " [3.07692308e-01 3.84615385e-01 3.07692308e-01]\n",
      " [2.30769231e-01 4.61538462e-01 3.07692308e-01]\n",
      " [1.53846154e-01 5.38461538e-01 3.07692308e-01]\n",
      " [7.69230769e-02 6.15384615e-01 3.07692308e-01]\n",
      " [1.00000000e-05 6.92307692e-01 3.07692308e-01]\n",
      " [6.15384615e-01 1.00000000e-05 3.84615385e-01]\n",
      " [5.38461538e-01 7.69230769e-02 3.84615385e-01]\n",
      " [4.61538462e-01 1.53846154e-01 3.84615385e-01]\n",
      " [3.84615385e-01 2.30769231e-01 3.84615385e-01]\n",
      " [3.07692308e-01 3.07692308e-01 3.84615385e-01]\n",
      " [2.30769231e-01 3.84615385e-01 3.84615385e-01]\n",
      " [1.53846154e-01 4.61538462e-01 3.84615385e-01]\n",
      " [7.69230769e-02 5.38461538e-01 3.84615385e-01]\n",
      " [1.00000000e-05 6.15384615e-01 3.84615385e-01]\n",
      " [5.38461538e-01 1.00000000e-05 4.61538462e-01]\n",
      " [4.61538462e-01 7.69230769e-02 4.61538462e-01]\n",
      " [3.84615385e-01 1.53846154e-01 4.61538462e-01]\n",
      " [3.07692308e-01 2.30769231e-01 4.61538462e-01]\n",
      " [2.30769231e-01 3.07692308e-01 4.61538462e-01]\n",
      " [1.53846154e-01 3.84615385e-01 4.61538462e-01]\n",
      " [7.69230769e-02 4.61538462e-01 4.61538462e-01]\n",
      " [1.00000000e-05 5.38461538e-01 4.61538462e-01]\n",
      " [4.61538462e-01 1.00000000e-05 5.38461538e-01]\n",
      " [3.84615385e-01 7.69230769e-02 5.38461538e-01]\n",
      " [3.07692308e-01 1.53846154e-01 5.38461538e-01]\n",
      " [2.30769231e-01 2.30769231e-01 5.38461538e-01]\n",
      " [1.53846154e-01 3.07692308e-01 5.38461538e-01]\n",
      " [7.69230769e-02 3.84615385e-01 5.38461538e-01]\n",
      " [1.00000000e-05 4.61538462e-01 5.38461538e-01]\n",
      " [3.84615385e-01 1.00000000e-05 6.15384615e-01]\n",
      " [3.07692308e-01 7.69230769e-02 6.15384615e-01]\n",
      " [2.30769231e-01 1.53846154e-01 6.15384615e-01]\n",
      " [1.53846154e-01 2.30769231e-01 6.15384615e-01]\n",
      " [7.69230769e-02 3.07692308e-01 6.15384615e-01]\n",
      " [1.00000000e-05 3.84615385e-01 6.15384615e-01]\n",
      " [3.07692308e-01 1.00000000e-05 6.92307692e-01]\n",
      " [2.30769231e-01 7.69230769e-02 6.92307692e-01]\n",
      " [1.53846154e-01 1.53846154e-01 6.92307692e-01]\n",
      " [7.69230769e-02 2.30769231e-01 6.92307692e-01]\n",
      " [1.00000000e-05 3.07692308e-01 6.92307692e-01]\n",
      " [2.30769231e-01 1.00000000e-05 7.69230769e-01]\n",
      " [1.53846154e-01 7.69230769e-02 7.69230769e-01]\n",
      " [7.69230769e-02 1.53846154e-01 7.69230769e-01]\n",
      " [1.00000000e-05 2.30769231e-01 7.69230769e-01]\n",
      " [1.53846154e-01 1.00000000e-05 8.46153846e-01]\n",
      " [7.69230769e-02 7.69230769e-02 8.46153846e-01]\n",
      " [1.00000000e-05 1.53846154e-01 8.46153846e-01]\n",
      " [7.69230769e-02 1.00000000e-05 9.23076923e-01]\n",
      " [1.00000000e-05 7.69230769e-02 9.23076923e-01]\n",
      " [1.00000000e-05 1.00000000e-05 1.00000000e+00]]\n",
      "Continue\n",
      "Continue\n",
      "Continue\n",
      "Continue\n",
      "Continue\n",
      "Continue\n",
      "Continue\n",
      "Continue\n",
      "Continue\n",
      "Continue\n",
      "Continue\n",
      "Continue\n",
      "Continue\n",
      "Continue\n",
      "Continue\n",
      "Continue\n",
      "Continue\n",
      "Continue\n",
      "Continue\n",
      "Continue\n",
      "Continue\n",
      "Continue\n",
      "Continue\n",
      "Continue\n",
      "Continue\n",
      "Continue\n",
      "Continue\n",
      "Continue\n",
      "Continue\n",
      "Continue\n",
      "Continue\n",
      "Continue\n",
      "Continue\n",
      "Continue\n",
      "Continue\n",
      "Continue\n",
      "Continue\n",
      "Continue\n",
      "Continue\n",
      "Continue\n",
      "Continue\n",
      "Continue\n",
      "Continue\n",
      "Continue\n",
      "Continue\n",
      "Continue\n",
      "Continue\n",
      "Continue\n",
      "Continue\n",
      "Continue\n",
      "Continue\n",
      "Continue\n",
      "Continue\n",
      "Continue\n",
      "Continue\n",
      "Continue\n",
      "Continue\n",
      "Continue\n",
      "Continue\n",
      "Continue\n",
      "Continue\n",
      "Continue\n",
      "Continue\n",
      "Continue\n",
      "Continue\n",
      "Continue\n",
      "Continue\n",
      "Continue\n",
      "Continue\n",
      "Continue\n",
      "Continue\n",
      "Continue\n",
      "Continue\n",
      "Continue\n",
      "Continue\n",
      "Continue\n",
      "Continue\n",
      "Continue\n",
      "Continue\n",
      "Continue\n",
      "Continue\n",
      "Continue\n",
      "Continue\n",
      "Continue\n",
      "Continue\n",
      "Continue\n",
      "Continue\n",
      "Continue\n",
      "Continue\n",
      "Continue\n",
      "Continue\n",
      "Continue\n",
      "Continue\n",
      "Continue\n",
      "Continue\n",
      "Continue\n",
      "Continue\n",
      "Continue\n",
      "Continue\n",
      "Continue\n",
      "Distance of best solution to the reference point: 0.07402938873361123\n",
      "Values of best solution to the reference point: [0.16335142 0.16331397 0.17402939]\n",
      "Current generation number:300. Is looping back recommended: No\n",
      "105\n",
      "[[  0  27   4 ...  94  92  64]\n",
      " [  1  74  32 ...  59  33  40]\n",
      " [  2  25  48 ...  61  98  42]\n",
      " ...\n",
      " [102  88   9 ...  52  54  97]\n",
      " [103  40  47 ...  39  27  66]\n",
      " [104  95  17 ...  11  43  33]]\n"
     ]
    }
   ],
   "source": [
    "pref, plot = pref_evolver.iterate(pref[2])\n",
    "\n",
    "# show the best solution closest to the reference point\n",
    "obj = pref_evolver.population.objectives\n",
    "\n",
    "# achievement function\n",
    "dist, index = distance_to_reference_point(obj, response[0])\n",
    "\n",
    "print(f\"Distance of best solution to the reference point: {dist}\")\n",
    "print(f\"Values of best solution to the reference point: {obj[index]}\")\n",
    "\n",
    "message = (f\"Current generation number:{evolver._current_gen_count}. \"\n",
    "           f\"Is looping back recommended: {'Yes' if evolver.continue_evolution() else 'No'}\")\n",
    "print(message)\n",
    "print(pref_evolver.reference_vectors.number_of_vectors)\n",
    "print(pref_evolver.neighborhoods)"
   ]
  },
  {
   "cell_type": "code",
   "execution_count": 10,
   "metadata": {},
   "outputs": [
    {
     "data": {
      "application/vnd.plotly.v1+json": {
       "config": {
        "plotlyServerURL": "https://plot.ly"
       },
       "data": [
        {
         "mode": "markers",
         "type": "scatter3d",
         "x": [
          0,
          0,
          0.0006906035676348494,
          0,
          0,
          0.00012422834217996206,
          0.0006648825734515322,
          0.00027971117086751234,
          0,
          0,
          0.00008079169907383878,
          0,
          7.820443754918114e-7,
          0,
          0.03888173952571888,
          0.03890593807721276,
          0.03845589031074433,
          0.03886687535089891,
          0.03864440219566725,
          0.038250479713291985,
          0.03843067292903953,
          0.03885263321162046,
          0.03827361802421207,
          0.038733311486264056,
          0.038289582624940297,
          0.039001240398398224,
          0.04120585348292563,
          0.0770801844714046,
          0.07752564989070307,
          0.07707151144401687,
          0.07765931789426042,
          0.07686312968069764,
          0.07729834185760899,
          0.07729064873377008,
          0.0772547170005732,
          0.0768748783917952,
          0.07726837137741718,
          0.0770608044636947,
          0.07740431964146689,
          0.11570312937147868,
          0.11630802188396416,
          0.11653931596744847,
          0.11563021800722113,
          0.11577211984092164,
          0.11616966353234609,
          0.11580395183436464,
          0.11524895260997471,
          0.11575077701632226,
          0.11549726102419591,
          0.11619301035317023,
          0.15513290492726914,
          0.15524089949391226,
          0.15507799003766917,
          0.15524506317128073,
          0.15378061314736993,
          0.1544843503294982,
          0.15468057469861737,
          0.1541471949649803,
          0.15493479233084445,
          0.15414052011004398,
          0.19307757465629596,
          0.19245774845257638,
          0.19309040630775326,
          0.1929785821118844,
          0.19373616719640238,
          0.19258879362294598,
          0.19384482822352564,
          0.19212884962292895,
          0.19271114403272857,
          0.2328737808584962,
          0.23208971354950975,
          0.2336910165865107,
          0.23131240389426377,
          0.23225431737524344,
          0.23261592971991243,
          0.23112154206539437,
          0.23123225977863107,
          0.271177116551645,
          0.27258225285083476,
          0.27128775865552285,
          0.2711326384874088,
          0.2711080897901878,
          0.26978373475674616,
          0.27274419468313604,
          0.3099224565580673,
          0.3081732239307056,
          0.30960549355468636,
          0.3098873570741323,
          0.3097920789423881,
          0.3096995650094417,
          0.34872780326953107,
          0.34830824582271647,
          0.3484681548721445,
          0.3468948277138706,
          0.34869980253586086,
          0.38523558784251316,
          0.38714415647716255,
          0.3852172797655051,
          0.3846854786176494,
          0.42327717006078147,
          0.4233686168223479,
          0.4234673516478687,
          0.4623489956347197,
          0.462088947338537,
          0.500953561209019
         ],
         "y": [
          0.00012401332557699166,
          0.03874159513273201,
          0.07798674822513196,
          0.11578197434496218,
          0.1543762247743293,
          0.19370351028080557,
          0.2312202182777873,
          0.26991439419027413,
          0.30815162684682706,
          0.34692103217681597,
          0.3855267653964482,
          0.42408398206537123,
          0.46284509078530434,
          0.5010030066112332,
          0,
          0.03852143532516721,
          0.07731331588115006,
          0.11551288542565172,
          0.15442559751622506,
          0.19322002693067755,
          0.23171574963515254,
          0.26954573325604547,
          0.30824825580623333,
          0.3470581012016247,
          0.38560962247317404,
          0.42404536647333835,
          0.4623935326362318,
          0,
          0.03955624519728505,
          0.07743759597601882,
          0.11551513470238572,
          0.1540110898334338,
          0.19263112449149294,
          0.23158341770273005,
          0.2702576188572094,
          0.3085317611086856,
          0.34869017429972043,
          0.3850537169756105,
          0.42659115778300083,
          0,
          0.03856802914206764,
          0.07768067464983275,
          0.11574406652977959,
          0.15418919941037348,
          0.19368332140873415,
          0.23184920442877485,
          0.2699464799638362,
          0.3083666677227992,
          0.34670952350228407,
          0.3845764074987056,
          0,
          0.0383058724487475,
          0.07751336129980675,
          0.11686452877997759,
          0.15410966709515872,
          0.19259946805307201,
          0.23110938253283658,
          0.2698336932434398,
          0.3095145864630917,
          0.3468385180322019,
          0.00022447982619889324,
          0.039543227505792033,
          0.07661091552458081,
          0.11564231499940304,
          0.15504731685450698,
          0.1926521281286484,
          0.2323533611381177,
          0.27038271558524285,
          0.3083446168096735,
          0,
          0.03913529531786012,
          0.0779406242021211,
          0.11607079651295325,
          0.15483676228154727,
          0.19365289297366012,
          0.2312682871319644,
          0.26985006849575105,
          0.00004214839977675598,
          0.039230644900384165,
          0.07785382842547868,
          0.11615049231827561,
          0.15486529403229418,
          0.19278827737074392,
          0.23379991166667785,
          0,
          0.03910518986313683,
          0.0775703008431885,
          0.11610156188839735,
          0.15481401759672725,
          0.19362362022022278,
          0,
          0.03887269154181551,
          0.07747552609412289,
          0.11554716118749832,
          0.1548995481848124,
          0,
          0.03869123014913004,
          0.07687442022160494,
          0.11630694865480337,
          0.0001314326680887464,
          0.039423511549249037,
          0.07702768420967013,
          0,
          0.03829885350732459,
          0
         ],
         "z": [
          0.5012932747916011,
          0.46268225471658153,
          0.42521458814786994,
          0.38587436717222445,
          0.34705578537475346,
          0.30987455829232335,
          0.2693841582865095,
          0.23131837589731719,
          0.1932003443907128,
          0.1541974888341073,
          0.11573533155178235,
          0.07697413364270345,
          0.03833520827212887,
          0,
          0.46532296651296073,
          0.4262728419202529,
          0.3858558248480591,
          0.3471599984968217,
          0.3079104183589694,
          0.2696924528587734,
          0.23117947736952085,
          0.19263635882080757,
          0.15459451381206255,
          0.1153447835293108,
          0.07716863529510636,
          0.03806077100073027,
          0,
          0.4244256381947545,
          0.3843130469670337,
          0.3470381344862055,
          0.3084431148813611,
          0.2702211176625616,
          0.2311181242869144,
          0.19217468474828442,
          0.15406241782442714,
          0.11586632542259054,
          0.07768492506663728,
          0.03891743865314052,
          0,
          0.3859276821081129,
          0.34867769445145963,
          0.31060441783984577,
          0.27018103069640287,
          0.23113032705192446,
          0.19354568120636695,
          0.15435171895070626,
          0.11582201509790307,
          0.07694714959139176,
          0.038747443213722,
          0,
          0.34883341355500447,
          0.3103511730089543,
          0.2710769691430562,
          0.23295845451270464,
          0.19360791188480736,
          0.15437371737875868,
          0.11534479993819789,
          0.07715897584548047,
          0.03896510081667219,
          0,
          0.30821010818529904,
          0.2695501578248269,
          0.23157680543360162,
          0.1927113224821543,
          0.15486276507425714,
          0.11571264182881368,
          0.07747405166308918,
          0.0386650617165209,
          0.000019820124778186552,
          0.2713481229670669,
          0.23242636527380825,
          0.19456974462366486,
          0.1543354605571279,
          0.11629093600952935,
          0.07734177729319718,
          0.03863881277166653,
          0,
          0.23242145720761553,
          0.19441337688629187,
          0.15511636992518027,
          0.11620774791054357,
          0.07764118655341627,
          0.038615987691650984,
          0.000002590783300171141,
          0.1937912642282463,
          0.15447359586124468,
          0.1163204947453484,
          0.07762099092430731,
          0.03891597514927349,
          0,
          0.15493225516799577,
          0.11632203844355757,
          0.07763783612068059,
          0.03881242327294296,
          0,
          0.11562621678550304,
          0.07759439581580667,
          0.03882411993136884,
          0.00038761012466122897,
          0.07746477228135383,
          0.038228871903706114,
          0.000938114943250403,
          0.03880125543687137,
          0.0006549111475093268,
          0.00008954029690749107
         ]
        },
        {
         "mode": "markers",
         "type": "scatter3d",
         "x": [
          0.16321918634310634,
          0.13121576844757576,
          0.18483768713045126,
          0.23755142509105098,
          0.17429287121155915,
          0.1418420380467458,
          0.2588620234233001,
          0.15283525112532065,
          0.24620267040577176,
          0.1195768648266618,
          0.12024218911459214,
          0.16319833472569728,
          0.13128432548269905,
          0.15280024628234357,
          0.20634619288176817,
          0.14205216187126213,
          0.17386382935948255,
          0.1311724804615163,
          0.1526306015150924,
          0.19562952061876085,
          0.1853175889398088,
          0.1524945434021974,
          0.1417839194548457,
          0.12057688220087052,
          0.1956448633403685,
          0.17418941104124117,
          0.16342365947323442,
          0.1633514232903745,
          0.14198714183514136,
          0.1312917724213891,
          0.17403502249178376,
          0.19526248750127176,
          0.11998141431533724,
          0.12031915814042816,
          0.1526887683015451,
          0.19566263930242042,
          0.2171598695574139,
          0.2061928448337585,
          0.13196359193355608,
          0.12039542465852916,
          0.12104139467707371,
          0.1526861170582269,
          0.19544575673838147,
          0.1419339207773788,
          0.1626035217279506,
          0.18352795803228864,
          0.12425130459111565,
          0.12062707672866431,
          0.17408487586951366,
          0.17402593550249407,
          0.15255005354366866,
          0.23709351225781797,
          0.16340198736303604,
          0.17329548216230378,
          0.13142113566387637,
          0.13137896509981578,
          0.15253089671657383,
          0.21685648820153122,
          0.2273788167684285,
          0.1414393230438952,
          0.1737185014922883,
          0.20727352576754565,
          0.15274924459731223,
          0.1632607770507606,
          0.18391515061538616,
          0.17392010537739394,
          0.163182193019947,
          0.13123189590424678,
          0.1847823050042511,
          0.11622961959481032,
          0.13099378156278582,
          0.20511686616011637,
          0.2068173603631,
          0.13113624215523875,
          0.12052579145992369,
          0.15276631389851786,
          0.21719471047881697,
          0.1524764660915913,
          0.20694738257317877,
          0.2379954522676982,
          0.2266608729629646,
          0.16347651747220668,
          0.1845610884916335,
          0.16344767789190237,
          0.18486367727768319,
          0.1420786756776301,
          0.1957926530256801,
          0.19574884906504741,
          0.13121556623813602,
          0.21577433466335583,
          0.22749935577377756,
          0.2280557302867354,
          0.14264498534890677,
          0.24890105618650674,
          0.14198626257966562,
          0.141630565357301,
          0.1419802668349947,
          0.11878668239137205,
          0.18517282893153195,
          0.21690795562716877,
          0.12029642618770453,
          0.13123036770067345,
          0.12007161942985062,
          0.13161589780532568,
          0.14201816641261159
         ],
         "y": [
          0.15277759415922293,
          0.15257930147711907,
          0.16324768759223598,
          0.13184098234846156,
          0.15269205718830411,
          0.2169422689497789,
          0.12118344747031949,
          0.17416628061565637,
          0.12324589844438327,
          0.2502429835820877,
          0.17446009235728693,
          0.14217407027537263,
          0.12048159254018934,
          0.20631821442788045,
          0.15238799497850689,
          0.19544290012167964,
          0.1314697311630998,
          0.14218976725085922,
          0.1955963205615605,
          0.15226554753399654,
          0.1950183645635279,
          0.12052522441058441,
          0.18458170870096394,
          0.22773532087194995,
          0.14186840122545402,
          0.16327326304561143,
          0.21683229455650657,
          0.1633139715731581,
          0.2377829182790532,
          0.21683715449636812,
          0.20615287369821989,
          0.1315124536251613,
          0.16388059653827694,
          0.13137551309963738,
          0.14197903282227234,
          0.16319041834263398,
          0.1631316738942377,
          0.1740204691697713,
          0.19448571654563532,
          0.21731895776790086,
          0.18473327495280314,
          0.15264511074956433,
          0.18472922932695687,
          0.16331157501095994,
          0.18543460450184282,
          0.1324511299598762,
          0.23510461960267884,
          0.1953874432708002,
          0.1739930783749545,
          0.18480242874289887,
          0.13124806939918154,
          0.14353657519698268,
          0.20619563172570768,
          0.195937871549081,
          0.2058949323970353,
          0.17401338452160292,
          0.2277460736240203,
          0.1205946938593196,
          0.12054590963066224,
          0.12094840447042851,
          0.1422084816260224,
          0.16418673278431964,
          0.21696899954597024,
          0.13130656755061063,
          0.12133356212634559,
          0.12038780034362494,
          0.1740952166591834,
          0.16327876893297966,
          0.1740966940958246,
          0.1243046157804646,
          0.22797204086623557,
          0.12157063349806925,
          0.14181910307588064,
          0.23824816794895565,
          0.15249229133031078,
          0.1630813674509638,
          0.15240461345878628,
          0.18486483712716034,
          0.13099226541401926,
          0.12074922059264762,
          0.15335640596339198,
          0.19545628192436035,
          0.15237937132967777,
          0.12021008287764402,
          0.1848869799589307,
          0.22770696773185217,
          0.11987016658214539,
          0.1739621319395659,
          0.24911416224757682,
          0.14296835896028356,
          0.130806068576515,
          0.1421162110935589,
          0.17321203022740797,
          0.1311460092279816,
          0.1526791818616878,
          0.13136935942465228,
          0.20615583472245702,
          0.20797496611447008,
          0.1415036620271434,
          0.13131263768079238,
          0.14299725154419363,
          0.13126589270220765,
          0.2596188400625379,
          0.18411904420377234,
          0.14178598393676203
         ],
         "z": [
          0.1848331804019402,
          0.21679791521496317,
          0.15293957587157667,
          0.13113622714370637,
          0.1737940057522048,
          0.1420222067775074,
          0.1208215178540191,
          0.1741425167666849,
          0.1311504770292353,
          0.13130523103357175,
          0.20601889135841892,
          0.19540967336975024,
          0.2488357651816158,
          0.14191010058297973,
          0.14209130102195286,
          0.16338084259458552,
          0.19542752689903672,
          0.22733281482448406,
          0.15267006605369712,
          0.15278227512675188,
          0.12080264513998766,
          0.22758418345648054,
          0.17428329641959853,
          0.1525625592869722,
          0.16330413333292212,
          0.1634149392469747,
          0.12052931951653666,
          0.17402938873361123,
          0.12111249937609493,
          0.15262775759458022,
          0.12061758369087958,
          0.17388838017878344,
          0.21673905804459526,
          0.2489378986433864,
          0.20603142635148075,
          0.14199618003383602,
          0.12052603302389088,
          0.12055865449017708,
          0.174287074458458,
          0.163252365883242,
          0.19526820215927065,
          0.19542825103868808,
          0.12070035527926999,
          0.1954536055618491,
          0.15271656649398774,
          0.18470025392686504,
          0.14150921743876113,
          0.1846219580750471,
          0.1527352755962889,
          0.14197182454032822,
          0.21680231736147118,
          0.12018889543670332,
          0.13128834652341917,
          0.13161902668896655,
          0.16336836299109994,
          0.19527876705565694,
          0.12066971815073815,
          0.16329337137529856,
          0.15274432372661043,
          0.23820245395146342,
          0.18490381430148228,
          0.1293608667147604,
          0.13133569331104922,
          0.20618375630649854,
          0.19545131755839523,
          0.20632074013484134,
          0.16337380331875156,
          0.20612246261310707,
          0.14199185436704076,
          0.260167272611403,
          0.14209353523292634,
          0.17398190845759756,
          0.15204079479806673,
          0.1313250329250621,
          0.22758300826802658,
          0.18476475336732517,
          0.13123191949537166,
          0.16335267167844073,
          0.16273737337786062,
          0.14209421707494932,
          0.12077541174310341,
          0.14186871127610962,
          0.16372365978599632,
          0.21693175062046813,
          0.1312842854323732,
          0.13123860166465037,
          0.18509932969806298,
          0.13131953886846648,
          0.12055208928997577,
          0.14209500723322,
          0.14228707129554216,
          0.13049459618200512,
          0.1848969552109114,
          0.12067362352381655,
          0.2060330466104892,
          0.22769253892837454,
          0.1526303740893223,
          0.17402329481956272,
          0.1739763829725974,
          0.1525857666104316,
          0.2374048385304004,
          0.23828381856449624,
          0.1214206077125179,
          0.18491296282113298,
          0.21679144392035193
         ]
        },
        {
         "mode": "markers",
         "type": "scatter3d",
         "x": [
          0.1
         ],
         "y": [
          0.1
         ],
         "z": [
          0.1
         ]
        }
       ],
       "layout": {
        "template": {
         "data": {
          "bar": [
           {
            "error_x": {
             "color": "#2a3f5f"
            },
            "error_y": {
             "color": "#2a3f5f"
            },
            "marker": {
             "line": {
              "color": "#E5ECF6",
              "width": 0.5
             }
            },
            "type": "bar"
           }
          ],
          "barpolar": [
           {
            "marker": {
             "line": {
              "color": "#E5ECF6",
              "width": 0.5
             }
            },
            "type": "barpolar"
           }
          ],
          "carpet": [
           {
            "aaxis": {
             "endlinecolor": "#2a3f5f",
             "gridcolor": "white",
             "linecolor": "white",
             "minorgridcolor": "white",
             "startlinecolor": "#2a3f5f"
            },
            "baxis": {
             "endlinecolor": "#2a3f5f",
             "gridcolor": "white",
             "linecolor": "white",
             "minorgridcolor": "white",
             "startlinecolor": "#2a3f5f"
            },
            "type": "carpet"
           }
          ],
          "choropleth": [
           {
            "colorbar": {
             "outlinewidth": 0,
             "ticks": ""
            },
            "type": "choropleth"
           }
          ],
          "contour": [
           {
            "colorbar": {
             "outlinewidth": 0,
             "ticks": ""
            },
            "colorscale": [
             [
              0,
              "#0d0887"
             ],
             [
              0.1111111111111111,
              "#46039f"
             ],
             [
              0.2222222222222222,
              "#7201a8"
             ],
             [
              0.3333333333333333,
              "#9c179e"
             ],
             [
              0.4444444444444444,
              "#bd3786"
             ],
             [
              0.5555555555555556,
              "#d8576b"
             ],
             [
              0.6666666666666666,
              "#ed7953"
             ],
             [
              0.7777777777777778,
              "#fb9f3a"
             ],
             [
              0.8888888888888888,
              "#fdca26"
             ],
             [
              1,
              "#f0f921"
             ]
            ],
            "type": "contour"
           }
          ],
          "contourcarpet": [
           {
            "colorbar": {
             "outlinewidth": 0,
             "ticks": ""
            },
            "type": "contourcarpet"
           }
          ],
          "heatmap": [
           {
            "colorbar": {
             "outlinewidth": 0,
             "ticks": ""
            },
            "colorscale": [
             [
              0,
              "#0d0887"
             ],
             [
              0.1111111111111111,
              "#46039f"
             ],
             [
              0.2222222222222222,
              "#7201a8"
             ],
             [
              0.3333333333333333,
              "#9c179e"
             ],
             [
              0.4444444444444444,
              "#bd3786"
             ],
             [
              0.5555555555555556,
              "#d8576b"
             ],
             [
              0.6666666666666666,
              "#ed7953"
             ],
             [
              0.7777777777777778,
              "#fb9f3a"
             ],
             [
              0.8888888888888888,
              "#fdca26"
             ],
             [
              1,
              "#f0f921"
             ]
            ],
            "type": "heatmap"
           }
          ],
          "heatmapgl": [
           {
            "colorbar": {
             "outlinewidth": 0,
             "ticks": ""
            },
            "colorscale": [
             [
              0,
              "#0d0887"
             ],
             [
              0.1111111111111111,
              "#46039f"
             ],
             [
              0.2222222222222222,
              "#7201a8"
             ],
             [
              0.3333333333333333,
              "#9c179e"
             ],
             [
              0.4444444444444444,
              "#bd3786"
             ],
             [
              0.5555555555555556,
              "#d8576b"
             ],
             [
              0.6666666666666666,
              "#ed7953"
             ],
             [
              0.7777777777777778,
              "#fb9f3a"
             ],
             [
              0.8888888888888888,
              "#fdca26"
             ],
             [
              1,
              "#f0f921"
             ]
            ],
            "type": "heatmapgl"
           }
          ],
          "histogram": [
           {
            "marker": {
             "colorbar": {
              "outlinewidth": 0,
              "ticks": ""
             }
            },
            "type": "histogram"
           }
          ],
          "histogram2d": [
           {
            "colorbar": {
             "outlinewidth": 0,
             "ticks": ""
            },
            "colorscale": [
             [
              0,
              "#0d0887"
             ],
             [
              0.1111111111111111,
              "#46039f"
             ],
             [
              0.2222222222222222,
              "#7201a8"
             ],
             [
              0.3333333333333333,
              "#9c179e"
             ],
             [
              0.4444444444444444,
              "#bd3786"
             ],
             [
              0.5555555555555556,
              "#d8576b"
             ],
             [
              0.6666666666666666,
              "#ed7953"
             ],
             [
              0.7777777777777778,
              "#fb9f3a"
             ],
             [
              0.8888888888888888,
              "#fdca26"
             ],
             [
              1,
              "#f0f921"
             ]
            ],
            "type": "histogram2d"
           }
          ],
          "histogram2dcontour": [
           {
            "colorbar": {
             "outlinewidth": 0,
             "ticks": ""
            },
            "colorscale": [
             [
              0,
              "#0d0887"
             ],
             [
              0.1111111111111111,
              "#46039f"
             ],
             [
              0.2222222222222222,
              "#7201a8"
             ],
             [
              0.3333333333333333,
              "#9c179e"
             ],
             [
              0.4444444444444444,
              "#bd3786"
             ],
             [
              0.5555555555555556,
              "#d8576b"
             ],
             [
              0.6666666666666666,
              "#ed7953"
             ],
             [
              0.7777777777777778,
              "#fb9f3a"
             ],
             [
              0.8888888888888888,
              "#fdca26"
             ],
             [
              1,
              "#f0f921"
             ]
            ],
            "type": "histogram2dcontour"
           }
          ],
          "mesh3d": [
           {
            "colorbar": {
             "outlinewidth": 0,
             "ticks": ""
            },
            "type": "mesh3d"
           }
          ],
          "parcoords": [
           {
            "line": {
             "colorbar": {
              "outlinewidth": 0,
              "ticks": ""
             }
            },
            "type": "parcoords"
           }
          ],
          "pie": [
           {
            "automargin": true,
            "type": "pie"
           }
          ],
          "scatter": [
           {
            "marker": {
             "colorbar": {
              "outlinewidth": 0,
              "ticks": ""
             }
            },
            "type": "scatter"
           }
          ],
          "scatter3d": [
           {
            "line": {
             "colorbar": {
              "outlinewidth": 0,
              "ticks": ""
             }
            },
            "marker": {
             "colorbar": {
              "outlinewidth": 0,
              "ticks": ""
             }
            },
            "type": "scatter3d"
           }
          ],
          "scattercarpet": [
           {
            "marker": {
             "colorbar": {
              "outlinewidth": 0,
              "ticks": ""
             }
            },
            "type": "scattercarpet"
           }
          ],
          "scattergeo": [
           {
            "marker": {
             "colorbar": {
              "outlinewidth": 0,
              "ticks": ""
             }
            },
            "type": "scattergeo"
           }
          ],
          "scattergl": [
           {
            "marker": {
             "colorbar": {
              "outlinewidth": 0,
              "ticks": ""
             }
            },
            "type": "scattergl"
           }
          ],
          "scattermapbox": [
           {
            "marker": {
             "colorbar": {
              "outlinewidth": 0,
              "ticks": ""
             }
            },
            "type": "scattermapbox"
           }
          ],
          "scatterpolar": [
           {
            "marker": {
             "colorbar": {
              "outlinewidth": 0,
              "ticks": ""
             }
            },
            "type": "scatterpolar"
           }
          ],
          "scatterpolargl": [
           {
            "marker": {
             "colorbar": {
              "outlinewidth": 0,
              "ticks": ""
             }
            },
            "type": "scatterpolargl"
           }
          ],
          "scatterternary": [
           {
            "marker": {
             "colorbar": {
              "outlinewidth": 0,
              "ticks": ""
             }
            },
            "type": "scatterternary"
           }
          ],
          "surface": [
           {
            "colorbar": {
             "outlinewidth": 0,
             "ticks": ""
            },
            "colorscale": [
             [
              0,
              "#0d0887"
             ],
             [
              0.1111111111111111,
              "#46039f"
             ],
             [
              0.2222222222222222,
              "#7201a8"
             ],
             [
              0.3333333333333333,
              "#9c179e"
             ],
             [
              0.4444444444444444,
              "#bd3786"
             ],
             [
              0.5555555555555556,
              "#d8576b"
             ],
             [
              0.6666666666666666,
              "#ed7953"
             ],
             [
              0.7777777777777778,
              "#fb9f3a"
             ],
             [
              0.8888888888888888,
              "#fdca26"
             ],
             [
              1,
              "#f0f921"
             ]
            ],
            "type": "surface"
           }
          ],
          "table": [
           {
            "cells": {
             "fill": {
              "color": "#EBF0F8"
             },
             "line": {
              "color": "white"
             }
            },
            "header": {
             "fill": {
              "color": "#C8D4E3"
             },
             "line": {
              "color": "white"
             }
            },
            "type": "table"
           }
          ]
         },
         "layout": {
          "annotationdefaults": {
           "arrowcolor": "#2a3f5f",
           "arrowhead": 0,
           "arrowwidth": 1
          },
          "autotypenumbers": "strict",
          "coloraxis": {
           "colorbar": {
            "outlinewidth": 0,
            "ticks": ""
           }
          },
          "colorscale": {
           "diverging": [
            [
             0,
             "#8e0152"
            ],
            [
             0.1,
             "#c51b7d"
            ],
            [
             0.2,
             "#de77ae"
            ],
            [
             0.3,
             "#f1b6da"
            ],
            [
             0.4,
             "#fde0ef"
            ],
            [
             0.5,
             "#f7f7f7"
            ],
            [
             0.6,
             "#e6f5d0"
            ],
            [
             0.7,
             "#b8e186"
            ],
            [
             0.8,
             "#7fbc41"
            ],
            [
             0.9,
             "#4d9221"
            ],
            [
             1,
             "#276419"
            ]
           ],
           "sequential": [
            [
             0,
             "#0d0887"
            ],
            [
             0.1111111111111111,
             "#46039f"
            ],
            [
             0.2222222222222222,
             "#7201a8"
            ],
            [
             0.3333333333333333,
             "#9c179e"
            ],
            [
             0.4444444444444444,
             "#bd3786"
            ],
            [
             0.5555555555555556,
             "#d8576b"
            ],
            [
             0.6666666666666666,
             "#ed7953"
            ],
            [
             0.7777777777777778,
             "#fb9f3a"
            ],
            [
             0.8888888888888888,
             "#fdca26"
            ],
            [
             1,
             "#f0f921"
            ]
           ],
           "sequentialminus": [
            [
             0,
             "#0d0887"
            ],
            [
             0.1111111111111111,
             "#46039f"
            ],
            [
             0.2222222222222222,
             "#7201a8"
            ],
            [
             0.3333333333333333,
             "#9c179e"
            ],
            [
             0.4444444444444444,
             "#bd3786"
            ],
            [
             0.5555555555555556,
             "#d8576b"
            ],
            [
             0.6666666666666666,
             "#ed7953"
            ],
            [
             0.7777777777777778,
             "#fb9f3a"
            ],
            [
             0.8888888888888888,
             "#fdca26"
            ],
            [
             1,
             "#f0f921"
            ]
           ]
          },
          "colorway": [
           "#636efa",
           "#EF553B",
           "#00cc96",
           "#ab63fa",
           "#FFA15A",
           "#19d3f3",
           "#FF6692",
           "#B6E880",
           "#FF97FF",
           "#FECB52"
          ],
          "font": {
           "color": "#2a3f5f"
          },
          "geo": {
           "bgcolor": "white",
           "lakecolor": "white",
           "landcolor": "#E5ECF6",
           "showlakes": true,
           "showland": true,
           "subunitcolor": "white"
          },
          "hoverlabel": {
           "align": "left"
          },
          "hovermode": "closest",
          "mapbox": {
           "style": "light"
          },
          "paper_bgcolor": "white",
          "plot_bgcolor": "#E5ECF6",
          "polar": {
           "angularaxis": {
            "gridcolor": "white",
            "linecolor": "white",
            "ticks": ""
           },
           "bgcolor": "#E5ECF6",
           "radialaxis": {
            "gridcolor": "white",
            "linecolor": "white",
            "ticks": ""
           }
          },
          "scene": {
           "xaxis": {
            "backgroundcolor": "#E5ECF6",
            "gridcolor": "white",
            "gridwidth": 2,
            "linecolor": "white",
            "showbackground": true,
            "ticks": "",
            "zerolinecolor": "white"
           },
           "yaxis": {
            "backgroundcolor": "#E5ECF6",
            "gridcolor": "white",
            "gridwidth": 2,
            "linecolor": "white",
            "showbackground": true,
            "ticks": "",
            "zerolinecolor": "white"
           },
           "zaxis": {
            "backgroundcolor": "#E5ECF6",
            "gridcolor": "white",
            "gridwidth": 2,
            "linecolor": "white",
            "showbackground": true,
            "ticks": "",
            "zerolinecolor": "white"
           }
          },
          "shapedefaults": {
           "line": {
            "color": "#2a3f5f"
           }
          },
          "ternary": {
           "aaxis": {
            "gridcolor": "white",
            "linecolor": "white",
            "ticks": ""
           },
           "baxis": {
            "gridcolor": "white",
            "linecolor": "white",
            "ticks": ""
           },
           "bgcolor": "#E5ECF6",
           "caxis": {
            "gridcolor": "white",
            "linecolor": "white",
            "ticks": ""
           }
          },
          "title": {
           "x": 0.05
          },
          "xaxis": {
           "automargin": true,
           "gridcolor": "white",
           "linecolor": "white",
           "ticks": "",
           "title": {
            "standoff": 15
           },
           "zerolinecolor": "white",
           "zerolinewidth": 2
          },
          "yaxis": {
           "automargin": true,
           "gridcolor": "white",
           "linecolor": "white",
           "ticks": "",
           "title": {
            "standoff": 15
           },
           "zerolinecolor": "white",
           "zerolinewidth": 2
          }
         }
        }
       }
      }
     },
     "metadata": {},
     "output_type": "display_data"
    }
   ],
   "source": [
    "x = objective_values[:,0]\n",
    "y = objective_values[:,1]\n",
    "z = objective_values[:,2]\n",
    "\n",
    "x2 = obj[:,0]\n",
    "y2 = obj[:,1]\n",
    "z2 = obj[:,2]\n",
    "\n",
    "\n",
    "trace1 = go.Scatter3d(x=x, y=y, z=z, mode=\"markers\",)\n",
    "trace2 = go.Scatter3d(x=x2, y=y2, z=z2, mode=\"markers\")\n",
    "trace3 = go.Scatter3d(x=[response[0]], y=[response[1]], z=[response[2]], mode=\"markers\")\n",
    "fig = go.Figure(data = [trace1, trace2, trace3])\n",
    "fig.show()"
   ]
  },
  {
   "cell_type": "markdown",
   "metadata": {},
   "source": [
    "## Giving new preferences"
   ]
  },
  {
   "cell_type": "code",
   "execution_count": 11,
   "metadata": {},
   "outputs": [
    {
     "name": "stdout",
     "output_type": "stream",
     "text": [
      "Please provide preferences. There is four ways to do this. You can either:\n",
      "\n",
      "\t1: Select preferred solution(s)\n",
      "\t2: Select non-preferred solution(s)\n",
      "\t3: Specify a reference point worse than or equal to the ideal point\n",
      "\t4: Specify desired ranges for objectives.\n",
      "\n",
      "In case you choose \n",
      "\n",
      "1, please specify index/indices of preferred solutions in a numpy array (indexing starts from 0).\n",
      "For example: \n",
      "\tnumpy.array([1]), for choosing the solutions with index 1.\n",
      "\tnumpy.array([2, 4, 5, 16]), for choosing the solutions with indices 2, 4, 5, and 16.\n",
      "\n",
      "2, please specify index/indices of non-preferred solutions in a numpy array (indexing starts from 0).\n",
      "For example: \n",
      "\tnumpy.array([3]), for choosing the solutions with index 3.\n",
      "\tnumpy.array([1, 2]), for choosing the solutions with indices 1 and 2.\n",
      "\n",
      "3, please provide a reference point worse than or equal to the ideal point:\n",
      "\n",
      "f1    0\n",
      "f2    0\n",
      "f3    0\n",
      "Name: ideal, dtype: object\n",
      "The reference point will be used to focus the reference vectors towards the preferred region.\n",
      "If a reference point is not provided, the previous state of the reference vectors is used.\n",
      "If the reference point is the same as the ideal point, the reference vectors are spread uniformly in the objective space.\n",
      "\n",
      "4, please specify desired lower and upper bound for each objective, starting from \n",
      "the first objective and ending with the last one. Please specify the bounds as a numpy array containing \n",
      "lists, so that the first item of list is the lower bound and the second the upper bound, for each \n",
      "objective. \n",
      "\tFor example: numpy.array([[1, 2], [2, 5], [0, 3.5]]), for problem with three objectives.\n",
      "Ideal vector: \n",
      "f1    0\n",
      "f2    0\n",
      "f3    0\n",
      "Name: ideal, dtype: object\n",
      "Nadir vector: \n",
      "f1    inf\n",
      "f2    inf\n",
      "f3    inf\n",
      "Name: nadir, dtype: object.\n"
     ]
    }
   ],
   "source": [
    "pref, plot = pref_evolver.requests()\n",
    "print(pref[0].content['message'])"
   ]
  },
  {
   "cell_type": "code",
   "execution_count": 12,
   "metadata": {},
   "outputs": [],
   "source": [
    "\n",
    "distance = 0.2\n",
    "\n",
    "preferred_range = np.array([[0.1,0.2],[0.1,0.3],[0.2,0.3]])\n",
    "\n",
    "pref[3].response = preferred_range"
   ]
  },
  {
   "cell_type": "code",
   "execution_count": 13,
   "metadata": {},
   "outputs": [
    {
     "name": "stdout",
     "output_type": "stream",
     "text": [
      "preferencias desde MOEA/D\n",
      "[[0.1 0.2]\n",
      " [0.1 0.3]\n",
      " [0.2 0.3]]\n",
      "[False  True False False False False False False False False  True False\n",
      "  True False False False False  True False False False  True False False\n",
      " False False False False False False False False  True  True  True False\n",
      " False False False False False False False False False False False False\n",
      " False False  True False False False False False False False False  True\n",
      " False False False  True False  True False  True False  True False False\n",
      " False False  True False False False False False False False False  True\n",
      " False False False False False False False False False False  True  True\n",
      " False False False False  True  True False False  True]\n",
      "21\n",
      "105\n",
      "84\n",
      "[[1.00000000e+00 1.00000000e-05 1.00000000e-05]\n",
      " [9.16666667e-01 8.33333333e-02 1.00000000e-05]\n",
      " [8.33333333e-01 1.66666667e-01 1.00000000e-05]\n",
      " [7.50000000e-01 2.50000000e-01 1.00000000e-05]\n",
      " [6.66666667e-01 3.33333333e-01 1.00000000e-05]\n",
      " [5.83333333e-01 4.16666667e-01 1.00000000e-05]\n",
      " [5.00000000e-01 5.00000000e-01 1.00000000e-05]\n",
      " [4.16666667e-01 5.83333333e-01 1.00000000e-05]\n",
      " [3.33333333e-01 6.66666667e-01 1.00000000e-05]\n",
      " [2.50000000e-01 7.50000000e-01 1.00000000e-05]\n",
      " [1.66666667e-01 8.33333333e-01 1.00000000e-05]\n",
      " [8.33333333e-02 9.16666667e-01 1.00000000e-05]\n",
      " [1.00000000e-05 1.00000000e+00 1.00000000e-05]\n",
      " [9.16666667e-01 1.00000000e-05 8.33333333e-02]\n",
      " [8.33333333e-01 8.33333333e-02 8.33333333e-02]\n",
      " [7.50000000e-01 1.66666667e-01 8.33333333e-02]\n",
      " [6.66666667e-01 2.50000000e-01 8.33333333e-02]\n",
      " [5.83333333e-01 3.33333333e-01 8.33333333e-02]\n",
      " [5.00000000e-01 4.16666667e-01 8.33333333e-02]\n",
      " [4.16666667e-01 5.00000000e-01 8.33333333e-02]\n",
      " [3.33333333e-01 5.83333333e-01 8.33333333e-02]\n",
      " [2.50000000e-01 6.66666667e-01 8.33333333e-02]\n",
      " [1.66666667e-01 7.50000000e-01 8.33333333e-02]\n",
      " [8.33333333e-02 8.33333333e-01 8.33333333e-02]\n",
      " [1.00000000e-05 9.16666667e-01 8.33333333e-02]\n",
      " [8.33333333e-01 1.00000000e-05 1.66666667e-01]\n",
      " [7.50000000e-01 8.33333333e-02 1.66666667e-01]\n",
      " [6.66666667e-01 1.66666667e-01 1.66666667e-01]\n",
      " [5.83333333e-01 2.50000000e-01 1.66666667e-01]\n",
      " [5.00000000e-01 3.33333333e-01 1.66666667e-01]\n",
      " [4.16666667e-01 4.16666667e-01 1.66666667e-01]\n",
      " [3.33333333e-01 5.00000000e-01 1.66666667e-01]\n",
      " [2.50000000e-01 5.83333333e-01 1.66666667e-01]\n",
      " [1.66666667e-01 6.66666667e-01 1.66666667e-01]\n",
      " [8.33333333e-02 7.50000000e-01 1.66666667e-01]\n",
      " [1.00000000e-05 8.33333333e-01 1.66666667e-01]\n",
      " [7.50000000e-01 1.00000000e-05 2.50000000e-01]\n",
      " [6.66666667e-01 8.33333333e-02 2.50000000e-01]\n",
      " [5.83333333e-01 1.66666667e-01 2.50000000e-01]\n",
      " [5.00000000e-01 2.50000000e-01 2.50000000e-01]\n",
      " [4.16666667e-01 3.33333333e-01 2.50000000e-01]\n",
      " [3.33333333e-01 4.16666667e-01 2.50000000e-01]\n",
      " [2.50000000e-01 5.00000000e-01 2.50000000e-01]\n",
      " [1.66666667e-01 5.83333333e-01 2.50000000e-01]\n",
      " [8.33333333e-02 6.66666667e-01 2.50000000e-01]\n",
      " [1.00000000e-05 7.50000000e-01 2.50000000e-01]\n",
      " [6.66666667e-01 1.00000000e-05 3.33333333e-01]\n",
      " [5.83333333e-01 8.33333333e-02 3.33333333e-01]\n",
      " [5.00000000e-01 1.66666667e-01 3.33333333e-01]\n",
      " [4.16666667e-01 2.50000000e-01 3.33333333e-01]\n",
      " [3.33333333e-01 3.33333333e-01 3.33333333e-01]\n",
      " [2.50000000e-01 4.16666667e-01 3.33333333e-01]\n",
      " [1.66666667e-01 5.00000000e-01 3.33333333e-01]\n",
      " [8.33333333e-02 5.83333333e-01 3.33333333e-01]\n",
      " [1.00000000e-05 6.66666667e-01 3.33333333e-01]\n",
      " [5.83333333e-01 1.00000000e-05 4.16666667e-01]\n",
      " [5.00000000e-01 8.33333333e-02 4.16666667e-01]\n",
      " [4.16666667e-01 1.66666667e-01 4.16666667e-01]\n",
      " [3.33333333e-01 2.50000000e-01 4.16666667e-01]\n",
      " [2.50000000e-01 3.33333333e-01 4.16666667e-01]\n",
      " [1.66666667e-01 4.16666667e-01 4.16666667e-01]\n",
      " [8.33333333e-02 5.00000000e-01 4.16666667e-01]\n",
      " [1.00000000e-05 5.83333333e-01 4.16666667e-01]\n",
      " [5.00000000e-01 1.00000000e-05 5.00000000e-01]\n",
      " [4.16666667e-01 8.33333333e-02 5.00000000e-01]\n",
      " [3.33333333e-01 1.66666667e-01 5.00000000e-01]\n",
      " [2.50000000e-01 2.50000000e-01 5.00000000e-01]\n",
      " [1.66666667e-01 3.33333333e-01 5.00000000e-01]\n",
      " [8.33333333e-02 4.16666667e-01 5.00000000e-01]\n",
      " [1.00000000e-05 5.00000000e-01 5.00000000e-01]\n",
      " [4.16666667e-01 1.00000000e-05 5.83333333e-01]\n",
      " [3.33333333e-01 8.33333333e-02 5.83333333e-01]\n",
      " [2.50000000e-01 1.66666667e-01 5.83333333e-01]\n",
      " [1.66666667e-01 2.50000000e-01 5.83333333e-01]\n",
      " [8.33333333e-02 3.33333333e-01 5.83333333e-01]\n",
      " [1.00000000e-05 4.16666667e-01 5.83333333e-01]\n",
      " [3.33333333e-01 1.00000000e-05 6.66666667e-01]\n",
      " [2.50000000e-01 8.33333333e-02 6.66666667e-01]\n",
      " [1.66666667e-01 1.66666667e-01 6.66666667e-01]\n",
      " [8.33333333e-02 2.50000000e-01 6.66666667e-01]\n",
      " [1.00000000e-05 3.33333333e-01 6.66666667e-01]\n",
      " [2.50000000e-01 1.00000000e-05 7.50000000e-01]\n",
      " [1.66666667e-01 8.33333333e-02 7.50000000e-01]\n",
      " [8.33333333e-02 1.66666667e-01 7.50000000e-01]\n",
      " [1.00000000e-05 2.50000000e-01 7.50000000e-01]\n",
      " [1.66666667e-01 1.00000000e-05 8.33333333e-01]\n",
      " [8.33333333e-02 8.33333333e-02 8.33333333e-01]\n",
      " [1.00000000e-05 1.66666667e-01 8.33333333e-01]\n",
      " [8.33333333e-02 1.00000000e-05 9.16666667e-01]\n",
      " [1.00000000e-05 8.33333333e-02 9.16666667e-01]\n",
      " [1.00000000e-05 1.00000000e-05 1.00000000e+00]]\n",
      "number new size\n",
      "91\n",
      "number new size\n",
      "91\n",
      "Continue\n",
      "Continue\n",
      "Continue\n",
      "Continue\n",
      "Continue\n",
      "Continue\n",
      "Continue\n",
      "Continue\n",
      "Continue\n",
      "Continue\n",
      "Continue\n",
      "Continue\n",
      "Continue\n",
      "Continue\n",
      "Continue\n",
      "Continue\n",
      "Continue\n",
      "Continue\n",
      "Continue\n",
      "Continue\n",
      "Continue\n",
      "Continue\n",
      "Continue\n",
      "Continue\n",
      "Continue\n",
      "Continue\n",
      "Continue\n",
      "Continue\n",
      "Continue\n",
      "Continue\n",
      "Continue\n",
      "Continue\n",
      "Continue\n",
      "Continue\n",
      "Continue\n",
      "Continue\n",
      "Continue\n",
      "Continue\n",
      "Continue\n",
      "Continue\n",
      "Continue\n",
      "Continue\n",
      "Continue\n",
      "Continue\n",
      "Continue\n",
      "Continue\n",
      "Continue\n",
      "Continue\n",
      "Continue\n",
      "Continue\n",
      "Continue\n",
      "Continue\n",
      "Continue\n",
      "Continue\n",
      "Continue\n",
      "Continue\n",
      "Continue\n",
      "Continue\n",
      "Continue\n",
      "Continue\n",
      "Continue\n",
      "Continue\n",
      "Continue\n",
      "Continue\n",
      "Continue\n",
      "Continue\n",
      "Continue\n",
      "Continue\n",
      "Continue\n",
      "Continue\n",
      "Continue\n",
      "Continue\n",
      "Continue\n",
      "Continue\n",
      "Continue\n",
      "Continue\n",
      "Continue\n",
      "Continue\n",
      "Continue\n",
      "Continue\n",
      "Continue\n",
      "Continue\n",
      "Continue\n",
      "Continue\n",
      "Continue\n",
      "Continue\n",
      "Continue\n",
      "Continue\n",
      "Continue\n",
      "Continue\n",
      "Continue\n",
      "Continue\n",
      "Continue\n",
      "Continue\n",
      "Continue\n",
      "Continue\n",
      "Continue\n",
      "Continue\n",
      "Continue\n",
      "Continue\n",
      "Distance of best solution to the reference point: 0.08320321087106963\n",
      "Values of best solution to the reference point: [0.14332932 0.17411728 0.18320321]\n",
      "Current generation number:200. Is looping back recommended: Yes\n"
     ]
    }
   ],
   "source": [
    "pref, plot = pref_evolver.iterate(pref[3])\n",
    "\n",
    "# show the best solution closest to the reference point\n",
    "obj_2 = pref_evolver.population.objectives\n",
    "\n",
    "# achievement function\n",
    "dist, index = distance_to_reference_point(obj_2, response[0])\n",
    "\n",
    "print(f\"Distance of best solution to the reference point: {dist}\")\n",
    "print(f\"Values of best solution to the reference point: {obj_2[index]}\")\n",
    "\n",
    "message = (f\"Current generation number:{pref_evolver._current_gen_count}. \"\n",
    "           f\"Is looping back recommended: {'Yes' if pref_evolver.continue_evolution() else 'No'}\")\n",
    "print(message)\n"
   ]
  },
  {
   "cell_type": "code",
   "execution_count": 14,
   "metadata": {},
   "outputs": [
    {
     "data": {
      "application/vnd.plotly.v1+json": {
       "config": {
        "plotlyServerURL": "https://plot.ly"
       },
       "data": [
        {
         "mode": "markers",
         "type": "scatter3d",
         "x": [
          0,
          0,
          0.0006906035676348494,
          0,
          0,
          0.00012422834217996206,
          0.0006648825734515322,
          0.00027971117086751234,
          0,
          0,
          0.00008079169907383878,
          0,
          7.820443754918114e-7,
          0,
          0.03888173952571888,
          0.03890593807721276,
          0.03845589031074433,
          0.03886687535089891,
          0.03864440219566725,
          0.038250479713291985,
          0.03843067292903953,
          0.03885263321162046,
          0.03827361802421207,
          0.038733311486264056,
          0.038289582624940297,
          0.039001240398398224,
          0.04120585348292563,
          0.0770801844714046,
          0.07752564989070307,
          0.07707151144401687,
          0.07765931789426042,
          0.07686312968069764,
          0.07729834185760899,
          0.07729064873377008,
          0.0772547170005732,
          0.0768748783917952,
          0.07726837137741718,
          0.0770608044636947,
          0.07740431964146689,
          0.11570312937147868,
          0.11630802188396416,
          0.11653931596744847,
          0.11563021800722113,
          0.11577211984092164,
          0.11616966353234609,
          0.11580395183436464,
          0.11524895260997471,
          0.11575077701632226,
          0.11549726102419591,
          0.11619301035317023,
          0.15513290492726914,
          0.15524089949391226,
          0.15507799003766917,
          0.15524506317128073,
          0.15378061314736993,
          0.1544843503294982,
          0.15468057469861737,
          0.1541471949649803,
          0.15493479233084445,
          0.15414052011004398,
          0.19307757465629596,
          0.19245774845257638,
          0.19309040630775326,
          0.1929785821118844,
          0.19373616719640238,
          0.19258879362294598,
          0.19384482822352564,
          0.19212884962292895,
          0.19271114403272857,
          0.2328737808584962,
          0.23208971354950975,
          0.2336910165865107,
          0.23131240389426377,
          0.23225431737524344,
          0.23261592971991243,
          0.23112154206539437,
          0.23123225977863107,
          0.271177116551645,
          0.27258225285083476,
          0.27128775865552285,
          0.2711326384874088,
          0.2711080897901878,
          0.26978373475674616,
          0.27274419468313604,
          0.3099224565580673,
          0.3081732239307056,
          0.30960549355468636,
          0.3098873570741323,
          0.3097920789423881,
          0.3096995650094417,
          0.34872780326953107,
          0.34830824582271647,
          0.3484681548721445,
          0.3468948277138706,
          0.34869980253586086,
          0.38523558784251316,
          0.38714415647716255,
          0.3852172797655051,
          0.3846854786176494,
          0.42327717006078147,
          0.4233686168223479,
          0.4234673516478687,
          0.4623489956347197,
          0.462088947338537,
          0.500953561209019
         ],
         "y": [
          0.00012401332557699166,
          0.03874159513273201,
          0.07798674822513196,
          0.11578197434496218,
          0.1543762247743293,
          0.19370351028080557,
          0.2312202182777873,
          0.26991439419027413,
          0.30815162684682706,
          0.34692103217681597,
          0.3855267653964482,
          0.42408398206537123,
          0.46284509078530434,
          0.5010030066112332,
          0,
          0.03852143532516721,
          0.07731331588115006,
          0.11551288542565172,
          0.15442559751622506,
          0.19322002693067755,
          0.23171574963515254,
          0.26954573325604547,
          0.30824825580623333,
          0.3470581012016247,
          0.38560962247317404,
          0.42404536647333835,
          0.4623935326362318,
          0,
          0.03955624519728505,
          0.07743759597601882,
          0.11551513470238572,
          0.1540110898334338,
          0.19263112449149294,
          0.23158341770273005,
          0.2702576188572094,
          0.3085317611086856,
          0.34869017429972043,
          0.3850537169756105,
          0.42659115778300083,
          0,
          0.03856802914206764,
          0.07768067464983275,
          0.11574406652977959,
          0.15418919941037348,
          0.19368332140873415,
          0.23184920442877485,
          0.2699464799638362,
          0.3083666677227992,
          0.34670952350228407,
          0.3845764074987056,
          0,
          0.0383058724487475,
          0.07751336129980675,
          0.11686452877997759,
          0.15410966709515872,
          0.19259946805307201,
          0.23110938253283658,
          0.2698336932434398,
          0.3095145864630917,
          0.3468385180322019,
          0.00022447982619889324,
          0.039543227505792033,
          0.07661091552458081,
          0.11564231499940304,
          0.15504731685450698,
          0.1926521281286484,
          0.2323533611381177,
          0.27038271558524285,
          0.3083446168096735,
          0,
          0.03913529531786012,
          0.0779406242021211,
          0.11607079651295325,
          0.15483676228154727,
          0.19365289297366012,
          0.2312682871319644,
          0.26985006849575105,
          0.00004214839977675598,
          0.039230644900384165,
          0.07785382842547868,
          0.11615049231827561,
          0.15486529403229418,
          0.19278827737074392,
          0.23379991166667785,
          0,
          0.03910518986313683,
          0.0775703008431885,
          0.11610156188839735,
          0.15481401759672725,
          0.19362362022022278,
          0,
          0.03887269154181551,
          0.07747552609412289,
          0.11554716118749832,
          0.1548995481848124,
          0,
          0.03869123014913004,
          0.07687442022160494,
          0.11630694865480337,
          0.0001314326680887464,
          0.039423511549249037,
          0.07702768420967013,
          0,
          0.03829885350732459,
          0
         ],
         "z": [
          0.5012932747916011,
          0.46268225471658153,
          0.42521458814786994,
          0.38587436717222445,
          0.34705578537475346,
          0.30987455829232335,
          0.2693841582865095,
          0.23131837589731719,
          0.1932003443907128,
          0.1541974888341073,
          0.11573533155178235,
          0.07697413364270345,
          0.03833520827212887,
          0,
          0.46532296651296073,
          0.4262728419202529,
          0.3858558248480591,
          0.3471599984968217,
          0.3079104183589694,
          0.2696924528587734,
          0.23117947736952085,
          0.19263635882080757,
          0.15459451381206255,
          0.1153447835293108,
          0.07716863529510636,
          0.03806077100073027,
          0,
          0.4244256381947545,
          0.3843130469670337,
          0.3470381344862055,
          0.3084431148813611,
          0.2702211176625616,
          0.2311181242869144,
          0.19217468474828442,
          0.15406241782442714,
          0.11586632542259054,
          0.07768492506663728,
          0.03891743865314052,
          0,
          0.3859276821081129,
          0.34867769445145963,
          0.31060441783984577,
          0.27018103069640287,
          0.23113032705192446,
          0.19354568120636695,
          0.15435171895070626,
          0.11582201509790307,
          0.07694714959139176,
          0.038747443213722,
          0,
          0.34883341355500447,
          0.3103511730089543,
          0.2710769691430562,
          0.23295845451270464,
          0.19360791188480736,
          0.15437371737875868,
          0.11534479993819789,
          0.07715897584548047,
          0.03896510081667219,
          0,
          0.30821010818529904,
          0.2695501578248269,
          0.23157680543360162,
          0.1927113224821543,
          0.15486276507425714,
          0.11571264182881368,
          0.07747405166308918,
          0.0386650617165209,
          0.000019820124778186552,
          0.2713481229670669,
          0.23242636527380825,
          0.19456974462366486,
          0.1543354605571279,
          0.11629093600952935,
          0.07734177729319718,
          0.03863881277166653,
          0,
          0.23242145720761553,
          0.19441337688629187,
          0.15511636992518027,
          0.11620774791054357,
          0.07764118655341627,
          0.038615987691650984,
          0.000002590783300171141,
          0.1937912642282463,
          0.15447359586124468,
          0.1163204947453484,
          0.07762099092430731,
          0.03891597514927349,
          0,
          0.15493225516799577,
          0.11632203844355757,
          0.07763783612068059,
          0.03881242327294296,
          0,
          0.11562621678550304,
          0.07759439581580667,
          0.03882411993136884,
          0.00038761012466122897,
          0.07746477228135383,
          0.038228871903706114,
          0.000938114943250403,
          0.03880125543687137,
          0.0006549111475093268,
          0.00008954029690749107
         ]
        },
        {
         "mode": "markers",
         "type": "scatter3d",
         "x": [
          0.1054296220004163,
          0.1312095707284365,
          0.08898681433873831,
          0.13090261055567423,
          0.15460108528247685,
          0.1303314351881063,
          0.14027955079442658,
          0.1426152780201493,
          0.12586081253772954,
          0.12154594522557388,
          0.12055641245935689,
          0.1076361670895318,
          0.13118973648192295,
          0.11668030925224618,
          0.12109784373563008,
          0.07966342410162391,
          0.07955947953014218,
          0.13125610163470852,
          0.11409807270190418,
          0.1153625192607545,
          0.1700125594474496,
          0.15251657383594588,
          0.17065134171370613,
          0.13022698318070366,
          0.10634520378841754,
          0.15562401533943104,
          0.15093262025206836,
          0.13346819157166356,
          0.09189070152908066,
          0.12493390599693019,
          0.1464699479465594,
          0.11891758871970304,
          0.12049176428601412,
          0.12040955937745261,
          0.15260648764564588,
          0.12304216515634751,
          0.09981936789768756,
          0.14265377255420167,
          0.14204532203046155,
          0.15127183466715632,
          0.12703022800676622,
          0.1620661439669721,
          0.12321680638626137,
          0.12950533012571,
          0.1292715668502815,
          0.10753617713098891,
          0.13291485459163302,
          0.1401040658922195,
          0.09224808527788986,
          0.13889997378302715,
          0.1525963782393373,
          0.16773249206634117,
          0.11253053383604376,
          0.13233887085845858,
          0.13810463915091717,
          0.1433293247997238,
          0.14637745643364106,
          0.15538102563241774,
          0.11955319140158399,
          0.14205667814552156,
          0.11068935344881012,
          0.1457144556811571,
          0.11345308554994644,
          0.1633341572830596,
          0.1374279512976621,
          0.17404823884711404,
          0.10722495729716411,
          0.13120451127319543,
          0.13809040480966717,
          0.12065216942746712,
          0.13061457501257914,
          0.1340718243496787,
          0.11798547152732414,
          0.11772212095681384,
          0.12053889639223783,
          0.1355976507120906,
          0.12644492432799578,
          0.14416930150527135,
          0.11728485885785056,
          0.11869868833740546,
          0.1055469997985576,
          0.09291759262526825,
          0.14789781396380136,
          0.16326507208767807,
          0.1481431145182063,
          0.13774710599574175,
          0.10377761584250414,
          0.10069382001899767,
          0.08918950787258256,
          0.1376684109162138,
          0.09365669109634561,
          0.10145452435338756,
          0.10648782592800347,
          0.11374334838441301,
          0.14192430258272132,
          0.14178661623658717,
          0.08873688147350013,
          0.1026521952658467,
          0.1482477710811206,
          0.08865896282364638,
          0.12058621632998487,
          0.13122837873306656,
          0.12008240119970907,
          0.10527686647848516,
          0.14186922597404666
         ],
         "y": [
          0.21606944927684688,
          0.1526361153992185,
          0.1665610722315857,
          0.1403793287903501,
          0.15615524220073196,
          0.1796726808910885,
          0.12701956509099882,
          0.1220696777366867,
          0.12840190769092802,
          0.14586134715718482,
          0.17429743265919537,
          0.16475272778006464,
          0.12057710078576458,
          0.22434057679868605,
          0.21125391362716087,
          0.2270341577758398,
          0.21987014398568094,
          0.14184613296103346,
          0.11086276803650635,
          0.19194056033928128,
          0.10225199079897078,
          0.12056381932683952,
          0.12047397314614416,
          0.19354287179263593,
          0.19166898413957495,
          0.12995837669430424,
          0.15946854676609562,
          0.18486498875318422,
          0.1839360120019686,
          0.20524213192147683,
          0.14463814550949655,
          0.12609721620814274,
          0.1633529131208025,
          0.1313152490800227,
          0.14191218567506897,
          0.19932820462480771,
          0.21197227594270365,
          0.15069766296402934,
          0.12849926488450777,
          0.1635630735168357,
          0.17397024089799396,
          0.15448052598176987,
          0.20896226532750498,
          0.15480450662579112,
          0.11748353458392326,
          0.20142727529678733,
          0.15245771782597484,
          0.14931027034953182,
          0.19119261524812697,
          0.12312378544483406,
          0.1312004674420581,
          0.1390087737184879,
          0.14005362756985346,
          0.12405716477086043,
          0.157397903462539,
          0.17411727975742852,
          0.1530533549693207,
          0.09353906954297651,
          0.16176753543578726,
          0.12036230917607635,
          0.17274510431260584,
          0.1028704865600849,
          0.12043435130660653,
          0.1312459979635948,
          0.12940227916422273,
          0.1203895469906983,
          0.1795107180454437,
          0.1633125345422653,
          0.17166640928793964,
          0.12021024450355348,
          0.21040330352730444,
          0.16073084562125609,
          0.19706092529183222,
          0.1693830555892381,
          0.15267960404218608,
          0.16854477485919755,
          0.2142214653647632,
          0.11294378491618436,
          0.205577740160368,
          0.18177222744236782,
          0.1904581725493159,
          0.19353466737518046,
          0.15875492304257924,
          0.12053734980115513,
          0.1241865080095968,
          0.1604638333650403,
          0.19563377574931753,
          0.14399195890575595,
          0.18590041848833622,
          0.11781541889214459,
          0.1821504072189959,
          0.20524306137735002,
          0.1810367640539921,
          0.21000829123884218,
          0.1525807804944474,
          0.13127282354246833,
          0.18361875991169335,
          0.20535320457065562,
          0.20439475445396524,
          0.16706135352922363,
          0.14203629491136752,
          0.13126017886658728,
          0.2048981739158571,
          0.18770052158006775,
          0.14187367101098422
         ],
         "z": [
          0.17916902703820736,
          0.21686264708673916,
          0.2451478298658258,
          0.2293589787586531,
          0.18989504853666908,
          0.19070224746908032,
          0.23341040633124324,
          0.23595267906264208,
          0.24637490871028003,
          0.23328799753732424,
          0.20586234406993542,
          0.22830377209578862,
          0.24883941797822876,
          0.1596296051259912,
          0.16831753479557085,
          0.1939546908192358,
          0.2012223658487631,
          0.22749535654101083,
          0.2756815903960572,
          0.19339550706798847,
          0.22837467816373935,
          0.22753306460011374,
          0.2095215594998718,
          0.176883799115605,
          0.20263502694577884,
          0.21506342467766235,
          0.19024984909556455,
          0.18238453565033697,
          0.2248680466019306,
          0.17047299202378313,
          0.20959787846175781,
          0.2556276655059857,
          0.21686606310025394,
          0.24903715855001457,
          0.2061209675674966,
          0.17833350684338625,
          0.18894240013960847,
          0.20729960376642936,
          0.23016518705755992,
          0.18588979679097165,
          0.19969302082008547,
          0.18415711513866612,
          0.16849054557509568,
          0.21633334956914685,
          0.25388739277789496,
          0.1917339978656092,
          0.21533878433762627,
          0.21130452669702424,
          0.2172586175561811,
          0.23862003165092366,
          0.21680137062021068,
          0.1939031447633827,
          0.24806601281354368,
          0.24424695641673255,
          0.20513822573003998,
          0.18320321087106964,
          0.20129553956720875,
          0.251719260353481,
          0.2193286237251048,
          0.2381778246903902,
          0.21726304048254627,
          0.25205803565066504,
          0.2667528412851973,
          0.20619313969995556,
          0.23380788692731075,
          0.2061727356940063,
          0.21396177585201226,
          0.20612690764114203,
          0.1909459538059086,
          0.2599246745098917,
          0.15963192439668625,
          0.2058483570774247,
          0.18565730417858317,
          0.21366443422092996,
          0.2274974836309453,
          0.19650286962865318,
          0.16005817467245861,
          0.24353171643640747,
          0.1778055880671767,
          0.20028098265396413,
          0.20466497574931916,
          0.21418938982477947,
          0.1940589444715912,
          0.21684127274573906,
          0.22830959029220524,
          0.20250364984782374,
          0.20128155379937912,
          0.25595668641062286,
          0.2256151564517055,
          0.24515886116146257,
          0.22484522837407944,
          0.19395471012956633,
          0.21311779751222515,
          0.17690234476609865,
          0.2061111303250027,
          0.22755266793759105,
          0.22834789190385466,
          0.192662711629782,
          0.14800369013593265,
          0.24497506734251157,
          0.23809729088903653,
          0.2382788739871584,
          0.17573193816822977,
          0.2077282361184913,
          0.21688886786034037
         ]
        },
        {
         "mode": "markers",
         "type": "scatter3d",
         "x": [
          0.1054296220004163,
          0.1312095707284365,
          0.08898681433873831,
          0.13090261055567423,
          0.15460108528247685,
          0.1303314351881063,
          0.14027955079442658,
          0.1426152780201493,
          0.12586081253772954,
          0.12154594522557388,
          0.12055641245935689,
          0.1076361670895318,
          0.13118973648192295,
          0.11668030925224618,
          0.12109784373563008,
          0.07966342410162391,
          0.07955947953014218,
          0.13125610163470852,
          0.11409807270190418,
          0.1153625192607545,
          0.1700125594474496,
          0.15251657383594588,
          0.17065134171370613,
          0.13022698318070366,
          0.10634520378841754,
          0.15562401533943104,
          0.15093262025206836,
          0.13346819157166356,
          0.09189070152908066,
          0.12493390599693019,
          0.1464699479465594,
          0.11891758871970304,
          0.12049176428601412,
          0.12040955937745261,
          0.15260648764564588,
          0.12304216515634751,
          0.09981936789768756,
          0.14265377255420167,
          0.14204532203046155,
          0.15127183466715632,
          0.12703022800676622,
          0.1620661439669721,
          0.12321680638626137,
          0.12950533012571,
          0.1292715668502815,
          0.10753617713098891,
          0.13291485459163302,
          0.1401040658922195,
          0.09224808527788986,
          0.13889997378302715,
          0.1525963782393373,
          0.16773249206634117,
          0.11253053383604376,
          0.13233887085845858,
          0.13810463915091717,
          0.1433293247997238,
          0.14637745643364106,
          0.15538102563241774,
          0.11955319140158399,
          0.14205667814552156,
          0.11068935344881012,
          0.1457144556811571,
          0.11345308554994644,
          0.1633341572830596,
          0.1374279512976621,
          0.17404823884711404,
          0.10722495729716411,
          0.13120451127319543,
          0.13809040480966717,
          0.12065216942746712,
          0.13061457501257914,
          0.1340718243496787,
          0.11798547152732414,
          0.11772212095681384,
          0.12053889639223783,
          0.1355976507120906,
          0.12644492432799578,
          0.14416930150527135,
          0.11728485885785056,
          0.11869868833740546,
          0.1055469997985576,
          0.09291759262526825,
          0.14789781396380136,
          0.16326507208767807,
          0.1481431145182063,
          0.13774710599574175,
          0.10377761584250414,
          0.10069382001899767,
          0.08918950787258256,
          0.1376684109162138,
          0.09365669109634561,
          0.10145452435338756,
          0.10648782592800347,
          0.11374334838441301,
          0.14192430258272132,
          0.14178661623658717,
          0.08873688147350013,
          0.1026521952658467,
          0.1482477710811206,
          0.08865896282364638,
          0.12058621632998487,
          0.13122837873306656,
          0.12008240119970907,
          0.10527686647848516,
          0.14186922597404666
         ],
         "y": [
          0.21606944927684688,
          0.1526361153992185,
          0.1665610722315857,
          0.1403793287903501,
          0.15615524220073196,
          0.1796726808910885,
          0.12701956509099882,
          0.1220696777366867,
          0.12840190769092802,
          0.14586134715718482,
          0.17429743265919537,
          0.16475272778006464,
          0.12057710078576458,
          0.22434057679868605,
          0.21125391362716087,
          0.2270341577758398,
          0.21987014398568094,
          0.14184613296103346,
          0.11086276803650635,
          0.19194056033928128,
          0.10225199079897078,
          0.12056381932683952,
          0.12047397314614416,
          0.19354287179263593,
          0.19166898413957495,
          0.12995837669430424,
          0.15946854676609562,
          0.18486498875318422,
          0.1839360120019686,
          0.20524213192147683,
          0.14463814550949655,
          0.12609721620814274,
          0.1633529131208025,
          0.1313152490800227,
          0.14191218567506897,
          0.19932820462480771,
          0.21197227594270365,
          0.15069766296402934,
          0.12849926488450777,
          0.1635630735168357,
          0.17397024089799396,
          0.15448052598176987,
          0.20896226532750498,
          0.15480450662579112,
          0.11748353458392326,
          0.20142727529678733,
          0.15245771782597484,
          0.14931027034953182,
          0.19119261524812697,
          0.12312378544483406,
          0.1312004674420581,
          0.1390087737184879,
          0.14005362756985346,
          0.12405716477086043,
          0.157397903462539,
          0.17411727975742852,
          0.1530533549693207,
          0.09353906954297651,
          0.16176753543578726,
          0.12036230917607635,
          0.17274510431260584,
          0.1028704865600849,
          0.12043435130660653,
          0.1312459979635948,
          0.12940227916422273,
          0.1203895469906983,
          0.1795107180454437,
          0.1633125345422653,
          0.17166640928793964,
          0.12021024450355348,
          0.21040330352730444,
          0.16073084562125609,
          0.19706092529183222,
          0.1693830555892381,
          0.15267960404218608,
          0.16854477485919755,
          0.2142214653647632,
          0.11294378491618436,
          0.205577740160368,
          0.18177222744236782,
          0.1904581725493159,
          0.19353466737518046,
          0.15875492304257924,
          0.12053734980115513,
          0.1241865080095968,
          0.1604638333650403,
          0.19563377574931753,
          0.14399195890575595,
          0.18590041848833622,
          0.11781541889214459,
          0.1821504072189959,
          0.20524306137735002,
          0.1810367640539921,
          0.21000829123884218,
          0.1525807804944474,
          0.13127282354246833,
          0.18361875991169335,
          0.20535320457065562,
          0.20439475445396524,
          0.16706135352922363,
          0.14203629491136752,
          0.13126017886658728,
          0.2048981739158571,
          0.18770052158006775,
          0.14187367101098422
         ],
         "z": [
          0.17916902703820736,
          0.21686264708673916,
          0.2451478298658258,
          0.2293589787586531,
          0.18989504853666908,
          0.19070224746908032,
          0.23341040633124324,
          0.23595267906264208,
          0.24637490871028003,
          0.23328799753732424,
          0.20586234406993542,
          0.22830377209578862,
          0.24883941797822876,
          0.1596296051259912,
          0.16831753479557085,
          0.1939546908192358,
          0.2012223658487631,
          0.22749535654101083,
          0.2756815903960572,
          0.19339550706798847,
          0.22837467816373935,
          0.22753306460011374,
          0.2095215594998718,
          0.176883799115605,
          0.20263502694577884,
          0.21506342467766235,
          0.19024984909556455,
          0.18238453565033697,
          0.2248680466019306,
          0.17047299202378313,
          0.20959787846175781,
          0.2556276655059857,
          0.21686606310025394,
          0.24903715855001457,
          0.2061209675674966,
          0.17833350684338625,
          0.18894240013960847,
          0.20729960376642936,
          0.23016518705755992,
          0.18588979679097165,
          0.19969302082008547,
          0.18415711513866612,
          0.16849054557509568,
          0.21633334956914685,
          0.25388739277789496,
          0.1917339978656092,
          0.21533878433762627,
          0.21130452669702424,
          0.2172586175561811,
          0.23862003165092366,
          0.21680137062021068,
          0.1939031447633827,
          0.24806601281354368,
          0.24424695641673255,
          0.20513822573003998,
          0.18320321087106964,
          0.20129553956720875,
          0.251719260353481,
          0.2193286237251048,
          0.2381778246903902,
          0.21726304048254627,
          0.25205803565066504,
          0.2667528412851973,
          0.20619313969995556,
          0.23380788692731075,
          0.2061727356940063,
          0.21396177585201226,
          0.20612690764114203,
          0.1909459538059086,
          0.2599246745098917,
          0.15963192439668625,
          0.2058483570774247,
          0.18565730417858317,
          0.21366443422092996,
          0.2274974836309453,
          0.19650286962865318,
          0.16005817467245861,
          0.24353171643640747,
          0.1778055880671767,
          0.20028098265396413,
          0.20466497574931916,
          0.21418938982477947,
          0.1940589444715912,
          0.21684127274573906,
          0.22830959029220524,
          0.20250364984782374,
          0.20128155379937912,
          0.25595668641062286,
          0.2256151564517055,
          0.24515886116146257,
          0.22484522837407944,
          0.19395471012956633,
          0.21311779751222515,
          0.17690234476609865,
          0.2061111303250027,
          0.22755266793759105,
          0.22834789190385466,
          0.192662711629782,
          0.14800369013593265,
          0.24497506734251157,
          0.23809729088903653,
          0.2382788739871584,
          0.17573193816822977,
          0.2077282361184913,
          0.21688886786034037
         ]
        },
        {
         "mode": "markers",
         "type": "scatter3d",
         "x": [
          0.1
         ],
         "y": [
          0.1
         ],
         "z": [
          0.1
         ]
        }
       ],
       "layout": {
        "template": {
         "data": {
          "bar": [
           {
            "error_x": {
             "color": "#2a3f5f"
            },
            "error_y": {
             "color": "#2a3f5f"
            },
            "marker": {
             "line": {
              "color": "#E5ECF6",
              "width": 0.5
             }
            },
            "type": "bar"
           }
          ],
          "barpolar": [
           {
            "marker": {
             "line": {
              "color": "#E5ECF6",
              "width": 0.5
             }
            },
            "type": "barpolar"
           }
          ],
          "carpet": [
           {
            "aaxis": {
             "endlinecolor": "#2a3f5f",
             "gridcolor": "white",
             "linecolor": "white",
             "minorgridcolor": "white",
             "startlinecolor": "#2a3f5f"
            },
            "baxis": {
             "endlinecolor": "#2a3f5f",
             "gridcolor": "white",
             "linecolor": "white",
             "minorgridcolor": "white",
             "startlinecolor": "#2a3f5f"
            },
            "type": "carpet"
           }
          ],
          "choropleth": [
           {
            "colorbar": {
             "outlinewidth": 0,
             "ticks": ""
            },
            "type": "choropleth"
           }
          ],
          "contour": [
           {
            "colorbar": {
             "outlinewidth": 0,
             "ticks": ""
            },
            "colorscale": [
             [
              0,
              "#0d0887"
             ],
             [
              0.1111111111111111,
              "#46039f"
             ],
             [
              0.2222222222222222,
              "#7201a8"
             ],
             [
              0.3333333333333333,
              "#9c179e"
             ],
             [
              0.4444444444444444,
              "#bd3786"
             ],
             [
              0.5555555555555556,
              "#d8576b"
             ],
             [
              0.6666666666666666,
              "#ed7953"
             ],
             [
              0.7777777777777778,
              "#fb9f3a"
             ],
             [
              0.8888888888888888,
              "#fdca26"
             ],
             [
              1,
              "#f0f921"
             ]
            ],
            "type": "contour"
           }
          ],
          "contourcarpet": [
           {
            "colorbar": {
             "outlinewidth": 0,
             "ticks": ""
            },
            "type": "contourcarpet"
           }
          ],
          "heatmap": [
           {
            "colorbar": {
             "outlinewidth": 0,
             "ticks": ""
            },
            "colorscale": [
             [
              0,
              "#0d0887"
             ],
             [
              0.1111111111111111,
              "#46039f"
             ],
             [
              0.2222222222222222,
              "#7201a8"
             ],
             [
              0.3333333333333333,
              "#9c179e"
             ],
             [
              0.4444444444444444,
              "#bd3786"
             ],
             [
              0.5555555555555556,
              "#d8576b"
             ],
             [
              0.6666666666666666,
              "#ed7953"
             ],
             [
              0.7777777777777778,
              "#fb9f3a"
             ],
             [
              0.8888888888888888,
              "#fdca26"
             ],
             [
              1,
              "#f0f921"
             ]
            ],
            "type": "heatmap"
           }
          ],
          "heatmapgl": [
           {
            "colorbar": {
             "outlinewidth": 0,
             "ticks": ""
            },
            "colorscale": [
             [
              0,
              "#0d0887"
             ],
             [
              0.1111111111111111,
              "#46039f"
             ],
             [
              0.2222222222222222,
              "#7201a8"
             ],
             [
              0.3333333333333333,
              "#9c179e"
             ],
             [
              0.4444444444444444,
              "#bd3786"
             ],
             [
              0.5555555555555556,
              "#d8576b"
             ],
             [
              0.6666666666666666,
              "#ed7953"
             ],
             [
              0.7777777777777778,
              "#fb9f3a"
             ],
             [
              0.8888888888888888,
              "#fdca26"
             ],
             [
              1,
              "#f0f921"
             ]
            ],
            "type": "heatmapgl"
           }
          ],
          "histogram": [
           {
            "marker": {
             "colorbar": {
              "outlinewidth": 0,
              "ticks": ""
             }
            },
            "type": "histogram"
           }
          ],
          "histogram2d": [
           {
            "colorbar": {
             "outlinewidth": 0,
             "ticks": ""
            },
            "colorscale": [
             [
              0,
              "#0d0887"
             ],
             [
              0.1111111111111111,
              "#46039f"
             ],
             [
              0.2222222222222222,
              "#7201a8"
             ],
             [
              0.3333333333333333,
              "#9c179e"
             ],
             [
              0.4444444444444444,
              "#bd3786"
             ],
             [
              0.5555555555555556,
              "#d8576b"
             ],
             [
              0.6666666666666666,
              "#ed7953"
             ],
             [
              0.7777777777777778,
              "#fb9f3a"
             ],
             [
              0.8888888888888888,
              "#fdca26"
             ],
             [
              1,
              "#f0f921"
             ]
            ],
            "type": "histogram2d"
           }
          ],
          "histogram2dcontour": [
           {
            "colorbar": {
             "outlinewidth": 0,
             "ticks": ""
            },
            "colorscale": [
             [
              0,
              "#0d0887"
             ],
             [
              0.1111111111111111,
              "#46039f"
             ],
             [
              0.2222222222222222,
              "#7201a8"
             ],
             [
              0.3333333333333333,
              "#9c179e"
             ],
             [
              0.4444444444444444,
              "#bd3786"
             ],
             [
              0.5555555555555556,
              "#d8576b"
             ],
             [
              0.6666666666666666,
              "#ed7953"
             ],
             [
              0.7777777777777778,
              "#fb9f3a"
             ],
             [
              0.8888888888888888,
              "#fdca26"
             ],
             [
              1,
              "#f0f921"
             ]
            ],
            "type": "histogram2dcontour"
           }
          ],
          "mesh3d": [
           {
            "colorbar": {
             "outlinewidth": 0,
             "ticks": ""
            },
            "type": "mesh3d"
           }
          ],
          "parcoords": [
           {
            "line": {
             "colorbar": {
              "outlinewidth": 0,
              "ticks": ""
             }
            },
            "type": "parcoords"
           }
          ],
          "pie": [
           {
            "automargin": true,
            "type": "pie"
           }
          ],
          "scatter": [
           {
            "marker": {
             "colorbar": {
              "outlinewidth": 0,
              "ticks": ""
             }
            },
            "type": "scatter"
           }
          ],
          "scatter3d": [
           {
            "line": {
             "colorbar": {
              "outlinewidth": 0,
              "ticks": ""
             }
            },
            "marker": {
             "colorbar": {
              "outlinewidth": 0,
              "ticks": ""
             }
            },
            "type": "scatter3d"
           }
          ],
          "scattercarpet": [
           {
            "marker": {
             "colorbar": {
              "outlinewidth": 0,
              "ticks": ""
             }
            },
            "type": "scattercarpet"
           }
          ],
          "scattergeo": [
           {
            "marker": {
             "colorbar": {
              "outlinewidth": 0,
              "ticks": ""
             }
            },
            "type": "scattergeo"
           }
          ],
          "scattergl": [
           {
            "marker": {
             "colorbar": {
              "outlinewidth": 0,
              "ticks": ""
             }
            },
            "type": "scattergl"
           }
          ],
          "scattermapbox": [
           {
            "marker": {
             "colorbar": {
              "outlinewidth": 0,
              "ticks": ""
             }
            },
            "type": "scattermapbox"
           }
          ],
          "scatterpolar": [
           {
            "marker": {
             "colorbar": {
              "outlinewidth": 0,
              "ticks": ""
             }
            },
            "type": "scatterpolar"
           }
          ],
          "scatterpolargl": [
           {
            "marker": {
             "colorbar": {
              "outlinewidth": 0,
              "ticks": ""
             }
            },
            "type": "scatterpolargl"
           }
          ],
          "scatterternary": [
           {
            "marker": {
             "colorbar": {
              "outlinewidth": 0,
              "ticks": ""
             }
            },
            "type": "scatterternary"
           }
          ],
          "surface": [
           {
            "colorbar": {
             "outlinewidth": 0,
             "ticks": ""
            },
            "colorscale": [
             [
              0,
              "#0d0887"
             ],
             [
              0.1111111111111111,
              "#46039f"
             ],
             [
              0.2222222222222222,
              "#7201a8"
             ],
             [
              0.3333333333333333,
              "#9c179e"
             ],
             [
              0.4444444444444444,
              "#bd3786"
             ],
             [
              0.5555555555555556,
              "#d8576b"
             ],
             [
              0.6666666666666666,
              "#ed7953"
             ],
             [
              0.7777777777777778,
              "#fb9f3a"
             ],
             [
              0.8888888888888888,
              "#fdca26"
             ],
             [
              1,
              "#f0f921"
             ]
            ],
            "type": "surface"
           }
          ],
          "table": [
           {
            "cells": {
             "fill": {
              "color": "#EBF0F8"
             },
             "line": {
              "color": "white"
             }
            },
            "header": {
             "fill": {
              "color": "#C8D4E3"
             },
             "line": {
              "color": "white"
             }
            },
            "type": "table"
           }
          ]
         },
         "layout": {
          "annotationdefaults": {
           "arrowcolor": "#2a3f5f",
           "arrowhead": 0,
           "arrowwidth": 1
          },
          "autotypenumbers": "strict",
          "coloraxis": {
           "colorbar": {
            "outlinewidth": 0,
            "ticks": ""
           }
          },
          "colorscale": {
           "diverging": [
            [
             0,
             "#8e0152"
            ],
            [
             0.1,
             "#c51b7d"
            ],
            [
             0.2,
             "#de77ae"
            ],
            [
             0.3,
             "#f1b6da"
            ],
            [
             0.4,
             "#fde0ef"
            ],
            [
             0.5,
             "#f7f7f7"
            ],
            [
             0.6,
             "#e6f5d0"
            ],
            [
             0.7,
             "#b8e186"
            ],
            [
             0.8,
             "#7fbc41"
            ],
            [
             0.9,
             "#4d9221"
            ],
            [
             1,
             "#276419"
            ]
           ],
           "sequential": [
            [
             0,
             "#0d0887"
            ],
            [
             0.1111111111111111,
             "#46039f"
            ],
            [
             0.2222222222222222,
             "#7201a8"
            ],
            [
             0.3333333333333333,
             "#9c179e"
            ],
            [
             0.4444444444444444,
             "#bd3786"
            ],
            [
             0.5555555555555556,
             "#d8576b"
            ],
            [
             0.6666666666666666,
             "#ed7953"
            ],
            [
             0.7777777777777778,
             "#fb9f3a"
            ],
            [
             0.8888888888888888,
             "#fdca26"
            ],
            [
             1,
             "#f0f921"
            ]
           ],
           "sequentialminus": [
            [
             0,
             "#0d0887"
            ],
            [
             0.1111111111111111,
             "#46039f"
            ],
            [
             0.2222222222222222,
             "#7201a8"
            ],
            [
             0.3333333333333333,
             "#9c179e"
            ],
            [
             0.4444444444444444,
             "#bd3786"
            ],
            [
             0.5555555555555556,
             "#d8576b"
            ],
            [
             0.6666666666666666,
             "#ed7953"
            ],
            [
             0.7777777777777778,
             "#fb9f3a"
            ],
            [
             0.8888888888888888,
             "#fdca26"
            ],
            [
             1,
             "#f0f921"
            ]
           ]
          },
          "colorway": [
           "#636efa",
           "#EF553B",
           "#00cc96",
           "#ab63fa",
           "#FFA15A",
           "#19d3f3",
           "#FF6692",
           "#B6E880",
           "#FF97FF",
           "#FECB52"
          ],
          "font": {
           "color": "#2a3f5f"
          },
          "geo": {
           "bgcolor": "white",
           "lakecolor": "white",
           "landcolor": "#E5ECF6",
           "showlakes": true,
           "showland": true,
           "subunitcolor": "white"
          },
          "hoverlabel": {
           "align": "left"
          },
          "hovermode": "closest",
          "mapbox": {
           "style": "light"
          },
          "paper_bgcolor": "white",
          "plot_bgcolor": "#E5ECF6",
          "polar": {
           "angularaxis": {
            "gridcolor": "white",
            "linecolor": "white",
            "ticks": ""
           },
           "bgcolor": "#E5ECF6",
           "radialaxis": {
            "gridcolor": "white",
            "linecolor": "white",
            "ticks": ""
           }
          },
          "scene": {
           "xaxis": {
            "backgroundcolor": "#E5ECF6",
            "gridcolor": "white",
            "gridwidth": 2,
            "linecolor": "white",
            "showbackground": true,
            "ticks": "",
            "zerolinecolor": "white"
           },
           "yaxis": {
            "backgroundcolor": "#E5ECF6",
            "gridcolor": "white",
            "gridwidth": 2,
            "linecolor": "white",
            "showbackground": true,
            "ticks": "",
            "zerolinecolor": "white"
           },
           "zaxis": {
            "backgroundcolor": "#E5ECF6",
            "gridcolor": "white",
            "gridwidth": 2,
            "linecolor": "white",
            "showbackground": true,
            "ticks": "",
            "zerolinecolor": "white"
           }
          },
          "shapedefaults": {
           "line": {
            "color": "#2a3f5f"
           }
          },
          "ternary": {
           "aaxis": {
            "gridcolor": "white",
            "linecolor": "white",
            "ticks": ""
           },
           "baxis": {
            "gridcolor": "white",
            "linecolor": "white",
            "ticks": ""
           },
           "bgcolor": "#E5ECF6",
           "caxis": {
            "gridcolor": "white",
            "linecolor": "white",
            "ticks": ""
           }
          },
          "title": {
           "x": 0.05
          },
          "xaxis": {
           "automargin": true,
           "gridcolor": "white",
           "linecolor": "white",
           "ticks": "",
           "title": {
            "standoff": 15
           },
           "zerolinecolor": "white",
           "zerolinewidth": 2
          },
          "yaxis": {
           "automargin": true,
           "gridcolor": "white",
           "linecolor": "white",
           "ticks": "",
           "title": {
            "standoff": 15
           },
           "zerolinecolor": "white",
           "zerolinewidth": 2
          }
         }
        }
       }
      }
     },
     "metadata": {},
     "output_type": "display_data"
    }
   ],
   "source": [
    "x = objective_values[:,0]\n",
    "y = objective_values[:,1]\n",
    "z = objective_values[:,2]\n",
    "\n",
    "x2 = obj[:,0]\n",
    "y2 = obj[:,1]\n",
    "z2 = obj[:,2]\n",
    "\n",
    "x3 = obj_2[:,0]\n",
    "y3 = obj_2[:,1]\n",
    "z3 = obj_2[:,2]\n",
    "\n",
    "trace1 = go.Scatter3d(x=x, y=y, z=z, mode=\"markers\",)\n",
    "trace2 = go.Scatter3d(x=x2, y=y2, z=z2, mode=\"markers\")\n",
    "trace3 = go.Scatter3d(x=x3, y=y3, z=z3, mode=\"markers\")\n",
    "trace4 = go.Scatter3d(x=[response[0]], y=[response[1]], z=[response[2]], mode=\"markers\")\n",
    "fig = go.Figure(data = [trace1, trace2, trace3, trace4])\n",
    "fig.show()"
   ]
  },
  {
   "cell_type": "markdown",
   "metadata": {},
   "source": [
    "# Giving preferred solution "
   ]
  },
  {
   "cell_type": "markdown",
   "metadata": {},
   "source": []
  }
 ],
 "metadata": {
  "interpreter": {
   "hash": "6c6c0ae7aaa0a56c8eada4d522e8a83a582742a607c946a767cbe62326f5353d"
  },
  "kernelspec": {
   "display_name": "desdeo-emo",
   "language": "python",
   "name": "python3"
  },
  "language_info": {
   "codemirror_mode": {
    "name": "ipython",
    "version": 3
   },
   "file_extension": ".py",
   "mimetype": "text/x-python",
   "name": "python",
   "nbconvert_exporter": "python",
   "pygments_lexer": "ipython3",
   "version": "3.8.10"
  }
 },
 "nbformat": 4,
 "nbformat_minor": 4
}
