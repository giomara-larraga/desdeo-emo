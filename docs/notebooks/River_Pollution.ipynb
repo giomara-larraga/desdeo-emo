{
 "cells": [
  {
   "cell_type": "markdown",
   "metadata": {},
   "source": [
    "# The River Pollution Problem"
   ]
  },
  {
   "cell_type": "code",
   "execution_count": 1,
   "metadata": {},
   "outputs": [],
   "source": [
    "from desdeo_emo.EAs.RVEA import RVEA\n",
    "from desdeo_problem import variable_builder, ScalarObjective, VectorObjective, MOProblem\n",
    "\n",
    "import numpy as np\n",
    "import pandas as pd\n",
    "from desdeo_emo.utilities.plotlyanimate import animate_init_, animate_next_"
   ]
  },
  {
   "cell_type": "code",
   "execution_count": 2,
   "metadata": {},
   "outputs": [],
   "source": [
    "# create the problem\n",
    "def f_1(x):\n",
    "    return 4.07 + 2.27 * x[:, 0]\n",
    "\n",
    "def f_2(x):\n",
    "    return 2.60 + 0.03*x[:, 0] + 0.02*x[:, 1] + 0.01 / (1.39 - x[:, 0]**2) + 0.30 / (1.39 - x[:, 1]**2)\n",
    "\n",
    "def f_3(x):\n",
    "    return 8.21 - 0.71 / (1.09 - x[:, 0]**2)\n",
    "\n",
    "def f_4(x):\n",
    "    return 0.96 - 0.96 / (1.09 - x[:, 1]**2)\n",
    "\n",
    "# def f_5(x):\n",
    "    # return -0.96 + 0.96 / (1.09 - x[:, 1]**2)\n",
    "\n",
    "def f_5(x):\n",
    "    return np.max([np.abs(x[:, 0] - 0.65), np.abs(x[:, 1] - 0.65)], axis=0)"
   ]
  },
  {
   "cell_type": "code",
   "execution_count": 3,
   "metadata": {},
   "outputs": [],
   "source": [
    "f1 = ScalarObjective(name=\"f1\", evaluator=f_1, maximize=True)\n",
    "f2 = ScalarObjective(name=\"f2\", evaluator=f_2, maximize=True)\n",
    "f3 = ScalarObjective(name=\"f3\", evaluator=f_3, maximize=True)\n",
    "f4 = ScalarObjective(name=\"f4\", evaluator=f_4, maximize=True)\n",
    "f5 = ScalarObjective(name=\"f5\", evaluator=f_5, maximize=False)"
   ]
  },
  {
   "cell_type": "code",
   "execution_count": 4,
   "metadata": {},
   "outputs": [],
   "source": [
    "varsl = variable_builder([\"x_1\", \"x_2\"],\n",
    "        initial_values=[0.5, 0.5],\n",
    "        lower_bounds=[0.3, 0.3],\n",
    "        upper_bounds=[1.0, 1.0]\n",
    "        )"
   ]
  },
  {
   "cell_type": "code",
   "execution_count": 5,
   "metadata": {},
   "outputs": [],
   "source": [
    "problem = MOProblem(variables=varsl, objectives=[f1, f2, f3, f4, f5])"
   ]
  },
  {
   "cell_type": "code",
   "execution_count": 6,
   "metadata": {},
   "outputs": [
    {
     "name": "stdout",
     "output_type": "stream",
     "text": [
      "Plot saved as:  river.html\n",
      "View the plot by opening the file in browser.\n",
      "To view the plot in Jupyter Notebook, use the IFrame command.\n"
     ]
    }
   ],
   "source": [
    "evolver = RVEA(problem, interact=True, n_iterations=5, n_gen_per_iter=100)\n",
    "figure = animate_init_(evolver.population.objectives, filename=\"river.html\")"
   ]
  },
  {
   "cell_type": "code",
   "execution_count": 7,
   "metadata": {},
   "outputs": [
    {
     "ename": "eaError",
     "evalue": "Interaction type not set. Use the set_interaction_type() method.",
     "output_type": "error",
     "traceback": [
      "\u001b[0;31m---------------------------------------------------------------------------\u001b[0m",
      "\u001b[0;31meaError\u001b[0m                                   Traceback (most recent call last)",
      "Cell \u001b[0;32mIn [7], line 1\u001b[0m\n\u001b[0;32m----> 1\u001b[0m pref, plot \u001b[38;5;241m=\u001b[39m \u001b[43mevolver\u001b[49m\u001b[38;5;241;43m.\u001b[39;49m\u001b[43mstart\u001b[49m\u001b[43m(\u001b[49m\u001b[43m)\u001b[49m\n",
      "File \u001b[0;32m~/EMO2022/desdeo-emo/desdeo_emo/EAs/BaseEA.py:84\u001b[0m, in \u001b[0;36mBaseEA.start\u001b[0;34m(self)\u001b[0m\n\u001b[1;32m     82\u001b[0m     \u001b[38;5;28;01mraise\u001b[39;00m eaError(\u001b[38;5;124m\"\u001b[39m\u001b[38;5;124mSelection operator not initialized.\u001b[39m\u001b[38;5;124m\"\u001b[39m)\n\u001b[1;32m     83\u001b[0m \u001b[38;5;28;01mif\u001b[39;00m \u001b[38;5;28mself\u001b[39m\u001b[38;5;241m.\u001b[39minteract \u001b[38;5;129;01mand\u001b[39;00m \u001b[38;5;129;01mnot\u001b[39;00m \u001b[38;5;28mself\u001b[39m\u001b[38;5;241m.\u001b[39minteraction_type_set_bool:\n\u001b[0;32m---> 84\u001b[0m     \u001b[38;5;28;01mraise\u001b[39;00m eaError(\n\u001b[1;32m     85\u001b[0m         \u001b[38;5;124m\"\u001b[39m\u001b[38;5;124mInteraction type not set. Use the set_interaction_type() method.\u001b[39m\u001b[38;5;124m\"\u001b[39m\n\u001b[1;32m     86\u001b[0m     )\n\u001b[1;32m     87\u001b[0m \u001b[38;5;28;01mreturn\u001b[39;00m \u001b[38;5;28mself\u001b[39m\u001b[38;5;241m.\u001b[39mrequests()\n",
      "\u001b[0;31meaError\u001b[0m: Interaction type not set. Use the set_interaction_type() method."
     ]
    }
   ],
   "source": [
    "pref, plot = evolver.start()"
   ]
  },
  {
   "cell_type": "code",
   "execution_count": null,
   "metadata": {},
   "outputs": [],
   "source": [
    "print(plot.content[\"dimensions_data\"])"
   ]
  },
  {
   "cell_type": "code",
   "execution_count": null,
   "metadata": {},
   "outputs": [],
   "source": [
    "print(pref[0].content['message'])"
   ]
  },
  {
   "cell_type": "code",
   "execution_count": null,
   "metadata": {},
   "outputs": [],
   "source": [
    "pref[2].response = pd.DataFrame([[6.3,3.3,7,-2,0.3]],\n",
    "                             columns=pref[2].content['dimensions_data'].columns)"
   ]
  },
  {
   "cell_type": "code",
   "execution_count": null,
   "metadata": {},
   "outputs": [],
   "source": [
    "pref, plot = evolver.iterate(pref[2])\n",
    "figure = animate_next_(\n",
    "    plot.content['data'].values,\n",
    "    figure,\n",
    "    filename=\"river.html\",\n",
    "    generation=evolver._iteration_counter,\n",
    ")\n",
    "\n",
    "message = (f\"Current generation number:{evolver._current_gen_count}. \"\n",
    "           f\"Is looping back recommended: {'Yes' if evolver.continue_evolution() else 'No'}\")\n",
    "print(message)"
   ]
  },
  {
   "cell_type": "code",
   "execution_count": null,
   "metadata": {},
   "outputs": [],
   "source": []
  }
 ],
 "metadata": {
  "kernelspec": {
   "display_name": "Python 3 (ipykernel)",
   "language": "python",
   "name": "python3"
  },
  "language_info": {
   "codemirror_mode": {
    "name": "ipython",
    "version": 3
   },
   "file_extension": ".py",
   "mimetype": "text/x-python",
   "name": "python",
   "nbconvert_exporter": "python",
   "pygments_lexer": "ipython3",
   "version": "3.8.14"
  }
 },
 "nbformat": 4,
 "nbformat_minor": 4
}
