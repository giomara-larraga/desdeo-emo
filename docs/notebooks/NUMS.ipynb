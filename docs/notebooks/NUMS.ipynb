{
 "cells": [
  {
   "cell_type": "markdown",
   "metadata": {},
   "source": [
    "# Testing NUMS and NUMS+"
   ]
  },
  {
   "cell_type": "code",
   "execution_count": 1,
   "metadata": {},
   "outputs": [],
   "source": [
    "# Package for plotting the results\n",
    "import plotly.graph_objects as go\n",
    "import numpy as np\n",
    "import pandas as pd\n",
    "\n",
    "import desdeo_emo.utilities.ReferenceVectors as ReferenceVectors\n",
    "from desdeo_emo.EAs.MOEAD_NUMS import MOEA_D_NUMS\n",
    "from desdeo_emo.EAs.MOEAD_NUMS_PLUS import MOEA_D_NUMS_PLUS\n",
    "\n",
    "from desdeo_problem.testproblems.TestProblems import test_problem_builder\n",
    "\n",
    "#function to plot results\n",
    "def plot3d(data):\n",
    "    fig2 = go.Figure(data=go.Scatter3d(x=data[:,0],\n",
    "                                   y=data[:,1],\n",
    "                                   z=data[:,2],\n",
    "                                   mode=\"markers\",\n",
    "                                   marker_size=1))\n",
    "    return fig2\n",
    "\n",
    "\n",
    "ref_point = np.array([0.7,0.0001,0.0001])\n",
    "flag = 0\n",
    "roi_size= 0.1\n",
    "\n",
    "#Problem to solve\n",
    "problem = test_problem_builder(name=\"DTLZ1\", n_of_variables=7, n_of_objectives=3)"
   ]
  },
  {
   "cell_type": "markdown",
   "metadata": {},
   "source": [
    "Create the evolvers"
   ]
  },
  {
   "cell_type": "code",
   "execution_count": 2,
   "metadata": {},
   "outputs": [],
   "source": [
    "int_nums = MOEA_D_NUMS(problem=problem, interact=True, n_gen_per_iter=100, roi_size=roi_size)\n",
    "int_nums_plus = MOEA_D_NUMS_PLUS(problem=problem, interact=True, n_gen_per_iter=100, roi_size=roi_size, num_solutions_display=5)"
   ]
  },
  {
   "cell_type": "markdown",
   "metadata": {},
   "source": [
    "Start both methods and show ideal and nadir points"
   ]
  },
  {
   "cell_type": "code",
   "execution_count": 3,
   "metadata": {},
   "outputs": [
    {
     "name": "stdout",
     "output_type": "stream",
     "text": [
      "[0.00712038 0.0085945  0.        ]\n",
      "[0.50112135 0.50910915 0.45922239]\n",
      "[[0.39508741 0.09100446 0.04092243]\n",
      " [0.07540842 0.25028968 0.19366757]\n",
      " [0.12323651 0.35535639 0.03904871]\n",
      " [0.04543955 0.08603121 0.3902611 ]\n",
      " [0.24062724 0.08681407 0.19787119]]\n"
     ]
    }
   ],
   "source": [
    "int_nums.start()\n",
    "int_nums_plus.start()\n",
    "\n",
    "print(int_nums_plus._global_ideal_point)\n",
    "print(int_nums_plus._global_nadir_point)\n",
    "print(int_nums_plus._current_display_solutions)"
   ]
  },
  {
   "cell_type": "markdown",
   "metadata": {},
   "source": [
    "Run both methods with the initial reference point"
   ]
  },
  {
   "cell_type": "code",
   "execution_count": 4,
   "metadata": {},
   "outputs": [
    {
     "ename": "ValidationError",
     "evalue": "Reference point should be worse than or equal to the ideal point\nThe following columns have problematic values: [('f2',)]",
     "output_type": "error",
     "traceback": [
      "\u001b[0;31m---------------------------------------------------------------------------\u001b[0m",
      "\u001b[0;31mValidationError\u001b[0m                           Traceback (most recent call last)",
      "\u001b[0;32m<ipython-input-4-2c1d419d47c0>\u001b[0m in \u001b[0;36m<cell line: 4>\u001b[0;34m()\u001b[0m\n\u001b[1;32m      2\u001b[0m \u001b[0mpref_int_nums_plus\u001b[0m\u001b[0;34m,\u001b[0m \u001b[0mplot_int_nums_plus\u001b[0m \u001b[0;34m=\u001b[0m \u001b[0mint_nums_plus\u001b[0m\u001b[0;34m.\u001b[0m\u001b[0mrequests\u001b[0m\u001b[0;34m(\u001b[0m\u001b[0;34m)\u001b[0m\u001b[0;34m\u001b[0m\u001b[0;34m\u001b[0m\u001b[0m\n\u001b[1;32m      3\u001b[0m \u001b[0;34m\u001b[0m\u001b[0m\n\u001b[0;32m----> 4\u001b[0;31m \u001b[0mpref_int_nums\u001b[0m\u001b[0;34m[\u001b[0m\u001b[0;36m2\u001b[0m\u001b[0;34m]\u001b[0m\u001b[0;34m.\u001b[0m\u001b[0mresponse\u001b[0m \u001b[0;34m=\u001b[0m \u001b[0mpd\u001b[0m\u001b[0;34m.\u001b[0m\u001b[0mDataFrame\u001b[0m\u001b[0;34m(\u001b[0m\u001b[0;34m[\u001b[0m\u001b[0mref_point\u001b[0m\u001b[0;34m]\u001b[0m\u001b[0;34m,\u001b[0m \u001b[0mcolumns\u001b[0m\u001b[0;34m=\u001b[0m\u001b[0mpref_int_nums\u001b[0m\u001b[0;34m[\u001b[0m\u001b[0;36m2\u001b[0m\u001b[0;34m]\u001b[0m\u001b[0;34m.\u001b[0m\u001b[0mcontent\u001b[0m\u001b[0;34m[\u001b[0m\u001b[0;34m'dimensions_data'\u001b[0m\u001b[0;34m]\u001b[0m\u001b[0;34m.\u001b[0m\u001b[0mcolumns\u001b[0m\u001b[0;34m)\u001b[0m\u001b[0;34m\u001b[0m\u001b[0;34m\u001b[0m\u001b[0m\n\u001b[0m\u001b[1;32m      5\u001b[0m \u001b[0mpref_int_nums_plus\u001b[0m\u001b[0;34m[\u001b[0m\u001b[0;36m2\u001b[0m\u001b[0;34m]\u001b[0m\u001b[0;34m.\u001b[0m\u001b[0mresponse\u001b[0m \u001b[0;34m=\u001b[0m \u001b[0mpd\u001b[0m\u001b[0;34m.\u001b[0m\u001b[0mDataFrame\u001b[0m\u001b[0;34m(\u001b[0m\u001b[0;34m[\u001b[0m\u001b[0mref_point\u001b[0m\u001b[0;34m]\u001b[0m\u001b[0;34m,\u001b[0m \u001b[0mcolumns\u001b[0m\u001b[0;34m=\u001b[0m\u001b[0mpref_int_nums_plus\u001b[0m\u001b[0;34m[\u001b[0m\u001b[0;36m2\u001b[0m\u001b[0;34m]\u001b[0m\u001b[0;34m.\u001b[0m\u001b[0mcontent\u001b[0m\u001b[0;34m[\u001b[0m\u001b[0;34m'dimensions_data'\u001b[0m\u001b[0;34m]\u001b[0m\u001b[0;34m.\u001b[0m\u001b[0mcolumns\u001b[0m\u001b[0;34m)\u001b[0m\u001b[0;34m\u001b[0m\u001b[0;34m\u001b[0m\u001b[0m\n\u001b[1;32m      6\u001b[0m \u001b[0;34m\u001b[0m\u001b[0m\n",
      "\u001b[0;32m~/PPSN2022/vppsn/lib/python3.8/site-packages/desdeo_tools/utilities/frozen.py\u001b[0m in \u001b[0;36m__setattr__\u001b[0;34m(self, key, value)\u001b[0m\n\u001b[1;32m     12\u001b[0m         \u001b[0;32mif\u001b[0m \u001b[0mself\u001b[0m\u001b[0;34m.\u001b[0m\u001b[0m__isfrozen\u001b[0m \u001b[0;32mand\u001b[0m \u001b[0;32mnot\u001b[0m \u001b[0mhasattr\u001b[0m\u001b[0;34m(\u001b[0m\u001b[0mself\u001b[0m\u001b[0;34m,\u001b[0m \u001b[0mkey\u001b[0m\u001b[0;34m)\u001b[0m\u001b[0;34m:\u001b[0m\u001b[0;34m\u001b[0m\u001b[0;34m\u001b[0m\u001b[0m\n\u001b[1;32m     13\u001b[0m             \u001b[0;32mraise\u001b[0m \u001b[0mTypeError\u001b[0m\u001b[0;34m(\u001b[0m\u001b[0;34m\"%r is a frozen class\"\u001b[0m \u001b[0;34m%\u001b[0m \u001b[0mself\u001b[0m\u001b[0;34m)\u001b[0m\u001b[0;34m\u001b[0m\u001b[0;34m\u001b[0m\u001b[0m\n\u001b[0;32m---> 14\u001b[0;31m         \u001b[0mobject\u001b[0m\u001b[0;34m.\u001b[0m\u001b[0m__setattr__\u001b[0m\u001b[0;34m(\u001b[0m\u001b[0mself\u001b[0m\u001b[0;34m,\u001b[0m \u001b[0mkey\u001b[0m\u001b[0;34m,\u001b[0m \u001b[0mvalue\u001b[0m\u001b[0;34m)\u001b[0m\u001b[0;34m\u001b[0m\u001b[0;34m\u001b[0m\u001b[0m\n\u001b[0m\u001b[1;32m     15\u001b[0m \u001b[0;34m\u001b[0m\u001b[0m\n\u001b[1;32m     16\u001b[0m     \u001b[0;32mdef\u001b[0m \u001b[0m_freeze\u001b[0m\u001b[0;34m(\u001b[0m\u001b[0mself\u001b[0m\u001b[0;34m)\u001b[0m\u001b[0;34m:\u001b[0m\u001b[0;34m\u001b[0m\u001b[0;34m\u001b[0m\u001b[0m\n",
      "\u001b[0;32m~/PPSN2022/vppsn/lib/python3.8/site-packages/desdeo_tools/interaction/request.py\u001b[0m in \u001b[0;36mresponse\u001b[0;34m(self, value)\u001b[0m\n\u001b[1;32m    380\u001b[0m             \u001b[0mmsg\u001b[0m \u001b[0;34m=\u001b[0m \u001b[0;34m\"Reference should be provided in a pandas dataframe format\"\u001b[0m\u001b[0;34m\u001b[0m\u001b[0;34m\u001b[0m\u001b[0m\n\u001b[1;32m    381\u001b[0m             \u001b[0;32mraise\u001b[0m \u001b[0mRequestError\u001b[0m\u001b[0;34m(\u001b[0m\u001b[0mmsg\u001b[0m\u001b[0;34m)\u001b[0m\u001b[0;34m\u001b[0m\u001b[0;34m\u001b[0m\u001b[0m\n\u001b[0;32m--> 382\u001b[0;31m         self.content[\"validator\"](\n\u001b[0m\u001b[1;32m    383\u001b[0m             \u001b[0mreference_point\u001b[0m\u001b[0;34m=\u001b[0m\u001b[0mvalue\u001b[0m\u001b[0;34m,\u001b[0m \u001b[0mdimensions_data\u001b[0m\u001b[0;34m=\u001b[0m\u001b[0mself\u001b[0m\u001b[0;34m.\u001b[0m\u001b[0mcontent\u001b[0m\u001b[0;34m[\u001b[0m\u001b[0;34m\"dimensions_data\"\u001b[0m\u001b[0;34m]\u001b[0m\u001b[0;34m\u001b[0m\u001b[0;34m\u001b[0m\u001b[0m\n\u001b[1;32m    384\u001b[0m         )\n",
      "\u001b[0;32m~/PPSN2022/desdeo-emo/desdeo_emo/EAs/BaseEA.py\u001b[0m in \u001b[0;36mvalidator\u001b[0;34m(dimensions_data, reference_point)\u001b[0m\n\u001b[1;32m    394\u001b[0m             \u001b[0mvalidate_ref_point_dimensions\u001b[0m\u001b[0;34m(\u001b[0m\u001b[0mdimensions_data\u001b[0m\u001b[0;34m,\u001b[0m \u001b[0mreference_point\u001b[0m\u001b[0;34m)\u001b[0m\u001b[0;34m\u001b[0m\u001b[0;34m\u001b[0m\u001b[0m\n\u001b[1;32m    395\u001b[0m             \u001b[0mvalidate_ref_point_data_type\u001b[0m\u001b[0;34m(\u001b[0m\u001b[0mreference_point\u001b[0m\u001b[0;34m)\u001b[0m\u001b[0;34m\u001b[0m\u001b[0;34m\u001b[0m\u001b[0m\n\u001b[0;32m--> 396\u001b[0;31m             \u001b[0mvalidate_ref_point_with_ideal\u001b[0m\u001b[0;34m(\u001b[0m\u001b[0mdimensions_data\u001b[0m\u001b[0;34m,\u001b[0m \u001b[0mreference_point\u001b[0m\u001b[0;34m)\u001b[0m\u001b[0;34m\u001b[0m\u001b[0;34m\u001b[0m\u001b[0m\n\u001b[0m\u001b[1;32m    397\u001b[0m             \u001b[0;32mreturn\u001b[0m\u001b[0;34m\u001b[0m\u001b[0;34m\u001b[0m\u001b[0m\n\u001b[1;32m    398\u001b[0m \u001b[0;34m\u001b[0m\u001b[0m\n",
      "\u001b[0;32m~/PPSN2022/vppsn/lib/python3.8/site-packages/desdeo_tools/interaction/validators.py\u001b[0m in \u001b[0;36mvalidate_ref_point_with_ideal\u001b[0;34m(dimensions_data, reference_point)\u001b[0m\n\u001b[1;32m     31\u001b[0m             \u001b[0;34mf\"The following columns have problematic values: {problematic_columns}\"\u001b[0m\u001b[0;34m\u001b[0m\u001b[0;34m\u001b[0m\u001b[0m\n\u001b[1;32m     32\u001b[0m         )\n\u001b[0;32m---> 33\u001b[0;31m         \u001b[0;32mraise\u001b[0m \u001b[0mValidationError\u001b[0m\u001b[0;34m(\u001b[0m\u001b[0mmsg\u001b[0m\u001b[0;34m)\u001b[0m\u001b[0;34m\u001b[0m\u001b[0;34m\u001b[0m\u001b[0m\n\u001b[0m\u001b[1;32m     34\u001b[0m \u001b[0;34m\u001b[0m\u001b[0m\n\u001b[1;32m     35\u001b[0m \u001b[0;34m\u001b[0m\u001b[0m\n",
      "\u001b[0;31mValidationError\u001b[0m: Reference point should be worse than or equal to the ideal point\nThe following columns have problematic values: [('f2',)]"
     ]
    }
   ],
   "source": [
    "pref_int_nums, plot_int_nums  = int_nums.requests()\n",
    "pref_int_nums_plus, plot_int_nums_plus = int_nums_plus.requests()\n",
    "\n",
    "pref_int_nums[2].response = pd.DataFrame([ref_point], columns=pref_int_nums[2].content['dimensions_data'].columns)\n",
    "pref_int_nums_plus[2].response = pd.DataFrame([ref_point], columns=pref_int_nums_plus[2].content['dimensions_data'].columns)\n",
    "\n",
    "pref_int_nums, plot_int_nums = int_nums.iterate(pref_int_nums[2])\n",
    "pref_int_nums_plus, plot_int_nums_plus  = int_nums_plus.iterate(pref_int_nums_plus[2])\n",
    "\n",
    "fig_nums = plot3d(int_nums.population.objectives)\n",
    "fig_nums_plus = plot3d(int_nums_plus.population.objectives)\n",
    "\n",
    "fig_nums"
   ]
  },
  {
   "cell_type": "code",
   "execution_count": null,
   "metadata": {},
   "outputs": [],
   "source": [
    "fig_nums_plus"
   ]
  }
 ],
 "metadata": {
  "kernelspec": {
   "display_name": "Python 3.7.9 64-bit",
   "metadata": {
    "interpreter": {
     "hash": "fa0657fd682da5b19fd87c26883d1e3e7f91341171573160c7598b8092ac4ae5"
    }
   },
   "name": "python3"
  },
  "language_info": {
   "codemirror_mode": {
    "name": "ipython",
    "version": 3
   },
   "file_extension": ".py",
   "mimetype": "text/x-python",
   "name": "python",
   "nbconvert_exporter": "python",
   "pygments_lexer": "ipython3",
   "version": "3.8.10"
  }
 },
 "nbformat": 4,
 "nbformat_minor": 4
}
