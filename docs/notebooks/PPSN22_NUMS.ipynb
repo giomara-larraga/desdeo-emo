{
 "cells": [
  {
   "cell_type": "markdown",
   "metadata": {},
   "source": [
    "# Transforming an a priori method into an interactive one\n",
    "Examples fot the PPSN article"
   ]
  },
  {
   "cell_type": "code",
   "execution_count": 1,
   "metadata": {},
   "outputs": [],
   "source": [
    "# Package for plotting the results\n",
    "import plotly.graph_objects as go\n",
    "\n",
    "# Package to create the Problem object\n",
    "from desdeo_problem.testproblems.TestProblems import test_problem_builder\n",
    "\n",
    "# Packages for using MOEA/D and the available scalarization functions\n",
    "from desdeo_emo.EAs.MOEAD_NUMS import MOEA_D_NUMS\n",
    "from desdeo_problem import variable_builder, ScalarObjective, VectorObjective, MOProblem\n",
    "from desdeo_problem.problem import Variable\n",
    "import numpy as np\n",
    "import pandas as pd\n",
    "\n",
    "\n",
    "problem = test_problem_builder(name=\"DTLZ2\", n_of_variables=12, n_of_objectives=3)\n",
    "\n",
    "ideal = np.asarray([0] * problem.n_of_objectives)\n",
    "nadir = np.asarray([1] * problem.n_of_objectives)\n",
    "\n",
    "solutions_display = 5\n",
    "\n",
    "def plot_complete(data, pareto_front):\n",
    "    trace1 = go.Scatter3d(x=pareto_front[:,0],y=pareto_front[:,1],z=pareto_front[:,2],mode='markers',marker_size=1)\n",
    "    trace2 = go.Scatter3d(x=data[:,0],y=data[:,1],z=data[:,2],mode='markers',marker_size=1)\n",
    "    fig = go.Figure(data= [trace1,trace2])\n",
    "    return fig\n",
    "\n",
    "\n",
    "\n",
    "\n",
    "def plot_results_scatter(data):\n",
    "    fig2 = go.Figure(data=go.Scatter3d(x=data[:,0],\n",
    "                                   y=data[:,1],\n",
    "                                   z=data[:,2],\n",
    "                                   mode=\"markers\",\n",
    "                                   marker_size=1))\n",
    "    return fig2\n",
    "\n"
   ]
  },
  {
   "cell_type": "markdown",
   "metadata": {},
   "source": [
    "Create the object and run the initialization step"
   ]
  },
  {
   "cell_type": "code",
   "execution_count": 2,
   "metadata": {},
   "outputs": [
    {
     "name": "stdout",
     "output_type": "stream",
     "text": [
      "[0.00419115 0.00023728 0.0138091 ]\n"
     ]
    }
   ],
   "source": [
    "int_nums_plus = MOEA_D_NUMS(problem=problem, interact=True, n_gen_per_iter=100, roi_size=1, global_ideal_point=ideal)\n",
    "\n",
    "\n",
    "#int_nums_plus.start()\n",
    "\n",
    "print(int_nums_plus._ideal_point)\n"
   ]
  },
  {
   "cell_type": "markdown",
   "metadata": {},
   "source": [
    "Ask for preference information. Then, run the a priori algorithm"
   ]
  },
  {
   "cell_type": "code",
   "execution_count": 3,
   "metadata": {},
   "outputs": [
    {
     "data": {
      "application/vnd.plotly.v1+json": {
       "config": {
        "plotlyServerURL": "https://plotly.com"
       },
       "data": [
        {
         "marker": {
          "size": 1
         },
         "mode": "markers",
         "type": "scatter3d",
         "x": [
          3.770838924681299e-33,
          0.005415404138384737,
          0.0008624642023350918,
          1.7839082961500734e-17,
          2.4938394428504615e-17,
          3.2573777259503306e-17,
          4.0129008045367904e-17,
          0.0012629162313150648,
          5.2396448264297536e-17,
          5.63545736426894e-17,
          5.91197454745423e-17,
          6.091273936953689e-17,
          6.159193352992011e-17,
          6.144815642264067e-17,
          0.08396231032714112,
          0.08923233767320131,
          0.09944368848617212,
          0.1050828056438282,
          0.11092726372728269,
          0.11689335879710637,
          0.12030219069145788,
          0.11490261466106164,
          0.10866560519675536,
          0.10516991136901283,
          0.09871740881809128,
          0.09207161306771162,
          0.08625646947171599,
          0.17845921347405375,
          0.19572441546426797,
          0.21410223127084302,
          0.22785638201363753,
          0.2432528094141302,
          0.24780572179571841,
          0.253345386456185,
          0.24518124426930182,
          0.2307277844250602,
          0.21562640528967247,
          0.19761548849759916,
          0.18071486960008365,
          0.290371876990514,
          0.31705029956247205,
          0.34392567369043403,
          0.36729289943735705,
          0.3884313242409076,
          0.3939601744072279,
          0.39075431597884325,
          0.3683045427198866,
          0.34315857791050375,
          0.3186370244996612,
          0.29055720103324884,
          0.4092486126808417,
          0.45284853697220473,
          0.4875596601145093,
          0.5158217259018373,
          0.5308998625167759,
          0.5315904032520391,
          0.5199566160595366,
          0.48691216900341033,
          0.4445597525049175,
          0.40866871791532683,
          0.5340053027018441,
          0.5774896721632427,
          0.623579566482929,
          0.656417049795302,
          0.6652608500782339,
          0.6526028330004957,
          0.6252690078698105,
          0.5803148201073391,
          0.537645241564526,
          0.655838101771246,
          0.708140797183585,
          0.7538638749805157,
          0.7749111177338873,
          0.7782830084354415,
          0.7489669656363244,
          0.7067597870166659,
          0.6607448039681297,
          0.7673232463059196,
          0.8126009979994643,
          0.8525608958082073,
          0.866356540317817,
          0.8493571557448353,
          0.8145941554550961,
          0.7630731465683208,
          0.8580534454839683,
          0.8952635554328157,
          0.9203106374440971,
          0.9182120381957574,
          0.8992784189581983,
          0.8578331072746328,
          0.9213841155406066,
          0.9543157472799383,
          0.9638376754099636,
          0.9498500125806584,
          0.9286271306957475,
          0.9648316577017705,
          0.9848538643907663,
          0.9811488380610163,
          0.9611465448897429,
          0.9907028913570329,
          1.0015635860774055,
          0.9894871548051761,
          1.003330689612768,
          1.0065360468833808,
          1.0083000109074791
         ],
         "y": [
          6.158247304131614e-17,
          0.08714612580864595,
          0.17898686819863693,
          0.29133433368577777,
          0.4072748884963027,
          0.5319701530626209,
          0.6553564353952059,
          0.7643063426799,
          0.8556989378615611,
          0.9203400308060355,
          0.9654987138447393,
          0.9947805263027139,
          1.0058726087032248,
          1.0035245503507342,
          0,
          0.0901382461620443,
          0.19833160470112332,
          0.31733595558928296,
          0.4437981980393505,
          0.5864894410691641,
          0.7086652142591692,
          0.8147610297339999,
          0.8930971788890747,
          0.9532046199371245,
          0.9903433907364814,
          0.999720461532656,
          1.003384081222694,
          0,
          0.09793542014084478,
          0.21348005801789097,
          0.3445197756769438,
          0.487733750354097,
          0.6269200719974921,
          0.7533689530007207,
          0.8494088182890924,
          0.9231001052698634,
          0.9634571341720425,
          0.9879610448152946,
          0.9899153778595273,
          2.020424639784958e-7,
          0.10616549994385521,
          0.22944717468966733,
          0.36818787492088073,
          0.5157263925615712,
          0.655052211143619,
          0.7729100537068082,
          0.8619678104741687,
          0.9190396936062558,
          0.9557079728209131,
          0.9667538108345572,
          0,
          0.11217396044716477,
          0.24334714155733125,
          0.38719487991965196,
          0.5317956819030426,
          0.672729161625057,
          0.7799301703160544,
          0.8504086295998766,
          0.8930926360798445,
          0.9187446856396981,
          0,
          0.12186007202532316,
          0.24988079854744102,
          0.39297895212605194,
          0.5333168904351862,
          0.6536680942481558,
          0.7513477654030365,
          0.8117060370252188,
          0.8608725014703423,
          0.00003229428468863718,
          0.11824459038362647,
          0.24973383618152395,
          0.38801622452363976,
          0.5194713764453828,
          0.6244357901838623,
          0.7067255457447886,
          0.7699694794871778,
          0,
          0.11594927842781774,
          0.24255322938583393,
          0.3689100467168368,
          0.4867829255485867,
          0.582053750666552,
          0.6536884184320103,
          0.0008459813581131861,
          0.11159736687319835,
          0.2315210893943834,
          0.34414553027219713,
          0.4491133442165835,
          0.5362166629619592,
          0,
          0.10588579528094401,
          0.21439963559681333,
          0.31763792620342357,
          0.41230148796574684,
          0,
          0.09990948341998028,
          0.19457445545203497,
          0.29395724005336554,
          0,
          0.09214613484510557,
          0.18019460155405875,
          0,
          0.08329066437753997,
          0
         ],
         "z": [
          1.005718107199435,
          1.0092420494601206,
          0.9871908795530177,
          0.9707504147142062,
          0.9168848117881333,
          0.8516885156131834,
          0.764840324139761,
          0.6557071316249534,
          0.5336915471073873,
          0.4087898001528102,
          0.28813126938127087,
          0.18157001756836166,
          0.08332089179698146,
          0,
          1.0098395625795855,
          0.9989493761674085,
          0.9858331795887586,
          0.9459365566194683,
          0.8902634181201425,
          0.815370225837395,
          0.7077990116347317,
          0.5821859894739169,
          0.44789545758151955,
          0.31835450516951364,
          0.19655948826327058,
          0.09122351051481657,
          0,
          0.9870908874615097,
          0.9821745232685125,
          0.9572443107237,
          0.9174167240618166,
          0.8542854893177795,
          0.7516162213620002,
          0.6281088887094548,
          0.48603158137619085,
          0.34622239603098137,
          0.2138584247783744,
          0.09810169639134995,
          0,
          0.9660833712874133,
          0.9478870454356925,
          0.9182723426007278,
          0.8636028492412228,
          0.7744015778833542,
          0.653315846926896,
          0.5130638658189817,
          0.36758659187998216,
          0.2301206233271664,
          0.10686495730441105,
          0.0007626111854139973,
          0.9225096320288557,
          0.899539577905592,
          0.8520451825012145,
          0.7732090342386543,
          0.66316299256146,
          0.5365302581173524,
          0.3897667592791853,
          0.24451715309723607,
          0.10829156166654338,
          0,
          0.8553704014156099,
          0.8154204610429475,
          0.7477491186606088,
          0.6571213584176616,
          0.5363869787905149,
          0.3911205273104902,
          0.2495190017016846,
          0.1177745381345937,
          0,
          0.7617628571607871,
          0.70899883488273,
          0.6281256208417008,
          0.5162526503766045,
          0.3899148941248322,
          0.2491323686425784,
          0.11623605313844494,
          0,
          0.6573535731754083,
          0.580208582113311,
          0.48707407921396806,
          0.37217059263908003,
          0.24384037717029458,
          0.11711067639670267,
          0,
          0.5360170449448073,
          0.4473830710934196,
          0.3461741866692602,
          0.22850674149809144,
          0.11266701782584772,
          0,
          0.40724737063891553,
          0.31956172600013233,
          0.2171073901802017,
          0.10362880482309268,
          0,
          0.2883467302503789,
          0.19645243685082675,
          0.0989028554456545,
          0,
          0.17942825740069435,
          0.09206735709549932,
          0,
          0.08685934123619764,
          0,
          0
         ]
        }
       ],
       "layout": {
        "template": {
         "data": {
          "bar": [
           {
            "error_x": {
             "color": "#2a3f5f"
            },
            "error_y": {
             "color": "#2a3f5f"
            },
            "marker": {
             "line": {
              "color": "#E5ECF6",
              "width": 0.5
             }
            },
            "type": "bar"
           }
          ],
          "barpolar": [
           {
            "marker": {
             "line": {
              "color": "#E5ECF6",
              "width": 0.5
             }
            },
            "type": "barpolar"
           }
          ],
          "carpet": [
           {
            "aaxis": {
             "endlinecolor": "#2a3f5f",
             "gridcolor": "white",
             "linecolor": "white",
             "minorgridcolor": "white",
             "startlinecolor": "#2a3f5f"
            },
            "baxis": {
             "endlinecolor": "#2a3f5f",
             "gridcolor": "white",
             "linecolor": "white",
             "minorgridcolor": "white",
             "startlinecolor": "#2a3f5f"
            },
            "type": "carpet"
           }
          ],
          "choropleth": [
           {
            "colorbar": {
             "outlinewidth": 0,
             "ticks": ""
            },
            "type": "choropleth"
           }
          ],
          "contour": [
           {
            "colorbar": {
             "outlinewidth": 0,
             "ticks": ""
            },
            "colorscale": [
             [
              0,
              "#0d0887"
             ],
             [
              0.1111111111111111,
              "#46039f"
             ],
             [
              0.2222222222222222,
              "#7201a8"
             ],
             [
              0.3333333333333333,
              "#9c179e"
             ],
             [
              0.4444444444444444,
              "#bd3786"
             ],
             [
              0.5555555555555556,
              "#d8576b"
             ],
             [
              0.6666666666666666,
              "#ed7953"
             ],
             [
              0.7777777777777778,
              "#fb9f3a"
             ],
             [
              0.8888888888888888,
              "#fdca26"
             ],
             [
              1,
              "#f0f921"
             ]
            ],
            "type": "contour"
           }
          ],
          "contourcarpet": [
           {
            "colorbar": {
             "outlinewidth": 0,
             "ticks": ""
            },
            "type": "contourcarpet"
           }
          ],
          "heatmap": [
           {
            "colorbar": {
             "outlinewidth": 0,
             "ticks": ""
            },
            "colorscale": [
             [
              0,
              "#0d0887"
             ],
             [
              0.1111111111111111,
              "#46039f"
             ],
             [
              0.2222222222222222,
              "#7201a8"
             ],
             [
              0.3333333333333333,
              "#9c179e"
             ],
             [
              0.4444444444444444,
              "#bd3786"
             ],
             [
              0.5555555555555556,
              "#d8576b"
             ],
             [
              0.6666666666666666,
              "#ed7953"
             ],
             [
              0.7777777777777778,
              "#fb9f3a"
             ],
             [
              0.8888888888888888,
              "#fdca26"
             ],
             [
              1,
              "#f0f921"
             ]
            ],
            "type": "heatmap"
           }
          ],
          "heatmapgl": [
           {
            "colorbar": {
             "outlinewidth": 0,
             "ticks": ""
            },
            "colorscale": [
             [
              0,
              "#0d0887"
             ],
             [
              0.1111111111111111,
              "#46039f"
             ],
             [
              0.2222222222222222,
              "#7201a8"
             ],
             [
              0.3333333333333333,
              "#9c179e"
             ],
             [
              0.4444444444444444,
              "#bd3786"
             ],
             [
              0.5555555555555556,
              "#d8576b"
             ],
             [
              0.6666666666666666,
              "#ed7953"
             ],
             [
              0.7777777777777778,
              "#fb9f3a"
             ],
             [
              0.8888888888888888,
              "#fdca26"
             ],
             [
              1,
              "#f0f921"
             ]
            ],
            "type": "heatmapgl"
           }
          ],
          "histogram": [
           {
            "marker": {
             "colorbar": {
              "outlinewidth": 0,
              "ticks": ""
             }
            },
            "type": "histogram"
           }
          ],
          "histogram2d": [
           {
            "colorbar": {
             "outlinewidth": 0,
             "ticks": ""
            },
            "colorscale": [
             [
              0,
              "#0d0887"
             ],
             [
              0.1111111111111111,
              "#46039f"
             ],
             [
              0.2222222222222222,
              "#7201a8"
             ],
             [
              0.3333333333333333,
              "#9c179e"
             ],
             [
              0.4444444444444444,
              "#bd3786"
             ],
             [
              0.5555555555555556,
              "#d8576b"
             ],
             [
              0.6666666666666666,
              "#ed7953"
             ],
             [
              0.7777777777777778,
              "#fb9f3a"
             ],
             [
              0.8888888888888888,
              "#fdca26"
             ],
             [
              1,
              "#f0f921"
             ]
            ],
            "type": "histogram2d"
           }
          ],
          "histogram2dcontour": [
           {
            "colorbar": {
             "outlinewidth": 0,
             "ticks": ""
            },
            "colorscale": [
             [
              0,
              "#0d0887"
             ],
             [
              0.1111111111111111,
              "#46039f"
             ],
             [
              0.2222222222222222,
              "#7201a8"
             ],
             [
              0.3333333333333333,
              "#9c179e"
             ],
             [
              0.4444444444444444,
              "#bd3786"
             ],
             [
              0.5555555555555556,
              "#d8576b"
             ],
             [
              0.6666666666666666,
              "#ed7953"
             ],
             [
              0.7777777777777778,
              "#fb9f3a"
             ],
             [
              0.8888888888888888,
              "#fdca26"
             ],
             [
              1,
              "#f0f921"
             ]
            ],
            "type": "histogram2dcontour"
           }
          ],
          "mesh3d": [
           {
            "colorbar": {
             "outlinewidth": 0,
             "ticks": ""
            },
            "type": "mesh3d"
           }
          ],
          "parcoords": [
           {
            "line": {
             "colorbar": {
              "outlinewidth": 0,
              "ticks": ""
             }
            },
            "type": "parcoords"
           }
          ],
          "pie": [
           {
            "automargin": true,
            "type": "pie"
           }
          ],
          "scatter": [
           {
            "marker": {
             "colorbar": {
              "outlinewidth": 0,
              "ticks": ""
             }
            },
            "type": "scatter"
           }
          ],
          "scatter3d": [
           {
            "line": {
             "colorbar": {
              "outlinewidth": 0,
              "ticks": ""
             }
            },
            "marker": {
             "colorbar": {
              "outlinewidth": 0,
              "ticks": ""
             }
            },
            "type": "scatter3d"
           }
          ],
          "scattercarpet": [
           {
            "marker": {
             "colorbar": {
              "outlinewidth": 0,
              "ticks": ""
             }
            },
            "type": "scattercarpet"
           }
          ],
          "scattergeo": [
           {
            "marker": {
             "colorbar": {
              "outlinewidth": 0,
              "ticks": ""
             }
            },
            "type": "scattergeo"
           }
          ],
          "scattergl": [
           {
            "marker": {
             "colorbar": {
              "outlinewidth": 0,
              "ticks": ""
             }
            },
            "type": "scattergl"
           }
          ],
          "scattermapbox": [
           {
            "marker": {
             "colorbar": {
              "outlinewidth": 0,
              "ticks": ""
             }
            },
            "type": "scattermapbox"
           }
          ],
          "scatterpolar": [
           {
            "marker": {
             "colorbar": {
              "outlinewidth": 0,
              "ticks": ""
             }
            },
            "type": "scatterpolar"
           }
          ],
          "scatterpolargl": [
           {
            "marker": {
             "colorbar": {
              "outlinewidth": 0,
              "ticks": ""
             }
            },
            "type": "scatterpolargl"
           }
          ],
          "scatterternary": [
           {
            "marker": {
             "colorbar": {
              "outlinewidth": 0,
              "ticks": ""
             }
            },
            "type": "scatterternary"
           }
          ],
          "surface": [
           {
            "colorbar": {
             "outlinewidth": 0,
             "ticks": ""
            },
            "colorscale": [
             [
              0,
              "#0d0887"
             ],
             [
              0.1111111111111111,
              "#46039f"
             ],
             [
              0.2222222222222222,
              "#7201a8"
             ],
             [
              0.3333333333333333,
              "#9c179e"
             ],
             [
              0.4444444444444444,
              "#bd3786"
             ],
             [
              0.5555555555555556,
              "#d8576b"
             ],
             [
              0.6666666666666666,
              "#ed7953"
             ],
             [
              0.7777777777777778,
              "#fb9f3a"
             ],
             [
              0.8888888888888888,
              "#fdca26"
             ],
             [
              1,
              "#f0f921"
             ]
            ],
            "type": "surface"
           }
          ],
          "table": [
           {
            "cells": {
             "fill": {
              "color": "#EBF0F8"
             },
             "line": {
              "color": "white"
             }
            },
            "header": {
             "fill": {
              "color": "#C8D4E3"
             },
             "line": {
              "color": "white"
             }
            },
            "type": "table"
           }
          ]
         },
         "layout": {
          "annotationdefaults": {
           "arrowcolor": "#2a3f5f",
           "arrowhead": 0,
           "arrowwidth": 1
          },
          "autotypenumbers": "strict",
          "coloraxis": {
           "colorbar": {
            "outlinewidth": 0,
            "ticks": ""
           }
          },
          "colorscale": {
           "diverging": [
            [
             0,
             "#8e0152"
            ],
            [
             0.1,
             "#c51b7d"
            ],
            [
             0.2,
             "#de77ae"
            ],
            [
             0.3,
             "#f1b6da"
            ],
            [
             0.4,
             "#fde0ef"
            ],
            [
             0.5,
             "#f7f7f7"
            ],
            [
             0.6,
             "#e6f5d0"
            ],
            [
             0.7,
             "#b8e186"
            ],
            [
             0.8,
             "#7fbc41"
            ],
            [
             0.9,
             "#4d9221"
            ],
            [
             1,
             "#276419"
            ]
           ],
           "sequential": [
            [
             0,
             "#0d0887"
            ],
            [
             0.1111111111111111,
             "#46039f"
            ],
            [
             0.2222222222222222,
             "#7201a8"
            ],
            [
             0.3333333333333333,
             "#9c179e"
            ],
            [
             0.4444444444444444,
             "#bd3786"
            ],
            [
             0.5555555555555556,
             "#d8576b"
            ],
            [
             0.6666666666666666,
             "#ed7953"
            ],
            [
             0.7777777777777778,
             "#fb9f3a"
            ],
            [
             0.8888888888888888,
             "#fdca26"
            ],
            [
             1,
             "#f0f921"
            ]
           ],
           "sequentialminus": [
            [
             0,
             "#0d0887"
            ],
            [
             0.1111111111111111,
             "#46039f"
            ],
            [
             0.2222222222222222,
             "#7201a8"
            ],
            [
             0.3333333333333333,
             "#9c179e"
            ],
            [
             0.4444444444444444,
             "#bd3786"
            ],
            [
             0.5555555555555556,
             "#d8576b"
            ],
            [
             0.6666666666666666,
             "#ed7953"
            ],
            [
             0.7777777777777778,
             "#fb9f3a"
            ],
            [
             0.8888888888888888,
             "#fdca26"
            ],
            [
             1,
             "#f0f921"
            ]
           ]
          },
          "colorway": [
           "#636efa",
           "#EF553B",
           "#00cc96",
           "#ab63fa",
           "#FFA15A",
           "#19d3f3",
           "#FF6692",
           "#B6E880",
           "#FF97FF",
           "#FECB52"
          ],
          "font": {
           "color": "#2a3f5f"
          },
          "geo": {
           "bgcolor": "white",
           "lakecolor": "white",
           "landcolor": "#E5ECF6",
           "showlakes": true,
           "showland": true,
           "subunitcolor": "white"
          },
          "hoverlabel": {
           "align": "left"
          },
          "hovermode": "closest",
          "mapbox": {
           "style": "light"
          },
          "paper_bgcolor": "white",
          "plot_bgcolor": "#E5ECF6",
          "polar": {
           "angularaxis": {
            "gridcolor": "white",
            "linecolor": "white",
            "ticks": ""
           },
           "bgcolor": "#E5ECF6",
           "radialaxis": {
            "gridcolor": "white",
            "linecolor": "white",
            "ticks": ""
           }
          },
          "scene": {
           "xaxis": {
            "backgroundcolor": "#E5ECF6",
            "gridcolor": "white",
            "gridwidth": 2,
            "linecolor": "white",
            "showbackground": true,
            "ticks": "",
            "zerolinecolor": "white"
           },
           "yaxis": {
            "backgroundcolor": "#E5ECF6",
            "gridcolor": "white",
            "gridwidth": 2,
            "linecolor": "white",
            "showbackground": true,
            "ticks": "",
            "zerolinecolor": "white"
           },
           "zaxis": {
            "backgroundcolor": "#E5ECF6",
            "gridcolor": "white",
            "gridwidth": 2,
            "linecolor": "white",
            "showbackground": true,
            "ticks": "",
            "zerolinecolor": "white"
           }
          },
          "shapedefaults": {
           "line": {
            "color": "#2a3f5f"
           }
          },
          "ternary": {
           "aaxis": {
            "gridcolor": "white",
            "linecolor": "white",
            "ticks": ""
           },
           "baxis": {
            "gridcolor": "white",
            "linecolor": "white",
            "ticks": ""
           },
           "bgcolor": "#E5ECF6",
           "caxis": {
            "gridcolor": "white",
            "linecolor": "white",
            "ticks": ""
           }
          },
          "title": {
           "x": 0.05
          },
          "xaxis": {
           "automargin": true,
           "gridcolor": "white",
           "linecolor": "white",
           "ticks": "",
           "title": {
            "standoff": 15
           },
           "zerolinecolor": "white",
           "zerolinewidth": 2
          },
          "yaxis": {
           "automargin": true,
           "gridcolor": "white",
           "linecolor": "white",
           "ticks": "",
           "title": {
            "standoff": 15
           },
           "zerolinecolor": "white",
           "zerolinewidth": 2
          }
         }
        }
       }
      }
     },
     "metadata": {},
     "output_type": "display_data"
    }
   ],
   "source": [
    "reference_point = [int_nums_plus._ideal_point[0],int_nums_plus._ideal_point[1],int_nums_plus._ideal_point[2]]\n",
    "\n",
    "pref_int_nums_plus, plot_int_nums_plus = int_nums_plus.requests()\n",
    "pref_int_nums_plus[2].response = pd.DataFrame([reference_point], columns=pref_int_nums_plus[2].content['dimensions_data'].columns)\n",
    "pref_int_nums_plus, plot_int_nums_plus  = int_nums_plus.iterate(pref_int_nums_plus[2])\n",
    "\n",
    "\n",
    "fig = plot_results_scatter(int_nums_plus.population.objectives)\n",
    "fig\n"
   ]
  },
  {
   "cell_type": "markdown",
   "metadata": {},
   "source": [
    "Select reference point closer to the front"
   ]
  }
 ],
 "metadata": {
  "kernelspec": {
   "display_name": "Python 3.7.9 64-bit",
   "metadata": {
    "interpreter": {
     "hash": "fa0657fd682da5b19fd87c26883d1e3e7f91341171573160c7598b8092ac4ae5"
    }
   },
   "name": "python3"
  },
  "language_info": {
   "codemirror_mode": {
    "name": "ipython",
    "version": 3
   },
   "file_extension": ".py",
   "mimetype": "text/x-python",
   "name": "python",
   "nbconvert_exporter": "python",
   "pygments_lexer": "ipython3",
   "version": "3.8.10"
  }
 },
 "nbformat": 4,
 "nbformat_minor": 4
}
