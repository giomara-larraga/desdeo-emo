{
 "cells": [
  {
   "cell_type": "markdown",
   "metadata": {},
   "source": [
    "# Solving car crash problem with IRMOEA/D"
   ]
  },
  {
   "cell_type": "code",
   "execution_count": 1,
   "metadata": {},
   "outputs": [],
   "source": [
    "from desdeo_emo.EAs.RVEA import RVEA\n",
    "from desdeo_problem import variable_builder, ScalarObjective, VectorObjective, MOProblem\n",
    "from desdeo_problem.problem import Variable\n",
    "\n",
    "import numpy as np\n",
    "import pandas as pd\n",
    "from desdeo_emo.utilities.plotlyanimate import animate_init_, animate_next_"
   ]
  },
  {
   "cell_type": "code",
   "execution_count": 2,
   "metadata": {},
   "outputs": [],
   "source": [
    "# create the problem\n",
    "def f_1(x):\n",
    "    x = np.atleast_2d(x)\n",
    "    return (\n",
    "        1640.2823\n",
    "        + 2.3573285 * x[:, 0]\n",
    "        + 2.3220035 * x[:, 1]\n",
    "        + 4.5688768 * x[:, 2]\n",
    "        + 7.7213633 * x[:, 3]\n",
    "        + 4.4559504 * x[:, 4]\n",
    "    )\n",
    "\n",
    "\n",
    "def f_2(x):\n",
    "    x = np.atleast_2d(x)\n",
    "    return (\n",
    "        6.5856\n",
    "        + 1.15 * x[:, 0]\n",
    "        - 1.0427 * x[:, 1]\n",
    "        + 0.9738 * x[:, 2]\n",
    "        + 0.8364 * x[:, 3]\n",
    "        - 0.3695 * x[:, 0] * x[:, 3]\n",
    "        + 0.0861 * x[:, 0] * x[:, 4]\n",
    "        + 0.3628 * x[:, 1] * x[:, 3]\n",
    "        - 0.1106 * x[:, 0] ** 2\n",
    "        - 0.3437 * x[:, 2] ** 2\n",
    "        + 0.1764 * x[:, 3] ** 2\n",
    "    )\n",
    "\n",
    "def f_3(x):\n",
    "    x = np.atleast_2d(x)\n",
    "    return (\n",
    "        -0.0551\n",
    "        + 0.0181 * x[:, 0]\n",
    "        + 0.1024 * x[:, 1]\n",
    "        + 0.0421 * x[:, 2]\n",
    "        - 0.0073 * x[:, 0] * x[:, 1]\n",
    "        + 0.024 * x[:, 1] * x[:, 2]\n",
    "        - 0.0118 * x[:, 1] * x[:, 3]\n",
    "        - 0.0204 * x[:, 2] * x[:, 3]\n",
    "        - 0.008 * x[:, 2] * x[:, 4]\n",
    "        - 0.0241 * x[:, 1] ** 2\n",
    "        + 0.0109 * x[:, 3] ** 2\n",
    "    )\n",
    "f1 = ScalarObjective(name=\"f1\", evaluator=f_1)\n",
    "f2 = ScalarObjective(name=\"f2\", evaluator=f_2)\n",
    "f3 = ScalarObjective(name=\"f3\", evaluator=f_3)\n",
    "\n",
    "x_1 = Variable(\"x_1\", 2.0, 1.0, 3.0)\n",
    "x_2 = Variable(\"x_2\", 2.0, 1.0, 3.0)\n",
    "x_3 = Variable(\"x_3\", 2.0, 1.0, 3.0)\n",
    "x_4 = Variable(\"x_4\", 2.0, 1.0, 3.0)\n",
    "x_5 = Variable(\"x_5\", 2.0, 1.0, 3.0)\n",
    "variables = [x_1, x_2, x_3, x_4, x_5]\n",
    "problem = MOProblem(variables=variables, objectives=[f1, f2, f3])"
   ]
  },
  {
   "cell_type": "code",
   "execution_count": 5,
   "metadata": {},
   "outputs": [],
   "source": [
    "#Get the ideal and nadir points\n"
   ]
  },
  {
   "cell_type": "code",
   "execution_count": 6,
   "metadata": {},
   "outputs": [
    {
     "name": "stdout",
     "output_type": "stream",
     "text": [
      "Plot saved as:  river.html\n",
      "View the plot by opening the file in browser.\n",
      "To view the plot in Jupyter Notebook, use the IFrame command.\n"
     ]
    }
   ],
   "source": [
    "evolver = RVEA(problem, interact=True, n_iterations=5, n_gen_per_iter=100)\n",
    "figure = animate_init_(evolver.population.objectives, filename=\"river.html\")"
   ]
  },
  {
   "cell_type": "code",
   "execution_count": 7,
   "metadata": {},
   "outputs": [],
   "source": [
    "pref, plot = evolver.start()"
   ]
  },
  {
   "cell_type": "code",
   "execution_count": 8,
   "metadata": {},
   "outputs": [
    {
     "name": "stdout",
     "output_type": "stream",
     "text": [
      "               f1       f2         f3\n",
      "minimize        1        1          1\n",
      "ideal     1668.69  7.19344  0.0701998\n",
      "nadir         inf      inf        inf\n"
     ]
    }
   ],
   "source": [
    "print(plot.content[\"dimensions_data\"])"
   ]
  },
  {
   "cell_type": "code",
   "execution_count": 9,
   "metadata": {},
   "outputs": [
    {
     "name": "stdout",
     "output_type": "stream",
     "text": [
      "Please provide preferences. There is four ways to do this. You can either:\n",
      "\n",
      "\t1: Select preferred solution(s)\n",
      "\t2: Select non-preferred solution(s)\n",
      "\t3: Specify a reference point worse than or equal to the ideal point\n",
      "\t4: Specify desired ranges for objectives.\n",
      "\n",
      "In case you choose \n",
      "\n",
      "1, please specify index/indices of preferred solutions in a numpy array (indexing starts from 0).\n",
      "For example: \n",
      "\tnumpy.array([1]), for choosing the solutions with index 1.\n",
      "\tnumpy.array([2, 4, 5, 16]), for choosing the solutions with indices 2, 4, 5, and 16.\n",
      "\n",
      "2, please specify index/indices of non-preferred solutions in a numpy array (indexing starts from 0).\n",
      "For example: \n",
      "\tnumpy.array([3]), for choosing the solutions with index 3.\n",
      "\tnumpy.array([1, 2]), for choosing the solutions with indices 1 and 2.\n",
      "\n",
      "3, please provide a reference point worse than or equal to the ideal point:\n",
      "\n",
      "f1      1668.69\n",
      "f2      7.19344\n",
      "f3    0.0701998\n",
      "Name: ideal, dtype: object\n",
      "The reference point will be used to focus the reference vectors towards the preferred region.\n",
      "If a reference point is not provided, the previous state of the reference vectors is used.\n",
      "If the reference point is the same as the ideal point, the reference vectors are spread uniformly in the objective space.\n",
      "\n",
      "4, please specify desired lower and upper bound for each objective, starting from \n",
      "the first objective and ending with the last one. Please specify the bounds as a numpy array containing \n",
      "lists, so that the first item of list is the lower bound and the second the upper bound, for each \n",
      "objective. \n",
      "\tFor example: numpy.array([[1, 2], [2, 5], [0, 3.5]]), for problem with three objectives.\n",
      "Ideal vector: \n",
      "f1      1668.69\n",
      "f2      7.19344\n",
      "f3    0.0701998\n",
      "Name: ideal, dtype: object\n",
      "Nadir vector: \n",
      "f1    inf\n",
      "f2    inf\n",
      "f3    inf\n",
      "Name: nadir, dtype: object.\n"
     ]
    }
   ],
   "source": [
    "print(pref[0].content['message'])"
   ]
  },
  {
   "cell_type": "code",
   "execution_count": 10,
   "metadata": {},
   "outputs": [
    {
     "ename": "ValueError",
     "evalue": "3 columns passed, passed data had 5 columns",
     "output_type": "error",
     "traceback": [
      "\u001b[0;31m---------------------------------------------------------------------------\u001b[0m",
      "\u001b[0;31mAssertionError\u001b[0m                            Traceback (most recent call last)",
      "\u001b[0;32m~/PPSN2022/vppsn/lib/python3.8/site-packages/pandas/core/internals/construction.py\u001b[0m in \u001b[0;36m_list_to_arrays\u001b[0;34m(data, columns, coerce_float, dtype)\u001b[0m\n\u001b[1;32m    563\u001b[0m     \u001b[0;32mtry\u001b[0m\u001b[0;34m:\u001b[0m\u001b[0;34m\u001b[0m\u001b[0;34m\u001b[0m\u001b[0m\n\u001b[0;32m--> 564\u001b[0;31m         \u001b[0mcolumns\u001b[0m \u001b[0;34m=\u001b[0m \u001b[0m_validate_or_indexify_columns\u001b[0m\u001b[0;34m(\u001b[0m\u001b[0mcontent\u001b[0m\u001b[0;34m,\u001b[0m \u001b[0mcolumns\u001b[0m\u001b[0;34m)\u001b[0m\u001b[0;34m\u001b[0m\u001b[0;34m\u001b[0m\u001b[0m\n\u001b[0m\u001b[1;32m    565\u001b[0m         \u001b[0mresult\u001b[0m \u001b[0;34m=\u001b[0m \u001b[0m_convert_object_array\u001b[0m\u001b[0;34m(\u001b[0m\u001b[0mcontent\u001b[0m\u001b[0;34m,\u001b[0m \u001b[0mdtype\u001b[0m\u001b[0;34m=\u001b[0m\u001b[0mdtype\u001b[0m\u001b[0;34m,\u001b[0m \u001b[0mcoerce_float\u001b[0m\u001b[0;34m=\u001b[0m\u001b[0mcoerce_float\u001b[0m\u001b[0;34m)\u001b[0m\u001b[0;34m\u001b[0m\u001b[0;34m\u001b[0m\u001b[0m\n",
      "\u001b[0;32m~/PPSN2022/vppsn/lib/python3.8/site-packages/pandas/core/internals/construction.py\u001b[0m in \u001b[0;36m_validate_or_indexify_columns\u001b[0;34m(content, columns)\u001b[0m\n\u001b[1;32m    687\u001b[0m             \u001b[0;31m# caller's responsibility to check for this...\u001b[0m\u001b[0;34m\u001b[0m\u001b[0;34m\u001b[0m\u001b[0;34m\u001b[0m\u001b[0m\n\u001b[0;32m--> 688\u001b[0;31m             raise AssertionError(\n\u001b[0m\u001b[1;32m    689\u001b[0m                 \u001b[0;34mf\"{len(columns)} columns passed, passed data had \"\u001b[0m\u001b[0;34m\u001b[0m\u001b[0;34m\u001b[0m\u001b[0m\n",
      "\u001b[0;31mAssertionError\u001b[0m: 3 columns passed, passed data had 5 columns",
      "\nThe above exception was the direct cause of the following exception:\n",
      "\u001b[0;31mValueError\u001b[0m                                Traceback (most recent call last)",
      "\u001b[0;32m<ipython-input-10-2baa232bf70c>\u001b[0m in \u001b[0;36m<cell line: 1>\u001b[0;34m()\u001b[0m\n\u001b[0;32m----> 1\u001b[0;31m pref[2].response = pd.DataFrame([[6.3,3.3,7,-2,0.3]],\n\u001b[0m\u001b[1;32m      2\u001b[0m                              columns=pref[2].content['dimensions_data'].columns)\n",
      "\u001b[0;32m~/PPSN2022/vppsn/lib/python3.8/site-packages/pandas/core/frame.py\u001b[0m in \u001b[0;36m__init__\u001b[0;34m(self, data, index, columns, dtype, copy)\u001b[0m\n\u001b[1;32m    507\u001b[0m                     \u001b[0;32mif\u001b[0m \u001b[0mis_named_tuple\u001b[0m\u001b[0;34m(\u001b[0m\u001b[0mdata\u001b[0m\u001b[0;34m[\u001b[0m\u001b[0;36m0\u001b[0m\u001b[0;34m]\u001b[0m\u001b[0;34m)\u001b[0m \u001b[0;32mand\u001b[0m \u001b[0mcolumns\u001b[0m \u001b[0;32mis\u001b[0m \u001b[0;32mNone\u001b[0m\u001b[0;34m:\u001b[0m\u001b[0;34m\u001b[0m\u001b[0;34m\u001b[0m\u001b[0m\n\u001b[1;32m    508\u001b[0m                         \u001b[0mcolumns\u001b[0m \u001b[0;34m=\u001b[0m \u001b[0mdata\u001b[0m\u001b[0;34m[\u001b[0m\u001b[0;36m0\u001b[0m\u001b[0;34m]\u001b[0m\u001b[0;34m.\u001b[0m\u001b[0m_fields\u001b[0m\u001b[0;34m\u001b[0m\u001b[0;34m\u001b[0m\u001b[0m\n\u001b[0;32m--> 509\u001b[0;31m                     \u001b[0marrays\u001b[0m\u001b[0;34m,\u001b[0m \u001b[0mcolumns\u001b[0m \u001b[0;34m=\u001b[0m \u001b[0mto_arrays\u001b[0m\u001b[0;34m(\u001b[0m\u001b[0mdata\u001b[0m\u001b[0;34m,\u001b[0m \u001b[0mcolumns\u001b[0m\u001b[0;34m,\u001b[0m \u001b[0mdtype\u001b[0m\u001b[0;34m=\u001b[0m\u001b[0mdtype\u001b[0m\u001b[0;34m)\u001b[0m\u001b[0;34m\u001b[0m\u001b[0;34m\u001b[0m\u001b[0m\n\u001b[0m\u001b[1;32m    510\u001b[0m                     \u001b[0mcolumns\u001b[0m \u001b[0;34m=\u001b[0m \u001b[0mensure_index\u001b[0m\u001b[0;34m(\u001b[0m\u001b[0mcolumns\u001b[0m\u001b[0;34m)\u001b[0m\u001b[0;34m\u001b[0m\u001b[0;34m\u001b[0m\u001b[0m\n\u001b[1;32m    511\u001b[0m \u001b[0;34m\u001b[0m\u001b[0m\n",
      "\u001b[0;32m~/PPSN2022/vppsn/lib/python3.8/site-packages/pandas/core/internals/construction.py\u001b[0m in \u001b[0;36mto_arrays\u001b[0;34m(data, columns, coerce_float, dtype)\u001b[0m\n\u001b[1;32m    522\u001b[0m         \u001b[0;32mreturn\u001b[0m \u001b[0;34m[\u001b[0m\u001b[0;34m]\u001b[0m\u001b[0;34m,\u001b[0m \u001b[0;34m[\u001b[0m\u001b[0;34m]\u001b[0m  \u001b[0;31m# columns if columns is not None else []\u001b[0m\u001b[0;34m\u001b[0m\u001b[0;34m\u001b[0m\u001b[0m\n\u001b[1;32m    523\u001b[0m     \u001b[0;32mif\u001b[0m \u001b[0misinstance\u001b[0m\u001b[0;34m(\u001b[0m\u001b[0mdata\u001b[0m\u001b[0;34m[\u001b[0m\u001b[0;36m0\u001b[0m\u001b[0;34m]\u001b[0m\u001b[0;34m,\u001b[0m \u001b[0;34m(\u001b[0m\u001b[0mlist\u001b[0m\u001b[0;34m,\u001b[0m \u001b[0mtuple\u001b[0m\u001b[0;34m)\u001b[0m\u001b[0;34m)\u001b[0m\u001b[0;34m:\u001b[0m\u001b[0;34m\u001b[0m\u001b[0;34m\u001b[0m\u001b[0m\n\u001b[0;32m--> 524\u001b[0;31m         \u001b[0;32mreturn\u001b[0m \u001b[0m_list_to_arrays\u001b[0m\u001b[0;34m(\u001b[0m\u001b[0mdata\u001b[0m\u001b[0;34m,\u001b[0m \u001b[0mcolumns\u001b[0m\u001b[0;34m,\u001b[0m \u001b[0mcoerce_float\u001b[0m\u001b[0;34m=\u001b[0m\u001b[0mcoerce_float\u001b[0m\u001b[0;34m,\u001b[0m \u001b[0mdtype\u001b[0m\u001b[0;34m=\u001b[0m\u001b[0mdtype\u001b[0m\u001b[0;34m)\u001b[0m\u001b[0;34m\u001b[0m\u001b[0;34m\u001b[0m\u001b[0m\n\u001b[0m\u001b[1;32m    525\u001b[0m     \u001b[0;32melif\u001b[0m \u001b[0misinstance\u001b[0m\u001b[0;34m(\u001b[0m\u001b[0mdata\u001b[0m\u001b[0;34m[\u001b[0m\u001b[0;36m0\u001b[0m\u001b[0;34m]\u001b[0m\u001b[0;34m,\u001b[0m \u001b[0mabc\u001b[0m\u001b[0;34m.\u001b[0m\u001b[0mMapping\u001b[0m\u001b[0;34m)\u001b[0m\u001b[0;34m:\u001b[0m\u001b[0;34m\u001b[0m\u001b[0;34m\u001b[0m\u001b[0m\n\u001b[1;32m    526\u001b[0m         return _list_of_dict_to_arrays(\n",
      "\u001b[0;32m~/PPSN2022/vppsn/lib/python3.8/site-packages/pandas/core/internals/construction.py\u001b[0m in \u001b[0;36m_list_to_arrays\u001b[0;34m(data, columns, coerce_float, dtype)\u001b[0m\n\u001b[1;32m    565\u001b[0m         \u001b[0mresult\u001b[0m \u001b[0;34m=\u001b[0m \u001b[0m_convert_object_array\u001b[0m\u001b[0;34m(\u001b[0m\u001b[0mcontent\u001b[0m\u001b[0;34m,\u001b[0m \u001b[0mdtype\u001b[0m\u001b[0;34m=\u001b[0m\u001b[0mdtype\u001b[0m\u001b[0;34m,\u001b[0m \u001b[0mcoerce_float\u001b[0m\u001b[0;34m=\u001b[0m\u001b[0mcoerce_float\u001b[0m\u001b[0;34m)\u001b[0m\u001b[0;34m\u001b[0m\u001b[0;34m\u001b[0m\u001b[0m\n\u001b[1;32m    566\u001b[0m     \u001b[0;32mexcept\u001b[0m \u001b[0mAssertionError\u001b[0m \u001b[0;32mas\u001b[0m \u001b[0me\u001b[0m\u001b[0;34m:\u001b[0m\u001b[0;34m\u001b[0m\u001b[0;34m\u001b[0m\u001b[0m\n\u001b[0;32m--> 567\u001b[0;31m         \u001b[0;32mraise\u001b[0m \u001b[0mValueError\u001b[0m\u001b[0;34m(\u001b[0m\u001b[0me\u001b[0m\u001b[0;34m)\u001b[0m \u001b[0;32mfrom\u001b[0m \u001b[0me\u001b[0m\u001b[0;34m\u001b[0m\u001b[0;34m\u001b[0m\u001b[0m\n\u001b[0m\u001b[1;32m    568\u001b[0m     \u001b[0;32mreturn\u001b[0m \u001b[0mresult\u001b[0m\u001b[0;34m,\u001b[0m \u001b[0mcolumns\u001b[0m\u001b[0;34m\u001b[0m\u001b[0;34m\u001b[0m\u001b[0m\n\u001b[1;32m    569\u001b[0m \u001b[0;34m\u001b[0m\u001b[0m\n",
      "\u001b[0;31mValueError\u001b[0m: 3 columns passed, passed data had 5 columns"
     ]
    }
   ],
   "source": [
    "pref[2].response = pd.DataFrame([[6.3,3.3,7,-2,0.3]],\n",
    "                             columns=pref[2].content['dimensions_data'].columns)"
   ]
  },
  {
   "cell_type": "code",
   "execution_count": null,
   "metadata": {},
   "outputs": [],
   "source": [
    "pref, plot = evolver.iterate(pref[2])\n",
    "figure = animate_next_(\n",
    "    plot.content['data'].values,\n",
    "    figure,\n",
    "    filename=\"river.html\",\n",
    "    generation=evolver._iteration_counter,\n",
    ")\n",
    "\n",
    "message = (f\"Current generation number:{evolver._current_gen_count}. \"\n",
    "           f\"Is looping back recommended: {'Yes' if evolver.continue_evolution() else 'No'}\")\n",
    "print(message)"
   ]
  },
  {
   "cell_type": "code",
   "execution_count": null,
   "metadata": {},
   "outputs": [],
   "source": []
  }
 ],
 "metadata": {
  "interpreter": {
   "hash": "f1e58dc4e0b7b7b5dec22ee4d61d24ec1c4905aef9f2a596e2ecaf83cb457724"
  },
  "kernelspec": {
   "display_name": "desdeo-emo",
   "language": "python",
   "name": "python3"
  },
  "language_info": {
   "codemirror_mode": {
    "name": "ipython",
    "version": 3
   },
   "file_extension": ".py",
   "mimetype": "text/x-python",
   "name": "python",
   "nbconvert_exporter": "python",
   "pygments_lexer": "ipython3",
   "version": "3.8.10"
  }
 },
 "nbformat": 4,
 "nbformat_minor": 4
}
