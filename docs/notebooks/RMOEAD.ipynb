{
 "cells": [
  {
   "cell_type": "markdown",
   "metadata": {},
   "source": [
    "# Solving DTLZ1 using RMOEA/D\n",
    "\n",
    "In this example we are going to solve the DTLZ1 benchmark problem using RMOEA/D. To this aim, we need to import the following packages:\n"
   ]
  },
  {
   "cell_type": "code",
   "execution_count": 1,
   "metadata": {},
   "outputs": [],
   "source": [
    "# Package for plotting the results\n",
    "import plotly.graph_objects as go\n",
    "\n",
    "# Package to create the Problem object\n",
    "from desdeo_problem.testproblems.TestProblems import test_problem_builder\n",
    "\n",
    "# Packages for using MOEA/D and the available scalarization functions\n",
    "from desdeo_emo.EAs.RMOEAD import R_MOEA_D\n",
    "import numpy as np"
   ]
  },
  {
   "cell_type": "markdown",
   "metadata": {},
   "source": [
    "Then, we will use the implementation of DTLZ1 available in desdeo-problem. We will use 7 decision variables and 3 objectives."
   ]
  },
  {
   "cell_type": "code",
   "execution_count": 2,
   "metadata": {},
   "outputs": [],
   "source": [
    "problem = test_problem_builder(name=\"DTLZ1\", n_of_variables=7, n_of_objectives=3)\n",
    "reference_point = np.array([0.1,0.1,0.1])"
   ]
  },
  {
   "cell_type": "markdown",
   "metadata": {},
   "source": [
    "Now we need to pass some parameters to the MOEA/D: the problem to solve, and the number of generations. The rest of the parameters will take the default values, for more information about the available options, please refer to the API documentation. "
   ]
  },
  {
   "cell_type": "code",
   "execution_count": 3,
   "metadata": {},
   "outputs": [],
   "source": [
    "evolver = R_MOEA_D(problem, n_iterations=1, reference_point = reference_point, n_gen_per_iter=300)"
   ]
  },
  {
   "cell_type": "markdown",
   "metadata": {},
   "source": [
    "Finally, we create a loop to run the algorithm until the stop criteria is met."
   ]
  },
  {
   "cell_type": "code",
   "execution_count": 4,
   "metadata": {},
   "outputs": [],
   "source": [
    "while evolver.continue_evolution():\n",
    "    evolver.iterate()"
   ]
  },
  {
   "cell_type": "markdown",
   "metadata": {},
   "source": [
    "To visualize the results, we will plot the values of the objective function of the final population. "
   ]
  },
  {
   "cell_type": "code",
   "execution_count": 5,
   "metadata": {},
   "outputs": [
    {
     "data": {
      "application/vnd.plotly.v1+json": {
       "config": {
        "plotlyServerURL": "https://plotly.com"
       },
       "data": [
        {
         "marker": {
          "size": 1
         },
         "mode": "markers",
         "type": "scatter3d",
         "x": [
          0.1336569695130772,
          0.134043573287898,
          0.13401766662281547,
          0.13354887613293534,
          0.13395900233092597,
          0.13391176451014855,
          0.1340266878833895,
          0.1337971746968811,
          0.13375113229676527,
          0.13395023138220113,
          0.1339504639777251,
          0.133951942407376,
          0.13328422330178272,
          0.13403300876547222,
          0.14124410408603683,
          0.14146278208583918,
          0.14168105542388368,
          0.1414491775864988,
          0.1416367950369082,
          0.14158867530489666,
          0.14163915548547076,
          0.14157828547734216,
          0.14162896237465142,
          0.14146450837151603,
          0.14163601414863602,
          0.141207492928091,
          0.141632870439692,
          0.1492829259352924,
          0.14929465605037745,
          0.14914999106746915,
          0.14918934479782056,
          0.14923967028309118,
          0.14926222876030767,
          0.14921300305125784,
          0.14937949001075787,
          0.14930428837309234,
          0.1492982067270724,
          0.14881185460385887,
          0.14934345107792757,
          0.15644559189717516,
          0.15696011048500844,
          0.15695140274394448,
          0.15700102550007625,
          0.15697733783860388,
          0.1569240086259802,
          0.15705356179694432,
          0.15703182981117741,
          0.15698634464938482,
          0.15702530163998082,
          0.15705004927184277,
          0.1646381050977399,
          0.16451769639806735,
          0.16475632362889123,
          0.16470773941943576,
          0.16476196783362673,
          0.16456554524452568,
          0.1646714867135259,
          0.16463927547692345,
          0.16464629261883892,
          0.16471031378961223,
          0.17194773100973187,
          0.17250128231719203,
          0.17238792708666828,
          0.1724073655680859,
          0.1724428203616577,
          0.17220772952175126,
          0.17239431522413518,
          0.17243687137637856,
          0.1724368059529817,
          0.17942968000302106,
          0.17963277776866346,
          0.17996366614478834,
          0.18007890696508155,
          0.18017375240703162,
          0.18003727738180947,
          0.18017702967129492,
          0.18006899619974148,
          0.1877163222580083,
          0.1877461657937959,
          0.1878041536592424,
          0.18783327685902826,
          0.18776747950595518,
          0.1878240011770047,
          0.18781582418433376,
          0.1947204809506957,
          0.19543694129703232,
          0.19552746776881041,
          0.19533355967425975,
          0.1954679707014198,
          0.19537248995273104,
          0.203704278036012,
          0.20339058298150522,
          0.20315807150425852,
          0.203170498902817,
          0.20322029913330344,
          0.20985029682574094,
          0.21088548293208062,
          0.2108705240786517,
          0.21097836370464373,
          0.21850285046258852,
          0.218567896692376,
          0.21848005302274356,
          0.2262633701426842,
          0.22638591278402756,
          0.23386164816878277
         ],
         "y": [
          0.13391908000410616,
          0.14144500057107062,
          0.1486154144139579,
          0.1570990823984865,
          0.16453957464208357,
          0.17238229150822737,
          0.18013350602384087,
          0.18761297522009074,
          0.19557651977356255,
          0.20306406678856875,
          0.21069741045813065,
          0.2184231232214326,
          0.2265030270341619,
          0.23351862983638394,
          0.1346848938439358,
          0.14174535850635558,
          0.14926354787013305,
          0.15698998279823054,
          0.16465824639050283,
          0.17240063353022123,
          0.18004188062000892,
          0.18775185873883352,
          0.19544863319775965,
          0.20320481928538095,
          0.21093514569364646,
          0.21867018074042394,
          0.22611481715049386,
          0.13380832190795694,
          0.14164274772522512,
          0.14938247131089255,
          0.15695513798943714,
          0.16458100136087275,
          0.172267998997721,
          0.17999130273256528,
          0.18777101326302262,
          0.19546514943022136,
          0.2031955641406246,
          0.21077295936755522,
          0.21850598023100193,
          0.13429329417322183,
          0.14161026942704708,
          0.14925155959758246,
          0.15698708964905964,
          0.16467539672362896,
          0.17241973834593347,
          0.18002536173301142,
          0.18768949151182557,
          0.1954117173648593,
          0.2031863440047038,
          0.21079882735875263,
          0.1337888011279055,
          0.14160727113482258,
          0.14934110477762205,
          0.15694640383385514,
          0.16471060477711552,
          0.17243534089048082,
          0.1801076815764746,
          0.18775424190328832,
          0.1953943934407865,
          0.2031255447671625,
          0.1341309473213659,
          0.1417273754416833,
          0.14907852750920605,
          0.15704839370680823,
          0.16467029948190803,
          0.17241402711808346,
          0.1800933024335233,
          0.18780559958000043,
          0.19546380050348863,
          0.13430467077855615,
          0.14177004907210983,
          0.1493989727568532,
          0.15701686618565824,
          0.1646560590122685,
          0.17224662992990525,
          0.18022626334403302,
          0.18769661609240826,
          0.13385088067667447,
          0.14150194975506972,
          0.1493882498101416,
          0.15706474474425558,
          0.16472030940262897,
          0.17215704983215466,
          0.18012366083654996,
          0.13429263433089222,
          0.14167058341959657,
          0.14936671449667152,
          0.156932135424836,
          0.16474736301459159,
          0.17250315451825948,
          0.13279639348437114,
          0.1411393188774016,
          0.14944796042272188,
          0.15695185389353764,
          0.16454735468420248,
          0.1342276108295705,
          0.14148911969084085,
          0.14926388237953467,
          0.15656137696176708,
          0.13392042103654508,
          0.1415988451519308,
          0.14928759899444796,
          0.13378854247409164,
          0.1415798034322444,
          0.13363125989139207
         ],
         "z": [
          0.2340206074076238,
          0.22629147669656458,
          0.21891829036510219,
          0.21095269290965865,
          0.2030956517693869,
          0.19554433331731955,
          0.18786195872460057,
          0.18010697439058773,
          0.17241632126923517,
          0.16469252834366613,
          0.1570302759622543,
          0.14933786697814788,
          0.1419049006048462,
          0.13413892718132947,
          0.22600292609536085,
          0.21859834310954365,
          0.21085352723778816,
          0.20316015178721109,
          0.19530474589027436,
          0.1875551817691815,
          0.1798479094447313,
          0.17242069584622213,
          0.16464167342968733,
          0.1570092443298881,
          0.14914400283724508,
          0.14180312571213957,
          0.13401734707783616,
          0.2187101881271006,
          0.2107653083790028,
          0.20301430700257175,
          0.1954573817424301,
          0.18778124341268426,
          0.18002061432552435,
          0.1723106022901842,
          0.164665713127049,
          0.15701900932396853,
          0.14936733193950213,
          0.14181310931948815,
          0.13387371018647273,
          0.210956900950009,
          0.20300619145331372,
          0.19549541002264031,
          0.18786718802897512,
          0.18008913195456944,
          0.17222622440765328,
          0.16464091884775633,
          0.15698617575459356,
          0.14927752221059204,
          0.14149116477171947,
          0.1338715779975892,
          0.20315203833003476,
          0.19545180450542426,
          0.1876914052496667,
          0.1800895646260849,
          0.17239209662836216,
          0.1645889453972828,
          0.1570267543018238,
          0.14928221035476147,
          0.14163622324281389,
          0.13396294624415958,
          0.1956462442136124,
          0.18791013002871138,
          0.18005800265589264,
          0.17238394820044325,
          0.16466231650361876,
          0.1570520256218894,
          0.14936144030668416,
          0.14160545968368524,
          0.1338514822501377,
          0.18811312952236312,
          0.18018782702620528,
          0.1722951358884232,
          0.16465752180816629,
          0.15698250354382318,
          0.14923856389787707,
          0.14142263111567685,
          0.13401632150467974,
          0.1800413840155364,
          0.1724363677737403,
          0.16432837363717218,
          0.15705163408201223,
          0.14939395568409586,
          0.14184758164094335,
          0.1339519958029953,
          0.17280577289568613,
          0.16470117980739116,
          0.15705389570252393,
          0.1492226407007972,
          0.14158242826944453,
          0.13396738943787548,
          0.1652740085600188,
          0.15731308820689663,
          0.14936716640117303,
          0.1416339928159702,
          0.13400396061773606,
          0.1577166960417137,
          0.14936900843874495,
          0.14163878623591258,
          0.13394991262688538,
          0.14938491985586805,
          0.14160913384255341,
          0.13400396013907345,
          0.14175530160638375,
          0.1338620850151635,
          0.13427998684124468
         ]
        }
       ],
       "layout": {
        "template": {
         "data": {
          "bar": [
           {
            "error_x": {
             "color": "#2a3f5f"
            },
            "error_y": {
             "color": "#2a3f5f"
            },
            "marker": {
             "line": {
              "color": "#E5ECF6",
              "width": 0.5
             }
            },
            "type": "bar"
           }
          ],
          "barpolar": [
           {
            "marker": {
             "line": {
              "color": "#E5ECF6",
              "width": 0.5
             }
            },
            "type": "barpolar"
           }
          ],
          "carpet": [
           {
            "aaxis": {
             "endlinecolor": "#2a3f5f",
             "gridcolor": "white",
             "linecolor": "white",
             "minorgridcolor": "white",
             "startlinecolor": "#2a3f5f"
            },
            "baxis": {
             "endlinecolor": "#2a3f5f",
             "gridcolor": "white",
             "linecolor": "white",
             "minorgridcolor": "white",
             "startlinecolor": "#2a3f5f"
            },
            "type": "carpet"
           }
          ],
          "choropleth": [
           {
            "colorbar": {
             "outlinewidth": 0,
             "ticks": ""
            },
            "type": "choropleth"
           }
          ],
          "contour": [
           {
            "colorbar": {
             "outlinewidth": 0,
             "ticks": ""
            },
            "colorscale": [
             [
              0,
              "#0d0887"
             ],
             [
              0.1111111111111111,
              "#46039f"
             ],
             [
              0.2222222222222222,
              "#7201a8"
             ],
             [
              0.3333333333333333,
              "#9c179e"
             ],
             [
              0.4444444444444444,
              "#bd3786"
             ],
             [
              0.5555555555555556,
              "#d8576b"
             ],
             [
              0.6666666666666666,
              "#ed7953"
             ],
             [
              0.7777777777777778,
              "#fb9f3a"
             ],
             [
              0.8888888888888888,
              "#fdca26"
             ],
             [
              1,
              "#f0f921"
             ]
            ],
            "type": "contour"
           }
          ],
          "contourcarpet": [
           {
            "colorbar": {
             "outlinewidth": 0,
             "ticks": ""
            },
            "type": "contourcarpet"
           }
          ],
          "heatmap": [
           {
            "colorbar": {
             "outlinewidth": 0,
             "ticks": ""
            },
            "colorscale": [
             [
              0,
              "#0d0887"
             ],
             [
              0.1111111111111111,
              "#46039f"
             ],
             [
              0.2222222222222222,
              "#7201a8"
             ],
             [
              0.3333333333333333,
              "#9c179e"
             ],
             [
              0.4444444444444444,
              "#bd3786"
             ],
             [
              0.5555555555555556,
              "#d8576b"
             ],
             [
              0.6666666666666666,
              "#ed7953"
             ],
             [
              0.7777777777777778,
              "#fb9f3a"
             ],
             [
              0.8888888888888888,
              "#fdca26"
             ],
             [
              1,
              "#f0f921"
             ]
            ],
            "type": "heatmap"
           }
          ],
          "heatmapgl": [
           {
            "colorbar": {
             "outlinewidth": 0,
             "ticks": ""
            },
            "colorscale": [
             [
              0,
              "#0d0887"
             ],
             [
              0.1111111111111111,
              "#46039f"
             ],
             [
              0.2222222222222222,
              "#7201a8"
             ],
             [
              0.3333333333333333,
              "#9c179e"
             ],
             [
              0.4444444444444444,
              "#bd3786"
             ],
             [
              0.5555555555555556,
              "#d8576b"
             ],
             [
              0.6666666666666666,
              "#ed7953"
             ],
             [
              0.7777777777777778,
              "#fb9f3a"
             ],
             [
              0.8888888888888888,
              "#fdca26"
             ],
             [
              1,
              "#f0f921"
             ]
            ],
            "type": "heatmapgl"
           }
          ],
          "histogram": [
           {
            "marker": {
             "colorbar": {
              "outlinewidth": 0,
              "ticks": ""
             }
            },
            "type": "histogram"
           }
          ],
          "histogram2d": [
           {
            "colorbar": {
             "outlinewidth": 0,
             "ticks": ""
            },
            "colorscale": [
             [
              0,
              "#0d0887"
             ],
             [
              0.1111111111111111,
              "#46039f"
             ],
             [
              0.2222222222222222,
              "#7201a8"
             ],
             [
              0.3333333333333333,
              "#9c179e"
             ],
             [
              0.4444444444444444,
              "#bd3786"
             ],
             [
              0.5555555555555556,
              "#d8576b"
             ],
             [
              0.6666666666666666,
              "#ed7953"
             ],
             [
              0.7777777777777778,
              "#fb9f3a"
             ],
             [
              0.8888888888888888,
              "#fdca26"
             ],
             [
              1,
              "#f0f921"
             ]
            ],
            "type": "histogram2d"
           }
          ],
          "histogram2dcontour": [
           {
            "colorbar": {
             "outlinewidth": 0,
             "ticks": ""
            },
            "colorscale": [
             [
              0,
              "#0d0887"
             ],
             [
              0.1111111111111111,
              "#46039f"
             ],
             [
              0.2222222222222222,
              "#7201a8"
             ],
             [
              0.3333333333333333,
              "#9c179e"
             ],
             [
              0.4444444444444444,
              "#bd3786"
             ],
             [
              0.5555555555555556,
              "#d8576b"
             ],
             [
              0.6666666666666666,
              "#ed7953"
             ],
             [
              0.7777777777777778,
              "#fb9f3a"
             ],
             [
              0.8888888888888888,
              "#fdca26"
             ],
             [
              1,
              "#f0f921"
             ]
            ],
            "type": "histogram2dcontour"
           }
          ],
          "mesh3d": [
           {
            "colorbar": {
             "outlinewidth": 0,
             "ticks": ""
            },
            "type": "mesh3d"
           }
          ],
          "parcoords": [
           {
            "line": {
             "colorbar": {
              "outlinewidth": 0,
              "ticks": ""
             }
            },
            "type": "parcoords"
           }
          ],
          "pie": [
           {
            "automargin": true,
            "type": "pie"
           }
          ],
          "scatter": [
           {
            "marker": {
             "colorbar": {
              "outlinewidth": 0,
              "ticks": ""
             }
            },
            "type": "scatter"
           }
          ],
          "scatter3d": [
           {
            "line": {
             "colorbar": {
              "outlinewidth": 0,
              "ticks": ""
             }
            },
            "marker": {
             "colorbar": {
              "outlinewidth": 0,
              "ticks": ""
             }
            },
            "type": "scatter3d"
           }
          ],
          "scattercarpet": [
           {
            "marker": {
             "colorbar": {
              "outlinewidth": 0,
              "ticks": ""
             }
            },
            "type": "scattercarpet"
           }
          ],
          "scattergeo": [
           {
            "marker": {
             "colorbar": {
              "outlinewidth": 0,
              "ticks": ""
             }
            },
            "type": "scattergeo"
           }
          ],
          "scattergl": [
           {
            "marker": {
             "colorbar": {
              "outlinewidth": 0,
              "ticks": ""
             }
            },
            "type": "scattergl"
           }
          ],
          "scattermapbox": [
           {
            "marker": {
             "colorbar": {
              "outlinewidth": 0,
              "ticks": ""
             }
            },
            "type": "scattermapbox"
           }
          ],
          "scatterpolar": [
           {
            "marker": {
             "colorbar": {
              "outlinewidth": 0,
              "ticks": ""
             }
            },
            "type": "scatterpolar"
           }
          ],
          "scatterpolargl": [
           {
            "marker": {
             "colorbar": {
              "outlinewidth": 0,
              "ticks": ""
             }
            },
            "type": "scatterpolargl"
           }
          ],
          "scatterternary": [
           {
            "marker": {
             "colorbar": {
              "outlinewidth": 0,
              "ticks": ""
             }
            },
            "type": "scatterternary"
           }
          ],
          "surface": [
           {
            "colorbar": {
             "outlinewidth": 0,
             "ticks": ""
            },
            "colorscale": [
             [
              0,
              "#0d0887"
             ],
             [
              0.1111111111111111,
              "#46039f"
             ],
             [
              0.2222222222222222,
              "#7201a8"
             ],
             [
              0.3333333333333333,
              "#9c179e"
             ],
             [
              0.4444444444444444,
              "#bd3786"
             ],
             [
              0.5555555555555556,
              "#d8576b"
             ],
             [
              0.6666666666666666,
              "#ed7953"
             ],
             [
              0.7777777777777778,
              "#fb9f3a"
             ],
             [
              0.8888888888888888,
              "#fdca26"
             ],
             [
              1,
              "#f0f921"
             ]
            ],
            "type": "surface"
           }
          ],
          "table": [
           {
            "cells": {
             "fill": {
              "color": "#EBF0F8"
             },
             "line": {
              "color": "white"
             }
            },
            "header": {
             "fill": {
              "color": "#C8D4E3"
             },
             "line": {
              "color": "white"
             }
            },
            "type": "table"
           }
          ]
         },
         "layout": {
          "annotationdefaults": {
           "arrowcolor": "#2a3f5f",
           "arrowhead": 0,
           "arrowwidth": 1
          },
          "autotypenumbers": "strict",
          "coloraxis": {
           "colorbar": {
            "outlinewidth": 0,
            "ticks": ""
           }
          },
          "colorscale": {
           "diverging": [
            [
             0,
             "#8e0152"
            ],
            [
             0.1,
             "#c51b7d"
            ],
            [
             0.2,
             "#de77ae"
            ],
            [
             0.3,
             "#f1b6da"
            ],
            [
             0.4,
             "#fde0ef"
            ],
            [
             0.5,
             "#f7f7f7"
            ],
            [
             0.6,
             "#e6f5d0"
            ],
            [
             0.7,
             "#b8e186"
            ],
            [
             0.8,
             "#7fbc41"
            ],
            [
             0.9,
             "#4d9221"
            ],
            [
             1,
             "#276419"
            ]
           ],
           "sequential": [
            [
             0,
             "#0d0887"
            ],
            [
             0.1111111111111111,
             "#46039f"
            ],
            [
             0.2222222222222222,
             "#7201a8"
            ],
            [
             0.3333333333333333,
             "#9c179e"
            ],
            [
             0.4444444444444444,
             "#bd3786"
            ],
            [
             0.5555555555555556,
             "#d8576b"
            ],
            [
             0.6666666666666666,
             "#ed7953"
            ],
            [
             0.7777777777777778,
             "#fb9f3a"
            ],
            [
             0.8888888888888888,
             "#fdca26"
            ],
            [
             1,
             "#f0f921"
            ]
           ],
           "sequentialminus": [
            [
             0,
             "#0d0887"
            ],
            [
             0.1111111111111111,
             "#46039f"
            ],
            [
             0.2222222222222222,
             "#7201a8"
            ],
            [
             0.3333333333333333,
             "#9c179e"
            ],
            [
             0.4444444444444444,
             "#bd3786"
            ],
            [
             0.5555555555555556,
             "#d8576b"
            ],
            [
             0.6666666666666666,
             "#ed7953"
            ],
            [
             0.7777777777777778,
             "#fb9f3a"
            ],
            [
             0.8888888888888888,
             "#fdca26"
            ],
            [
             1,
             "#f0f921"
            ]
           ]
          },
          "colorway": [
           "#636efa",
           "#EF553B",
           "#00cc96",
           "#ab63fa",
           "#FFA15A",
           "#19d3f3",
           "#FF6692",
           "#B6E880",
           "#FF97FF",
           "#FECB52"
          ],
          "font": {
           "color": "#2a3f5f"
          },
          "geo": {
           "bgcolor": "white",
           "lakecolor": "white",
           "landcolor": "#E5ECF6",
           "showlakes": true,
           "showland": true,
           "subunitcolor": "white"
          },
          "hoverlabel": {
           "align": "left"
          },
          "hovermode": "closest",
          "mapbox": {
           "style": "light"
          },
          "paper_bgcolor": "white",
          "plot_bgcolor": "#E5ECF6",
          "polar": {
           "angularaxis": {
            "gridcolor": "white",
            "linecolor": "white",
            "ticks": ""
           },
           "bgcolor": "#E5ECF6",
           "radialaxis": {
            "gridcolor": "white",
            "linecolor": "white",
            "ticks": ""
           }
          },
          "scene": {
           "xaxis": {
            "backgroundcolor": "#E5ECF6",
            "gridcolor": "white",
            "gridwidth": 2,
            "linecolor": "white",
            "showbackground": true,
            "ticks": "",
            "zerolinecolor": "white"
           },
           "yaxis": {
            "backgroundcolor": "#E5ECF6",
            "gridcolor": "white",
            "gridwidth": 2,
            "linecolor": "white",
            "showbackground": true,
            "ticks": "",
            "zerolinecolor": "white"
           },
           "zaxis": {
            "backgroundcolor": "#E5ECF6",
            "gridcolor": "white",
            "gridwidth": 2,
            "linecolor": "white",
            "showbackground": true,
            "ticks": "",
            "zerolinecolor": "white"
           }
          },
          "shapedefaults": {
           "line": {
            "color": "#2a3f5f"
           }
          },
          "ternary": {
           "aaxis": {
            "gridcolor": "white",
            "linecolor": "white",
            "ticks": ""
           },
           "baxis": {
            "gridcolor": "white",
            "linecolor": "white",
            "ticks": ""
           },
           "bgcolor": "#E5ECF6",
           "caxis": {
            "gridcolor": "white",
            "linecolor": "white",
            "ticks": ""
           }
          },
          "title": {
           "x": 0.05
          },
          "xaxis": {
           "automargin": true,
           "gridcolor": "white",
           "linecolor": "white",
           "ticks": "",
           "title": {
            "standoff": 15
           },
           "zerolinecolor": "white",
           "zerolinewidth": 2
          },
          "yaxis": {
           "automargin": true,
           "gridcolor": "white",
           "linecolor": "white",
           "ticks": "",
           "title": {
            "standoff": 15
           },
           "zerolinecolor": "white",
           "zerolinewidth": 2
          }
         }
        }
       }
      }
     },
     "metadata": {},
     "output_type": "display_data"
    }
   ],
   "source": [
    "objectives = evolver.population.objectives\n",
    "fig2 = go.Figure(data=go.Scatter3d(x=objectives[:,0],\n",
    "                                   y=objectives[:,1],\n",
    "                                   z=objectives[:,2],\n",
    "                                   mode=\"markers\",\n",
    "                                   marker_size=1))\n",
    "fig2"
   ]
  }
 ],
 "metadata": {
  "kernelspec": {
   "display_name": "Python 3.7.9 64-bit",
   "metadata": {
    "interpreter": {
     "hash": "fa0657fd682da5b19fd87c26883d1e3e7f91341171573160c7598b8092ac4ae5"
    }
   },
   "name": "python3"
  },
  "language_info": {
   "codemirror_mode": {
    "name": "ipython",
    "version": 3
   },
   "file_extension": ".py",
   "mimetype": "text/x-python",
   "name": "python",
   "nbconvert_exporter": "python",
   "pygments_lexer": "ipython3",
   "version": "3.8.10"
  }
 },
 "nbformat": 4,
 "nbformat_minor": 4
}
