{
 "cells": [
  {
   "cell_type": "markdown",
   "id": "cd8215b6-57ba-4520-a3af-04dfbed811b2",
   "metadata": {},
   "source": [
    "# Showcasing IOPIS algorithm"
   ]
  },
  {
   "cell_type": "code",
   "execution_count": 2,
   "id": "ad043770-489d-4d66-b524-37d630d1e129",
   "metadata": {},
   "outputs": [],
   "source": [
    "# You can try disabling this cell to see the warnings that we are supressing\n",
    "import warnings\n",
    "warnings.filterwarnings('ignore')"
   ]
  },
  {
   "cell_type": "code",
   "execution_count": 3,
   "id": "e5101859-35d6-45fa-b7f0-7f2bcc508756",
   "metadata": {},
   "outputs": [],
   "source": [
    "import numpy as np\n",
    "import pandas as pd\n",
    "\n",
    "import plotly.graph_objects as go\n",
    "import plotly.io as pio\n",
    "pio.templates.default = \"presentation\"\n",
    "\n",
    "from desdeo_problem import variable_builder, VectorObjective\n",
    "\n",
    "from desdeo_emo.problem import IOPISProblem\n",
    "from desdeo_emo.EAs import NSGAIII"
   ]
  },
  {
   "cell_type": "code",
   "execution_count": 4,
   "id": "1a9c4dd6-ee76-4e7b-a62d-387554266e67",
   "metadata": {},
   "outputs": [],
   "source": [
    "variables = variable_builder(\n",
    "    names = [\"x_1\", \"x_2\"],\n",
    "    initial_values = [0.5,0.5],\n",
    "    lower_bounds = [0, 0],\n",
    "    upper_bounds = [1, 1]\n",
    ")\n",
    "\n",
    "def y(x):\n",
    "    y1 = (x[:, 0] + x[:, 1]) / 2\n",
    "    y2 = (x[:, 0] - x[:, 1] + 1) / 2\n",
    "    return np.array((y1,y2)).T\n",
    "\n",
    "objectives = VectorObjective(\n",
    "    name=[\"y_1\", \"y_2\"],\n",
    "    evaluator=y\n",
    ")"
   ]
  },
  {
   "cell_type": "code",
   "execution_count": 5,
   "id": "e8cfcc46-7fbe-4dfb-9987-ca081f0177c4",
   "metadata": {},
   "outputs": [],
   "source": [
    "nadir = np.array([0.5,0.5])\n",
    "ideal = np.array([0,0])\n",
    "\n",
    "first_preference = {\"reference point\": np.array([[0.2, 0.3]])}\n",
    "\n",
    "iopisProblem = IOPISProblem(\n",
    "    objectives=[objectives], \n",
    "    variables=variables,\n",
    "    nadir=nadir, # This can be approximate\n",
    "    ideal=ideal,  # This can be approximate\n",
    "    PIS_type=\"IOPIS\",\n",
    "    initial_preference=first_preference\n",
    ")"
   ]
  },
  {
   "cell_type": "code",
   "execution_count": 6,
   "id": "52522ee7-a97e-4309-b301-9bdc6d316d4a",
   "metadata": {},
   "outputs": [
    {
     "name": "stdout",
     "output_type": "stream",
     "text": [
      "Evaluation Results Object \n",
      "Objective values are: \n",
      "[[0.25 0.55]]\n",
      "Constraint violation values are: \n",
      "None\n",
      "Fitness values are: \n",
      "[[1.83333333 1.25      ]]\n",
      "Uncertainity values are: \n",
      "[[nan nan]]\n",
      "\n"
     ]
    }
   ],
   "source": [
    "# Note, the fitness values are different now!\n",
    "print(iopisProblem.evaluate(np.array([[0.3,0.2]])))"
   ]
  },
  {
   "cell_type": "code",
   "execution_count": 7,
   "id": "753a0ea1-5eb0-4c47-a7ff-15f0379c9e50",
   "metadata": {},
   "outputs": [],
   "source": [
    "evolver = NSGAIII(\n",
    "    iopisProblem,\n",
    "    population_size=40,\n",
    "    n_gen_per_iter=10,\n",
    "    interact=True\n",
    ")\n",
    "\n",
    "pref, plot = evolver.start()"
   ]
  },
  {
   "cell_type": "code",
   "execution_count": 8,
   "id": "39851523-9871-4aab-875c-b954f9a8a7fc",
   "metadata": {
    "tags": []
   },
   "outputs": [],
   "source": [
    "# may need to run this a few times to reach the desired area (convergence may be slow)\n",
    "preference = {\"reference point\": np.array([[0.2, 0.4]])}\n",
    "\n",
    "pref, plot = evolver.iterate(preference)"
   ]
  },
  {
   "cell_type": "code",
   "execution_count": 9,
   "id": "76d3ce66-16b9-4add-91fd-898ddfd89f2a",
   "metadata": {
    "tags": []
   },
   "outputs": [
    {
     "name": "stderr",
     "output_type": "stream",
     "text": [
      "/Users/bhupindersaini/Projects/desdeo-emo/venv/lib/python3.10/site-packages/plotly/graph_objs/_deprecations.py:378: DeprecationWarning:\n",
      "\n",
      "plotly.graph_objs.Line is deprecated.\n",
      "Please replace it with one of the following more specific types\n",
      "  - plotly.graph_objs.scatter.Line\n",
      "  - plotly.graph_objs.layout.shape.Line\n",
      "  - etc.\n",
      "\n",
      "\n"
     ]
    },
    {
     "data": {
      "application/vnd.plotly.v1+json": {
       "config": {
        "plotlyServerURL": "https://plot.ly"
       },
       "data": [
        {
         "mode": "markers",
         "name": "IOPIS Solutions",
         "type": "scatter",
         "x": [
          0.15141432216407077,
          0.15189784987721822,
          0.14298257763572,
          0.16710436650579535,
          0.16609895466017965,
          0.15055157177840184,
          0.1510286450150498,
          0.13736257280765513,
          0.16427542355831076,
          0.12903225045298297,
          0.15185136008085173,
          0.1670117298072086,
          0.15829224326377117,
          0.14025873993121096,
          0.15064879620887744,
          0.15124586575561022,
          0.15252076302624618,
          0.13905163804285303,
          0.14766421083670128,
          0.14461032750349448,
          0.1396161173334086,
          0.14308865111036922,
          0.14557962388334902,
          0.1697485548290601,
          0.1495779190089901,
          0.13837909602987086,
          0.15627660683649128,
          0.14508276680381374,
          0.16016584058502725,
          0.13830951315765058,
          0.12839439924844484,
          0.15813681771753532,
          0.13670534621493313,
          0.15988034695591438,
          0.13715927152008286,
          0.1425826978951091,
          0.14997081707961893,
          0.14661750210413035,
          0.14042338965547774,
          0.15060675471169405
         ],
         "y": [
          0.35231157378270106,
          0.3521377104466566,
          0.36250118808164855,
          0.33918898224189115,
          0.34287270013049465,
          0.3531572419669336,
          0.35193338750663894,
          0.37187772339245395,
          0.344659666281204,
          0.3733589903296922,
          0.35216830558688206,
          0.33916741039340725,
          0.34175580963069124,
          0.36529128388623366,
          0.3523101776835373,
          0.35154352244673714,
          0.35117366209925066,
          0.36162253449535325,
          0.353357687221944,
          0.36085704638807337,
          0.36946990922994605,
          0.35764073700254734,
          0.354420376116651,
          0.33561567889316696,
          0.35411744144843343,
          0.37125115354582755,
          0.3446921031825906,
          0.3602379287188109,
          0.34095472758352563,
          0.37122206630814025,
          0.3717022286874464,
          0.34187139476910766,
          0.3657772414887315,
          0.34625451087910597,
          0.3629527021653186,
          0.3651459867606751,
          0.35375793640283204,
          0.35547449992099756,
          0.35970692950112054,
          0.35236507688491947
         ]
        },
        {
         "name": "Reference point",
         "type": "scatter",
         "x": [
          0.2
         ],
         "y": [
          0.4
         ]
        },
        {
         "name": "GUESS",
         "type": "scatter",
         "x": [
          0.5,
          0
         ],
         "y": [
          0.5,
          0.33333333333333337
         ]
        },
        {
         "name": "STOM",
         "type": "scatter",
         "x": [
          0,
          0.25
         ],
         "y": [
          0,
          0.5
         ]
        },
        {
         "name": "Pareto front",
         "type": "scatter",
         "x": [
          0,
          0.5
         ],
         "y": [
          0.5,
          0
         ]
        }
       ],
       "layout": {
        "template": {
         "data": {
          "pie": [
           {
            "automargin": true,
            "type": "pie"
           }
          ],
          "scatter": [
           {
            "line": {
             "width": 3
            },
            "marker": {
             "size": 9
            },
            "type": "scatter"
           }
          ],
          "scatter3d": [
           {
            "line": {
             "width": 3
            },
            "marker": {
             "size": 9
            },
            "type": "scatter3d"
           }
          ],
          "scattergeo": [
           {
            "line": {
             "width": 3
            },
            "marker": {
             "size": 9
            },
            "type": "scattergeo"
           }
          ],
          "scattergl": [
           {
            "line": {
             "width": 3
            },
            "marker": {
             "size": 9
            },
            "type": "scattergl"
           }
          ],
          "scatterpolar": [
           {
            "line": {
             "width": 3
            },
            "marker": {
             "size": 9
            },
            "type": "scatterpolar"
           }
          ],
          "scatterpolargl": [
           {
            "line": {
             "width": 3
            },
            "marker": {
             "size": 9
            },
            "type": "scatterpolargl"
           }
          ],
          "scatterternary": [
           {
            "line": {
             "width": 3
            },
            "marker": {
             "size": 9
            },
            "type": "scatterternary"
           }
          ],
          "table": [
           {
            "cells": {
             "height": 30
            },
            "header": {
             "height": 36
            },
            "type": "table"
           }
          ]
         },
         "layout": {
          "font": {
           "size": 18
          },
          "xaxis": {
           "title": {
            "standoff": 15
           }
          },
          "yaxis": {
           "title": {
            "standoff": 15
           }
          }
         }
        }
       }
      }
     },
     "metadata": {},
     "output_type": "display_data"
    }
   ],
   "source": [
    "iopis_solutions = go.Scatter(\n",
    "    x=evolver.population.objectives[:, 0],\n",
    "    y=evolver.population.objectives[:, 1],\n",
    "    name=\"IOPIS Solutions\",\n",
    "    mode=\"markers\"\n",
    ")\n",
    "\n",
    "refp = go.Scatter(\n",
    "    x=preference[\"reference point\"][:,0],\n",
    "    y=preference[\"reference point\"][:,1],\n",
    "    name=\"Reference point\"\n",
    ")\n",
    "\n",
    "# Some maths magic to draw a line connecting the ideal point and the reference point\n",
    "# Represents the STOM scalarization function\n",
    "temp = max((nadir- preference[\"reference point\"][0])/(ideal-preference[\"reference point\"][0]))\n",
    "end = preference[\"reference point\"][0] + temp * (ideal - preference[\"reference point\"][0])\n",
    "stom = go.Line(\n",
    "    x=[ideal[0], end[0]],\n",
    "    y=[ideal[1], end[1]],\n",
    "    name=\"STOM\",\n",
    ")\n",
    "\n",
    "# Some maths magic to draw a line connecting the nadir point and the reference point\n",
    "# Represents the GUESS scalarization function\n",
    "temp = max((ideal- preference[\"reference point\"][0])/(nadir-preference[\"reference point\"][0]))\n",
    "end = preference[\"reference point\"][0] + temp * (nadir - preference[\"reference point\"][0])\n",
    "guess = go.Line(\n",
    "    x=[nadir[0], end[0]],\n",
    "    y=[nadir[1], end[1]],\n",
    "    name=\"GUESS\",\n",
    ")\n",
    "\n",
    "pareto = go.Line(\n",
    "    x=[0, 0.5],\n",
    "    y=[0.5, 0],\n",
    "    name=\"Pareto front\",\n",
    ")\n",
    "go.Figure([iopis_solutions, refp, guess, stom, pareto])"
   ]
  },
  {
   "cell_type": "code",
   "execution_count": 16,
   "id": "aa61d9d8-2f9c-4a0d-94f0-e1690956ecc2",
   "metadata": {},
   "outputs": [],
   "source": [
    "# may need to run this a few times to reach the desired area (convergence may be slow)\n",
    "preference = {\"reference point\": np.array([[0.45, 0.25]])}\n",
    "\n",
    "pref, plot = evolver.iterate(preference)"
   ]
  },
  {
   "cell_type": "code",
   "execution_count": 17,
   "id": "0af34c61",
   "metadata": {},
   "outputs": [
    {
     "name": "stderr",
     "output_type": "stream",
     "text": [
      "/Users/bhupindersaini/Projects/desdeo-emo/venv/lib/python3.10/site-packages/plotly/graph_objs/_deprecations.py:378: DeprecationWarning:\n",
      "\n",
      "plotly.graph_objs.Line is deprecated.\n",
      "Please replace it with one of the following more specific types\n",
      "  - plotly.graph_objs.scatter.Line\n",
      "  - plotly.graph_objs.layout.shape.Line\n",
      "  - etc.\n",
      "\n",
      "\n"
     ]
    },
    {
     "data": {
      "application/vnd.plotly.v1+json": {
       "config": {
        "plotlyServerURL": "https://plot.ly"
       },
       "data": [
        {
         "mode": "markers",
         "name": "IOPIS Solutions",
         "type": "scatter",
         "x": [
          0.3761287033143759,
          0.3961008112406278,
          0.4050132866401895,
          0.38448281210807095,
          0.41652794679213595,
          0.3455470735369803,
          0.3956043674321186,
          0.3228195476532638,
          0.3943420221832037,
          0.34165710735996063,
          0.37527401029198076,
          0.33119746147973356,
          0.3590734580377488,
          0.34097957548342744,
          0.3596288054056122,
          0.3253737979464576,
          0.37858866509200123,
          0.40799962532408124,
          0.4156625431957302,
          0.3536298276556991,
          0.3537024245615906,
          0.3310703244896003,
          0.3727465611317395,
          0.32518680370285474,
          0.34554889616677625,
          0.35507736365781584,
          0.40467568030118384,
          0.41548731753396356,
          0.3890540204140181,
          0.34595592071657144,
          0.32069393150189807,
          0.3733270721431686,
          0.4090337377099809,
          0.35169041828249953,
          0.36029476735927185,
          0.3904161603946315,
          0.3584010176121567,
          0.38020579727414616,
          0.4141852594957957,
          0.4048193820212527
         ],
         "y": [
          0.12387129668562408,
          0.1039608330163665,
          0.09505550849519412,
          0.11555124809509293,
          0.08350433335743551,
          0.15445292646301972,
          0.10439777955782892,
          0.17718045234673618,
          0.10575509910739989,
          0.15837960426110803,
          0.12472598970801924,
          0.16880253852026644,
          0.14095595944206052,
          0.15902042451657256,
          0.14040373003429057,
          0.1746262020535424,
          0.12151054560621949,
          0.09200061021559697,
          0.08433982077670726,
          0.14639545517414948,
          0.14629757543840938,
          0.16892967551039972,
          0.12728578908427385,
          0.17481517867788127,
          0.15445110515865162,
          0.14495808756143158,
          0.09539385867909489,
          0.08451268246603644,
          0.11095251640074572,
          0.15405503924386132,
          0.17930606849810193,
          0.126675298098738,
          0.09103371105220709,
          0.14831151676671,
          0.13970523264072815,
          0.1096003911790317,
          0.14169940279180449,
          0.11982808081300089,
          0.08581474214789359,
          0.09518061797874727
         ]
        },
        {
         "name": "Reference point",
         "type": "scatter",
         "x": [
          0.45
         ],
         "y": [
          0.25
         ]
        },
        {
         "name": "GUESS",
         "type": "scatter",
         "x": [
          0.5,
          0.4
         ],
         "y": [
          0.5,
          0
         ]
        },
        {
         "name": "STOM",
         "type": "scatter",
         "x": [
          0,
          0.5
         ],
         "y": [
          0,
          0.2777777777777778
         ]
        },
        {
         "name": "Pareto front",
         "type": "scatter",
         "x": [
          0,
          0.5
         ],
         "y": [
          0.5,
          0
         ]
        }
       ],
       "layout": {
        "template": {
         "data": {
          "pie": [
           {
            "automargin": true,
            "type": "pie"
           }
          ],
          "scatter": [
           {
            "line": {
             "width": 3
            },
            "marker": {
             "size": 9
            },
            "type": "scatter"
           }
          ],
          "scatter3d": [
           {
            "line": {
             "width": 3
            },
            "marker": {
             "size": 9
            },
            "type": "scatter3d"
           }
          ],
          "scattergeo": [
           {
            "line": {
             "width": 3
            },
            "marker": {
             "size": 9
            },
            "type": "scattergeo"
           }
          ],
          "scattergl": [
           {
            "line": {
             "width": 3
            },
            "marker": {
             "size": 9
            },
            "type": "scattergl"
           }
          ],
          "scatterpolar": [
           {
            "line": {
             "width": 3
            },
            "marker": {
             "size": 9
            },
            "type": "scatterpolar"
           }
          ],
          "scatterpolargl": [
           {
            "line": {
             "width": 3
            },
            "marker": {
             "size": 9
            },
            "type": "scatterpolargl"
           }
          ],
          "scatterternary": [
           {
            "line": {
             "width": 3
            },
            "marker": {
             "size": 9
            },
            "type": "scatterternary"
           }
          ],
          "table": [
           {
            "cells": {
             "height": 30
            },
            "header": {
             "height": 36
            },
            "type": "table"
           }
          ]
         },
         "layout": {
          "font": {
           "size": 18
          },
          "xaxis": {
           "title": {
            "standoff": 15
           }
          },
          "yaxis": {
           "title": {
            "standoff": 15
           }
          }
         }
        }
       }
      }
     },
     "metadata": {},
     "output_type": "display_data"
    }
   ],
   "source": [
    "iopis_solutions = go.Scatter(\n",
    "    x=evolver.population.objectives[:, 0],\n",
    "    y=evolver.population.objectives[:, 1],\n",
    "    name=\"IOPIS Solutions\",\n",
    "    mode=\"markers\"\n",
    ")\n",
    "\n",
    "refp = go.Scatter(\n",
    "    x=preference[\"reference point\"][:,0],\n",
    "    y=preference[\"reference point\"][:,1],\n",
    "    name=\"Reference point\"\n",
    ")\n",
    "\n",
    "# Some maths magic to draw a line connecting the ideal point and the reference point\n",
    "# Represents the STOM scalarization function\n",
    "temp = max((nadir- preference[\"reference point\"][0])/(ideal-preference[\"reference point\"][0]))\n",
    "end = preference[\"reference point\"][0] + temp * (ideal - preference[\"reference point\"][0])\n",
    "stom = go.Line(\n",
    "    x=[ideal[0], end[0]],\n",
    "    y=[ideal[1], end[1]],\n",
    "    name=\"STOM\",\n",
    ")\n",
    "\n",
    "# Some maths magic to draw a line connecting the nadir point and the reference point\n",
    "# Represents the GUESS scalarization function\n",
    "temp = max((ideal- preference[\"reference point\"][0])/(nadir-preference[\"reference point\"][0]))\n",
    "end = preference[\"reference point\"][0] + temp * (nadir - preference[\"reference point\"][0])\n",
    "guess = go.Line(\n",
    "    x=[nadir[0], end[0]],\n",
    "    y=[nadir[1], end[1]],\n",
    "    name=\"GUESS\",\n",
    ")\n",
    "\n",
    "pareto = go.Line(\n",
    "    x=[0, 0.5],\n",
    "    y=[0.5, 0],\n",
    "    name=\"Pareto front\",\n",
    ")\n",
    "go.Figure([iopis_solutions, refp, guess, stom, pareto])"
   ]
  },
  {
   "cell_type": "code",
   "execution_count": null,
   "id": "51541e39",
   "metadata": {},
   "outputs": [],
   "source": []
  }
 ],
 "metadata": {
  "kernelspec": {
   "display_name": "venv",
   "language": "python",
   "name": "python3"
  },
  "language_info": {
   "codemirror_mode": {
    "name": "ipython",
    "version": 3
   },
   "file_extension": ".py",
   "mimetype": "text/x-python",
   "name": "python",
   "nbconvert_exporter": "python",
   "pygments_lexer": "ipython3",
   "version": "3.10.13"
  }
 },
 "nbformat": 4,
 "nbformat_minor": 5
}
