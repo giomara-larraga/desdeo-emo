{
 "cells": [
  {
   "cell_type": "markdown",
   "metadata": {},
   "source": [
    "## Interactive WASF-GA"
   ]
  },
  {
   "cell_type": "code",
   "execution_count": null,
   "metadata": {},
   "outputs": [],
   "source": [
    "#imports\n",
    "from desdeo_problem.testproblems.TestProblems import test_problem_builder\n",
    "from desdeo_emo.population import Population\n",
    "from desdeo_emo.utilities.WASFGA_ranking import WASFGARanking\n",
    "from desdeo_emo.utilities.ReferenceVectors import ReferenceVectors\n",
    "from desdeo_tools.scalarization.ASF import ASFBase\n",
    "from desdeo_emo.EAs.WASFGA import WASF_GA\n",
    "import numpy as np\n",
    "from typing import Union\n",
    "# Package for plotting the results\n",
    "import plotly.graph_objects as go\n",
    "\n",
    "\n",
    "from desdeo_emo.utilities import animate_init_, animate_next_\n",
    "import pandas as pd\n",
    "\n",
    "problem = test_problem_builder(name=\"DTLZ1\", n_of_variables=7, n_of_objectives=3)\n",
    "\n",
    "evolver = WASF_GA(problem,\n",
    "               interact=True,\n",
    "               n_iterations=5,\n",
    "               n_gen_per_iter=40,\n",
    "                 save_non_dominated=True\n",
    "                )\n",
    "\n",
    "figure = animate_init_(\n",
    "    evolver.population.objectives[evolver.population.non_dominated_fitness()],\n",
    "    filename=\"dtlz1.html\")\n",
    "\n",
    "evolver.set_interaction_type('Reference point')\n"
   ]
  },
  {
   "cell_type": "code",
   "execution_count": null,
   "metadata": {},
   "outputs": [],
   "source": [
    "pref, plot = evolver.start()"
   ]
  },
  {
   "cell_type": "code",
   "execution_count": null,
   "metadata": {},
   "outputs": [],
   "source": [
    "print(pref.content['message'])"
   ]
  },
  {
   "cell_type": "code",
   "execution_count": null,
   "metadata": {},
   "outputs": [],
   "source": [
    "response = evolver.population.ideal_fitness_val + [0.04,0.04,0.4]\n",
    "pref.response = pd.DataFrame([response], columns=pref.content['dimensions_data'].columns)"
   ]
  },
  {
   "cell_type": "code",
   "execution_count": null,
   "metadata": {},
   "outputs": [],
   "source": [
    "# Run with pref = None for a few (4-5) iterations.\n",
    "#Refresh the plot in the new tab to see if solutions are close to the pareto front.\n",
    "# Afterwards, activate interaction by commenting the line below.\n",
    "\n",
    "#pref = None  # Set pref as None to provide no preference. This returns solutions that are uniformly spread in the objective space\n",
    "\n",
    "\n",
    "pref, plot = evolver.iterate(pref)\n",
    "figure = animate_next_(\n",
    "    plot.content['data'].values,\n",
    "    figure,\n",
    "    filename=\"dtlz1.html\",\n",
    "    generation=evolver._iteration_counter,\n",
    ")\n",
    "\n",
    "message = (f\"Current generation number:{evolver._current_gen_count}. \"\n",
    "           f\"Is looping back recommended: {'Yes' if evolver.continue_evolution() else 'No'}\")\n",
    "print(message)"
   ]
  },
  {
   "cell_type": "code",
   "execution_count": null,
   "metadata": {},
   "outputs": [],
   "source": [
    "objectives = evolver.non_dominated[\"objectives\"]\n",
    "fig5 = go.Figure(data=go.Scatter3d(x=objectives[:,0],\n",
    "                                   y=objectives[:,1],\n",
    "                                   z=objectives[:,2],\n",
    "                                   mode=\"markers\",\n",
    "                                   marker_size=1))\n",
    "fig5"
   ]
  }
 ],
 "metadata": {
  "kernelspec": {
   "display_name": "Python 3 (ipykernel)",
   "language": "python",
   "name": "python3"
  },
  "language_info": {
   "codemirror_mode": {
    "name": "ipython",
    "version": 3
   },
   "file_extension": ".py",
   "mimetype": "text/x-python",
   "name": "python",
   "nbconvert_exporter": "python",
   "pygments_lexer": "ipython3",
   "version": "3.7.12"
  },
  "vscode": {
   "interpreter": {
    "hash": "8b61b3e062e05eec8b40d68d50afcbb79d717536b80f2bc1fb2cfc940e93fa71"
   }
  }
 },
 "nbformat": 4,
 "nbformat_minor": 4
}
