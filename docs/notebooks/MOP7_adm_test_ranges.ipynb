{
 "cells": [
  {
   "cell_type": "code",
   "execution_count": 1,
   "metadata": {},
   "outputs": [],
   "source": [
    "import sys, os\n",
    "sys.path.insert(0, os.path.dirname(os.path.abspath('../desdeo_emo')))"
   ]
  },
  {
   "cell_type": "code",
   "execution_count": 2,
   "metadata": {},
   "outputs": [],
   "source": [
    "import plotly.graph_objects as go\n",
    "import numpy as np\n",
    "import pandas as pd\n",
    "\n",
    "from desdeo_problem.Variable import variable_builder\n",
    "from desdeo_problem.Objective import _ScalarObjective\n",
    "from desdeo_problem.Problem import MOProblem\n",
    "from desdeo_problem.testproblems.TestProblems import test_problem_builder\n",
    "from pygmo import fast_non_dominated_sorting as nds\n",
    "from desdeo_emo.othertools.ReferenceVectors import ReferenceVectors\n",
    "\n",
    "\n",
    "\n",
    "from desdeo_emo.EAs.NSGAIII import NSGAIII\n",
    "from desdeo_emo.EAs.RVEA import RVEA\n",
    "from desdeo_emo.othertools.plotlyanimate import animate_init_, animate_next_"
   ]
  },
  {
   "cell_type": "code",
   "execution_count": 3,
   "metadata": {},
   "outputs": [],
   "source": [
    "import baseADM\n",
    "from baseADM import *\n",
    "import generatePreference as gp\n",
    "import visual\n",
    "from visual import *"
   ]
  },
  {
   "cell_type": "markdown",
   "metadata": {},
   "source": [
    "## Coello MOP7\n",
    "\n",
    "### Definition\n",
    "![Definition](https://raw.githubusercontent.com/industrial-optimization-group/desdeo-emo/master/docs/notebooks/notebook_extras/MOP7.png)\n",
    "\n",
    "### Pareto set and front\n",
    "![Front](https://raw.githubusercontent.com/industrial-optimization-group/desdeo-emo/master/docs/notebooks/notebook_extras/MOP7_PF.png)"
   ]
  },
  {
   "cell_type": "markdown",
   "metadata": {},
   "source": [
    "## Define objective functions"
   ]
  },
  {
   "cell_type": "code",
   "execution_count": 4,
   "metadata": {},
   "outputs": [],
   "source": [
    "def f_1(x):\n",
    "    term1 = ((x[:,0] - 2) ** 2) / 2\n",
    "    term2 = ((x[:,1] + 1) ** 2) / 13\n",
    "    return term1 + term2 + 3\n",
    "\n",
    "def f_2(x):\n",
    "    term1 = ((x[:, 0] + x[:, 1] - 3) ** 2) / 36\n",
    "    term2 = ((-x[:, 0] + x[:, 1] + 2) ** 2) / 8\n",
    "    return term1 + term2 - 17\n",
    "\n",
    "def f_3(x):\n",
    "    term1 = ((x[:, 0] + (2 * x[:, 1]) - 1) ** 2) / 175\n",
    "    term2 = ((-x[:, 0] + 2* x[:, 1]) ** 2) / 17\n",
    "    return term1 + term2 - 13"
   ]
  },
  {
   "cell_type": "markdown",
   "metadata": {},
   "source": [
    "## Create Variable objects"
   ]
  },
  {
   "cell_type": "code",
   "execution_count": 5,
   "metadata": {},
   "outputs": [
    {
     "output_type": "execute_result",
     "data": {
      "text/plain": [
       "[<desdeo_problem.Variable.Variable at 0x7fec388e5050>,\n",
       " <desdeo_problem.Variable.Variable at 0x7fec388e5090>]"
      ]
     },
     "metadata": {},
     "execution_count": 5
    }
   ],
   "source": [
    "list_vars = variable_builder(['x', 'y'],\n",
    "                             initial_values = [0,0],\n",
    "                             lower_bounds=[-400, -400],\n",
    "                             upper_bounds=[400, 400])\n",
    "list_vars"
   ]
  },
  {
   "cell_type": "markdown",
   "metadata": {},
   "source": [
    "## Create Objective objects"
   ]
  },
  {
   "cell_type": "code",
   "execution_count": 6,
   "metadata": {},
   "outputs": [],
   "source": [
    "f1 = _ScalarObjective(name='f1', evaluator=f_1)\n",
    "f2 = _ScalarObjective(name='f2', evaluator=f_2)\n",
    "f3 = _ScalarObjective(name='f3', evaluator=f_3)\n",
    "list_objs = [f1, f2, f3]"
   ]
  },
  {
   "cell_type": "markdown",
   "metadata": {},
   "source": [
    "## Create the problem object"
   ]
  },
  {
   "cell_type": "code",
   "execution_count": 7,
   "metadata": {},
   "outputs": [],
   "source": [
    "problem = MOProblem(variables=list_vars, objectives=list_objs)"
   ]
  },
  {
   "cell_type": "markdown",
   "metadata": {},
   "source": [
    "## Using the EAs\n",
    "\n",
    "Pass the problem object to the EA, pass parameters as arguments if required."
   ]
  },
  {
   "cell_type": "code",
   "execution_count": 8,
   "metadata": {},
   "outputs": [],
   "source": [
    "evolver = NSGAIII(problem,\n",
    "                  n_iterations=3,\n",
    "                  n_gen_per_iter=50)\n",
    "evolver2 = RVEA(problem,\n",
    "                  n_iterations=3,\n",
    "                  n_gen_per_iter=50)"
   ]
  },
  {
   "cell_type": "code",
   "execution_count": 9,
   "metadata": {},
   "outputs": [],
   "source": [
    "plot, pref = evolver.requests()\n",
    "plot2, pref2 = evolver2.requests()"
   ]
  },
  {
   "cell_type": "code",
   "execution_count": 10,
   "metadata": {},
   "outputs": [],
   "source": [
    "pref\n",
    "pref2"
   ]
  },
  {
   "cell_type": "code",
   "execution_count": 11,
   "metadata": {},
   "outputs": [],
   "source": [
    "while evolver.continue_evolution():\n",
    "    evolver.iterate()\n",
    "while evolver2.continue_evolution():\n",
    "    evolver2.iterate()"
   ]
  },
  {
   "cell_type": "markdown",
   "metadata": {},
   "source": [
    "## Extracting optimized decision variables and objective values"
   ]
  },
  {
   "cell_type": "code",
   "execution_count": 12,
   "metadata": {},
   "outputs": [
    {
     "output_type": "display_data",
     "data": {
      "application/vnd.plotly.v1+json": {
       "config": {
        "plotlyServerURL": "https://plot.ly"
       },
       "data": [
        {
         "mode": "markers",
         "type": "scatter",
         "x": [
          2.2910320689203045,
          2.2954048875875723,
          1.966098094525901,
          1.8752708069089237,
          1.9651613669388146,
          1.9950402853628324,
          2.119678960671772,
          1.942392912097139,
          1.8953351007330714,
          1.2975643379227337,
          1.322429073442129,
          1.9014757654083814,
          2.099432504581147,
          2.292660751968856,
          1.9678756896967387,
          2.4456146525765927,
          1.8662776218978363,
          2.241303450815046,
          1.529988562596792,
          2.1080759130714,
          2.1133662610934363,
          2.4628215034039553,
          2.4886040070233997,
          2.2395010104587425,
          1.9524909496381873,
          2.0082393367759543,
          2.405344149213687,
          1.9370541133076904,
          2.1398021403310694,
          2.1453479950883465,
          2.479978366002465,
          1.973320346594398,
          2.1495724684743776,
          2.0160899026150907,
          1.9539152139575906,
          1.8914071514187392,
          1.8403670426693661,
          2.490980373001077,
          2.1992227398263227,
          2.1484693566418573,
          2.2536287191539897,
          2.2002059246248535,
          1.2993628301614075,
          2.1043575628851565,
          1.8436648335555508,
          1.9537656545855708,
          2.0093872612124373,
          2.2512933444877934,
          1.8428498669279973,
          1.7669001345786197,
          1.7490278861304211,
          2.001218483309995,
          1.8682129219521804,
          2.2085610582227426,
          1.8957765473379904,
          1.8453659808501068,
          2.121889664120334,
          2.205727043968956,
          1.9644100624544654,
          2.0083383889260795,
          2.254504458881153,
          1.7503871068693226,
          2.386639865525783,
          1.8950607517575229,
          2.114135252985948,
          1.9656013506530483,
          1.9191024447239873,
          2.2125036713644586,
          2.2020472495379995,
          2.2827678231157007,
          2.494503113054117,
          2.4171866479302295,
          1.919914394648357,
          2.395536081261699,
          1.894797357556966,
          1.952754343838744,
          1.3301534831397024,
          1.7413034764328474,
          1.8515237466664505,
          2.429525585429388,
          2.120368073286299,
          2.2493668682818933,
          2.4432852511177754,
          2.4190847652330625,
          1.7790216674282595,
          2.212399645377797,
          2.0076705930894594,
          2.107048995494576,
          1.8928850921552542,
          2.0071598871669423,
          2.4413557030941577,
          2.196988915245765,
          2.4178030058699664,
          2.205110686029219,
          2.2096102046061405,
          1.8517229789232181,
          0.5647429209552319,
          1.9745192237101734,
          1.7472628528650207,
          2.1372795380052954,
          1.9216250470497616,
          2.1953479776144484,
          2.1512177432660495,
          2.2072535145535195,
          2.009029816607332
         ],
         "y": [
          0.18430503699329953,
          0.3919862987443434,
          -0.11702508819989121,
          0.2665663582228776,
          -0.11247156426114593,
          0.4802215635749235,
          0.7570569701281382,
          0.08942384750337165,
          0.47675407949401577,
          0.5533539853050247,
          0.48765600987737256,
          0.31905028549692804,
          0.5208284016816717,
          0.1802492625274284,
          0.09586198353785258,
          0.690618567605189,
          0.7078111611405506,
          0.4774163109017542,
          0.5317038029988983,
          0.33599721708357067,
          0.5560483941453834,
          0.5892888607469905,
          0.5239124929617986,
          0.6193559052341349,
          -0.25560987078392516,
          0.5521621527395285,
          0.5473030774631533,
          0.39471716667897616,
          0.5444951308953876,
          0.7643321731386574,
          0.6839481120521678,
          0.6814457220822793,
          0.3571985549091948,
          0.3933332747270597,
          0.5510502379674046,
          0.39543062224975256,
          -0.26464022772319157,
          0.686613156097319,
          0.308750088529383,
          0.3979759828198817,
          0.39784898196632423,
          0.3190572254126453,
          0.5541155923121562,
          0.7566795814972473,
          0.18482159983922003,
          0.5516524490449877,
          0.21592039042158567,
          0.5548983022060054,
          0.09689419409800212,
          -0.1026991616459525,
          0.684437016952529,
          0.6816674223184043,
          0.17376122009602485,
          0.7617980019048831,
          0.47379453372399105,
          0.6998168026235828,
          0.10139425724053241,
          0.694809291222468,
          0.20609757456824188,
          -0.11031748375921582,
          0.5560475722304419,
          0.6737071481220505,
          0.4754888128817146,
          -0.8888655206249816,
          0.7609487107129742,
          -0.6654534021790552,
          0.6863260433275709,
          0.6748426070807044,
          0.7078748631503988,
          0.17920496622153695,
          0.48016110829875225,
          0.7639513261952975,
          0.5047768540357975,
          0.3945144491737831,
          -0.2655704267605288,
          -0.878904964648378,
          0.48298928222390525,
          0.6891037446059964,
          0.7000547276570351,
          0.7632962800245526,
          -0.5383446764623115,
          0.5564058580642482,
          0.5067892695271531,
          0.6801119637486832,
          0.40450458274691414,
          0.394680015954916,
          -0.2695746355580132,
          0.7572194314848237,
          0.3949687284860942,
          0.39791702302885523,
          0.40131849187337165,
          0.3155574119178448,
          0.6942242457618374,
          0.7645363716559282,
          0.763114272249823,
          0.7001830304381084,
          0.3870715223019937,
          0.6564680466478323,
          0.3050727004666084,
          0.6855837038715854,
          0.545237470351373,
          0.7353639877703038,
          0.2634754728592113,
          0.317783832272137,
          0.3370419028925173
         ]
        }
       ],
       "layout": {
        "template": {
         "data": {
          "bar": [
           {
            "error_x": {
             "color": "#2a3f5f"
            },
            "error_y": {
             "color": "#2a3f5f"
            },
            "marker": {
             "line": {
              "color": "#E5ECF6",
              "width": 0.5
             }
            },
            "type": "bar"
           }
          ],
          "barpolar": [
           {
            "marker": {
             "line": {
              "color": "#E5ECF6",
              "width": 0.5
             }
            },
            "type": "barpolar"
           }
          ],
          "carpet": [
           {
            "aaxis": {
             "endlinecolor": "#2a3f5f",
             "gridcolor": "white",
             "linecolor": "white",
             "minorgridcolor": "white",
             "startlinecolor": "#2a3f5f"
            },
            "baxis": {
             "endlinecolor": "#2a3f5f",
             "gridcolor": "white",
             "linecolor": "white",
             "minorgridcolor": "white",
             "startlinecolor": "#2a3f5f"
            },
            "type": "carpet"
           }
          ],
          "choropleth": [
           {
            "colorbar": {
             "outlinewidth": 0,
             "ticks": ""
            },
            "type": "choropleth"
           }
          ],
          "contour": [
           {
            "colorbar": {
             "outlinewidth": 0,
             "ticks": ""
            },
            "colorscale": [
             [
              0,
              "#0d0887"
             ],
             [
              0.1111111111111111,
              "#46039f"
             ],
             [
              0.2222222222222222,
              "#7201a8"
             ],
             [
              0.3333333333333333,
              "#9c179e"
             ],
             [
              0.4444444444444444,
              "#bd3786"
             ],
             [
              0.5555555555555556,
              "#d8576b"
             ],
             [
              0.6666666666666666,
              "#ed7953"
             ],
             [
              0.7777777777777778,
              "#fb9f3a"
             ],
             [
              0.8888888888888888,
              "#fdca26"
             ],
             [
              1,
              "#f0f921"
             ]
            ],
            "type": "contour"
           }
          ],
          "contourcarpet": [
           {
            "colorbar": {
             "outlinewidth": 0,
             "ticks": ""
            },
            "type": "contourcarpet"
           }
          ],
          "heatmap": [
           {
            "colorbar": {
             "outlinewidth": 0,
             "ticks": ""
            },
            "colorscale": [
             [
              0,
              "#0d0887"
             ],
             [
              0.1111111111111111,
              "#46039f"
             ],
             [
              0.2222222222222222,
              "#7201a8"
             ],
             [
              0.3333333333333333,
              "#9c179e"
             ],
             [
              0.4444444444444444,
              "#bd3786"
             ],
             [
              0.5555555555555556,
              "#d8576b"
             ],
             [
              0.6666666666666666,
              "#ed7953"
             ],
             [
              0.7777777777777778,
              "#fb9f3a"
             ],
             [
              0.8888888888888888,
              "#fdca26"
             ],
             [
              1,
              "#f0f921"
             ]
            ],
            "type": "heatmap"
           }
          ],
          "heatmapgl": [
           {
            "colorbar": {
             "outlinewidth": 0,
             "ticks": ""
            },
            "colorscale": [
             [
              0,
              "#0d0887"
             ],
             [
              0.1111111111111111,
              "#46039f"
             ],
             [
              0.2222222222222222,
              "#7201a8"
             ],
             [
              0.3333333333333333,
              "#9c179e"
             ],
             [
              0.4444444444444444,
              "#bd3786"
             ],
             [
              0.5555555555555556,
              "#d8576b"
             ],
             [
              0.6666666666666666,
              "#ed7953"
             ],
             [
              0.7777777777777778,
              "#fb9f3a"
             ],
             [
              0.8888888888888888,
              "#fdca26"
             ],
             [
              1,
              "#f0f921"
             ]
            ],
            "type": "heatmapgl"
           }
          ],
          "histogram": [
           {
            "marker": {
             "colorbar": {
              "outlinewidth": 0,
              "ticks": ""
             }
            },
            "type": "histogram"
           }
          ],
          "histogram2d": [
           {
            "colorbar": {
             "outlinewidth": 0,
             "ticks": ""
            },
            "colorscale": [
             [
              0,
              "#0d0887"
             ],
             [
              0.1111111111111111,
              "#46039f"
             ],
             [
              0.2222222222222222,
              "#7201a8"
             ],
             [
              0.3333333333333333,
              "#9c179e"
             ],
             [
              0.4444444444444444,
              "#bd3786"
             ],
             [
              0.5555555555555556,
              "#d8576b"
             ],
             [
              0.6666666666666666,
              "#ed7953"
             ],
             [
              0.7777777777777778,
              "#fb9f3a"
             ],
             [
              0.8888888888888888,
              "#fdca26"
             ],
             [
              1,
              "#f0f921"
             ]
            ],
            "type": "histogram2d"
           }
          ],
          "histogram2dcontour": [
           {
            "colorbar": {
             "outlinewidth": 0,
             "ticks": ""
            },
            "colorscale": [
             [
              0,
              "#0d0887"
             ],
             [
              0.1111111111111111,
              "#46039f"
             ],
             [
              0.2222222222222222,
              "#7201a8"
             ],
             [
              0.3333333333333333,
              "#9c179e"
             ],
             [
              0.4444444444444444,
              "#bd3786"
             ],
             [
              0.5555555555555556,
              "#d8576b"
             ],
             [
              0.6666666666666666,
              "#ed7953"
             ],
             [
              0.7777777777777778,
              "#fb9f3a"
             ],
             [
              0.8888888888888888,
              "#fdca26"
             ],
             [
              1,
              "#f0f921"
             ]
            ],
            "type": "histogram2dcontour"
           }
          ],
          "mesh3d": [
           {
            "colorbar": {
             "outlinewidth": 0,
             "ticks": ""
            },
            "type": "mesh3d"
           }
          ],
          "parcoords": [
           {
            "line": {
             "colorbar": {
              "outlinewidth": 0,
              "ticks": ""
             }
            },
            "type": "parcoords"
           }
          ],
          "pie": [
           {
            "automargin": true,
            "type": "pie"
           }
          ],
          "scatter": [
           {
            "marker": {
             "colorbar": {
              "outlinewidth": 0,
              "ticks": ""
             }
            },
            "type": "scatter"
           }
          ],
          "scatter3d": [
           {
            "line": {
             "colorbar": {
              "outlinewidth": 0,
              "ticks": ""
             }
            },
            "marker": {
             "colorbar": {
              "outlinewidth": 0,
              "ticks": ""
             }
            },
            "type": "scatter3d"
           }
          ],
          "scattercarpet": [
           {
            "marker": {
             "colorbar": {
              "outlinewidth": 0,
              "ticks": ""
             }
            },
            "type": "scattercarpet"
           }
          ],
          "scattergeo": [
           {
            "marker": {
             "colorbar": {
              "outlinewidth": 0,
              "ticks": ""
             }
            },
            "type": "scattergeo"
           }
          ],
          "scattergl": [
           {
            "marker": {
             "colorbar": {
              "outlinewidth": 0,
              "ticks": ""
             }
            },
            "type": "scattergl"
           }
          ],
          "scattermapbox": [
           {
            "marker": {
             "colorbar": {
              "outlinewidth": 0,
              "ticks": ""
             }
            },
            "type": "scattermapbox"
           }
          ],
          "scatterpolar": [
           {
            "marker": {
             "colorbar": {
              "outlinewidth": 0,
              "ticks": ""
             }
            },
            "type": "scatterpolar"
           }
          ],
          "scatterpolargl": [
           {
            "marker": {
             "colorbar": {
              "outlinewidth": 0,
              "ticks": ""
             }
            },
            "type": "scatterpolargl"
           }
          ],
          "scatterternary": [
           {
            "marker": {
             "colorbar": {
              "outlinewidth": 0,
              "ticks": ""
             }
            },
            "type": "scatterternary"
           }
          ],
          "surface": [
           {
            "colorbar": {
             "outlinewidth": 0,
             "ticks": ""
            },
            "colorscale": [
             [
              0,
              "#0d0887"
             ],
             [
              0.1111111111111111,
              "#46039f"
             ],
             [
              0.2222222222222222,
              "#7201a8"
             ],
             [
              0.3333333333333333,
              "#9c179e"
             ],
             [
              0.4444444444444444,
              "#bd3786"
             ],
             [
              0.5555555555555556,
              "#d8576b"
             ],
             [
              0.6666666666666666,
              "#ed7953"
             ],
             [
              0.7777777777777778,
              "#fb9f3a"
             ],
             [
              0.8888888888888888,
              "#fdca26"
             ],
             [
              1,
              "#f0f921"
             ]
            ],
            "type": "surface"
           }
          ],
          "table": [
           {
            "cells": {
             "fill": {
              "color": "#EBF0F8"
             },
             "line": {
              "color": "white"
             }
            },
            "header": {
             "fill": {
              "color": "#C8D4E3"
             },
             "line": {
              "color": "white"
             }
            },
            "type": "table"
           }
          ]
         },
         "layout": {
          "annotationdefaults": {
           "arrowcolor": "#2a3f5f",
           "arrowhead": 0,
           "arrowwidth": 1
          },
          "coloraxis": {
           "colorbar": {
            "outlinewidth": 0,
            "ticks": ""
           }
          },
          "colorscale": {
           "diverging": [
            [
             0,
             "#8e0152"
            ],
            [
             0.1,
             "#c51b7d"
            ],
            [
             0.2,
             "#de77ae"
            ],
            [
             0.3,
             "#f1b6da"
            ],
            [
             0.4,
             "#fde0ef"
            ],
            [
             0.5,
             "#f7f7f7"
            ],
            [
             0.6,
             "#e6f5d0"
            ],
            [
             0.7,
             "#b8e186"
            ],
            [
             0.8,
             "#7fbc41"
            ],
            [
             0.9,
             "#4d9221"
            ],
            [
             1,
             "#276419"
            ]
           ],
           "sequential": [
            [
             0,
             "#0d0887"
            ],
            [
             0.1111111111111111,
             "#46039f"
            ],
            [
             0.2222222222222222,
             "#7201a8"
            ],
            [
             0.3333333333333333,
             "#9c179e"
            ],
            [
             0.4444444444444444,
             "#bd3786"
            ],
            [
             0.5555555555555556,
             "#d8576b"
            ],
            [
             0.6666666666666666,
             "#ed7953"
            ],
            [
             0.7777777777777778,
             "#fb9f3a"
            ],
            [
             0.8888888888888888,
             "#fdca26"
            ],
            [
             1,
             "#f0f921"
            ]
           ],
           "sequentialminus": [
            [
             0,
             "#0d0887"
            ],
            [
             0.1111111111111111,
             "#46039f"
            ],
            [
             0.2222222222222222,
             "#7201a8"
            ],
            [
             0.3333333333333333,
             "#9c179e"
            ],
            [
             0.4444444444444444,
             "#bd3786"
            ],
            [
             0.5555555555555556,
             "#d8576b"
            ],
            [
             0.6666666666666666,
             "#ed7953"
            ],
            [
             0.7777777777777778,
             "#fb9f3a"
            ],
            [
             0.8888888888888888,
             "#fdca26"
            ],
            [
             1,
             "#f0f921"
            ]
           ]
          },
          "colorway": [
           "#636efa",
           "#EF553B",
           "#00cc96",
           "#ab63fa",
           "#FFA15A",
           "#19d3f3",
           "#FF6692",
           "#B6E880",
           "#FF97FF",
           "#FECB52"
          ],
          "font": {
           "color": "#2a3f5f"
          },
          "geo": {
           "bgcolor": "white",
           "lakecolor": "white",
           "landcolor": "#E5ECF6",
           "showlakes": true,
           "showland": true,
           "subunitcolor": "white"
          },
          "hoverlabel": {
           "align": "left"
          },
          "hovermode": "closest",
          "mapbox": {
           "style": "light"
          },
          "paper_bgcolor": "white",
          "plot_bgcolor": "#E5ECF6",
          "polar": {
           "angularaxis": {
            "gridcolor": "white",
            "linecolor": "white",
            "ticks": ""
           },
           "bgcolor": "#E5ECF6",
           "radialaxis": {
            "gridcolor": "white",
            "linecolor": "white",
            "ticks": ""
           }
          },
          "scene": {
           "xaxis": {
            "backgroundcolor": "#E5ECF6",
            "gridcolor": "white",
            "gridwidth": 2,
            "linecolor": "white",
            "showbackground": true,
            "ticks": "",
            "zerolinecolor": "white"
           },
           "yaxis": {
            "backgroundcolor": "#E5ECF6",
            "gridcolor": "white",
            "gridwidth": 2,
            "linecolor": "white",
            "showbackground": true,
            "ticks": "",
            "zerolinecolor": "white"
           },
           "zaxis": {
            "backgroundcolor": "#E5ECF6",
            "gridcolor": "white",
            "gridwidth": 2,
            "linecolor": "white",
            "showbackground": true,
            "ticks": "",
            "zerolinecolor": "white"
           }
          },
          "shapedefaults": {
           "line": {
            "color": "#2a3f5f"
           }
          },
          "ternary": {
           "aaxis": {
            "gridcolor": "white",
            "linecolor": "white",
            "ticks": ""
           },
           "baxis": {
            "gridcolor": "white",
            "linecolor": "white",
            "ticks": ""
           },
           "bgcolor": "#E5ECF6",
           "caxis": {
            "gridcolor": "white",
            "linecolor": "white",
            "ticks": ""
           }
          },
          "title": {
           "x": 0.05
          },
          "xaxis": {
           "automargin": true,
           "gridcolor": "white",
           "linecolor": "white",
           "ticks": "",
           "title": {
            "standoff": 15
           },
           "zerolinecolor": "white",
           "zerolinewidth": 2
          },
          "yaxis": {
           "automargin": true,
           "gridcolor": "white",
           "linecolor": "white",
           "ticks": "",
           "title": {
            "standoff": 15
           },
           "zerolinecolor": "white",
           "zerolinewidth": 2
          }
         }
        }
       }
      }
     },
     "metadata": {}
    }
   ],
   "source": [
    "individuals = evolver.population.individuals\n",
    "\n",
    "fig1 = go.Figure(data=go.Scatter(x=individuals[:,0], y=individuals[:,1], mode=\"markers\"))\n",
    "fig1"
   ]
  },
  {
   "cell_type": "code",
   "execution_count": 13,
   "metadata": {},
   "outputs": [],
   "source": [
    "objectives = evolver.population.objectives\n"
   ]
  },
  {
   "cell_type": "code",
   "execution_count": 14,
   "metadata": {
    "tags": []
   },
   "outputs": [],
   "source": [
    "objectives2 = evolver2.population.objectives\n",
    "#print(objectives2)"
   ]
  },
  {
   "cell_type": "code",
   "execution_count": 21,
   "metadata": {},
   "outputs": [
    {
     "output_type": "display_data",
     "data": {
      "application/vnd.plotly.v1+json": {
       "config": {
        "plotlyServerURL": "https://plot.ly"
       },
       "data": [
        {
         "marker": {
          "size": 2
         },
         "mode": "markers",
         "type": "scatter3d",
         "x": [
          3.137554695724015,
          3.2530079863353523,
          3.1010182357021283,
          3.2720743278733004,
          3.168649640994078,
          3.9965968431084855,
          3.4418548487422087,
          3.29838522000225,
          3.201499516241314,
          3.1655065734849357
         ],
         "y": [
          -16.990929746681143,
          -16.996119440811178,
          -16.96234095748482,
          -16.96040421140832,
          -16.96268217741917,
          -16.962926276265165,
          -16.948796602722798,
          -16.97125943836557,
          -16.946791996459076,
          -16.766196581304996,
          -16.790950286966307,
          -16.9613267278739,
          -16.973797582257458,
          -16.990703127885244,
          -16.973602795670264,
          -16.991981093805887,
          -16.906438763770822,
          -16.990833601539137,
          -16.850114677232675,
          -16.984921632546737,
          -16.972468325296493,
          -16.99792532066161,
          -16.999839812108927,
          -16.98141041096863,
          -16.947416785993898,
          -16.957650528217055,
          -16.99741867213791,
          -16.961414465579285,
          -16.97675938645254,
          -16.951880721415105,
          -16.994053101442404,
          -16.934009071369964,
          -16.987853792046355,
          -16.972522569123015,
          -16.948621520282384,
          -16.95411725479904,
          -16.942272958988273,
          -16.994339880617318,
          -16.99177572727364,
          -16.98650408793399,
          -16.994025959118282,
          -16.991814631623413,
          -16.766685223575113,
          -16.946273090358638,
          -16.95923376843297,
          -16.94852166562037,
          -16.977997224022474,
          -16.987434623766912,
          -16.9607065000866,
          -16.948308928148137,
          -16.881710608190193,
          -16.939330284373927,
          -16.962835209007,
          -16.961716705370474,
          -16.947196883653636,
          -16.902993149133863,
          -16.983189495986643,
          -16.969825013299427,
          -16.973585682748876,
          -16.964507933388848,
          -16.987637009601286,
          -16.884222028590578,
          -16.998485219143728,
          -16.812758631701374,
          -16.947270598970537,
          -16.869957431891635,
          -16.92209636377263,
          -16.97292781464898,
          -16.96779191355833,
          -16.990618417405834,
          -16.999956457760238,
          -16.9840578665254,
          -16.948048094634892,
          -16.998775458984305,
          -16.944590304850976,
          -16.810485732269026,
          -16.79474258878238,
          -16.8786972221829,
          -16.904413789434894,
          -16.985041855100985,
          -16.889910587854978,
          -16.987167986959985,
          -16.999426667358822,
          -16.991209767119923,
          -16.93257890743742,
          -16.991558222408937,
          -16.946158501721293,
          -16.946648048856236,
          -16.954401442189013,
          -16.971082121963786,
          -16.99911208857779,
          -16.991642381084013,
          -16.990100298236296,
          -16.960854771085213,
          -16.961683490494327,
          -16.90443699194385,
          -16.46836025095448,
          -16.93808571439958,
          -16.936159691087635,
          -16.961548722403975,
          -16.943493010539324,
          -16.963414482159674,
          -16.988908552178053,
          -16.992206505499507
         ],
         "z": [
          -12.766866012813926,
          -12.840914417931298,
          -12.712193488038528,
          -12.882704278095535,
          -12.71471855819494,
          -12.91518486206241,
          -12.938789653880324,
          -12.809869538921095,
          -12.928288601103288,
          -12.986588823883741,
          -12.98328872718231,
          -12.892566227108839,
          -12.9079871834678,
          -12.764780232751804,
          -12.80674469647144,
          -12.88769547565714,
          -12.958298847100215,
          -12.875086557656186,
          -12.972686182844637,
          -12.86057989581241,
          -12.912725964425173,
          -12.863114892873789,
          -12.841128821023972,
          -12.905989079545616,
          -12.641836114457904,
          -12.926435077448872,
          -12.863226305349286,
          -12.905494651111573,
          -12.906660925904506,
          -12.936770389746355,
          -12.880906287265843,
          -12.946893056506529,
          -12.858985896377831,
          -12.892518273694055,
          -12.933162900949524,
          -12.912581282498552,
          -12.669139396930138,
          -12.87962923244287,
          -12.833972674575161,
          -12.870789499494528,
          -12.85096842260614,
          -12.837151972827549,
          -12.986529265877367,
          -12.940297365181182,
          -12.863779684195368,
          -12.933273687527066,
          -12.841739291536644,
          -12.891496380159273,
          -12.833894393635168,
          -12.769377128053762,
          -12.96586752547313,
          -12.944115754495062,
          -12.855524829669468,
          -12.92974601861961,
          -12.927697022721107,
          -12.95951296478238,
          -12.773328657931984,
          -12.92233119317001,
          -12.8474434751452,
          -12.704200170515607,
          -12.89122493280802,
          -12.96530055716792,
          -12.847531829992004,
          -12.202053869456725,
          -12.93966122721763,
          -12.360004144512185,
          -12.952422601994448,
          -12.918695278046151,
          -12.924472335715075,
          -12.766776228159749,
          -12.827111168128114,
          -12.903917673578755,
          -12.929976200621404,
          -12.820913968711135,
          -12.65305747274143,
          -12.186397240062625,
          -12.982598863584181,
          -12.966574344114928,
          -12.959042660093129,
          -12.90210682528172,
          -12.398743440081939,
          -12.892129185637268,
          -12.845268645694224,
          -12.88990754162787,
          -12.930240989182728,
          -12.857982515812509,
          -12.617199090245384,
          -12.940072248514204,
          -12.912259321181928,
          -12.895111703385046,
          -12.81326104664351,
          -12.83667002754606,
          -12.892672039573613,
          -12.930397418175232,
          -12.929758430729889,
          -12.959033975616405,
          -12.996764431958884,
          -12.944353673010871,
          -12.913410154871418,
          -12.929518800780714,
          -12.936229537644959,
          -12.928496365515356,
          -12.828716399088933,
          -12.835288672196938
         ]
        }
       ],
       "layout": {
        "template": {
         "data": {
          "bar": [
           {
            "error_x": {
             "color": "#2a3f5f"
            },
            "error_y": {
             "color": "#2a3f5f"
            },
            "marker": {
             "line": {
              "color": "#E5ECF6",
              "width": 0.5
             }
            },
            "type": "bar"
           }
          ],
          "barpolar": [
           {
            "marker": {
             "line": {
              "color": "#E5ECF6",
              "width": 0.5
             }
            },
            "type": "barpolar"
           }
          ],
          "carpet": [
           {
            "aaxis": {
             "endlinecolor": "#2a3f5f",
             "gridcolor": "white",
             "linecolor": "white",
             "minorgridcolor": "white",
             "startlinecolor": "#2a3f5f"
            },
            "baxis": {
             "endlinecolor": "#2a3f5f",
             "gridcolor": "white",
             "linecolor": "white",
             "minorgridcolor": "white",
             "startlinecolor": "#2a3f5f"
            },
            "type": "carpet"
           }
          ],
          "choropleth": [
           {
            "colorbar": {
             "outlinewidth": 0,
             "ticks": ""
            },
            "type": "choropleth"
           }
          ],
          "contour": [
           {
            "colorbar": {
             "outlinewidth": 0,
             "ticks": ""
            },
            "colorscale": [
             [
              0,
              "#0d0887"
             ],
             [
              0.1111111111111111,
              "#46039f"
             ],
             [
              0.2222222222222222,
              "#7201a8"
             ],
             [
              0.3333333333333333,
              "#9c179e"
             ],
             [
              0.4444444444444444,
              "#bd3786"
             ],
             [
              0.5555555555555556,
              "#d8576b"
             ],
             [
              0.6666666666666666,
              "#ed7953"
             ],
             [
              0.7777777777777778,
              "#fb9f3a"
             ],
             [
              0.8888888888888888,
              "#fdca26"
             ],
             [
              1,
              "#f0f921"
             ]
            ],
            "type": "contour"
           }
          ],
          "contourcarpet": [
           {
            "colorbar": {
             "outlinewidth": 0,
             "ticks": ""
            },
            "type": "contourcarpet"
           }
          ],
          "heatmap": [
           {
            "colorbar": {
             "outlinewidth": 0,
             "ticks": ""
            },
            "colorscale": [
             [
              0,
              "#0d0887"
             ],
             [
              0.1111111111111111,
              "#46039f"
             ],
             [
              0.2222222222222222,
              "#7201a8"
             ],
             [
              0.3333333333333333,
              "#9c179e"
             ],
             [
              0.4444444444444444,
              "#bd3786"
             ],
             [
              0.5555555555555556,
              "#d8576b"
             ],
             [
              0.6666666666666666,
              "#ed7953"
             ],
             [
              0.7777777777777778,
              "#fb9f3a"
             ],
             [
              0.8888888888888888,
              "#fdca26"
             ],
             [
              1,
              "#f0f921"
             ]
            ],
            "type": "heatmap"
           }
          ],
          "heatmapgl": [
           {
            "colorbar": {
             "outlinewidth": 0,
             "ticks": ""
            },
            "colorscale": [
             [
              0,
              "#0d0887"
             ],
             [
              0.1111111111111111,
              "#46039f"
             ],
             [
              0.2222222222222222,
              "#7201a8"
             ],
             [
              0.3333333333333333,
              "#9c179e"
             ],
             [
              0.4444444444444444,
              "#bd3786"
             ],
             [
              0.5555555555555556,
              "#d8576b"
             ],
             [
              0.6666666666666666,
              "#ed7953"
             ],
             [
              0.7777777777777778,
              "#fb9f3a"
             ],
             [
              0.8888888888888888,
              "#fdca26"
             ],
             [
              1,
              "#f0f921"
             ]
            ],
            "type": "heatmapgl"
           }
          ],
          "histogram": [
           {
            "marker": {
             "colorbar": {
              "outlinewidth": 0,
              "ticks": ""
             }
            },
            "type": "histogram"
           }
          ],
          "histogram2d": [
           {
            "colorbar": {
             "outlinewidth": 0,
             "ticks": ""
            },
            "colorscale": [
             [
              0,
              "#0d0887"
             ],
             [
              0.1111111111111111,
              "#46039f"
             ],
             [
              0.2222222222222222,
              "#7201a8"
             ],
             [
              0.3333333333333333,
              "#9c179e"
             ],
             [
              0.4444444444444444,
              "#bd3786"
             ],
             [
              0.5555555555555556,
              "#d8576b"
             ],
             [
              0.6666666666666666,
              "#ed7953"
             ],
             [
              0.7777777777777778,
              "#fb9f3a"
             ],
             [
              0.8888888888888888,
              "#fdca26"
             ],
             [
              1,
              "#f0f921"
             ]
            ],
            "type": "histogram2d"
           }
          ],
          "histogram2dcontour": [
           {
            "colorbar": {
             "outlinewidth": 0,
             "ticks": ""
            },
            "colorscale": [
             [
              0,
              "#0d0887"
             ],
             [
              0.1111111111111111,
              "#46039f"
             ],
             [
              0.2222222222222222,
              "#7201a8"
             ],
             [
              0.3333333333333333,
              "#9c179e"
             ],
             [
              0.4444444444444444,
              "#bd3786"
             ],
             [
              0.5555555555555556,
              "#d8576b"
             ],
             [
              0.6666666666666666,
              "#ed7953"
             ],
             [
              0.7777777777777778,
              "#fb9f3a"
             ],
             [
              0.8888888888888888,
              "#fdca26"
             ],
             [
              1,
              "#f0f921"
             ]
            ],
            "type": "histogram2dcontour"
           }
          ],
          "mesh3d": [
           {
            "colorbar": {
             "outlinewidth": 0,
             "ticks": ""
            },
            "type": "mesh3d"
           }
          ],
          "parcoords": [
           {
            "line": {
             "colorbar": {
              "outlinewidth": 0,
              "ticks": ""
             }
            },
            "type": "parcoords"
           }
          ],
          "pie": [
           {
            "automargin": true,
            "type": "pie"
           }
          ],
          "scatter": [
           {
            "marker": {
             "colorbar": {
              "outlinewidth": 0,
              "ticks": ""
             }
            },
            "type": "scatter"
           }
          ],
          "scatter3d": [
           {
            "line": {
             "colorbar": {
              "outlinewidth": 0,
              "ticks": ""
             }
            },
            "marker": {
             "colorbar": {
              "outlinewidth": 0,
              "ticks": ""
             }
            },
            "type": "scatter3d"
           }
          ],
          "scattercarpet": [
           {
            "marker": {
             "colorbar": {
              "outlinewidth": 0,
              "ticks": ""
             }
            },
            "type": "scattercarpet"
           }
          ],
          "scattergeo": [
           {
            "marker": {
             "colorbar": {
              "outlinewidth": 0,
              "ticks": ""
             }
            },
            "type": "scattergeo"
           }
          ],
          "scattergl": [
           {
            "marker": {
             "colorbar": {
              "outlinewidth": 0,
              "ticks": ""
             }
            },
            "type": "scattergl"
           }
          ],
          "scattermapbox": [
           {
            "marker": {
             "colorbar": {
              "outlinewidth": 0,
              "ticks": ""
             }
            },
            "type": "scattermapbox"
           }
          ],
          "scatterpolar": [
           {
            "marker": {
             "colorbar": {
              "outlinewidth": 0,
              "ticks": ""
             }
            },
            "type": "scatterpolar"
           }
          ],
          "scatterpolargl": [
           {
            "marker": {
             "colorbar": {
              "outlinewidth": 0,
              "ticks": ""
             }
            },
            "type": "scatterpolargl"
           }
          ],
          "scatterternary": [
           {
            "marker": {
             "colorbar": {
              "outlinewidth": 0,
              "ticks": ""
             }
            },
            "type": "scatterternary"
           }
          ],
          "surface": [
           {
            "colorbar": {
             "outlinewidth": 0,
             "ticks": ""
            },
            "colorscale": [
             [
              0,
              "#0d0887"
             ],
             [
              0.1111111111111111,
              "#46039f"
             ],
             [
              0.2222222222222222,
              "#7201a8"
             ],
             [
              0.3333333333333333,
              "#9c179e"
             ],
             [
              0.4444444444444444,
              "#bd3786"
             ],
             [
              0.5555555555555556,
              "#d8576b"
             ],
             [
              0.6666666666666666,
              "#ed7953"
             ],
             [
              0.7777777777777778,
              "#fb9f3a"
             ],
             [
              0.8888888888888888,
              "#fdca26"
             ],
             [
              1,
              "#f0f921"
             ]
            ],
            "type": "surface"
           }
          ],
          "table": [
           {
            "cells": {
             "fill": {
              "color": "#EBF0F8"
             },
             "line": {
              "color": "white"
             }
            },
            "header": {
             "fill": {
              "color": "#C8D4E3"
             },
             "line": {
              "color": "white"
             }
            },
            "type": "table"
           }
          ]
         },
         "layout": {
          "annotationdefaults": {
           "arrowcolor": "#2a3f5f",
           "arrowhead": 0,
           "arrowwidth": 1
          },
          "coloraxis": {
           "colorbar": {
            "outlinewidth": 0,
            "ticks": ""
           }
          },
          "colorscale": {
           "diverging": [
            [
             0,
             "#8e0152"
            ],
            [
             0.1,
             "#c51b7d"
            ],
            [
             0.2,
             "#de77ae"
            ],
            [
             0.3,
             "#f1b6da"
            ],
            [
             0.4,
             "#fde0ef"
            ],
            [
             0.5,
             "#f7f7f7"
            ],
            [
             0.6,
             "#e6f5d0"
            ],
            [
             0.7,
             "#b8e186"
            ],
            [
             0.8,
             "#7fbc41"
            ],
            [
             0.9,
             "#4d9221"
            ],
            [
             1,
             "#276419"
            ]
           ],
           "sequential": [
            [
             0,
             "#0d0887"
            ],
            [
             0.1111111111111111,
             "#46039f"
            ],
            [
             0.2222222222222222,
             "#7201a8"
            ],
            [
             0.3333333333333333,
             "#9c179e"
            ],
            [
             0.4444444444444444,
             "#bd3786"
            ],
            [
             0.5555555555555556,
             "#d8576b"
            ],
            [
             0.6666666666666666,
             "#ed7953"
            ],
            [
             0.7777777777777778,
             "#fb9f3a"
            ],
            [
             0.8888888888888888,
             "#fdca26"
            ],
            [
             1,
             "#f0f921"
            ]
           ],
           "sequentialminus": [
            [
             0,
             "#0d0887"
            ],
            [
             0.1111111111111111,
             "#46039f"
            ],
            [
             0.2222222222222222,
             "#7201a8"
            ],
            [
             0.3333333333333333,
             "#9c179e"
            ],
            [
             0.4444444444444444,
             "#bd3786"
            ],
            [
             0.5555555555555556,
             "#d8576b"
            ],
            [
             0.6666666666666666,
             "#ed7953"
            ],
            [
             0.7777777777777778,
             "#fb9f3a"
            ],
            [
             0.8888888888888888,
             "#fdca26"
            ],
            [
             1,
             "#f0f921"
            ]
           ]
          },
          "colorway": [
           "#636efa",
           "#EF553B",
           "#00cc96",
           "#ab63fa",
           "#FFA15A",
           "#19d3f3",
           "#FF6692",
           "#B6E880",
           "#FF97FF",
           "#FECB52"
          ],
          "font": {
           "color": "#2a3f5f"
          },
          "geo": {
           "bgcolor": "white",
           "lakecolor": "white",
           "landcolor": "#E5ECF6",
           "showlakes": true,
           "showland": true,
           "subunitcolor": "white"
          },
          "hoverlabel": {
           "align": "left"
          },
          "hovermode": "closest",
          "mapbox": {
           "style": "light"
          },
          "paper_bgcolor": "white",
          "plot_bgcolor": "#E5ECF6",
          "polar": {
           "angularaxis": {
            "gridcolor": "white",
            "linecolor": "white",
            "ticks": ""
           },
           "bgcolor": "#E5ECF6",
           "radialaxis": {
            "gridcolor": "white",
            "linecolor": "white",
            "ticks": ""
           }
          },
          "scene": {
           "xaxis": {
            "backgroundcolor": "#E5ECF6",
            "gridcolor": "white",
            "gridwidth": 2,
            "linecolor": "white",
            "showbackground": true,
            "ticks": "",
            "zerolinecolor": "white"
           },
           "yaxis": {
            "backgroundcolor": "#E5ECF6",
            "gridcolor": "white",
            "gridwidth": 2,
            "linecolor": "white",
            "showbackground": true,
            "ticks": "",
            "zerolinecolor": "white"
           },
           "zaxis": {
            "backgroundcolor": "#E5ECF6",
            "gridcolor": "white",
            "gridwidth": 2,
            "linecolor": "white",
            "showbackground": true,
            "ticks": "",
            "zerolinecolor": "white"
           }
          },
          "shapedefaults": {
           "line": {
            "color": "#2a3f5f"
           }
          },
          "ternary": {
           "aaxis": {
            "gridcolor": "white",
            "linecolor": "white",
            "ticks": ""
           },
           "baxis": {
            "gridcolor": "white",
            "linecolor": "white",
            "ticks": ""
           },
           "bgcolor": "#E5ECF6",
           "caxis": {
            "gridcolor": "white",
            "linecolor": "white",
            "ticks": ""
           }
          },
          "title": {
           "x": 0.05
          },
          "xaxis": {
           "automargin": true,
           "gridcolor": "white",
           "linecolor": "white",
           "ticks": "",
           "title": {
            "standoff": 15
           },
           "zerolinecolor": "white",
           "zerolinewidth": 2
          },
          "yaxis": {
           "automargin": true,
           "gridcolor": "white",
           "linecolor": "white",
           "ticks": "",
           "title": {
            "standoff": 15
           },
           "zerolinecolor": "white",
           "zerolinewidth": 2
          }
         }
        }
       }
      }
     },
     "metadata": {}
    }
   ],
   "source": [
    "first, second, cf = generate_composite_front(objectives, objectives2)\n",
    "fig2 = go.Figure(data=go.Scatter3d(x=cf[:first,0],\n",
    "                                   y=cf[:first,1],\n",
    "                                   z=cf[:first,2],\n",
    "                                   mode=\"markers\",\n",
    "                                   marker_size=2))\n",
    "fig2\n",
    "fig3 = go.Figure(data=go.Scatter3d(x=cf[first:,0],\n",
    "                                   y=cf[first:,1],\n",
    "                                   z=cf[first:,2],\n",
    "                                   mode=\"markers\",\n",
    "                                   marker_size=2))\n",
    "fig3"
   ]
  },
  {
   "cell_type": "code",
   "execution_count": 16,
   "metadata": {},
   "outputs": [],
   "source": [
    "lattice_resolution = 4\n",
    "reference_vectors = ReferenceVectors(lattice_resolution, problem.n_of_objectives)"
   ]
  },
  {
   "cell_type": "code",
   "execution_count": 17,
   "metadata": {},
   "outputs": [],
   "source": [
    "base = baseADM(cf, reference_vectors)"
   ]
  },
  {
   "cell_type": "code",
   "execution_count": 18,
   "metadata": {},
   "outputs": [
    {
     "output_type": "display_data",
     "data": {
      "application/vnd.plotly.v1+json": {
       "config": {
        "plotlyServerURL": "https://plot.ly"
       },
       "data": [
        {
         "marker": {
          "size": 3
         },
         "mode": "markers",
         "name": "Composite front",
         "type": "scatter3d",
         "x": [
          0.5409921282544591,
          0.7737862226472467,
          0.19905006467373743,
          0.7299671979939611,
          0.202915546420704,
          0.8803861253653563,
          0.9527058334479352,
          0.43253737836669004,
          0.8919141529091635,
          0.8784133190288558,
          0.8847302937237027,
          0.7753767959529817,
          0.8899628466249898,
          0.5368504755094112,
          0.4272354327418587,
          0.9452964134229194,
          0.9161074516275962,
          0.8474394436574214,
          0.8851377034067072,
          0.7169174516812937,
          0.9070022466320765,
          0.913007781933441,
          0.8849534588126245,
          0.9265182725142947,
          0.11492275333972855,
          0.9125319580986481,
          0.89235537216735,
          0.8333518684530195,
          0.899030820637411,
          0.9550794816482824,
          0.9437407588481872,
          0.9336921557215999,
          0.7365971191181905,
          0.806842096417033,
          0.9137908646236776,
          0.8481100854223933,
          0.15471004657110202,
          0.9444836355163098,
          0.6755835284987735,
          0.7823003223449548,
          0.7772040482227048,
          0.6882901170577663,
          0.8783257971939641,
          0.9513537703242332,
          0.6468297441463071,
          0.9139572773134658,
          0.5801706871891715,
          0.897149950404557,
          0.5224685816349289,
          0.3490652846129398,
          0.8966432370612831,
          0.9369572477728088,
          0.6099912894979221,
          0.9581525271982714,
          0.8906753401946437,
          0.912677345162517,
          0.4024282374032723,
          0.9482743971383977,
          0.5882046889697727,
          0.19527510901523698,
          0.8976250989368967,
          0.8977255348499374,
          0.8491731875740433,
          0.0051589230399295945,
          0.9524260017211545,
          0.01070403631547223,
          0.9259984565437432,
          0.9438875635281949,
          0.9506886479593306,
          0.5322111733618841,
          0.8620425067553299,
          0.9602692937723485,
          0.9004793308922853,
          0.7886556473566964,
          0.12757904821436838,
          0,
          0.8851352907254969,
          0.8949713022600394,
          0.9137993114976556,
          0.960143505240582,
          0.035162886319181436,
          0.8980354922611827,
          0.872601601861781,
          0.942622342443898,
          0.8782715247915722,
          0.773967639995655,
          0.10076154424143029,
          0.9516235549388666,
          0.847340588965771,
          0.8140282606050455,
          0.8017935728360815,
          0.68393526819582,
          0.9462301827415923,
          0.9582947369383077,
          0.9583214111243548,
          0.9138289069862029,
          0.9111905139364616,
          0.9323806612349805,
          0.8372402020228377,
          0.9458851269955776,
          0.9123744277356984,
          0.9547203741523324,
          0.6168509326029993,
          0.6869408941237741,
          0.7468945930657931,
          0.9498546433903379,
          0.46182027618775623,
          0.8884858306704424,
          0.8717748967522568,
          0.9250644299547783,
          0.8848206238507625,
          0.9646492510046636,
          0.8596960229736451,
          0.8758968540417585
         ],
         "y": [
          0.032996610155509754,
          0.015590694241415681,
          0.1284210784556082,
          0.223927532106247,
          0.12829195577816566,
          0.19602348265065958,
          0.20107534153927648,
          0.13683614235492372,
          0.27731956757806075,
          0.4774495665851031,
          0.46513752641701955,
          0.21951751475281736,
          0.12889447059236941,
          0.03362566210221408,
          0.12420556452665005,
          0.023789876355268944,
          0.3707919952166927,
          0.039692478444733094,
          0.45943529695972546,
          0.07650171985999533,
          0.13092046102630592,
          0.006198979447183738,
          0.0003490169786259106,
          0.07531469030452403,
          0.14546309062496776,
          0.21082831601168778,
          0.008575684040284729,
          0.21502927256965607,
          0.10917325070615999,
          0.18531738445334928,
          0.016827728549879437,
          0.28560509704540143,
          0.05918207241443875,
          0.15034981432786423,
          0.25511423596330596,
          0.25336937514082736,
          0.1713107820588903,
          0.015736142494139838,
          0.0370038135726047,
          0.06614116246188645,
          0.025574601491113045,
          0.036956392719264715,
          0.47760303122371933,
          0.21228655710023664,
          0.22329952371369718,
          0.25544775860375424,
          0.11423247687692675,
          0.052176319009443924,
          0.19976285056521334,
          0.207560777649044,
          0.42837178007072274,
          0.2638425927949529,
          0.20142369396022258,
          0.14186582321629745,
          0.275983931368865,
          0.3814959936912039,
          0.0685042706383804,
          0.11911821433879609,
          0.1406458385070398,
          0.11796951465177119,
          0.05110217879543623,
          0.42512485958796037,
          0.005206266200829561,
          0.22927663129705106,
          0.20666686679067042,
          0.20001937810090528,
          0.32805676047849974,
          0.10805060969537261,
          0.1260762294011671,
          0.034346045248087126,
          0,
          0.04710179096722485,
          0.2668801683209776,
          0.0041290945685204415,
          0.15773562346142023,
          0.2276683768262337,
          0.46422907934144264,
          0.43290814106409387,
          0.3777872132218359,
          0.04350353194612085,
          0.1808661715904656,
          0.05337005118313738,
          0.001708069569768626,
          0.02723684327054157,
          0.34026153760502964,
          0.03824895655653798,
          0.13961891291471445,
          0.21048701719568463,
          0.2519947256573763,
          0.15870446968195942,
          0.002749761830579692,
          0.037835871088414734,
          0.030494178944144374,
          0.14506867966013498,
          0.14169790961846174,
          0.3777011676353838,
          0.41198525132849967,
          0.27581846297496165,
          0.33235679001745483,
          0.1609399731485706,
          0.2792169484293156,
          0.14039788443075193,
          0.05163318223971575,
          0.034838157337181576,
          0.1395630726622199,
          0.24352411572620233,
          0.09255380652094732,
          0.44862048267237264,
          0.16099206204519872,
          0.37978049577964557,
          0.4654701467754422,
          0.09766089927261083,
          0.04177191835706108,
          0.26766513603310954
         ],
         "z": [
          0.8403801169024385,
          0.6332549343624384,
          0.9715385212958256,
          0.6457587399467782,
          0.9707556103898654,
          0.4318507433288514,
          0.22786026845226595,
          0.8911718613494785,
          0.3571876275553881,
          0.020783462666429393,
          0.029989813040884154,
          0.5921172899134384,
          0.43743839232268783,
          0.8430070472976526,
          0.8955684578805201,
          0.32534402184882105,
          0.15251371530329863,
          0.5294061734514574,
          0.07382718954036552,
          0.6929479448943209,
          0.4002583634217099,
          0.40789503892887874,
          0.4656793466782921,
          0.36863476249732696,
          0.9826663981385789,
          0.35048087910230297,
          0.4512519777322992,
          0.5092023912787782,
          0.42405752543054,
          0.23125883929877772,
          0.330257789674217,
          0.21598307083111565,
          0.6737374610421439,
          0.5713149436002387,
          0.3160743304021544,
          0.46530983521258945,
          0.9729940479984134,
          0.328181407244985,
          0.7363542719386035,
          0.6193799740766326,
          0.6287287230473969,
          0.724493574711181,
          0.02095563288241095,
          0.22329447231043165,
          0.7292109467066842,
          0.31532291047444494,
          0.806444613692104,
          0.43863378600345604,
          0.8289278525531916,
          0.9138227129262062,
          0.11193088702991708,
          0.22912486131635731,
          0.7663805335785093,
          0.24863190227066229,
          0.36128978396204503,
          0.14656353715935144,
          0.9128848112685407,
          0.2942558729142801,
          0.7963880913126618,
          0.9736276626164198,
          0.4377873331663283,
          0.11557559361176004,
          0.5280888109945002,
          0.9733476315552138,
          0.22399445845016433,
          0.9797334698736612,
          0.18683045892722472,
          0.31209186654135357,
          0.28336527490369073,
          0.8459146624362194,
          0.5068359858445205,
          0.27507145385451215,
          0.34338309567121816,
          0.6148212914908157,
          0.9792053204246558,
          0.9737387278902426,
          0.03204495289568274,
          0.10778176808440176,
          0.14915642739248466,
          0.27610123515214685,
          0.9828789342538136,
          0.43667366794429513,
          0.4884296540205136,
          0.33274806369719817,
          0.33594823227239634,
          0.63206891203562,
          0.9850653127374832,
          0.2238477725544247,
          0.4674532966318711,
          0.5587225449534787,
          0.5975947668517742,
          0.7285609073899674,
          0.3220536388854118,
          0.2462240348503873,
          0.24807614837058398,
          0.14919301834626683,
          0,
          0.23364605290299714,
          0.43424395015480816,
          0.281779437808186,
          0.2993506294026752,
          0.2622926633091364,
          0.785384581869679,
          0.7258777519484804,
          0.6501312295207506,
          0.19614321678198623,
          0.8821314105054572,
          0.09660533745431195,
          0.46269869823787785,
          0.004751363783943903,
          0.02073658769411437,
          0.24477371445767235,
          0.5090951334672813,
          0.40144747605649134
         ]
        },
        {
         "line": {
          "width": 2
         },
         "marker": {
          "opacity": 0.8,
          "size": 1
         },
         "name": "vector #1",
         "type": "scatter3d",
         "x": [
          0,
          0,
          0
         ],
         "y": [
          0,
          0,
          0
         ],
         "z": [
          0,
          1,
          1
         ]
        },
        {
         "line": {
          "width": 2
         },
         "marker": {
          "opacity": 0.8,
          "size": 1
         },
         "name": "vector #2",
         "type": "scatter3d",
         "x": [
          0,
          0,
          0
         ],
         "y": [
          0,
          0.31622776601683794,
          0.31622776601683794
         ],
         "z": [
          0,
          0.9486832980505138,
          0.9486832980505138
         ]
        },
        {
         "line": {
          "width": 2
         },
         "marker": {
          "opacity": 0.8,
          "size": 1
         },
         "name": "vector #3",
         "type": "scatter3d",
         "x": [
          0,
          0,
          0
         ],
         "y": [
          0,
          0.7071067811865475,
          0.7071067811865475
         ],
         "z": [
          0,
          0.7071067811865475,
          0.7071067811865475
         ]
        },
        {
         "line": {
          "width": 2
         },
         "marker": {
          "opacity": 0.8,
          "size": 1
         },
         "name": "vector #4",
         "type": "scatter3d",
         "x": [
          0,
          0,
          0
         ],
         "y": [
          0,
          0.9486832980505138,
          0.9486832980505138
         ],
         "z": [
          0,
          0.31622776601683794,
          0.31622776601683794
         ]
        },
        {
         "line": {
          "width": 2
         },
         "marker": {
          "opacity": 0.8,
          "size": 1
         },
         "name": "vector #5",
         "type": "scatter3d",
         "x": [
          0,
          0,
          0
         ],
         "y": [
          0,
          1,
          1
         ],
         "z": [
          0,
          0,
          0
         ]
        },
        {
         "line": {
          "width": 2
         },
         "marker": {
          "opacity": 0.8,
          "size": 1
         },
         "name": "vector #6",
         "type": "scatter3d",
         "x": [
          0,
          0.31622776601683794,
          0.31622776601683794
         ],
         "y": [
          0,
          0,
          0
         ],
         "z": [
          0,
          0.9486832980505138,
          0.9486832980505138
         ]
        },
        {
         "line": {
          "width": 2
         },
         "marker": {
          "opacity": 0.8,
          "size": 1
         },
         "name": "vector #7",
         "type": "scatter3d",
         "x": [
          0,
          0.4082482904638631,
          0.4082482904638631
         ],
         "y": [
          0,
          0.4082482904638631,
          0.4082482904638631
         ],
         "z": [
          0,
          0.8164965809277261,
          0.8164965809277261
         ]
        },
        {
         "line": {
          "width": 2
         },
         "marker": {
          "opacity": 0.8,
          "size": 1
         },
         "name": "vector #8",
         "type": "scatter3d",
         "x": [
          0,
          0.4082482904638631,
          0.4082482904638631
         ],
         "y": [
          0,
          0.8164965809277261,
          0.8164965809277261
         ],
         "z": [
          0,
          0.4082482904638631,
          0.4082482904638631
         ]
        },
        {
         "line": {
          "width": 2
         },
         "marker": {
          "opacity": 0.8,
          "size": 1
         },
         "name": "vector #9",
         "type": "scatter3d",
         "x": [
          0,
          0.31622776601683794,
          0.31622776601683794
         ],
         "y": [
          0,
          0.9486832980505138,
          0.9486832980505138
         ],
         "z": [
          0,
          0,
          0
         ]
        },
        {
         "line": {
          "width": 2
         },
         "marker": {
          "opacity": 0.8,
          "size": 1
         },
         "name": "vector #10",
         "type": "scatter3d",
         "x": [
          0,
          0.7071067811865475,
          0.7071067811865475
         ],
         "y": [
          0,
          0,
          0
         ],
         "z": [
          0,
          0.7071067811865475,
          0.7071067811865475
         ]
        },
        {
         "line": {
          "width": 2
         },
         "marker": {
          "opacity": 0.8,
          "size": 1
         },
         "name": "vector #11",
         "type": "scatter3d",
         "x": [
          0,
          0.8164965809277261,
          0.8164965809277261
         ],
         "y": [
          0,
          0.4082482904638631,
          0.4082482904638631
         ],
         "z": [
          0,
          0.4082482904638631,
          0.4082482904638631
         ]
        },
        {
         "line": {
          "width": 2
         },
         "marker": {
          "opacity": 0.8,
          "size": 1
         },
         "name": "vector #12",
         "type": "scatter3d",
         "x": [
          0,
          0.7071067811865475,
          0.7071067811865475
         ],
         "y": [
          0,
          0.7071067811865475,
          0.7071067811865475
         ],
         "z": [
          0,
          0,
          0
         ]
        },
        {
         "line": {
          "width": 2
         },
         "marker": {
          "opacity": 0.8,
          "size": 1
         },
         "name": "vector #13",
         "type": "scatter3d",
         "x": [
          0,
          0.9486832980505138,
          0.9486832980505138
         ],
         "y": [
          0,
          0,
          0
         ],
         "z": [
          0,
          0.31622776601683794,
          0.31622776601683794
         ]
        },
        {
         "line": {
          "width": 2
         },
         "marker": {
          "opacity": 0.8,
          "size": 1
         },
         "name": "vector #14",
         "type": "scatter3d",
         "x": [
          0,
          0.9486832980505138,
          0.9486832980505138
         ],
         "y": [
          0,
          0.31622776601683794,
          0.31622776601683794
         ],
         "z": [
          0,
          0,
          0
         ]
        },
        {
         "line": {
          "width": 2
         },
         "marker": {
          "opacity": 0.8,
          "size": 1
         },
         "name": "vector #15",
         "type": "scatter3d",
         "x": [
          0,
          1,
          1
         ],
         "y": [
          0,
          0,
          0
         ],
         "z": [
          0,
          0,
          0
         ]
        }
       ],
       "layout": {
        "template": {
         "data": {
          "bar": [
           {
            "error_x": {
             "color": "#2a3f5f"
            },
            "error_y": {
             "color": "#2a3f5f"
            },
            "marker": {
             "line": {
              "color": "#E5ECF6",
              "width": 0.5
             }
            },
            "type": "bar"
           }
          ],
          "barpolar": [
           {
            "marker": {
             "line": {
              "color": "#E5ECF6",
              "width": 0.5
             }
            },
            "type": "barpolar"
           }
          ],
          "carpet": [
           {
            "aaxis": {
             "endlinecolor": "#2a3f5f",
             "gridcolor": "white",
             "linecolor": "white",
             "minorgridcolor": "white",
             "startlinecolor": "#2a3f5f"
            },
            "baxis": {
             "endlinecolor": "#2a3f5f",
             "gridcolor": "white",
             "linecolor": "white",
             "minorgridcolor": "white",
             "startlinecolor": "#2a3f5f"
            },
            "type": "carpet"
           }
          ],
          "choropleth": [
           {
            "colorbar": {
             "outlinewidth": 0,
             "ticks": ""
            },
            "type": "choropleth"
           }
          ],
          "contour": [
           {
            "colorbar": {
             "outlinewidth": 0,
             "ticks": ""
            },
            "colorscale": [
             [
              0,
              "#0d0887"
             ],
             [
              0.1111111111111111,
              "#46039f"
             ],
             [
              0.2222222222222222,
              "#7201a8"
             ],
             [
              0.3333333333333333,
              "#9c179e"
             ],
             [
              0.4444444444444444,
              "#bd3786"
             ],
             [
              0.5555555555555556,
              "#d8576b"
             ],
             [
              0.6666666666666666,
              "#ed7953"
             ],
             [
              0.7777777777777778,
              "#fb9f3a"
             ],
             [
              0.8888888888888888,
              "#fdca26"
             ],
             [
              1,
              "#f0f921"
             ]
            ],
            "type": "contour"
           }
          ],
          "contourcarpet": [
           {
            "colorbar": {
             "outlinewidth": 0,
             "ticks": ""
            },
            "type": "contourcarpet"
           }
          ],
          "heatmap": [
           {
            "colorbar": {
             "outlinewidth": 0,
             "ticks": ""
            },
            "colorscale": [
             [
              0,
              "#0d0887"
             ],
             [
              0.1111111111111111,
              "#46039f"
             ],
             [
              0.2222222222222222,
              "#7201a8"
             ],
             [
              0.3333333333333333,
              "#9c179e"
             ],
             [
              0.4444444444444444,
              "#bd3786"
             ],
             [
              0.5555555555555556,
              "#d8576b"
             ],
             [
              0.6666666666666666,
              "#ed7953"
             ],
             [
              0.7777777777777778,
              "#fb9f3a"
             ],
             [
              0.8888888888888888,
              "#fdca26"
             ],
             [
              1,
              "#f0f921"
             ]
            ],
            "type": "heatmap"
           }
          ],
          "heatmapgl": [
           {
            "colorbar": {
             "outlinewidth": 0,
             "ticks": ""
            },
            "colorscale": [
             [
              0,
              "#0d0887"
             ],
             [
              0.1111111111111111,
              "#46039f"
             ],
             [
              0.2222222222222222,
              "#7201a8"
             ],
             [
              0.3333333333333333,
              "#9c179e"
             ],
             [
              0.4444444444444444,
              "#bd3786"
             ],
             [
              0.5555555555555556,
              "#d8576b"
             ],
             [
              0.6666666666666666,
              "#ed7953"
             ],
             [
              0.7777777777777778,
              "#fb9f3a"
             ],
             [
              0.8888888888888888,
              "#fdca26"
             ],
             [
              1,
              "#f0f921"
             ]
            ],
            "type": "heatmapgl"
           }
          ],
          "histogram": [
           {
            "marker": {
             "colorbar": {
              "outlinewidth": 0,
              "ticks": ""
             }
            },
            "type": "histogram"
           }
          ],
          "histogram2d": [
           {
            "colorbar": {
             "outlinewidth": 0,
             "ticks": ""
            },
            "colorscale": [
             [
              0,
              "#0d0887"
             ],
             [
              0.1111111111111111,
              "#46039f"
             ],
             [
              0.2222222222222222,
              "#7201a8"
             ],
             [
              0.3333333333333333,
              "#9c179e"
             ],
             [
              0.4444444444444444,
              "#bd3786"
             ],
             [
              0.5555555555555556,
              "#d8576b"
             ],
             [
              0.6666666666666666,
              "#ed7953"
             ],
             [
              0.7777777777777778,
              "#fb9f3a"
             ],
             [
              0.8888888888888888,
              "#fdca26"
             ],
             [
              1,
              "#f0f921"
             ]
            ],
            "type": "histogram2d"
           }
          ],
          "histogram2dcontour": [
           {
            "colorbar": {
             "outlinewidth": 0,
             "ticks": ""
            },
            "colorscale": [
             [
              0,
              "#0d0887"
             ],
             [
              0.1111111111111111,
              "#46039f"
             ],
             [
              0.2222222222222222,
              "#7201a8"
             ],
             [
              0.3333333333333333,
              "#9c179e"
             ],
             [
              0.4444444444444444,
              "#bd3786"
             ],
             [
              0.5555555555555556,
              "#d8576b"
             ],
             [
              0.6666666666666666,
              "#ed7953"
             ],
             [
              0.7777777777777778,
              "#fb9f3a"
             ],
             [
              0.8888888888888888,
              "#fdca26"
             ],
             [
              1,
              "#f0f921"
             ]
            ],
            "type": "histogram2dcontour"
           }
          ],
          "mesh3d": [
           {
            "colorbar": {
             "outlinewidth": 0,
             "ticks": ""
            },
            "type": "mesh3d"
           }
          ],
          "parcoords": [
           {
            "line": {
             "colorbar": {
              "outlinewidth": 0,
              "ticks": ""
             }
            },
            "type": "parcoords"
           }
          ],
          "pie": [
           {
            "automargin": true,
            "type": "pie"
           }
          ],
          "scatter": [
           {
            "marker": {
             "colorbar": {
              "outlinewidth": 0,
              "ticks": ""
             }
            },
            "type": "scatter"
           }
          ],
          "scatter3d": [
           {
            "line": {
             "colorbar": {
              "outlinewidth": 0,
              "ticks": ""
             }
            },
            "marker": {
             "colorbar": {
              "outlinewidth": 0,
              "ticks": ""
             }
            },
            "type": "scatter3d"
           }
          ],
          "scattercarpet": [
           {
            "marker": {
             "colorbar": {
              "outlinewidth": 0,
              "ticks": ""
             }
            },
            "type": "scattercarpet"
           }
          ],
          "scattergeo": [
           {
            "marker": {
             "colorbar": {
              "outlinewidth": 0,
              "ticks": ""
             }
            },
            "type": "scattergeo"
           }
          ],
          "scattergl": [
           {
            "marker": {
             "colorbar": {
              "outlinewidth": 0,
              "ticks": ""
             }
            },
            "type": "scattergl"
           }
          ],
          "scattermapbox": [
           {
            "marker": {
             "colorbar": {
              "outlinewidth": 0,
              "ticks": ""
             }
            },
            "type": "scattermapbox"
           }
          ],
          "scatterpolar": [
           {
            "marker": {
             "colorbar": {
              "outlinewidth": 0,
              "ticks": ""
             }
            },
            "type": "scatterpolar"
           }
          ],
          "scatterpolargl": [
           {
            "marker": {
             "colorbar": {
              "outlinewidth": 0,
              "ticks": ""
             }
            },
            "type": "scatterpolargl"
           }
          ],
          "scatterternary": [
           {
            "marker": {
             "colorbar": {
              "outlinewidth": 0,
              "ticks": ""
             }
            },
            "type": "scatterternary"
           }
          ],
          "surface": [
           {
            "colorbar": {
             "outlinewidth": 0,
             "ticks": ""
            },
            "colorscale": [
             [
              0,
              "#0d0887"
             ],
             [
              0.1111111111111111,
              "#46039f"
             ],
             [
              0.2222222222222222,
              "#7201a8"
             ],
             [
              0.3333333333333333,
              "#9c179e"
             ],
             [
              0.4444444444444444,
              "#bd3786"
             ],
             [
              0.5555555555555556,
              "#d8576b"
             ],
             [
              0.6666666666666666,
              "#ed7953"
             ],
             [
              0.7777777777777778,
              "#fb9f3a"
             ],
             [
              0.8888888888888888,
              "#fdca26"
             ],
             [
              1,
              "#f0f921"
             ]
            ],
            "type": "surface"
           }
          ],
          "table": [
           {
            "cells": {
             "fill": {
              "color": "#EBF0F8"
             },
             "line": {
              "color": "white"
             }
            },
            "header": {
             "fill": {
              "color": "#C8D4E3"
             },
             "line": {
              "color": "white"
             }
            },
            "type": "table"
           }
          ]
         },
         "layout": {
          "annotationdefaults": {
           "arrowcolor": "#2a3f5f",
           "arrowhead": 0,
           "arrowwidth": 1
          },
          "coloraxis": {
           "colorbar": {
            "outlinewidth": 0,
            "ticks": ""
           }
          },
          "colorscale": {
           "diverging": [
            [
             0,
             "#8e0152"
            ],
            [
             0.1,
             "#c51b7d"
            ],
            [
             0.2,
             "#de77ae"
            ],
            [
             0.3,
             "#f1b6da"
            ],
            [
             0.4,
             "#fde0ef"
            ],
            [
             0.5,
             "#f7f7f7"
            ],
            [
             0.6,
             "#e6f5d0"
            ],
            [
             0.7,
             "#b8e186"
            ],
            [
             0.8,
             "#7fbc41"
            ],
            [
             0.9,
             "#4d9221"
            ],
            [
             1,
             "#276419"
            ]
           ],
           "sequential": [
            [
             0,
             "#0d0887"
            ],
            [
             0.1111111111111111,
             "#46039f"
            ],
            [
             0.2222222222222222,
             "#7201a8"
            ],
            [
             0.3333333333333333,
             "#9c179e"
            ],
            [
             0.4444444444444444,
             "#bd3786"
            ],
            [
             0.5555555555555556,
             "#d8576b"
            ],
            [
             0.6666666666666666,
             "#ed7953"
            ],
            [
             0.7777777777777778,
             "#fb9f3a"
            ],
            [
             0.8888888888888888,
             "#fdca26"
            ],
            [
             1,
             "#f0f921"
            ]
           ],
           "sequentialminus": [
            [
             0,
             "#0d0887"
            ],
            [
             0.1111111111111111,
             "#46039f"
            ],
            [
             0.2222222222222222,
             "#7201a8"
            ],
            [
             0.3333333333333333,
             "#9c179e"
            ],
            [
             0.4444444444444444,
             "#bd3786"
            ],
            [
             0.5555555555555556,
             "#d8576b"
            ],
            [
             0.6666666666666666,
             "#ed7953"
            ],
            [
             0.7777777777777778,
             "#fb9f3a"
            ],
            [
             0.8888888888888888,
             "#fdca26"
            ],
            [
             1,
             "#f0f921"
            ]
           ]
          },
          "colorway": [
           "#636efa",
           "#EF553B",
           "#00cc96",
           "#ab63fa",
           "#FFA15A",
           "#19d3f3",
           "#FF6692",
           "#B6E880",
           "#FF97FF",
           "#FECB52"
          ],
          "font": {
           "color": "#2a3f5f"
          },
          "geo": {
           "bgcolor": "white",
           "lakecolor": "white",
           "landcolor": "#E5ECF6",
           "showlakes": true,
           "showland": true,
           "subunitcolor": "white"
          },
          "hoverlabel": {
           "align": "left"
          },
          "hovermode": "closest",
          "mapbox": {
           "style": "light"
          },
          "paper_bgcolor": "white",
          "plot_bgcolor": "#E5ECF6",
          "polar": {
           "angularaxis": {
            "gridcolor": "white",
            "linecolor": "white",
            "ticks": ""
           },
           "bgcolor": "#E5ECF6",
           "radialaxis": {
            "gridcolor": "white",
            "linecolor": "white",
            "ticks": ""
           }
          },
          "scene": {
           "xaxis": {
            "backgroundcolor": "#E5ECF6",
            "gridcolor": "white",
            "gridwidth": 2,
            "linecolor": "white",
            "showbackground": true,
            "ticks": "",
            "zerolinecolor": "white"
           },
           "yaxis": {
            "backgroundcolor": "#E5ECF6",
            "gridcolor": "white",
            "gridwidth": 2,
            "linecolor": "white",
            "showbackground": true,
            "ticks": "",
            "zerolinecolor": "white"
           },
           "zaxis": {
            "backgroundcolor": "#E5ECF6",
            "gridcolor": "white",
            "gridwidth": 2,
            "linecolor": "white",
            "showbackground": true,
            "ticks": "",
            "zerolinecolor": "white"
           }
          },
          "shapedefaults": {
           "line": {
            "color": "#2a3f5f"
           }
          },
          "ternary": {
           "aaxis": {
            "gridcolor": "white",
            "linecolor": "white",
            "ticks": ""
           },
           "baxis": {
            "gridcolor": "white",
            "linecolor": "white",
            "ticks": ""
           },
           "bgcolor": "#E5ECF6",
           "caxis": {
            "gridcolor": "white",
            "linecolor": "white",
            "ticks": ""
           }
          },
          "title": {
           "x": 0.05
          },
          "xaxis": {
           "automargin": true,
           "gridcolor": "white",
           "linecolor": "white",
           "ticks": "",
           "title": {
            "standoff": 15
           },
           "zerolinecolor": "white",
           "zerolinewidth": 2
          },
          "yaxis": {
           "automargin": true,
           "gridcolor": "white",
           "linecolor": "white",
           "ticks": "",
           "title": {
            "standoff": 15
           },
           "zerolinecolor": "white",
           "zerolinewidth": 2
          }
         }
        }
       }
      }
     },
     "metadata": {}
    }
   ],
   "source": [
    "visualize_3D_front_rvs(base.normalized_front, base.vectors)"
   ]
  },
  {
   "cell_type": "code",
   "execution_count": 19,
   "metadata": {},
   "outputs": [
    {
     "output_type": "stream",
     "name": "stdout",
     "text": [
      "[[  3.03568544   3.12923022]\n [-16.96651509 -16.87297032]\n [-12.88310931 -12.78956454]]\n[  3.08245783 -16.9197427  -12.83633692]\n"
     ]
    },
    {
     "output_type": "display_data",
     "data": {
      "application/vnd.plotly.v1+json": {
       "config": {
        "plotlyServerURL": "https://plot.ly"
       },
       "data": [
        {
         "marker": {
          "size": 3
         },
         "mode": "markers",
         "name": "Composite front",
         "type": "scatter3d",
         "x": [
          3.150240480312147,
          3.1926801665662343,
          3.0605473384334188,
          3.13117794271088,
          3.0611996901187135,
          3.1685550591748095,
          3.244642234219574,
          3.0929550051736356,
          3.173231417592526,
          3.432316283806887,
          3.399791211313959,
          3.1386914859139727,
          3.1828602597422266,
          3.149978105694299,
          3.0928939461918854,
          3.3191470663055878,
          3.233296141980821,
          3.197018212742898,
          3.290925878731168,
          3.1431393218050347,
          3.1926787703404162,
          3.301397186075354,
          3.2980061137015877,
          3.2303967937605074,
          3.043752913738858,
          3.1853575855196388,
          3.2663170791529565,
          3.1516146288664353,
          3.193269643017463,
          3.2500144057744222,
          3.333318942383203,
          3.21783741859206,
          3.1528773399279597,
          3.1494661820570533,
          3.186120122267575,
          3.1556828665747525,
          3.0543378016625233,
          3.3393511662838735,
          3.1516007572800815,
          3.161355178664763,
          3.182470054080946,
          3.153880587966931,
          3.431236627592621,
          3.2428239544694604,
          3.1202051285524965,
          3.186270755242359,
          3.1137719369398416,
          3.2175517671229397,
          3.1049001493196515,
          3.0891022962844157,
          3.249749505899308,
          3.217539613065175,
          3.114662024801061,
          3.2605128728508825,
          3.1725135969373732,
          3.234215621668568,
          3.1007415689467934,
          3.242114003203487,
          3.1125311187025857,
          3.0609220704960594,
          3.2186388787985982,
          3.246637576491214,
          3.242211903340674,
          3.006456190026691,
          3.2450473019687514,
          3.009200974008722,
          3.2220180167944195,
          3.238355655824986,
          3.244783587690704,
          3.146942232614914,
          3.290795657219352,
          3.3263703712353343,
          3.177387881357029,
          3.2278144380171967,
          3.0470250901460916,
          3.0022440765966545,
          3.393520809705011,
          3.252928981040711,
          3.2333446048272947,
          3.3314164043575696,
          3.023638516360304,
          3.2174303171150296,
          3.2728981302186724,
          3.304952651819953,
          3.1761567211913304,
          3.172182369824769,
          3.041069512308419,
          3.2432543691326488,
          3.1554243212377644,
          3.15034655532088,
          3.248450775685812,
          3.152532416676542,
          3.308079352389856,
          3.260542012676817,
          3.2610891371691313,
          3.233348601873526,
          4.177978934395688,
          3.21139281879288,
          3.1629545522712106,
          3.2279760990665083,
          3.186745073530969,
          3.2507333523367237,
          3.1342311160559158,
          3.1550581041549193,
          3.137554695724015,
          3.2530079863353523,
          3.1010182357021283,
          3.2720743278733004,
          3.168649640994078,
          3.9965968431084855,
          3.4418548487422087,
          3.29838522000225,
          3.201499516241314,
          3.1655065734849357
         ],
         "y": [
          -16.990929746681143,
          -16.996119440811178,
          -16.96234095748482,
          -16.96040421140832,
          -16.96268217741917,
          -16.962926276265165,
          -16.948796602722798,
          -16.97125943836557,
          -16.946791996459076,
          -16.766196581304996,
          -16.790950286966307,
          -16.9613267278739,
          -16.973797582257458,
          -16.990703127885244,
          -16.973602795670264,
          -16.991981093805887,
          -16.906438763770822,
          -16.990833601539137,
          -16.850114677232675,
          -16.984921632546737,
          -16.972468325296493,
          -16.99792532066161,
          -16.999839812108927,
          -16.98141041096863,
          -16.947416785993898,
          -16.957650528217055,
          -16.99741867213791,
          -16.961414465579285,
          -16.97675938645254,
          -16.951880721415105,
          -16.994053101442404,
          -16.934009071369964,
          -16.987853792046355,
          -16.972522569123015,
          -16.948621520282384,
          -16.95411725479904,
          -16.942272958988273,
          -16.994339880617318,
          -16.99177572727364,
          -16.98650408793399,
          -16.994025959118282,
          -16.991814631623413,
          -16.766685223575113,
          -16.946273090358638,
          -16.95923376843297,
          -16.94852166562037,
          -16.977997224022474,
          -16.987434623766912,
          -16.9607065000866,
          -16.948308928148137,
          -16.881710608190193,
          -16.939330284373927,
          -16.962835209007,
          -16.961716705370474,
          -16.947196883653636,
          -16.902993149133863,
          -16.983189495986643,
          -16.969825013299427,
          -16.973585682748876,
          -16.964507933388848,
          -16.987637009601286,
          -16.884222028590578,
          -16.998485219143728,
          -16.812758631701374,
          -16.947270598970537,
          -16.869957431891635,
          -16.92209636377263,
          -16.97292781464898,
          -16.96779191355833,
          -16.990618417405834,
          -16.999956457760238,
          -16.9840578665254,
          -16.948048094634892,
          -16.998775458984305,
          -16.944590304850976,
          -16.810485732269026,
          -16.79474258878238,
          -16.8786972221829,
          -16.904413789434894,
          -16.985041855100985,
          -16.889910587854978,
          -16.987167986959985,
          -16.999426667358822,
          -16.991209767119923,
          -16.93257890743742,
          -16.991558222408937,
          -16.946158501721293,
          -16.946648048856236,
          -16.954401442189013,
          -16.971082121963786,
          -16.99911208857779,
          -16.991642381084013,
          -16.990100298236296,
          -16.960854771085213,
          -16.961683490494327,
          -16.90443699194385,
          -16.46836025095448,
          -16.93808571439958,
          -16.936159691087635,
          -16.961548722403975,
          -16.943493010539324,
          -16.963414482159674,
          -16.988908552178053,
          -16.992206505499507,
          -16.97467261457197,
          -16.93566550566551,
          -16.98016104191886,
          -16.863711879187733,
          -16.969226076502483,
          -16.591729987887014,
          -16.76869411472836,
          -16.969975187006657,
          -16.99027480083196,
          -16.950065105556998
         ],
         "z": [
          -12.766866012813926,
          -12.840914417931298,
          -12.712193488038528,
          -12.882704278095535,
          -12.71471855819494,
          -12.91518486206241,
          -12.938789653880324,
          -12.809869538921095,
          -12.928288601103288,
          -12.986588823883741,
          -12.98328872718231,
          -12.892566227108839,
          -12.9079871834678,
          -12.764780232751804,
          -12.80674469647144,
          -12.88769547565714,
          -12.958298847100215,
          -12.875086557656186,
          -12.972686182844637,
          -12.86057989581241,
          -12.912725964425173,
          -12.863114892873789,
          -12.841128821023972,
          -12.905989079545616,
          -12.641836114457904,
          -12.926435077448872,
          -12.863226305349286,
          -12.905494651111573,
          -12.906660925904506,
          -12.936770389746355,
          -12.880906287265843,
          -12.946893056506529,
          -12.858985896377831,
          -12.892518273694055,
          -12.933162900949524,
          -12.912581282498552,
          -12.669139396930138,
          -12.87962923244287,
          -12.833972674575161,
          -12.870789499494528,
          -12.85096842260614,
          -12.837151972827549,
          -12.986529265877367,
          -12.940297365181182,
          -12.863779684195368,
          -12.933273687527066,
          -12.841739291536644,
          -12.891496380159273,
          -12.833894393635168,
          -12.769377128053762,
          -12.96586752547313,
          -12.944115754495062,
          -12.855524829669468,
          -12.92974601861961,
          -12.927697022721107,
          -12.95951296478238,
          -12.773328657931984,
          -12.92233119317001,
          -12.8474434751452,
          -12.704200170515607,
          -12.89122493280802,
          -12.96530055716792,
          -12.847531829992004,
          -12.202053869456725,
          -12.93966122721763,
          -12.360004144512185,
          -12.952422601994448,
          -12.918695278046151,
          -12.924472335715075,
          -12.766776228159749,
          -12.827111168128114,
          -12.903917673578755,
          -12.929976200621404,
          -12.820913968711135,
          -12.65305747274143,
          -12.186397240062625,
          -12.982598863584181,
          -12.966574344114928,
          -12.959042660093129,
          -12.90210682528172,
          -12.398743440081939,
          -12.892129185637268,
          -12.845268645694224,
          -12.88990754162787,
          -12.930240989182728,
          -12.857982515812509,
          -12.617199090245384,
          -12.940072248514204,
          -12.912259321181928,
          -12.895111703385046,
          -12.81326104664351,
          -12.83667002754606,
          -12.892672039573613,
          -12.930397418175232,
          -12.929758430729889,
          -12.959033975616405,
          -12.996764431958884,
          -12.944353673010871,
          -12.913410154871418,
          -12.929518800780714,
          -12.936229537644959,
          -12.928496365515356,
          -12.828716399088933,
          -12.835288672196938,
          -12.878983877651489,
          -12.944982151110715,
          -12.808094092465652,
          -12.967425705802393,
          -12.908443882338712,
          -12.991657185836038,
          -12.986461747909544,
          -12.921620468907406,
          -12.878769266308234,
          -12.921936765883768
         ]
        },
        {
         "line": {
          "width": 2
         },
         "marker": {
          "opacity": 0.8,
          "size": 1
         },
         "name": "preferred range X",
         "type": "scatter3d",
         "x": [
          3.035685442969888,
          3.129230217897677
         ],
         "y": [
          -16.91974270392311,
          -16.91974270392311
         ],
         "z": [
          -12.836336924284629,
          -12.836336924284629
         ]
        },
        {
         "line": {
          "width": 2
         },
         "marker": {
          "opacity": 0.8,
          "size": 1
         },
         "name": "preferred range Y",
         "type": "scatter3d",
         "x": [
          3.0824578304337824,
          3.0824578304337824
         ],
         "y": [
          -16.966515091387002,
          -16.872970316459217
         ],
         "z": [
          -12.836336924284629,
          -12.836336924284629
         ]
        },
        {
         "line": {
          "width": 2
         },
         "marker": {
          "opacity": 0.8,
          "size": 1
         },
         "name": "preferred range Z",
         "type": "scatter3d",
         "x": [
          3.0824578304337824,
          3.0824578304337824
         ],
         "y": [
          -16.91974270392311,
          -16.91974270392311
         ],
         "z": [
          -12.883109311748523,
          -12.789564536820734
         ]
        }
       ],
       "layout": {
        "template": {
         "data": {
          "bar": [
           {
            "error_x": {
             "color": "#2a3f5f"
            },
            "error_y": {
             "color": "#2a3f5f"
            },
            "marker": {
             "line": {
              "color": "#E5ECF6",
              "width": 0.5
             }
            },
            "type": "bar"
           }
          ],
          "barpolar": [
           {
            "marker": {
             "line": {
              "color": "#E5ECF6",
              "width": 0.5
             }
            },
            "type": "barpolar"
           }
          ],
          "carpet": [
           {
            "aaxis": {
             "endlinecolor": "#2a3f5f",
             "gridcolor": "white",
             "linecolor": "white",
             "minorgridcolor": "white",
             "startlinecolor": "#2a3f5f"
            },
            "baxis": {
             "endlinecolor": "#2a3f5f",
             "gridcolor": "white",
             "linecolor": "white",
             "minorgridcolor": "white",
             "startlinecolor": "#2a3f5f"
            },
            "type": "carpet"
           }
          ],
          "choropleth": [
           {
            "colorbar": {
             "outlinewidth": 0,
             "ticks": ""
            },
            "type": "choropleth"
           }
          ],
          "contour": [
           {
            "colorbar": {
             "outlinewidth": 0,
             "ticks": ""
            },
            "colorscale": [
             [
              0,
              "#0d0887"
             ],
             [
              0.1111111111111111,
              "#46039f"
             ],
             [
              0.2222222222222222,
              "#7201a8"
             ],
             [
              0.3333333333333333,
              "#9c179e"
             ],
             [
              0.4444444444444444,
              "#bd3786"
             ],
             [
              0.5555555555555556,
              "#d8576b"
             ],
             [
              0.6666666666666666,
              "#ed7953"
             ],
             [
              0.7777777777777778,
              "#fb9f3a"
             ],
             [
              0.8888888888888888,
              "#fdca26"
             ],
             [
              1,
              "#f0f921"
             ]
            ],
            "type": "contour"
           }
          ],
          "contourcarpet": [
           {
            "colorbar": {
             "outlinewidth": 0,
             "ticks": ""
            },
            "type": "contourcarpet"
           }
          ],
          "heatmap": [
           {
            "colorbar": {
             "outlinewidth": 0,
             "ticks": ""
            },
            "colorscale": [
             [
              0,
              "#0d0887"
             ],
             [
              0.1111111111111111,
              "#46039f"
             ],
             [
              0.2222222222222222,
              "#7201a8"
             ],
             [
              0.3333333333333333,
              "#9c179e"
             ],
             [
              0.4444444444444444,
              "#bd3786"
             ],
             [
              0.5555555555555556,
              "#d8576b"
             ],
             [
              0.6666666666666666,
              "#ed7953"
             ],
             [
              0.7777777777777778,
              "#fb9f3a"
             ],
             [
              0.8888888888888888,
              "#fdca26"
             ],
             [
              1,
              "#f0f921"
             ]
            ],
            "type": "heatmap"
           }
          ],
          "heatmapgl": [
           {
            "colorbar": {
             "outlinewidth": 0,
             "ticks": ""
            },
            "colorscale": [
             [
              0,
              "#0d0887"
             ],
             [
              0.1111111111111111,
              "#46039f"
             ],
             [
              0.2222222222222222,
              "#7201a8"
             ],
             [
              0.3333333333333333,
              "#9c179e"
             ],
             [
              0.4444444444444444,
              "#bd3786"
             ],
             [
              0.5555555555555556,
              "#d8576b"
             ],
             [
              0.6666666666666666,
              "#ed7953"
             ],
             [
              0.7777777777777778,
              "#fb9f3a"
             ],
             [
              0.8888888888888888,
              "#fdca26"
             ],
             [
              1,
              "#f0f921"
             ]
            ],
            "type": "heatmapgl"
           }
          ],
          "histogram": [
           {
            "marker": {
             "colorbar": {
              "outlinewidth": 0,
              "ticks": ""
             }
            },
            "type": "histogram"
           }
          ],
          "histogram2d": [
           {
            "colorbar": {
             "outlinewidth": 0,
             "ticks": ""
            },
            "colorscale": [
             [
              0,
              "#0d0887"
             ],
             [
              0.1111111111111111,
              "#46039f"
             ],
             [
              0.2222222222222222,
              "#7201a8"
             ],
             [
              0.3333333333333333,
              "#9c179e"
             ],
             [
              0.4444444444444444,
              "#bd3786"
             ],
             [
              0.5555555555555556,
              "#d8576b"
             ],
             [
              0.6666666666666666,
              "#ed7953"
             ],
             [
              0.7777777777777778,
              "#fb9f3a"
             ],
             [
              0.8888888888888888,
              "#fdca26"
             ],
             [
              1,
              "#f0f921"
             ]
            ],
            "type": "histogram2d"
           }
          ],
          "histogram2dcontour": [
           {
            "colorbar": {
             "outlinewidth": 0,
             "ticks": ""
            },
            "colorscale": [
             [
              0,
              "#0d0887"
             ],
             [
              0.1111111111111111,
              "#46039f"
             ],
             [
              0.2222222222222222,
              "#7201a8"
             ],
             [
              0.3333333333333333,
              "#9c179e"
             ],
             [
              0.4444444444444444,
              "#bd3786"
             ],
             [
              0.5555555555555556,
              "#d8576b"
             ],
             [
              0.6666666666666666,
              "#ed7953"
             ],
             [
              0.7777777777777778,
              "#fb9f3a"
             ],
             [
              0.8888888888888888,
              "#fdca26"
             ],
             [
              1,
              "#f0f921"
             ]
            ],
            "type": "histogram2dcontour"
           }
          ],
          "mesh3d": [
           {
            "colorbar": {
             "outlinewidth": 0,
             "ticks": ""
            },
            "type": "mesh3d"
           }
          ],
          "parcoords": [
           {
            "line": {
             "colorbar": {
              "outlinewidth": 0,
              "ticks": ""
             }
            },
            "type": "parcoords"
           }
          ],
          "pie": [
           {
            "automargin": true,
            "type": "pie"
           }
          ],
          "scatter": [
           {
            "marker": {
             "colorbar": {
              "outlinewidth": 0,
              "ticks": ""
             }
            },
            "type": "scatter"
           }
          ],
          "scatter3d": [
           {
            "line": {
             "colorbar": {
              "outlinewidth": 0,
              "ticks": ""
             }
            },
            "marker": {
             "colorbar": {
              "outlinewidth": 0,
              "ticks": ""
             }
            },
            "type": "scatter3d"
           }
          ],
          "scattercarpet": [
           {
            "marker": {
             "colorbar": {
              "outlinewidth": 0,
              "ticks": ""
             }
            },
            "type": "scattercarpet"
           }
          ],
          "scattergeo": [
           {
            "marker": {
             "colorbar": {
              "outlinewidth": 0,
              "ticks": ""
             }
            },
            "type": "scattergeo"
           }
          ],
          "scattergl": [
           {
            "marker": {
             "colorbar": {
              "outlinewidth": 0,
              "ticks": ""
             }
            },
            "type": "scattergl"
           }
          ],
          "scattermapbox": [
           {
            "marker": {
             "colorbar": {
              "outlinewidth": 0,
              "ticks": ""
             }
            },
            "type": "scattermapbox"
           }
          ],
          "scatterpolar": [
           {
            "marker": {
             "colorbar": {
              "outlinewidth": 0,
              "ticks": ""
             }
            },
            "type": "scatterpolar"
           }
          ],
          "scatterpolargl": [
           {
            "marker": {
             "colorbar": {
              "outlinewidth": 0,
              "ticks": ""
             }
            },
            "type": "scatterpolargl"
           }
          ],
          "scatterternary": [
           {
            "marker": {
             "colorbar": {
              "outlinewidth": 0,
              "ticks": ""
             }
            },
            "type": "scatterternary"
           }
          ],
          "surface": [
           {
            "colorbar": {
             "outlinewidth": 0,
             "ticks": ""
            },
            "colorscale": [
             [
              0,
              "#0d0887"
             ],
             [
              0.1111111111111111,
              "#46039f"
             ],
             [
              0.2222222222222222,
              "#7201a8"
             ],
             [
              0.3333333333333333,
              "#9c179e"
             ],
             [
              0.4444444444444444,
              "#bd3786"
             ],
             [
              0.5555555555555556,
              "#d8576b"
             ],
             [
              0.6666666666666666,
              "#ed7953"
             ],
             [
              0.7777777777777778,
              "#fb9f3a"
             ],
             [
              0.8888888888888888,
              "#fdca26"
             ],
             [
              1,
              "#f0f921"
             ]
            ],
            "type": "surface"
           }
          ],
          "table": [
           {
            "cells": {
             "fill": {
              "color": "#EBF0F8"
             },
             "line": {
              "color": "white"
             }
            },
            "header": {
             "fill": {
              "color": "#C8D4E3"
             },
             "line": {
              "color": "white"
             }
            },
            "type": "table"
           }
          ]
         },
         "layout": {
          "annotationdefaults": {
           "arrowcolor": "#2a3f5f",
           "arrowhead": 0,
           "arrowwidth": 1
          },
          "coloraxis": {
           "colorbar": {
            "outlinewidth": 0,
            "ticks": ""
           }
          },
          "colorscale": {
           "diverging": [
            [
             0,
             "#8e0152"
            ],
            [
             0.1,
             "#c51b7d"
            ],
            [
             0.2,
             "#de77ae"
            ],
            [
             0.3,
             "#f1b6da"
            ],
            [
             0.4,
             "#fde0ef"
            ],
            [
             0.5,
             "#f7f7f7"
            ],
            [
             0.6,
             "#e6f5d0"
            ],
            [
             0.7,
             "#b8e186"
            ],
            [
             0.8,
             "#7fbc41"
            ],
            [
             0.9,
             "#4d9221"
            ],
            [
             1,
             "#276419"
            ]
           ],
           "sequential": [
            [
             0,
             "#0d0887"
            ],
            [
             0.1111111111111111,
             "#46039f"
            ],
            [
             0.2222222222222222,
             "#7201a8"
            ],
            [
             0.3333333333333333,
             "#9c179e"
            ],
            [
             0.4444444444444444,
             "#bd3786"
            ],
            [
             0.5555555555555556,
             "#d8576b"
            ],
            [
             0.6666666666666666,
             "#ed7953"
            ],
            [
             0.7777777777777778,
             "#fb9f3a"
            ],
            [
             0.8888888888888888,
             "#fdca26"
            ],
            [
             1,
             "#f0f921"
            ]
           ],
           "sequentialminus": [
            [
             0,
             "#0d0887"
            ],
            [
             0.1111111111111111,
             "#46039f"
            ],
            [
             0.2222222222222222,
             "#7201a8"
            ],
            [
             0.3333333333333333,
             "#9c179e"
            ],
            [
             0.4444444444444444,
             "#bd3786"
            ],
            [
             0.5555555555555556,
             "#d8576b"
            ],
            [
             0.6666666666666666,
             "#ed7953"
            ],
            [
             0.7777777777777778,
             "#fb9f3a"
            ],
            [
             0.8888888888888888,
             "#fdca26"
            ],
            [
             1,
             "#f0f921"
            ]
           ]
          },
          "colorway": [
           "#636efa",
           "#EF553B",
           "#00cc96",
           "#ab63fa",
           "#FFA15A",
           "#19d3f3",
           "#FF6692",
           "#B6E880",
           "#FF97FF",
           "#FECB52"
          ],
          "font": {
           "color": "#2a3f5f"
          },
          "geo": {
           "bgcolor": "white",
           "lakecolor": "white",
           "landcolor": "#E5ECF6",
           "showlakes": true,
           "showland": true,
           "subunitcolor": "white"
          },
          "hoverlabel": {
           "align": "left"
          },
          "hovermode": "closest",
          "mapbox": {
           "style": "light"
          },
          "paper_bgcolor": "white",
          "plot_bgcolor": "#E5ECF6",
          "polar": {
           "angularaxis": {
            "gridcolor": "white",
            "linecolor": "white",
            "ticks": ""
           },
           "bgcolor": "#E5ECF6",
           "radialaxis": {
            "gridcolor": "white",
            "linecolor": "white",
            "ticks": ""
           }
          },
          "scene": {
           "xaxis": {
            "backgroundcolor": "#E5ECF6",
            "gridcolor": "white",
            "gridwidth": 2,
            "linecolor": "white",
            "showbackground": true,
            "ticks": "",
            "zerolinecolor": "white"
           },
           "yaxis": {
            "backgroundcolor": "#E5ECF6",
            "gridcolor": "white",
            "gridwidth": 2,
            "linecolor": "white",
            "showbackground": true,
            "ticks": "",
            "zerolinecolor": "white"
           },
           "zaxis": {
            "backgroundcolor": "#E5ECF6",
            "gridcolor": "white",
            "gridwidth": 2,
            "linecolor": "white",
            "showbackground": true,
            "ticks": "",
            "zerolinecolor": "white"
           }
          },
          "shapedefaults": {
           "line": {
            "color": "#2a3f5f"
           }
          },
          "ternary": {
           "aaxis": {
            "gridcolor": "white",
            "linecolor": "white",
            "ticks": ""
           },
           "baxis": {
            "gridcolor": "white",
            "linecolor": "white",
            "ticks": ""
           },
           "bgcolor": "#E5ECF6",
           "caxis": {
            "gridcolor": "white",
            "linecolor": "white",
            "ticks": ""
           }
          },
          "title": {
           "x": 0.05
          },
          "xaxis": {
           "automargin": true,
           "gridcolor": "white",
           "linecolor": "white",
           "ticks": "",
           "title": {
            "standoff": 15
           },
           "zerolinecolor": "white",
           "zerolinewidth": 2
          },
          "yaxis": {
           "automargin": true,
           "gridcolor": "white",
           "linecolor": "white",
           "ticks": "",
           "title": {
            "standoff": 15
           },
           "zerolinecolor": "white",
           "zerolinewidth": 2
          }
         }
        }
       }
      }
     },
     "metadata": {}
    }
   ],
   "source": [
    "range, rp = gp.generateRanges4learning(base)\n",
    "print(range)\n",
    "print(rp)\n",
    "fig = visualize_3D_front_range(base.composite_front, range, rp)\n",
    "fig.write_html(f\"./results/\" f\"ranges_learning.html\")\n",
    "fig"
   ]
  },
  {
   "cell_type": "code",
   "execution_count": 20,
   "metadata": {},
   "outputs": [
    {
     "output_type": "stream",
     "name": "stdout",
     "text": [
      "[[  3.13926698   3.22739306]\n [-17.0440195  -16.95589342]\n [-12.98046549 -12.89233941]]\n[  3.18333002 -16.99995646 -12.93640245]\n"
     ]
    },
    {
     "output_type": "display_data",
     "data": {
      "application/vnd.plotly.v1+json": {
       "config": {
        "plotlyServerURL": "https://plot.ly"
       },
       "data": [
        {
         "marker": {
          "size": 3
         },
         "mode": "markers",
         "name": "Composite front",
         "type": "scatter3d",
         "x": [
          3.150240480312147,
          3.1926801665662343,
          3.0605473384334188,
          3.13117794271088,
          3.0611996901187135,
          3.1685550591748095,
          3.244642234219574,
          3.0929550051736356,
          3.173231417592526,
          3.432316283806887,
          3.399791211313959,
          3.1386914859139727,
          3.1828602597422266,
          3.149978105694299,
          3.0928939461918854,
          3.3191470663055878,
          3.233296141980821,
          3.197018212742898,
          3.290925878731168,
          3.1431393218050347,
          3.1926787703404162,
          3.301397186075354,
          3.2980061137015877,
          3.2303967937605074,
          3.043752913738858,
          3.1853575855196388,
          3.2663170791529565,
          3.1516146288664353,
          3.193269643017463,
          3.2500144057744222,
          3.333318942383203,
          3.21783741859206,
          3.1528773399279597,
          3.1494661820570533,
          3.186120122267575,
          3.1556828665747525,
          3.0543378016625233,
          3.3393511662838735,
          3.1516007572800815,
          3.161355178664763,
          3.182470054080946,
          3.153880587966931,
          3.431236627592621,
          3.2428239544694604,
          3.1202051285524965,
          3.186270755242359,
          3.1137719369398416,
          3.2175517671229397,
          3.1049001493196515,
          3.0891022962844157,
          3.249749505899308,
          3.217539613065175,
          3.114662024801061,
          3.2605128728508825,
          3.1725135969373732,
          3.234215621668568,
          3.1007415689467934,
          3.242114003203487,
          3.1125311187025857,
          3.0609220704960594,
          3.2186388787985982,
          3.246637576491214,
          3.242211903340674,
          3.006456190026691,
          3.2450473019687514,
          3.009200974008722,
          3.2220180167944195,
          3.238355655824986,
          3.244783587690704,
          3.146942232614914,
          3.290795657219352,
          3.3263703712353343,
          3.177387881357029,
          3.2278144380171967,
          3.0470250901460916,
          3.0022440765966545,
          3.393520809705011,
          3.252928981040711,
          3.2333446048272947,
          3.3314164043575696,
          3.023638516360304,
          3.2174303171150296,
          3.2728981302186724,
          3.304952651819953,
          3.1761567211913304,
          3.172182369824769,
          3.041069512308419,
          3.2432543691326488,
          3.1554243212377644,
          3.15034655532088,
          3.248450775685812,
          3.152532416676542,
          3.308079352389856,
          3.260542012676817,
          3.2610891371691313,
          3.233348601873526,
          4.177978934395688,
          3.21139281879288,
          3.1629545522712106,
          3.2279760990665083,
          3.186745073530969,
          3.2507333523367237,
          3.1342311160559158,
          3.1550581041549193,
          3.137554695724015,
          3.2530079863353523,
          3.1010182357021283,
          3.2720743278733004,
          3.168649640994078,
          3.9965968431084855,
          3.4418548487422087,
          3.29838522000225,
          3.201499516241314,
          3.1655065734849357
         ],
         "y": [
          -16.990929746681143,
          -16.996119440811178,
          -16.96234095748482,
          -16.96040421140832,
          -16.96268217741917,
          -16.962926276265165,
          -16.948796602722798,
          -16.97125943836557,
          -16.946791996459076,
          -16.766196581304996,
          -16.790950286966307,
          -16.9613267278739,
          -16.973797582257458,
          -16.990703127885244,
          -16.973602795670264,
          -16.991981093805887,
          -16.906438763770822,
          -16.990833601539137,
          -16.850114677232675,
          -16.984921632546737,
          -16.972468325296493,
          -16.99792532066161,
          -16.999839812108927,
          -16.98141041096863,
          -16.947416785993898,
          -16.957650528217055,
          -16.99741867213791,
          -16.961414465579285,
          -16.97675938645254,
          -16.951880721415105,
          -16.994053101442404,
          -16.934009071369964,
          -16.987853792046355,
          -16.972522569123015,
          -16.948621520282384,
          -16.95411725479904,
          -16.942272958988273,
          -16.994339880617318,
          -16.99177572727364,
          -16.98650408793399,
          -16.994025959118282,
          -16.991814631623413,
          -16.766685223575113,
          -16.946273090358638,
          -16.95923376843297,
          -16.94852166562037,
          -16.977997224022474,
          -16.987434623766912,
          -16.9607065000866,
          -16.948308928148137,
          -16.881710608190193,
          -16.939330284373927,
          -16.962835209007,
          -16.961716705370474,
          -16.947196883653636,
          -16.902993149133863,
          -16.983189495986643,
          -16.969825013299427,
          -16.973585682748876,
          -16.964507933388848,
          -16.987637009601286,
          -16.884222028590578,
          -16.998485219143728,
          -16.812758631701374,
          -16.947270598970537,
          -16.869957431891635,
          -16.92209636377263,
          -16.97292781464898,
          -16.96779191355833,
          -16.990618417405834,
          -16.999956457760238,
          -16.9840578665254,
          -16.948048094634892,
          -16.998775458984305,
          -16.944590304850976,
          -16.810485732269026,
          -16.79474258878238,
          -16.8786972221829,
          -16.904413789434894,
          -16.985041855100985,
          -16.889910587854978,
          -16.987167986959985,
          -16.999426667358822,
          -16.991209767119923,
          -16.93257890743742,
          -16.991558222408937,
          -16.946158501721293,
          -16.946648048856236,
          -16.954401442189013,
          -16.971082121963786,
          -16.99911208857779,
          -16.991642381084013,
          -16.990100298236296,
          -16.960854771085213,
          -16.961683490494327,
          -16.90443699194385,
          -16.46836025095448,
          -16.93808571439958,
          -16.936159691087635,
          -16.961548722403975,
          -16.943493010539324,
          -16.963414482159674,
          -16.988908552178053,
          -16.992206505499507,
          -16.97467261457197,
          -16.93566550566551,
          -16.98016104191886,
          -16.863711879187733,
          -16.969226076502483,
          -16.591729987887014,
          -16.76869411472836,
          -16.969975187006657,
          -16.99027480083196,
          -16.950065105556998
         ],
         "z": [
          -12.766866012813926,
          -12.840914417931298,
          -12.712193488038528,
          -12.882704278095535,
          -12.71471855819494,
          -12.91518486206241,
          -12.938789653880324,
          -12.809869538921095,
          -12.928288601103288,
          -12.986588823883741,
          -12.98328872718231,
          -12.892566227108839,
          -12.9079871834678,
          -12.764780232751804,
          -12.80674469647144,
          -12.88769547565714,
          -12.958298847100215,
          -12.875086557656186,
          -12.972686182844637,
          -12.86057989581241,
          -12.912725964425173,
          -12.863114892873789,
          -12.841128821023972,
          -12.905989079545616,
          -12.641836114457904,
          -12.926435077448872,
          -12.863226305349286,
          -12.905494651111573,
          -12.906660925904506,
          -12.936770389746355,
          -12.880906287265843,
          -12.946893056506529,
          -12.858985896377831,
          -12.892518273694055,
          -12.933162900949524,
          -12.912581282498552,
          -12.669139396930138,
          -12.87962923244287,
          -12.833972674575161,
          -12.870789499494528,
          -12.85096842260614,
          -12.837151972827549,
          -12.986529265877367,
          -12.940297365181182,
          -12.863779684195368,
          -12.933273687527066,
          -12.841739291536644,
          -12.891496380159273,
          -12.833894393635168,
          -12.769377128053762,
          -12.96586752547313,
          -12.944115754495062,
          -12.855524829669468,
          -12.92974601861961,
          -12.927697022721107,
          -12.95951296478238,
          -12.773328657931984,
          -12.92233119317001,
          -12.8474434751452,
          -12.704200170515607,
          -12.89122493280802,
          -12.96530055716792,
          -12.847531829992004,
          -12.202053869456725,
          -12.93966122721763,
          -12.360004144512185,
          -12.952422601994448,
          -12.918695278046151,
          -12.924472335715075,
          -12.766776228159749,
          -12.827111168128114,
          -12.903917673578755,
          -12.929976200621404,
          -12.820913968711135,
          -12.65305747274143,
          -12.186397240062625,
          -12.982598863584181,
          -12.966574344114928,
          -12.959042660093129,
          -12.90210682528172,
          -12.398743440081939,
          -12.892129185637268,
          -12.845268645694224,
          -12.88990754162787,
          -12.930240989182728,
          -12.857982515812509,
          -12.617199090245384,
          -12.940072248514204,
          -12.912259321181928,
          -12.895111703385046,
          -12.81326104664351,
          -12.83667002754606,
          -12.892672039573613,
          -12.930397418175232,
          -12.929758430729889,
          -12.959033975616405,
          -12.996764431958884,
          -12.944353673010871,
          -12.913410154871418,
          -12.929518800780714,
          -12.936229537644959,
          -12.928496365515356,
          -12.828716399088933,
          -12.835288672196938,
          -12.878983877651489,
          -12.944982151110715,
          -12.808094092465652,
          -12.967425705802393,
          -12.908443882338712,
          -12.991657185836038,
          -12.986461747909544,
          -12.921620468907406,
          -12.878769266308234,
          -12.921936765883768
         ]
        },
        {
         "line": {
          "width": 2
         },
         "marker": {
          "opacity": 0.8,
          "size": 1
         },
         "name": "preferred range X",
         "type": "scatter3d",
         "x": [
          3.139266980966522,
          3.2273930591086546
         ],
         "y": [
          -16.999956457760238,
          -16.999956457760238
         ],
         "z": [
          -12.936402450811906,
          -12.936402450811906
         ]
        },
        {
         "line": {
          "width": 2
         },
         "marker": {
          "opacity": 0.8,
          "size": 1
         },
         "name": "preferred range Y",
         "type": "scatter3d",
         "x": [
          3.1833300200375882,
          3.1833300200375882
         ],
         "y": [
          -17.044019496831304,
          -16.955893418689172
         ],
         "z": [
          -12.936402450811906,
          -12.936402450811906
         ]
        },
        {
         "line": {
          "width": 2
         },
         "marker": {
          "opacity": 0.8,
          "size": 1
         },
         "name": "preferred range Z",
         "type": "scatter3d",
         "x": [
          3.1833300200375882,
          3.1833300200375882
         ],
         "y": [
          -16.999956457760238,
          -16.999956457760238
         ],
         "z": [
          -12.980465489882972,
          -12.89233941174084
         ]
        }
       ],
       "layout": {
        "template": {
         "data": {
          "bar": [
           {
            "error_x": {
             "color": "#2a3f5f"
            },
            "error_y": {
             "color": "#2a3f5f"
            },
            "marker": {
             "line": {
              "color": "#E5ECF6",
              "width": 0.5
             }
            },
            "type": "bar"
           }
          ],
          "barpolar": [
           {
            "marker": {
             "line": {
              "color": "#E5ECF6",
              "width": 0.5
             }
            },
            "type": "barpolar"
           }
          ],
          "carpet": [
           {
            "aaxis": {
             "endlinecolor": "#2a3f5f",
             "gridcolor": "white",
             "linecolor": "white",
             "minorgridcolor": "white",
             "startlinecolor": "#2a3f5f"
            },
            "baxis": {
             "endlinecolor": "#2a3f5f",
             "gridcolor": "white",
             "linecolor": "white",
             "minorgridcolor": "white",
             "startlinecolor": "#2a3f5f"
            },
            "type": "carpet"
           }
          ],
          "choropleth": [
           {
            "colorbar": {
             "outlinewidth": 0,
             "ticks": ""
            },
            "type": "choropleth"
           }
          ],
          "contour": [
           {
            "colorbar": {
             "outlinewidth": 0,
             "ticks": ""
            },
            "colorscale": [
             [
              0,
              "#0d0887"
             ],
             [
              0.1111111111111111,
              "#46039f"
             ],
             [
              0.2222222222222222,
              "#7201a8"
             ],
             [
              0.3333333333333333,
              "#9c179e"
             ],
             [
              0.4444444444444444,
              "#bd3786"
             ],
             [
              0.5555555555555556,
              "#d8576b"
             ],
             [
              0.6666666666666666,
              "#ed7953"
             ],
             [
              0.7777777777777778,
              "#fb9f3a"
             ],
             [
              0.8888888888888888,
              "#fdca26"
             ],
             [
              1,
              "#f0f921"
             ]
            ],
            "type": "contour"
           }
          ],
          "contourcarpet": [
           {
            "colorbar": {
             "outlinewidth": 0,
             "ticks": ""
            },
            "type": "contourcarpet"
           }
          ],
          "heatmap": [
           {
            "colorbar": {
             "outlinewidth": 0,
             "ticks": ""
            },
            "colorscale": [
             [
              0,
              "#0d0887"
             ],
             [
              0.1111111111111111,
              "#46039f"
             ],
             [
              0.2222222222222222,
              "#7201a8"
             ],
             [
              0.3333333333333333,
              "#9c179e"
             ],
             [
              0.4444444444444444,
              "#bd3786"
             ],
             [
              0.5555555555555556,
              "#d8576b"
             ],
             [
              0.6666666666666666,
              "#ed7953"
             ],
             [
              0.7777777777777778,
              "#fb9f3a"
             ],
             [
              0.8888888888888888,
              "#fdca26"
             ],
             [
              1,
              "#f0f921"
             ]
            ],
            "type": "heatmap"
           }
          ],
          "heatmapgl": [
           {
            "colorbar": {
             "outlinewidth": 0,
             "ticks": ""
            },
            "colorscale": [
             [
              0,
              "#0d0887"
             ],
             [
              0.1111111111111111,
              "#46039f"
             ],
             [
              0.2222222222222222,
              "#7201a8"
             ],
             [
              0.3333333333333333,
              "#9c179e"
             ],
             [
              0.4444444444444444,
              "#bd3786"
             ],
             [
              0.5555555555555556,
              "#d8576b"
             ],
             [
              0.6666666666666666,
              "#ed7953"
             ],
             [
              0.7777777777777778,
              "#fb9f3a"
             ],
             [
              0.8888888888888888,
              "#fdca26"
             ],
             [
              1,
              "#f0f921"
             ]
            ],
            "type": "heatmapgl"
           }
          ],
          "histogram": [
           {
            "marker": {
             "colorbar": {
              "outlinewidth": 0,
              "ticks": ""
             }
            },
            "type": "histogram"
           }
          ],
          "histogram2d": [
           {
            "colorbar": {
             "outlinewidth": 0,
             "ticks": ""
            },
            "colorscale": [
             [
              0,
              "#0d0887"
             ],
             [
              0.1111111111111111,
              "#46039f"
             ],
             [
              0.2222222222222222,
              "#7201a8"
             ],
             [
              0.3333333333333333,
              "#9c179e"
             ],
             [
              0.4444444444444444,
              "#bd3786"
             ],
             [
              0.5555555555555556,
              "#d8576b"
             ],
             [
              0.6666666666666666,
              "#ed7953"
             ],
             [
              0.7777777777777778,
              "#fb9f3a"
             ],
             [
              0.8888888888888888,
              "#fdca26"
             ],
             [
              1,
              "#f0f921"
             ]
            ],
            "type": "histogram2d"
           }
          ],
          "histogram2dcontour": [
           {
            "colorbar": {
             "outlinewidth": 0,
             "ticks": ""
            },
            "colorscale": [
             [
              0,
              "#0d0887"
             ],
             [
              0.1111111111111111,
              "#46039f"
             ],
             [
              0.2222222222222222,
              "#7201a8"
             ],
             [
              0.3333333333333333,
              "#9c179e"
             ],
             [
              0.4444444444444444,
              "#bd3786"
             ],
             [
              0.5555555555555556,
              "#d8576b"
             ],
             [
              0.6666666666666666,
              "#ed7953"
             ],
             [
              0.7777777777777778,
              "#fb9f3a"
             ],
             [
              0.8888888888888888,
              "#fdca26"
             ],
             [
              1,
              "#f0f921"
             ]
            ],
            "type": "histogram2dcontour"
           }
          ],
          "mesh3d": [
           {
            "colorbar": {
             "outlinewidth": 0,
             "ticks": ""
            },
            "type": "mesh3d"
           }
          ],
          "parcoords": [
           {
            "line": {
             "colorbar": {
              "outlinewidth": 0,
              "ticks": ""
             }
            },
            "type": "parcoords"
           }
          ],
          "pie": [
           {
            "automargin": true,
            "type": "pie"
           }
          ],
          "scatter": [
           {
            "marker": {
             "colorbar": {
              "outlinewidth": 0,
              "ticks": ""
             }
            },
            "type": "scatter"
           }
          ],
          "scatter3d": [
           {
            "line": {
             "colorbar": {
              "outlinewidth": 0,
              "ticks": ""
             }
            },
            "marker": {
             "colorbar": {
              "outlinewidth": 0,
              "ticks": ""
             }
            },
            "type": "scatter3d"
           }
          ],
          "scattercarpet": [
           {
            "marker": {
             "colorbar": {
              "outlinewidth": 0,
              "ticks": ""
             }
            },
            "type": "scattercarpet"
           }
          ],
          "scattergeo": [
           {
            "marker": {
             "colorbar": {
              "outlinewidth": 0,
              "ticks": ""
             }
            },
            "type": "scattergeo"
           }
          ],
          "scattergl": [
           {
            "marker": {
             "colorbar": {
              "outlinewidth": 0,
              "ticks": ""
             }
            },
            "type": "scattergl"
           }
          ],
          "scattermapbox": [
           {
            "marker": {
             "colorbar": {
              "outlinewidth": 0,
              "ticks": ""
             }
            },
            "type": "scattermapbox"
           }
          ],
          "scatterpolar": [
           {
            "marker": {
             "colorbar": {
              "outlinewidth": 0,
              "ticks": ""
             }
            },
            "type": "scatterpolar"
           }
          ],
          "scatterpolargl": [
           {
            "marker": {
             "colorbar": {
              "outlinewidth": 0,
              "ticks": ""
             }
            },
            "type": "scatterpolargl"
           }
          ],
          "scatterternary": [
           {
            "marker": {
             "colorbar": {
              "outlinewidth": 0,
              "ticks": ""
             }
            },
            "type": "scatterternary"
           }
          ],
          "surface": [
           {
            "colorbar": {
             "outlinewidth": 0,
             "ticks": ""
            },
            "colorscale": [
             [
              0,
              "#0d0887"
             ],
             [
              0.1111111111111111,
              "#46039f"
             ],
             [
              0.2222222222222222,
              "#7201a8"
             ],
             [
              0.3333333333333333,
              "#9c179e"
             ],
             [
              0.4444444444444444,
              "#bd3786"
             ],
             [
              0.5555555555555556,
              "#d8576b"
             ],
             [
              0.6666666666666666,
              "#ed7953"
             ],
             [
              0.7777777777777778,
              "#fb9f3a"
             ],
             [
              0.8888888888888888,
              "#fdca26"
             ],
             [
              1,
              "#f0f921"
             ]
            ],
            "type": "surface"
           }
          ],
          "table": [
           {
            "cells": {
             "fill": {
              "color": "#EBF0F8"
             },
             "line": {
              "color": "white"
             }
            },
            "header": {
             "fill": {
              "color": "#C8D4E3"
             },
             "line": {
              "color": "white"
             }
            },
            "type": "table"
           }
          ]
         },
         "layout": {
          "annotationdefaults": {
           "arrowcolor": "#2a3f5f",
           "arrowhead": 0,
           "arrowwidth": 1
          },
          "coloraxis": {
           "colorbar": {
            "outlinewidth": 0,
            "ticks": ""
           }
          },
          "colorscale": {
           "diverging": [
            [
             0,
             "#8e0152"
            ],
            [
             0.1,
             "#c51b7d"
            ],
            [
             0.2,
             "#de77ae"
            ],
            [
             0.3,
             "#f1b6da"
            ],
            [
             0.4,
             "#fde0ef"
            ],
            [
             0.5,
             "#f7f7f7"
            ],
            [
             0.6,
             "#e6f5d0"
            ],
            [
             0.7,
             "#b8e186"
            ],
            [
             0.8,
             "#7fbc41"
            ],
            [
             0.9,
             "#4d9221"
            ],
            [
             1,
             "#276419"
            ]
           ],
           "sequential": [
            [
             0,
             "#0d0887"
            ],
            [
             0.1111111111111111,
             "#46039f"
            ],
            [
             0.2222222222222222,
             "#7201a8"
            ],
            [
             0.3333333333333333,
             "#9c179e"
            ],
            [
             0.4444444444444444,
             "#bd3786"
            ],
            [
             0.5555555555555556,
             "#d8576b"
            ],
            [
             0.6666666666666666,
             "#ed7953"
            ],
            [
             0.7777777777777778,
             "#fb9f3a"
            ],
            [
             0.8888888888888888,
             "#fdca26"
            ],
            [
             1,
             "#f0f921"
            ]
           ],
           "sequentialminus": [
            [
             0,
             "#0d0887"
            ],
            [
             0.1111111111111111,
             "#46039f"
            ],
            [
             0.2222222222222222,
             "#7201a8"
            ],
            [
             0.3333333333333333,
             "#9c179e"
            ],
            [
             0.4444444444444444,
             "#bd3786"
            ],
            [
             0.5555555555555556,
             "#d8576b"
            ],
            [
             0.6666666666666666,
             "#ed7953"
            ],
            [
             0.7777777777777778,
             "#fb9f3a"
            ],
            [
             0.8888888888888888,
             "#fdca26"
            ],
            [
             1,
             "#f0f921"
            ]
           ]
          },
          "colorway": [
           "#636efa",
           "#EF553B",
           "#00cc96",
           "#ab63fa",
           "#FFA15A",
           "#19d3f3",
           "#FF6692",
           "#B6E880",
           "#FF97FF",
           "#FECB52"
          ],
          "font": {
           "color": "#2a3f5f"
          },
          "geo": {
           "bgcolor": "white",
           "lakecolor": "white",
           "landcolor": "#E5ECF6",
           "showlakes": true,
           "showland": true,
           "subunitcolor": "white"
          },
          "hoverlabel": {
           "align": "left"
          },
          "hovermode": "closest",
          "mapbox": {
           "style": "light"
          },
          "paper_bgcolor": "white",
          "plot_bgcolor": "#E5ECF6",
          "polar": {
           "angularaxis": {
            "gridcolor": "white",
            "linecolor": "white",
            "ticks": ""
           },
           "bgcolor": "#E5ECF6",
           "radialaxis": {
            "gridcolor": "white",
            "linecolor": "white",
            "ticks": ""
           }
          },
          "scene": {
           "xaxis": {
            "backgroundcolor": "#E5ECF6",
            "gridcolor": "white",
            "gridwidth": 2,
            "linecolor": "white",
            "showbackground": true,
            "ticks": "",
            "zerolinecolor": "white"
           },
           "yaxis": {
            "backgroundcolor": "#E5ECF6",
            "gridcolor": "white",
            "gridwidth": 2,
            "linecolor": "white",
            "showbackground": true,
            "ticks": "",
            "zerolinecolor": "white"
           },
           "zaxis": {
            "backgroundcolor": "#E5ECF6",
            "gridcolor": "white",
            "gridwidth": 2,
            "linecolor": "white",
            "showbackground": true,
            "ticks": "",
            "zerolinecolor": "white"
           }
          },
          "shapedefaults": {
           "line": {
            "color": "#2a3f5f"
           }
          },
          "ternary": {
           "aaxis": {
            "gridcolor": "white",
            "linecolor": "white",
            "ticks": ""
           },
           "baxis": {
            "gridcolor": "white",
            "linecolor": "white",
            "ticks": ""
           },
           "bgcolor": "#E5ECF6",
           "caxis": {
            "gridcolor": "white",
            "linecolor": "white",
            "ticks": ""
           }
          },
          "title": {
           "x": 0.05
          },
          "xaxis": {
           "automargin": true,
           "gridcolor": "white",
           "linecolor": "white",
           "ticks": "",
           "title": {
            "standoff": 15
           },
           "zerolinecolor": "white",
           "zerolinewidth": 2
          },
          "yaxis": {
           "automargin": true,
           "gridcolor": "white",
           "linecolor": "white",
           "ticks": "",
           "title": {
            "standoff": 15
           },
           "zerolinecolor": "white",
           "zerolinewidth": 2
          }
         }
        }
       }
      }
     },
     "metadata": {}
    }
   ],
   "source": [
    "max_assigned_vector = gp.get_max_assigned_vector(base.assigned_vectors)\n",
    "range2, rp2 = gp.generateRanges4decision(base, max_assigned_vector)\n",
    "print(range2)\n",
    "print(rp2)\n",
    "fig = visualize_3D_front_range(base.composite_front, range2, rp2)\n",
    "fig.write_html(f\"./results/\" f\"ranges_decision.html\")\n",
    "fig\n"
   ]
  },
  {
   "cell_type": "code",
   "execution_count": null,
   "metadata": {},
   "outputs": [],
   "source": []
  }
 ],
 "metadata": {
  "kernelspec": {
   "display_name": "Python 3.7.7 64-bit ('adm-emo': venv)",
   "language": "python",
   "name": "python37764bitadmemovenvba87035d4e134bef8511157905dc0de5"
  },
  "language_info": {
   "codemirror_mode": {
    "name": "ipython",
    "version": 3
   },
   "file_extension": ".py",
   "mimetype": "text/x-python",
   "name": "python",
   "nbconvert_exporter": "python",
   "pygments_lexer": "ipython3",
   "version": "3.7.7-final"
  }
 },
 "nbformat": 4,
 "nbformat_minor": 2
}