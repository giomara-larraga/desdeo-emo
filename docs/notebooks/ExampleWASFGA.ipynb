{
 "cells": [
  {
   "cell_type": "markdown",
   "metadata": {},
   "source": [
    "# Solving DTLZ1 using MOEA/D with two scalarization functions\n",
    "\n",
    "In this example we are going to solve the DTLZ1 benchmark problem using MOEA/D. To this aim, we need to import the following packages:\n"
   ]
  },
  {
   "cell_type": "code",
   "execution_count": 34,
   "metadata": {},
   "outputs": [],
   "source": [
    "# Package for plotting the results\n",
    "import plotly.graph_objects as go\n",
    "\n",
    "# Package to create the Problem object\n",
    "from desdeo_problem.testproblems.TestProblems import test_problem_builder\n",
    "from desdeo_tools.scalarization import ReferencePointASF\n",
    "\n",
    "# Packages for using MOEA/D and the available scalarization functions\n",
    "from desdeo_emo.EAs.MOEAD import MOEA_D\n",
    "from desdeo_tools.scalarization.MOEADSF import (\n",
    "    MOEADSFBase,\n",
    "    Tchebycheff,\n",
    "    PBI,\n",
    "    WeightedSum,\n",
    ")"
   ]
  },
  {
   "cell_type": "markdown",
   "metadata": {},
   "source": [
    "Then, we will use the implementation of DTLZ1 available in desdeo-problem. We will use 7 decision variables and 3 objectives."
   ]
  },
  {
   "cell_type": "code",
   "execution_count": 35,
   "metadata": {},
   "outputs": [],
   "source": [
    "problem = test_problem_builder(name=\"DTLZ1\", n_of_variables=7, n_of_objectives=3)\n",
    "\n"
   ]
  }
 ],
 "metadata": {
  "kernelspec": {
   "display_name": "Python 3 (ipykernel)",
   "language": "python",
   "name": "python3"
  },
  "language_info": {
   "codemirror_mode": {
    "name": "ipython",
    "version": 3
   },
   "file_extension": ".py",
   "mimetype": "text/x-python",
   "name": "python",
   "nbconvert_exporter": "python",
   "pygments_lexer": "ipython3",
   "version": "3.7.12"
  }
 },
 "nbformat": 4,
 "nbformat_minor": 4
}
